{
 "cells": [
  {
   "cell_type": "code",
   "execution_count": null,
   "id": "0c8ddd18",
   "metadata": {},
   "outputs": [
    {
     "name": "stdout",
     "output_type": "stream",
     "text": [
      "✅ Carte exportée : carte_agences_bnp_verte.html\n"
     ]
    }
   ],
   "source": [
    "import pandas as pd\n",
    "import folium\n",
    "from folium.plugins import FastMarkerCluster\n",
    "import os\n",
    "\n",
    "csv_folder = \"scraper/agences_bnp\"\n",
    "all_data = []\n",
    "\n",
    "# 📥 Lecture de tous les CSV + nettoyage\n",
    "for file in os.listdir(csv_folder):\n",
    "    if file.endswith(\".csv\"):\n",
    "        path = os.path.join(csv_folder, file)\n",
    "        try:\n",
    "            df = pd.read_csv(path)\n",
    "            df.columns = [col.strip().lower() for col in df.columns]\n",
    "            if {\"nom\", \"adresse\", \"code_postal\", \"latitude\", \"longitude\"}.issubset(df.columns):\n",
    "                df.dropna(subset=[\"latitude\", \"longitude\"], inplace=True)\n",
    "                all_data.append(df)\n",
    "                print(f\"✅ {file} : {len(df)} lignes\")\n",
    "        except Exception as e:\n",
    "            print(f\"❌ {file} : {e}\")\n",
    "\n",
    "if not all_data:\n",
    "    print(\"❗ Aucun CSV valide\")\n",
    "    exit()\n",
    "\n",
    "df_all = pd.concat(all_data, ignore_index=True)\n",
    "print(f\"📦 Total : {len(df_all)} agences\")\n",
    "\n",
    "# 🗺️ Carte de base (centrée sur la France)\n",
    "m = folium.Map(location=[46.5, 2.5], zoom_start=6, control_scale=True)\n",
    "\n",
    "# ⚡ Cluster rapide, homogène, style Google Maps\n",
    "FastMarkerCluster(\n",
    "    data=df_all[[\"latitude\", \"longitude\"]].values.tolist()\n",
    ").add_to(m)\n",
    "\n",
    "# 💾 Export HTML\n",
    "m.save(\"carte_agences_bnp_google_style.html\")\n",
    "print(\"🗺️ Carte exportée : carte_agences_bnp_google_style.html\")\n"
   ]
  }
 ],
 "metadata": {
  "kernelspec": {
   "display_name": "Python 3",
   "language": "python",
   "name": "python3"
  },
  "language_info": {
   "codemirror_mode": {
    "name": "ipython",
    "version": 3
   },
   "file_extension": ".py",
   "mimetype": "text/x-python",
   "name": "python",
   "nbconvert_exporter": "python",
   "pygments_lexer": "ipython3",
   "version": "3.11.9"
  }
 },
 "nbformat": 4,
 "nbformat_minor": 5
}
