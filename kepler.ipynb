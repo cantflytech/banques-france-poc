{
 "cells": [
  {
   "cell_type": "code",
   "execution_count": 38,
   "id": "60d5dd1c",
   "metadata": {},
   "outputs": [],
   "source": [
    "CSV_PATH = \"scraper/output/agences_combined_lokker_ready.csv\"  "
   ]
  },
  {
   "cell_type": "code",
   "execution_count": 39,
   "id": "f9566a5e",
   "metadata": {},
   "outputs": [
    {
     "name": "stdout",
     "output_type": "stream",
     "text": [
      "✅ Carte avec filtres + points simples générée.\n"
     ]
    }
   ],
   "source": [
    "import folium\n",
    "from folium.plugins import MarkerCluster\n",
    "import pandas as pd\n",
    "\n",
    "# === Chargement des données ===\n",
    "df = pd.read_csv(\"scraper/output/agences_combined_lokker_ready.csv\")\n",
    "df = df.dropna(subset=['latitude', 'longitude'])\n",
    "df['latitude'] = pd.to_numeric(df['latitude'], errors='coerce')\n",
    "df['longitude'] = pd.to_numeric(df['longitude'], errors='coerce')\n",
    "df = df.dropna(subset=['latitude', 'longitude'])\n",
    "\n",
    "# === Carte centrale France ===\n",
    "m = folium.Map(location=[46.6, 2.4], zoom_start=6, tiles=\"CartoDB positron\")\n",
    "\n",
    "# === JS pour style cluster dynamique ===\n",
    "icon_create_function = \"\"\"\n",
    "function(cluster) {\n",
    "  var count = cluster.getChildCount();\n",
    "  var size = 30;\n",
    "  var color = 'rgba(144, 238, 144, 0.8)';\n",
    "\n",
    "  if (count < 10) {\n",
    "    size = 30;\n",
    "    color = 'rgba(144, 238, 144, 0.8)';\n",
    "  } else if (count < 50) {\n",
    "    size = 40;\n",
    "    color = 'rgba(255, 215, 0, 0.8)';\n",
    "  } else if (count < 200) {\n",
    "    size = 50;\n",
    "    color = 'rgba(255, 140, 0, 0.8)';\n",
    "  } else {\n",
    "    size = 60;\n",
    "    color = 'rgba(220, 20, 60, 0.9)';\n",
    "  }\n",
    "\n",
    "  return new L.DivIcon({\n",
    "    html: '<div style=\"background:' + color + '; border-radius:50%; width:' + size + 'px; height:' + size + 'px; line-height:' + size + 'px; color:white; text-align:center; font-weight:bold;\">' + count + '</div>',\n",
    "    className: 'marker-cluster',\n",
    "    iconSize: new L.Point(size, size)\n",
    "  });\n",
    "}\n",
    "\"\"\"\n",
    "\n",
    "# === Regroupement par source (filtrable) ===\n",
    "sources = df['source'].dropna().unique()\n",
    "\n",
    "for src in sources:\n",
    "    fg = folium.FeatureGroup(name=f\"Source : {src}\")\n",
    "    cluster = MarkerCluster(icon_create_function=icon_create_function).add_to(fg)\n",
    "\n",
    "    for _, row in df[df['source'] == src].iterrows():\n",
    "        popup_html = f\"\"\"\n",
    "        <b>{row['nom']}</b><br>\n",
    "        {row['adresse']}<br>\n",
    "        {row['code_postal']}<br>\n",
    "        <i>Source : {row['source']}</i><br>\n",
    "        <i>Région : {row['region_source']}</i>\n",
    "        \"\"\"\n",
    "        folium.CircleMarker(\n",
    "            location=[row['latitude'], row['longitude']],\n",
    "            radius=6,\n",
    "            color='#3388ff',\n",
    "            fill=True,\n",
    "            fill_color='#3388ff',\n",
    "            fill_opacity=0.85,\n",
    "            popup=folium.Popup(popup_html, max_width=300)\n",
    "        ).add_to(cluster)\n",
    "\n",
    "    fg.add_to(m)\n",
    "\n",
    "# === Légende interactive ===\n",
    "folium.LayerControl(collapsed=False).add_to(m)\n",
    "\n",
    "# === Export final ===\n",
    "m.save(\"map_clusters_filtres_points.html\")\n",
    "print(\"✅ Carte avec filtres + points simples générée.\")\n"
   ]
  },
  {
   "cell_type": "code",
   "execution_count": 40,
   "id": "8ef3aed1",
   "metadata": {},
   "outputs": [
    {
     "name": "stdout",
     "output_type": "stream",
     "text": [
      "Nombre de lignes avec source 'sg' : 2210\n",
      "Nombre de lignes avec source 'bnp' : 1837\n",
      "Nombre de lignes avec source 'cm' : 3601\n"
     ]
    }
   ],
   "source": [
    "#combien de ligne avec source == 'sg'\n",
    "#regader le csv pour voir les sources\n",
    "# === Compter les lignes avec source 'sg' ===\n",
    "sg_count = df[df['source'] == 'SG'].shape[0]\n",
    "print(f\"Nombre de lignes avec source 'sg' : {sg_count}\")\n",
    "# === Compter les lignes avec source 'bnp' ===\n",
    "bnp_count = df[df['source'] == 'BNP'].shape[0]\n",
    "print(f\"Nombre de lignes avec source 'bnp' : {bnp_count}\")\n",
    "# === Compter les lignes avec source 'cm' ===\n",
    "cm_count = df[df['source'] == \"Caisse d'Épargne\"].shape[0]\n",
    "print(f\"Nombre de lignes avec source 'cm' : {cm_count}\")\n"
   ]
  },
  {
   "cell_type": "markdown",
   "id": "85d0493b",
   "metadata": {},
   "source": [
    "4 182 agences bancaires CM\n",
    "1.500 agences BNP"
   ]
  }
 ],
 "metadata": {
  "kernelspec": {
   "display_name": "Python 3",
   "language": "python",
   "name": "python3"
  },
  "language_info": {
   "codemirror_mode": {
    "name": "ipython",
    "version": 3
   },
   "file_extension": ".py",
   "mimetype": "text/x-python",
   "name": "python",
   "nbconvert_exporter": "python",
   "pygments_lexer": "ipython3",
   "version": "3.13.2"
  }
 },
 "nbformat": 4,
 "nbformat_minor": 5
}
