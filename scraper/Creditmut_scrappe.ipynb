{
 "cells": [
  {
   "cell_type": "code",
   "execution_count": 1,
   "id": "e97ab253",
   "metadata": {},
   "outputs": [
    {
     "name": "stderr",
     "output_type": "stream",
     "text": [
      "Régions:   0%|          | 0/12 [00:00<?, ?it/s]\n",
      "\u001b[A\n",
      "\u001b[A"
     ]
    },
    {
     "name": "stdout",
     "output_type": "stream",
     "text": [
      "✅ 1 agences sauvegardées : CAISSE DE CREDIT MUTUEL AMBERIEU EN BUGEY\n"
     ]
    },
    {
     "name": "stderr",
     "output_type": "stream",
     "text": [
      "\n",
      "\u001b[A"
     ]
    },
    {
     "name": "stdout",
     "output_type": "stream",
     "text": [
      "✅ 1 agences sauvegardées : CAISSE DE CREDIT MUTUEL BELLEY\n"
     ]
    },
    {
     "name": "stderr",
     "output_type": "stream",
     "text": [
      "\n",
      "\u001b[A"
     ]
    },
    {
     "name": "stdout",
     "output_type": "stream",
     "text": [
      "✅ 3 agences sauvegardées : CAISSE DE CREDIT MUTUEL BRESSAN, CAISSE DE CREDIT MUTUEL BRESSAN - BOURG  PROFESSIONNELS, CAISSE DE CREDIT MUTUEL ENSEIGNANT LYON - CME LYON BOURG EN BRESSE\n"
     ]
    },
    {
     "name": "stderr",
     "output_type": "stream",
     "text": [
      "\n",
      "\u001b[A"
     ]
    },
    {
     "name": "stdout",
     "output_type": "stream",
     "text": [
      "✅ 1 agences sauvegardées : CAISSE DE CREDIT MUTUEL DAGNEUX\n"
     ]
    },
    {
     "name": "stderr",
     "output_type": "stream",
     "text": [
      "\n",
      "\u001b[A"
     ]
    },
    {
     "name": "stdout",
     "output_type": "stream",
     "text": [
      "✅ 1 agences sauvegardées : CAISSE DE CREDIT MUTUEL GESSIEN - DIVONNE\n"
     ]
    },
    {
     "name": "stderr",
     "output_type": "stream",
     "text": [
      "\n",
      "\u001b[A"
     ]
    },
    {
     "name": "stdout",
     "output_type": "stream",
     "text": [
      "✅ 1 agences sauvegardées : CAISSE DE CREDIT MUTUEL SAINT GENIS FERNEY - FERNEY VOLTAIRE\n"
     ]
    },
    {
     "name": "stderr",
     "output_type": "stream",
     "text": [
      "\n",
      "\u001b[A"
     ]
    },
    {
     "name": "stdout",
     "output_type": "stream",
     "text": [
      "✅ 1 agences sauvegardées : CAISSE DE CREDIT MUTUEL GESSIEN - GEX\n"
     ]
    },
    {
     "name": "stderr",
     "output_type": "stream",
     "text": [
      "\n",
      "\u001b[A"
     ]
    },
    {
     "name": "stdout",
     "output_type": "stream",
     "text": [
      "✅ 1 agences sauvegardées : CAISSE DE CREDIT MUTUEL MEXIMIEUX\n"
     ]
    },
    {
     "name": "stderr",
     "output_type": "stream",
     "text": [
      "\n",
      "\u001b[A"
     ]
    },
    {
     "name": "stdout",
     "output_type": "stream",
     "text": [
      "✅ 1 agences sauvegardées : CAISSE DE CREDIT MUTUEL MIRIBEL\n"
     ]
    },
    {
     "name": "stderr",
     "output_type": "stream",
     "text": [
      "\n",
      "\u001b[A"
     ]
    },
    {
     "name": "stdout",
     "output_type": "stream",
     "text": [
      "✅ 1 agences sauvegardées : CAISSE DE CREDIT MUTUEL OYONNAX\n"
     ]
    },
    {
     "name": "stderr",
     "output_type": "stream",
     "text": [
      "\n",
      "\u001b[A"
     ]
    },
    {
     "name": "stdout",
     "output_type": "stream",
     "text": [
      "✅ 1 agences sauvegardées : CAISSE DE CREDIT MUTUEL BEAUJOLAIS RIVES DE SAONE - TREVOUX\n"
     ]
    },
    {
     "name": "stderr",
     "output_type": "stream",
     "text": [
      "\n",
      "\u001b[A"
     ]
    },
    {
     "name": "stdout",
     "output_type": "stream",
     "text": [
      "✅ 1 agences sauvegardées : CAISSE DE CREDIT MUTUEL BELLEGARDE SUR VALSERINE - BELLEGARDE VALSERINE\n"
     ]
    },
    {
     "name": "stderr",
     "output_type": "stream",
     "text": [
      "\n",
      "\u001b[A\n",
      "\u001b[A"
     ]
    },
    {
     "name": "stdout",
     "output_type": "stream",
     "text": [
      "✅ 1 agences sauvegardées : CAISSE DE CREDIT MUTUEL VILLARS LES DOMBES\n"
     ]
    },
    {
     "name": "stderr",
     "output_type": "stream",
     "text": [
      "\n",
      "\u001b[A\n",
      "\u001b[A"
     ]
    },
    {
     "name": "stdout",
     "output_type": "stream",
     "text": [
      "✅ 1 agences sauvegardées : CAISSE DE CREDIT MUTUEL DE COMMENTRY\n"
     ]
    },
    {
     "name": "stderr",
     "output_type": "stream",
     "text": [
      "\n",
      "\u001b[A"
     ]
    },
    {
     "name": "stdout",
     "output_type": "stream",
     "text": [
      "✅ 1 agences sauvegardées : CAISSE DE CREDIT MUTUEL DE CUSSET\n"
     ]
    },
    {
     "name": "stderr",
     "output_type": "stream",
     "text": [
      "\n",
      "\u001b[A"
     ]
    },
    {
     "name": "stdout",
     "output_type": "stream",
     "text": [
      "✅ 2 agences sauvegardées : CAISSE DE CREDIT MUTUEL DE MONTLUCON, CAISSE DE CREDIT MUTUEL DE MONTLUCON - LES MARAIS\n"
     ]
    },
    {
     "name": "stderr",
     "output_type": "stream",
     "text": [
      "\n",
      "\u001b[A"
     ]
    },
    {
     "name": "stdout",
     "output_type": "stream",
     "text": [
      "✅ 2 agences sauvegardées : CAISSE DE CREDIT MUTUEL DE MOULINS, CAISSE DE CREDIT MUTUEL ENSEIGNANT - CME BUREAU MOULINS\n"
     ]
    },
    {
     "name": "stderr",
     "output_type": "stream",
     "text": [
      "\n",
      "\u001b[A"
     ]
    },
    {
     "name": "stdout",
     "output_type": "stream",
     "text": [
      "✅ 1 agences sauvegardées : CAISSE DE CREDIT MUTUEL DE VICHY\n"
     ]
    },
    {
     "name": "stderr",
     "output_type": "stream",
     "text": [
      "\n",
      "\u001b[A\n",
      "\u001b[A"
     ]
    },
    {
     "name": "stdout",
     "output_type": "stream",
     "text": [
      "✅ 1 agences sauvegardées : CAISSE DE CREDIT MUTUEL D'YZEURE\n"
     ]
    },
    {
     "name": "stderr",
     "output_type": "stream",
     "text": [
      "\n",
      "\u001b[A\n",
      "\u001b[A"
     ]
    },
    {
     "name": "stdout",
     "output_type": "stream",
     "text": [
      "✅ 1 agences sauvegardées : CAISSE DE CREDIT MUTUEL ANNONAY\n"
     ]
    },
    {
     "name": "stderr",
     "output_type": "stream",
     "text": [
      "\n",
      "\u001b[A"
     ]
    },
    {
     "name": "stdout",
     "output_type": "stream",
     "text": [
      "✅ 2 agences sauvegardées : CAISSE DE CREDIT MUTUEL AUBENAS, CAISSE DE CREDIT MUTUEL AUBENAS - PONSON\n"
     ]
    },
    {
     "name": "stderr",
     "output_type": "stream",
     "text": [
      "\n",
      "\u001b[A"
     ]
    },
    {
     "name": "stdout",
     "output_type": "stream",
     "text": [
      "✅ 1 agences sauvegardées : CAISSE DE CREDIT MUTUEL ANNONAY - DAVEZIEUX\n"
     ]
    },
    {
     "name": "stderr",
     "output_type": "stream",
     "text": [
      "\n",
      "\u001b[A"
     ]
    },
    {
     "name": "stdout",
     "output_type": "stream",
     "text": [
      "✅ 1 agences sauvegardées : CAISSE DE CREDIT MUTUEL DE CRUSSOL\n"
     ]
    },
    {
     "name": "stderr",
     "output_type": "stream",
     "text": [
      "\n",
      "\u001b[A"
     ]
    },
    {
     "name": "stdout",
     "output_type": "stream",
     "text": [
      "✅ 1 agences sauvegardées : CAISSE DE CREDIT MUTUEL LE TEIL\n"
     ]
    },
    {
     "name": "stderr",
     "output_type": "stream",
     "text": [
      "\n",
      "\u001b[A"
     ]
    },
    {
     "name": "stdout",
     "output_type": "stream",
     "text": [
      "✅ 1 agences sauvegardées : CAISSE DE CREDIT MUTUEL PRIVAS\n"
     ]
    },
    {
     "name": "stderr",
     "output_type": "stream",
     "text": [
      "\n",
      "\u001b[A\n",
      "\u001b[A"
     ]
    },
    {
     "name": "stdout",
     "output_type": "stream",
     "text": [
      "✅ 1 agences sauvegardées : CAISSE DE CREDIT MUTUEL TOURNON\n"
     ]
    },
    {
     "name": "stderr",
     "output_type": "stream",
     "text": [
      "\n",
      "\u001b[A\n",
      "\u001b[A"
     ]
    },
    {
     "name": "stdout",
     "output_type": "stream",
     "text": [
      "✅ 1 agences sauvegardées : CAISSE DE CREDIT MUTUEL D'AURILLAC\n"
     ]
    },
    {
     "name": "stderr",
     "output_type": "stream",
     "text": [
      "\n",
      "\u001b[A\n",
      "\u001b[A"
     ]
    },
    {
     "name": "stdout",
     "output_type": "stream",
     "text": [
      "✅ 1 agences sauvegardées : CAISSE DE CREDIT MUTUEL DE MAURIAC\n"
     ]
    },
    {
     "name": "stderr",
     "output_type": "stream",
     "text": [
      "\n",
      "\u001b[A\n",
      "\u001b[A"
     ]
    },
    {
     "name": "stdout",
     "output_type": "stream",
     "text": [
      "✅ 1 agences sauvegardées : CAISSE DE CREDIT MUTUEL DU NORD DROME - ANNEYRON\n"
     ]
    },
    {
     "name": "stderr",
     "output_type": "stream",
     "text": [
      "\n",
      "\u001b[A"
     ]
    },
    {
     "name": "stdout",
     "output_type": "stream",
     "text": [
      "✅ 1 agences sauvegardées : CAISSE DE CREDIT MUTUEL BOURG DE PEAGE\n"
     ]
    },
    {
     "name": "stderr",
     "output_type": "stream",
     "text": [
      "\n",
      "\u001b[A"
     ]
    },
    {
     "name": "stdout",
     "output_type": "stream",
     "text": [
      "✅ 1 agences sauvegardées : CAISSE DE CREDIT MUTUEL BOURG LES VALENCE\n"
     ]
    },
    {
     "name": "stderr",
     "output_type": "stream",
     "text": [
      "\n",
      "\u001b[A"
     ]
    },
    {
     "name": "stdout",
     "output_type": "stream",
     "text": [
      "✅ 1 agences sauvegardées : CAISSE DE CREDIT MUTUEL PLAINE DE VALENCE - BUREAU CHABEUIL\n"
     ]
    },
    {
     "name": "stderr",
     "output_type": "stream",
     "text": [
      "\n",
      "\u001b[A"
     ]
    },
    {
     "name": "stdout",
     "output_type": "stream",
     "text": [
      "✅ 1 agences sauvegardées : CAISSE DE CREDIT MUTUEL CREST\n"
     ]
    },
    {
     "name": "stderr",
     "output_type": "stream",
     "text": [
      "\n",
      "\u001b[A"
     ]
    },
    {
     "name": "stdout",
     "output_type": "stream",
     "text": [
      "✅ 1 agences sauvegardées : CAISSE DE CREDIT MUTUEL LORIOL\n"
     ]
    },
    {
     "name": "stderr",
     "output_type": "stream",
     "text": [
      "\n",
      "\u001b[A"
     ]
    },
    {
     "name": "stdout",
     "output_type": "stream",
     "text": [
      "✅ 2 agences sauvegardées : CAISSE DE CREDIT MUTUEL MONTELIMAR CENTRE, CAISSE DE CREDIT MUTUEL MONTELIMAR SUD\n"
     ]
    },
    {
     "name": "stderr",
     "output_type": "stream",
     "text": [
      "\n",
      "\u001b[A"
     ]
    },
    {
     "name": "stdout",
     "output_type": "stream",
     "text": [
      "✅ 1 agences sauvegardées : CAISSE DE CREDIT MUTUEL NYONS\n"
     ]
    },
    {
     "name": "stderr",
     "output_type": "stream",
     "text": [
      "\n",
      "\u001b[A"
     ]
    },
    {
     "name": "stdout",
     "output_type": "stream",
     "text": [
      "✅ 1 agences sauvegardées : CAISSE DE CREDIT MUTUEL PIERRELATTE\n"
     ]
    },
    {
     "name": "stderr",
     "output_type": "stream",
     "text": [
      "\n",
      "\u001b[A"
     ]
    },
    {
     "name": "stdout",
     "output_type": "stream",
     "text": [
      "✅ 1 agences sauvegardées : CAISSE DE CREDIT MUTUEL PORTES LES VALENCE\n"
     ]
    },
    {
     "name": "stderr",
     "output_type": "stream",
     "text": [
      "\n",
      "\u001b[A"
     ]
    },
    {
     "name": "stdout",
     "output_type": "stream",
     "text": [
      "✅ 2 agences sauvegardées : CAISSE DE CREDIT MUTUEL ROMANS CENTRE, CAISSE DE CREDIT MUTUEL ROMANS DROME DES COLLINES - ROMANS DROME COLLINES\n"
     ]
    },
    {
     "name": "stderr",
     "output_type": "stream",
     "text": [
      "\n",
      "\u001b[A"
     ]
    },
    {
     "name": "stdout",
     "output_type": "stream",
     "text": [
      "✅ 1 agences sauvegardées : CAISSE DE CREDIT MUTUEL TAIN L'HERMITAGE\n"
     ]
    },
    {
     "name": "stderr",
     "output_type": "stream",
     "text": [
      "\n",
      "\u001b[A\n",
      "\u001b[A"
     ]
    },
    {
     "name": "stdout",
     "output_type": "stream",
     "text": [
      "✅ 5 agences sauvegardées : CAISSE DE CREDIT MUTUEL VALENCE CENTRE, CAISSE DE CREDIT MUTUEL PLAINE DE VALENCE, CAISSE DE CREDIT MUTUEL PROFESSIONS DE SANTE - CMPS VALENCE, CAISSE DE CREDIT MUTUEL VALENCE CENTRE - SUD, BANQUE EUROPEENNE DU CREDIT MUTUEL GRENOBLE - BECM VALENCE\n"
     ]
    },
    {
     "name": "stderr",
     "output_type": "stream",
     "text": [
      "\n",
      "\u001b[A\n",
      "\u001b[A"
     ]
    },
    {
     "name": "stdout",
     "output_type": "stream",
     "text": [
      "✅ 1 agences sauvegardées : CAISSE DE CREDIT MUTUEL BOURGOIN JALLIEU\n"
     ]
    },
    {
     "name": "stderr",
     "output_type": "stream",
     "text": [
      "\n",
      "\u001b[A"
     ]
    },
    {
     "name": "stdout",
     "output_type": "stream",
     "text": [
      "✅ 1 agences sauvegardées : CAISSE DE CREDIT MUTUEL COEUR GRESIVAUDAN\n"
     ]
    },
    {
     "name": "stderr",
     "output_type": "stream",
     "text": [
      "\n",
      "\u001b[A"
     ]
    },
    {
     "name": "stdout",
     "output_type": "stream",
     "text": [
      "✅ 1 agences sauvegardées : CAISSE DE CREDIT MUTUEL ECHIROLLES HOTEL DE VILLE\n"
     ]
    },
    {
     "name": "stderr",
     "output_type": "stream",
     "text": [
      "\n",
      "\u001b[A"
     ]
    },
    {
     "name": "stdout",
     "output_type": "stream",
     "text": [
      "✅ 1 agences sauvegardées : CAISSE DE CREDIT MUTUEL FONTAINE\n"
     ]
    },
    {
     "name": "stderr",
     "output_type": "stream",
     "text": [
      "\n",
      "\u001b[A"
     ]
    },
    {
     "name": "stdout",
     "output_type": "stream",
     "text": [
      "✅ 5 agences sauvegardées : CAISSE DE CREDIT MUTUEL GRENOBLE RIVET, CAISSE DE CREDIT MUTUEL GRENOBLE CENTRE EAUX CLAIRES, CAISSE DE CREDIT MUTUEL ENSEIGNANT GRENOBLE, CAISSE DE CREDIT MUTUEL PROFESSIONS DE SANTE - CMPS GRENOBLE, CAISSE DE CREDIT MUTUEL GRENOBLE CENTRE EAUX CLAIRES - BUREAU EAUX CLAIRES\n"
     ]
    },
    {
     "name": "stderr",
     "output_type": "stream",
     "text": [
      "\n",
      "\u001b[A"
     ]
    },
    {
     "name": "stdout",
     "output_type": "stream",
     "text": [
      "✅ 1 agences sauvegardées : CAISSE DE CREDIT MUTUEL HEYRIEUX-LA VERPILLIERE\n"
     ]
    },
    {
     "name": "stderr",
     "output_type": "stream",
     "text": [
      "\n",
      "\u001b[A"
     ]
    },
    {
     "name": "stdout",
     "output_type": "stream",
     "text": [
      "✅ 1 agences sauvegardées : CAISSE DE CREDIT MUTUEL HAUT GRESIVAUDAN - LE TOUVET\n"
     ]
    },
    {
     "name": "stderr",
     "output_type": "stream",
     "text": [
      "\n",
      "\u001b[A"
     ]
    },
    {
     "name": "stdout",
     "output_type": "stream",
     "text": [
      "✅ 1 agences sauvegardées : CAISSE DE CREDIT MUTUEL COEUR GRESIVAUDAN - LE VERSOUD\n"
     ]
    },
    {
     "name": "stderr",
     "output_type": "stream",
     "text": [
      "\n",
      "\u001b[A"
     ]
    },
    {
     "name": "stdout",
     "output_type": "stream",
     "text": [
      "✅ 1 agences sauvegardées : CAISSE DE CREDIT MUTUEL MEYLAN ILE VERTE\n"
     ]
    },
    {
     "name": "stderr",
     "output_type": "stream",
     "text": [
      "\n",
      "\u001b[A"
     ]
    },
    {
     "name": "stdout",
     "output_type": "stream",
     "text": [
      "✅ 1 agences sauvegardées : CAISSE DE CREDIT MUTUEL HAUT GRESIVAUDAN - PONTCHARRA\n"
     ]
    },
    {
     "name": "stderr",
     "output_type": "stream",
     "text": [
      "\n",
      "\u001b[A"
     ]
    },
    {
     "name": "stdout",
     "output_type": "stream",
     "text": [
      "✅ 1 agences sauvegardées : CAISSE DE CREDIT MUTUEL PONT DE CHERUY\n"
     ]
    },
    {
     "name": "stderr",
     "output_type": "stream",
     "text": [
      "\n",
      "\u001b[A"
     ]
    },
    {
     "name": "stdout",
     "output_type": "stream",
     "text": [
      "✅ 1 agences sauvegardées : CAISSE DE CREDIT MUTUEL VIENNE - PONT EVEQUE\n"
     ]
    },
    {
     "name": "stderr",
     "output_type": "stream",
     "text": [
      "\n",
      "\u001b[A"
     ]
    },
    {
     "name": "stdout",
     "output_type": "stream",
     "text": [
      "✅ 1 agences sauvegardées : CAISSE DE CREDIT MUTUEL CANTON DE ROUSSILLON - SALAISE SUR SANNE\n"
     ]
    },
    {
     "name": "stderr",
     "output_type": "stream",
     "text": [
      "\n",
      "\u001b[A"
     ]
    },
    {
     "name": "stdout",
     "output_type": "stream",
     "text": [
      "✅ 1 agences sauvegardées : CAISSE DE CREDIT MUTUEL SEYSSINS\n"
     ]
    },
    {
     "name": "stderr",
     "output_type": "stream",
     "text": [
      "\n",
      "\u001b[A"
     ]
    },
    {
     "name": "stdout",
     "output_type": "stream",
     "text": [
      "✅ 1 agences sauvegardées : CAISSE DE CREDIT MUTUEL DU VOIRONNAIS - TULLINS\n"
     ]
    },
    {
     "name": "stderr",
     "output_type": "stream",
     "text": [
      "\n",
      "\u001b[A"
     ]
    },
    {
     "name": "stdout",
     "output_type": "stream",
     "text": [
      "✅ 1 agences sauvegardées : CAISSE DE CREDIT MUTUEL VIENNE\n"
     ]
    },
    {
     "name": "stderr",
     "output_type": "stream",
     "text": [
      "\n",
      "\u001b[A"
     ]
    },
    {
     "name": "stdout",
     "output_type": "stream",
     "text": [
      "✅ 1 agences sauvegardées : CAISSE DE CREDIT MUTUEL VIF\n"
     ]
    },
    {
     "name": "stderr",
     "output_type": "stream",
     "text": [
      "\n",
      "\u001b[A"
     ]
    },
    {
     "name": "stdout",
     "output_type": "stream",
     "text": [
      "✅ 1 agences sauvegardées : CAISSE DE CREDIT MUTUEL VIZILLE\n"
     ]
    },
    {
     "name": "stderr",
     "output_type": "stream",
     "text": [
      "\n",
      "\u001b[A\n",
      "\u001b[A"
     ]
    },
    {
     "name": "stdout",
     "output_type": "stream",
     "text": [
      "✅ 1 agences sauvegardées : CAISSE DE CREDIT MUTUEL DU VOIRONNAIS\n"
     ]
    },
    {
     "name": "stderr",
     "output_type": "stream",
     "text": [
      "\n",
      "\u001b[A\n",
      "\u001b[A"
     ]
    },
    {
     "name": "stdout",
     "output_type": "stream",
     "text": [
      "✅ 1 agences sauvegardées : CAISSE DE CREDIT MUTUEL  ANDREZIEUX BOUTHEON\n"
     ]
    },
    {
     "name": "stderr",
     "output_type": "stream",
     "text": [
      "\n",
      "\u001b[A"
     ]
    },
    {
     "name": "stdout",
     "output_type": "stream",
     "text": [
      "✅ 1 agences sauvegardées : CAISSE DE CREDIT MUTUEL FOREZIEN - BOEN SUR LIGNON\n"
     ]
    },
    {
     "name": "stderr",
     "output_type": "stream",
     "text": [
      "\n",
      "\u001b[A"
     ]
    },
    {
     "name": "stdout",
     "output_type": "stream",
     "text": [
      "✅ 1 agences sauvegardées : CAISSE DE CREDIT MUTUEL CHARLIEU\n"
     ]
    },
    {
     "name": "stderr",
     "output_type": "stream",
     "text": [
      "\n",
      "\u001b[A"
     ]
    },
    {
     "name": "stdout",
     "output_type": "stream",
     "text": [
      "✅ 1 agences sauvegardées : CAISSE DE CREDIT MUTUEL FOREZIEN - FEURS\n"
     ]
    },
    {
     "name": "stderr",
     "output_type": "stream",
     "text": [
      "\n",
      "\u001b[A"
     ]
    },
    {
     "name": "stdout",
     "output_type": "stream",
     "text": [
      "✅ 1 agences sauvegardées : CAISSE DE CREDIT MUTUEL FIRMINY ET DU HAUT FOREZ\n"
     ]
    },
    {
     "name": "stderr",
     "output_type": "stream",
     "text": [
      "\n",
      "\u001b[A"
     ]
    },
    {
     "name": "stdout",
     "output_type": "stream",
     "text": [
      "✅ 1 agences sauvegardées : CAISSE DE CREDIT MUTUEL LE COTEAU\n"
     ]
    },
    {
     "name": "stderr",
     "output_type": "stream",
     "text": [
      "\n",
      "\u001b[A"
     ]
    },
    {
     "name": "stdout",
     "output_type": "stream",
     "text": [
      "✅ 1 agences sauvegardées : CAISSE DE CREDIT MUTUEL MONTBRISON\n"
     ]
    },
    {
     "name": "stderr",
     "output_type": "stream",
     "text": [
      "\n",
      "\u001b[A"
     ]
    },
    {
     "name": "stdout",
     "output_type": "stream",
     "text": [
      "✅ 1 agences sauvegardées : CAISSE DE CREDIT MUTUEL MONTROND LES BAINS\n"
     ]
    },
    {
     "name": "stderr",
     "output_type": "stream",
     "text": [
      "\n",
      "\u001b[A"
     ]
    },
    {
     "name": "stdout",
     "output_type": "stream",
     "text": [
      "✅ 1 agences sauvegardées : CAISSE DE CREDIT MUTUEL D' URFE - NOIRETABLE\n"
     ]
    },
    {
     "name": "stderr",
     "output_type": "stream",
     "text": [
      "\n",
      "\u001b[A"
     ]
    },
    {
     "name": "stdout",
     "output_type": "stream",
     "text": [
      "✅ 1 agences sauvegardées : CAISSE DE CREDIT MUTUEL ROANNE RENAISON\n"
     ]
    },
    {
     "name": "stderr",
     "output_type": "stream",
     "text": [
      "\n",
      "\u001b[A"
     ]
    },
    {
     "name": "stdout",
     "output_type": "stream",
     "text": [
      "✅ 1 agences sauvegardées : CAISSE DE CREDIT MUTUEL RIORGES\n"
     ]
    },
    {
     "name": "stderr",
     "output_type": "stream",
     "text": [
      "\n",
      "\u001b[A"
     ]
    },
    {
     "name": "stdout",
     "output_type": "stream",
     "text": [
      "✅ 1 agences sauvegardées : CAISSE DE CREDIT MUTUEL PAYS DU GIER - RIVE DE GIER\n"
     ]
    },
    {
     "name": "stderr",
     "output_type": "stream",
     "text": [
      "\n",
      "\u001b[A"
     ]
    },
    {
     "name": "stdout",
     "output_type": "stream",
     "text": [
      "✅ 2 agences sauvegardées : CAISSE DE CREDIT MUTUEL ROANNE RENAISON - VICTOR HUGO, CAISSE DE CREDIT MUTUEL ENSEIGNANT LOIRE HAUTE LOIRE - CME ROANNE\n"
     ]
    },
    {
     "name": "stderr",
     "output_type": "stream",
     "text": [
      "\n",
      "\u001b[A\n",
      "\u001b[A"
     ]
    },
    {
     "name": "stdout",
     "output_type": "stream",
     "text": [
      "✅ 1 agences sauvegardées : CAISSE DE CREDIT MUTUEL MONTBRISON - SURY LE COMTAL\n"
     ]
    },
    {
     "name": "stderr",
     "output_type": "stream",
     "text": [
      "\n",
      "\u001b[A\n",
      "\u001b[A"
     ]
    },
    {
     "name": "stdout",
     "output_type": "stream",
     "text": [
      "✅ 1 agences sauvegardées : CAISSE DE CREDIT MUTUEL BRIOUDE\n"
     ]
    },
    {
     "name": "stderr",
     "output_type": "stream",
     "text": [
      "\n",
      "\u001b[A"
     ]
    },
    {
     "name": "stdout",
     "output_type": "stream",
     "text": [
      "✅ 2 agences sauvegardées : CAISSE DE CREDIT MUTUEL BRIVES CHARENSAC, CAISSE DE CREDIT MUTUEL ENSEIGNANT LOIRE HAUTE LOIRE - CME BRIVES CHARENSAC\n"
     ]
    },
    {
     "name": "stderr",
     "output_type": "stream",
     "text": [
      "\n",
      "\u001b[A"
     ]
    },
    {
     "name": "stdout",
     "output_type": "stream",
     "text": [
      "✅ 1 agences sauvegardées : CAISSE DE CREDIT MUTUEL PORTE DU VELAY\n"
     ]
    },
    {
     "name": "stderr",
     "output_type": "stream",
     "text": [
      "\n",
      "\u001b[A"
     ]
    },
    {
     "name": "stdout",
     "output_type": "stream",
     "text": [
      "✅ 1 agences sauvegardées : CAISSE DE CREDIT MUTUEL YSSINGEAUX - TENCE\n"
     ]
    },
    {
     "name": "stderr",
     "output_type": "stream",
     "text": [
      "\n",
      "\u001b[A"
     ]
    },
    {
     "name": "stdout",
     "output_type": "stream",
     "text": [
      "✅ 1 agences sauvegardées : CAISSE DE CREDIT MUTUEL LE PUY EN VELAY - VALS PRES LE PUY\n"
     ]
    },
    {
     "name": "stderr",
     "output_type": "stream",
     "text": [
      "\n",
      "\u001b[A\n",
      "\u001b[A"
     ]
    },
    {
     "name": "stdout",
     "output_type": "stream",
     "text": [
      "✅ 1 agences sauvegardées : CAISSE DE CREDIT MUTUEL YSSINGEAUX\n"
     ]
    },
    {
     "name": "stderr",
     "output_type": "stream",
     "text": [
      "\n",
      "\u001b[A\n",
      "\u001b[A"
     ]
    },
    {
     "name": "stdout",
     "output_type": "stream",
     "text": [
      "✅ 1 agences sauvegardées : CAISSE DE CREDIT MUTUEL VALLEE DE LA DORE - BUREAU AMBERT\n"
     ]
    },
    {
     "name": "stderr",
     "output_type": "stream",
     "text": [
      "\n",
      "\u001b[A"
     ]
    },
    {
     "name": "stdout",
     "output_type": "stream",
     "text": [
      "✅ 1 agences sauvegardées : CAISSE DE CREDIT MUTUEL D'AUBIERE\n"
     ]
    },
    {
     "name": "stderr",
     "output_type": "stream",
     "text": [
      "\n",
      "\u001b[A"
     ]
    },
    {
     "name": "stdout",
     "output_type": "stream",
     "text": [
      "✅ 1 agences sauvegardées : CAISSE DE CREDIT MUTUEL DE BEAUMONT - SAINT JACQUES - - ST JACQUES\n"
     ]
    },
    {
     "name": "stderr",
     "output_type": "stream",
     "text": [
      "\n",
      "\u001b[A"
     ]
    },
    {
     "name": "stdout",
     "output_type": "stream",
     "text": [
      "✅ 1 agences sauvegardées : CAISSE DE CREDIT MUTUEL DE CEBAZAT\n"
     ]
    },
    {
     "name": "stderr",
     "output_type": "stream",
     "text": [
      "\n",
      "\u001b[A"
     ]
    },
    {
     "name": "stdout",
     "output_type": "stream",
     "text": [
      "✅ 1 agences sauvegardées : CAISSE DE CREDIT MUTUEL DE CHAMALIERES\n"
     ]
    },
    {
     "name": "stderr",
     "output_type": "stream",
     "text": [
      "\n",
      "\u001b[A"
     ]
    },
    {
     "name": "stdout",
     "output_type": "stream",
     "text": [
      "✅ 6 agences sauvegardées : CAISSE DE CREDIT MUTUEL DE CLERMONT-FERRAND JAUDE, CAISSE DE CREDIT MUTUEL ENSEIGNANT - CREDIT MUTUEL ENSEIGNANT, CENTRE D'AFFAIRES ENTREPRISE CMMC - CENTRE D'AFFAIRES ENT CMMC, CENTRE D'AFFAIRES AGRICULTURE, BANQUE EUROPEENNE DU CREDIT MUTUEL SAINT ETIENNE - CLERMONT FERRAND, CAISSE DE CREDIT MUTUEL DE BEAUMONT - SAINT JACQUES - BUR CLERMONT NEUF SOLEILS\n"
     ]
    },
    {
     "name": "stderr",
     "output_type": "stream",
     "text": [
      "\n",
      "\u001b[A"
     ]
    },
    {
     "name": "stdout",
     "output_type": "stream",
     "text": [
      "✅ 1 agences sauvegardées : CAISSE DE CREDIT MUTUEL DE COURNON\n"
     ]
    },
    {
     "name": "stderr",
     "output_type": "stream",
     "text": [
      "\n",
      "\u001b[A"
     ]
    },
    {
     "name": "stdout",
     "output_type": "stream",
     "text": [
      "✅ 1 agences sauvegardées : CAISSE DE CREDIT MUTUEL D'ISSOIRE\n"
     ]
    },
    {
     "name": "stderr",
     "output_type": "stream",
     "text": [
      "\n",
      "\u001b[A"
     ]
    },
    {
     "name": "stdout",
     "output_type": "stream",
     "text": [
      "✅ 1 agences sauvegardées : CAISSE DE CREDIT MUTUEL DE RIOM - RIOM MOZAC\n"
     ]
    },
    {
     "name": "stderr",
     "output_type": "stream",
     "text": [
      "\n",
      "\u001b[A"
     ]
    },
    {
     "name": "stdout",
     "output_type": "stream",
     "text": [
      "✅ 1 agences sauvegardées : CAISSE DE CREDIT MUTUEL DE COURNON - PONT DU CHATEAU\n"
     ]
    },
    {
     "name": "stderr",
     "output_type": "stream",
     "text": [
      "\n",
      "\u001b[A"
     ]
    },
    {
     "name": "stdout",
     "output_type": "stream",
     "text": [
      "✅ 1 agences sauvegardées : CAISSE DE CREDIT MUTUEL DE RIOM\n"
     ]
    },
    {
     "name": "stderr",
     "output_type": "stream",
     "text": [
      "\n",
      "\u001b[A\n",
      "\u001b[A"
     ]
    },
    {
     "name": "stdout",
     "output_type": "stream",
     "text": [
      "✅ 1 agences sauvegardées : CAISSE DE CREDIT MUTUEL VALLEE DE LA DORE\n"
     ]
    },
    {
     "name": "stderr",
     "output_type": "stream",
     "text": [
      "\n",
      "\u001b[A\n",
      "\u001b[A"
     ]
    },
    {
     "name": "stdout",
     "output_type": "stream",
     "text": [
      "✅ 1 agences sauvegardées : CAISSE DE CREDIT MUTUEL D' ENTRE LOIRE ET RHONE - AMPLEPUIS\n"
     ]
    },
    {
     "name": "stderr",
     "output_type": "stream",
     "text": [
      "\n",
      "\u001b[A"
     ]
    },
    {
     "name": "stdout",
     "output_type": "stream",
     "text": [
      "✅ 1 agences sauvegardées : CAISSE DE CREDIT MUTUEL BEAUJOLAIS RIVES DE SAONE - ANSE\n"
     ]
    },
    {
     "name": "stderr",
     "output_type": "stream",
     "text": [
      "\n",
      "\u001b[A"
     ]
    },
    {
     "name": "stdout",
     "output_type": "stream",
     "text": [
      "✅ 1 agences sauvegardées : CAISSE DE CREDIT MUTUEL BRIGNAIS\n"
     ]
    },
    {
     "name": "stderr",
     "output_type": "stream",
     "text": [
      "\n",
      "\u001b[A"
     ]
    },
    {
     "name": "stdout",
     "output_type": "stream",
     "text": [
      "✅ 1 agences sauvegardées : CAISSE DE CREDIT MUTUEL BRON\n"
     ]
    },
    {
     "name": "stderr",
     "output_type": "stream",
     "text": [
      "\n",
      "\u001b[A"
     ]
    },
    {
     "name": "stdout",
     "output_type": "stream",
     "text": [
      "✅ 1 agences sauvegardées : CAISSE DE CREDIT MUTUEL CALUIRE JEAN MOULIN\n"
     ]
    },
    {
     "name": "stderr",
     "output_type": "stream",
     "text": [
      "\n",
      "\u001b[A"
     ]
    },
    {
     "name": "stdout",
     "output_type": "stream",
     "text": [
      "✅ 1 agences sauvegardées : CAISSE DE CREDIT MUTUEL DES  MONTS  D OR - CHAMPAGNE AU MONT D OR\n"
     ]
    },
    {
     "name": "stderr",
     "output_type": "stream",
     "text": [
      "\n",
      "\u001b[A"
     ]
    },
    {
     "name": "stdout",
     "output_type": "stream",
     "text": [
      "✅ 1 agences sauvegardées : CAISSE DE CREDIT MUTUEL DE LA TOUR ET CHARBONNIERES - CHARBONNIERES LES BAINS\n"
     ]
    },
    {
     "name": "stderr",
     "output_type": "stream",
     "text": [
      "\n",
      "\u001b[A"
     ]
    },
    {
     "name": "stdout",
     "output_type": "stream",
     "text": [
      "✅ 1 agences sauvegardées : CAISSE DE CREDIT MUTUEL CHASSIEU\n"
     ]
    },
    {
     "name": "stderr",
     "output_type": "stream",
     "text": [
      "\n",
      "\u001b[A"
     ]
    },
    {
     "name": "stdout",
     "output_type": "stream",
     "text": [
      "✅ 1 agences sauvegardées : CAISSE DE CREDIT MUTUEL CONDRIEU\n"
     ]
    },
    {
     "name": "stderr",
     "output_type": "stream",
     "text": [
      "\n",
      "\u001b[A"
     ]
    },
    {
     "name": "stdout",
     "output_type": "stream",
     "text": [
      "✅ 1 agences sauvegardées : CAISSE DE CREDIT MUTUEL CRAPONNE\n"
     ]
    },
    {
     "name": "stderr",
     "output_type": "stream",
     "text": [
      "\n",
      "\u001b[A"
     ]
    },
    {
     "name": "stdout",
     "output_type": "stream",
     "text": [
      "✅ 1 agences sauvegardées : CAISSE DE CREDIT MUTUEL DECINES-VAULX\n"
     ]
    },
    {
     "name": "stderr",
     "output_type": "stream",
     "text": [
      "\n",
      "\u001b[A"
     ]
    },
    {
     "name": "stdout",
     "output_type": "stream",
     "text": [
      "✅ 1 agences sauvegardées : CAISSE DE CREDIT MUTUEL ECULLY\n"
     ]
    },
    {
     "name": "stderr",
     "output_type": "stream",
     "text": [
      "\n",
      "\u001b[A"
     ]
    },
    {
     "name": "stdout",
     "output_type": "stream",
     "text": [
      "✅ 1 agences sauvegardées : CAISSE DE CREDIT MUTUEL FRANCHEVILLE\n"
     ]
    },
    {
     "name": "stderr",
     "output_type": "stream",
     "text": [
      "\n",
      "\u001b[A"
     ]
    },
    {
     "name": "stdout",
     "output_type": "stream",
     "text": [
      "✅ 1 agences sauvegardées : CAISSE DE CREDIT MUTUEL GIVORS\n"
     ]
    },
    {
     "name": "stderr",
     "output_type": "stream",
     "text": [
      "\n",
      "\u001b[A"
     ]
    },
    {
     "name": "stdout",
     "output_type": "stream",
     "text": [
      "✅ 3 agences sauvegardées : CAISSE DE CREDIT MUTUEL LYON REPUBLIQUE, CAISSE DE CREDIT MUTUEL LYON PERRACHE-CONFLUENCE, CAISSE DE CREDIT MUTUEL LYON PERRACHE-CONFLUENCE - CONFLUENCE\n"
     ]
    },
    {
     "name": "stderr",
     "output_type": "stream",
     "text": [
      "\n",
      "\u001b[A"
     ]
    },
    {
     "name": "stdout",
     "output_type": "stream",
     "text": [
      "✅ 4 agences sauvegardées : CAISSE DE CREDIT MUTUEL PART-DIEU PREFECTURE - LYON SAXE PREFECTURE, CAISSE DE CREDIT MUTUEL LYON MONTCHAT DAUPHINE, CAISSE DE CREDIT MUTUEL LYON MONTCHAT DAUPHINE - DAUPHINE LACASSAGNE, CAISSE DE CREDIT MUTUEL PART-DIEU PREFECTURE - LYON PART-DIEU LAFAYET\n"
     ]
    },
    {
     "name": "stderr",
     "output_type": "stream",
     "text": [
      "\n",
      "\u001b[A"
     ]
    },
    {
     "name": "stdout",
     "output_type": "stream",
     "text": [
      "✅ 2 agences sauvegardées : CAISSE DE CREDIT MUTUEL LYON CROIX ROUSSE - CROIX ROUSSE BL, CAISSE DE CREDIT MUTUEL LYON CROIX ROUSSE - CROIX ROUSSE AMBRE\n"
     ]
    },
    {
     "name": "stderr",
     "output_type": "stream",
     "text": [
      "\n",
      "\u001b[A"
     ]
    },
    {
     "name": "stdout",
     "output_type": "stream",
     "text": [
      "✅ 2 agences sauvegardées : CAISSE DE CREDIT MUTUEL LYON LE POINT DU JOUR, CAISSE DE CREDIT MUTUEL LYON BELLECOUR SAINT JEAN - SAINT JEAN\n"
     ]
    },
    {
     "name": "stderr",
     "output_type": "stream",
     "text": [
      "\n",
      "\u001b[A"
     ]
    },
    {
     "name": "stdout",
     "output_type": "stream",
     "text": [
      "✅ 5 agences sauvegardées : CAISSE DE CREDIT MUTUEL LYON TETE D OR - BROTTEAUX MASSENA, CAISSE DE CREDIT MUTUEL LYON DUQUESNE, CAISSE DE CREDIT MUTUEL LYON MARECHAL LYAUTEY, CAISSE DE CREDIT MUTUEL PROFESSIONS DE SANTE LYON - CMPS, CAISSE DE CREDIT MUTUEL LYON MARECHAL LYAUTEY - GESTION COPROPRIETES\n"
     ]
    },
    {
     "name": "stderr",
     "output_type": "stream",
     "text": [
      "\n",
      "\u001b[A"
     ]
    },
    {
     "name": "stdout",
     "output_type": "stream",
     "text": [
      "✅ 4 agences sauvegardées : CAISSE DE CREDIT MUTUEL LYON JEAN MACE, CAISSE DE CREDIT MUTUEL LYON GAMBETTA, CAISSE DE CREDIT MUTUEL LYON GERLAND, CAISSE DE CREDIT MUTUEL ENSEIGNANT LYON - CME\n"
     ]
    },
    {
     "name": "stderr",
     "output_type": "stream",
     "text": [
      "\n",
      "\u001b[A"
     ]
    },
    {
     "name": "stdout",
     "output_type": "stream",
     "text": [
      "✅ 2 agences sauvegardées : CAISSE DE CREDIT MUTUEL LYON FRERES LUMIERE, CAISSE DE CREDIT MUTUEL LYON CITE TONY GARNIER\n"
     ]
    },
    {
     "name": "stderr",
     "output_type": "stream",
     "text": [
      "\n",
      "\u001b[A"
     ]
    },
    {
     "name": "stdout",
     "output_type": "stream",
     "text": [
      "✅ 3 agences sauvegardées : CAISSE DE CREDIT MUTUEL LYON OUEST VAISE - OUEST VAISE SIEGE, CAISSE DE CREDIT MUTUEL LYON OUEST VAISE - OUEST VAISE BUREAU, CAUTIONNEMENT MUTUEL DE L HABITAT - CMH LYON\n"
     ]
    },
    {
     "name": "stderr",
     "output_type": "stream",
     "text": [
      "\n",
      "\u001b[A"
     ]
    },
    {
     "name": "stdout",
     "output_type": "stream",
     "text": [
      "✅ 1 agences sauvegardées : CAISSE DE CREDIT MUTUEL MEYZIEU\n"
     ]
    },
    {
     "name": "stderr",
     "output_type": "stream",
     "text": [
      "\n",
      "\u001b[A"
     ]
    },
    {
     "name": "stdout",
     "output_type": "stream",
     "text": [
      "✅ 1 agences sauvegardées : CAISSE DE CREDIT MUTUEL SAINT PRIEST - MIONS\n"
     ]
    },
    {
     "name": "stderr",
     "output_type": "stream",
     "text": [
      "\n",
      "\u001b[A"
     ]
    },
    {
     "name": "stdout",
     "output_type": "stream",
     "text": [
      "✅ 1 agences sauvegardées : CAISSE DE CREDIT MUTUEL NEUVILLE SUR SAONE\n"
     ]
    },
    {
     "name": "stderr",
     "output_type": "stream",
     "text": [
      "\n",
      "\u001b[A"
     ]
    },
    {
     "name": "stdout",
     "output_type": "stream",
     "text": [
      "✅ 1 agences sauvegardées : CAISSE DE CREDIT MUTUEL RILLIEUX LA PAPE\n"
     ]
    },
    {
     "name": "stderr",
     "output_type": "stream",
     "text": [
      "\n",
      "\u001b[A"
     ]
    },
    {
     "name": "stdout",
     "output_type": "stream",
     "text": [
      "✅ 1 agences sauvegardées : Nous contacterTrouver une caisseVos paramètres de confidentialitéRéduire l'assistant virtuelFermer l'assistant virtuelEnvoyervotre questionBonjourJe suis votre assistant virtuelJe suis là pour vous aider à naviguer sur le site et répondre à vos questions 24h/24 et 7j/7.A l'issue de ce tutoriel, vous pourrez commencer à me poser des questions.Une question ?J'y réponds sans attendreJe peux vous renseigner sur nos offres et services. Je vous oriente sur le site et vous mets en relation avec le bon interlocuteur pour accomplir vos démarches.C'est facile !Saisissez simplement vos questionsVous pouvez saisir vos questions dans le champ prévu à cet effet. N’hésitez pas à formuler une phrase plutôt qu’un seul mot. Cela me permettra d’être plus précis dans mes réponses.SuivantPoursuivre le déroulé du tutorielCrédit MutuelBonjourJe suis votre assistant virtuelAvant de commencer, pouvez-vous m’indiquer votre code postal ?Me géolocaliserSuivantVos paramètres de confidentialitéRéduire le tchat conseillerQuitter le tchat conseiller\n"
     ]
    },
    {
     "name": "stderr",
     "output_type": "stream",
     "text": [
      "\n",
      "\u001b[A"
     ]
    },
    {
     "name": "stdout",
     "output_type": "stream",
     "text": [
      "✅ 1 agences sauvegardées : CAISSE DE CREDIT MUTUEL TARARE\n"
     ]
    },
    {
     "name": "stderr",
     "output_type": "stream",
     "text": [
      "\n",
      "\u001b[A"
     ]
    },
    {
     "name": "stdout",
     "output_type": "stream",
     "text": [
      "✅ 1 agences sauvegardées : CAISSE DE CREDIT MUTUEL TASSIN LA DEMI LUNE\n"
     ]
    },
    {
     "name": "stderr",
     "output_type": "stream",
     "text": [
      "\n",
      "\u001b[A"
     ]
    },
    {
     "name": "stdout",
     "output_type": "stream",
     "text": [
      "✅ 1 agences sauvegardées : CAISSE DE CREDIT MUTUEL DECINES-VAULX - VAULX EN VELIN\n"
     ]
    },
    {
     "name": "stderr",
     "output_type": "stream",
     "text": [
      "\n",
      "\u001b[A"
     ]
    },
    {
     "name": "stdout",
     "output_type": "stream",
     "text": [
      "✅ 1 agences sauvegardées : CAISSE DE CREDIT MUTUEL GRAND PARILLY - VENISSIEUX\n"
     ]
    },
    {
     "name": "stderr",
     "output_type": "stream",
     "text": [
      "\n",
      "\u001b[A\n",
      "\u001b[A"
     ]
    },
    {
     "name": "stdout",
     "output_type": "stream",
     "text": [
      "✅ 4 agences sauvegardées : CAISSE DE CREDIT MUTUEL VILLEURBANNE GRATTE CIEL - GR.CIEL, CAISSE DE CREDIT MUTUEL VILLEURBANNE GRANDCLEMENT - GDCLEMENT, CAISSE DE CREDIT MUTUEL ENSEIGNANT LYON - CME LYON VILLEURBANNE, CAISSE DE CREDIT MUTUEL LYON TETE D OR - VILLEURBANNE CHARPENNES\n"
     ]
    },
    {
     "name": "stderr",
     "output_type": "stream",
     "text": [
      "\n",
      "\u001b[A\n",
      "\u001b[A"
     ]
    },
    {
     "name": "stdout",
     "output_type": "stream",
     "text": [
      "✅ 2 agences sauvegardées : CAISSE DE CREDIT MUTUEL AIX LES BAINS, CAISSE DE CREDIT MUTUEL AIX LES BAINS - AIX LE REVARD POLE PRO\n"
     ]
    },
    {
     "name": "stderr",
     "output_type": "stream",
     "text": [
      "\n",
      "\u001b[A"
     ]
    },
    {
     "name": "stdout",
     "output_type": "stream",
     "text": [
      "✅ 1 agences sauvegardées : CAISSE DE CREDIT MUTUEL DES 4 VALLEES\n"
     ]
    },
    {
     "name": "stderr",
     "output_type": "stream",
     "text": [
      "\n",
      "\u001b[A"
     ]
    },
    {
     "name": "stdout",
     "output_type": "stream",
     "text": [
      "✅ 1 agences sauvegardées : CAISSE DE CREDIT MUTUEL DE BASSENS\n"
     ]
    },
    {
     "name": "stderr",
     "output_type": "stream",
     "text": [
      "\n",
      "\u001b[A"
     ]
    },
    {
     "name": "stdout",
     "output_type": "stream",
     "text": [
      "✅ 4 agences sauvegardées : CAISSE DE CREDIT MUTUEL ENSEIGNANT SAVOIE MONT BLANC - CME SAVOIE MONT BLANC, CAISSE DE CREDIT MUTUEL CHAMBERY DUCS DE SAVOIE, CAISSE DE CREDIT MUTUEL CHAMBERY DUCS DE SAVOIE - GRAND VERGER, CAISSE DE CREDIT MUTUEL CHAMBERY DUCS DE SAVOIE - GRAND VERGER POLE PRO\n"
     ]
    },
    {
     "name": "stderr",
     "output_type": "stream",
     "text": [
      "\n",
      "\u001b[A"
     ]
    },
    {
     "name": "stdout",
     "output_type": "stream",
     "text": [
      "✅ 1 agences sauvegardées : CAISSE DE CREDIT MUTUEL DES PROFESSIONS DE SANTE - CMPS SAVOIE MONT BLANC\n"
     ]
    },
    {
     "name": "stderr",
     "output_type": "stream",
     "text": [
      "\n",
      "\u001b[A"
     ]
    },
    {
     "name": "stdout",
     "output_type": "stream",
     "text": [
      "✅ 1 agences sauvegardées : CAISSE DE CREDIT MUTUEL COEUR DE SAVOIE\n"
     ]
    },
    {
     "name": "stderr",
     "output_type": "stream",
     "text": [
      "\n",
      "\u001b[A\n",
      "\u001b[A"
     ]
    },
    {
     "name": "stdout",
     "output_type": "stream",
     "text": [
      "✅ 1 agences sauvegardées : CAISSE DE CREDIT MUTUEL MONT CHARVIN - UGINE\n"
     ]
    },
    {
     "name": "stderr",
     "output_type": "stream",
     "text": [
      "\n",
      "\u001b[A\n",
      "\u001b[A"
     ]
    },
    {
     "name": "stdout",
     "output_type": "stream",
     "text": [
      "✅ 1 agences sauvegardées : CAISSE DE CREDIT MUTUEL D'EVIAN - VAL D'ABONDANCE - DU VAL D'\n"
     ]
    },
    {
     "name": "stderr",
     "output_type": "stream",
     "text": [
      "\n",
      "\u001b[A"
     ]
    },
    {
     "name": "stdout",
     "output_type": "stream",
     "text": [
      "✅ 3 agences sauvegardées : CAISSE DE CREDIT MUTUEL ANNECY CENTRE OUEST, CAISSE DE CREDIT MUTUEL ANNECY BONLIEU, CAISSE DE CREDIT MUTUEL ANNECY VALLIN FIER\n"
     ]
    },
    {
     "name": "stderr",
     "output_type": "stream",
     "text": [
      "\n",
      "\u001b[A"
     ]
    },
    {
     "name": "stdout",
     "output_type": "stream",
     "text": [
      "✅ 1 agences sauvegardées : CAISSE DE CREDIT MUTUEL REGION D'ANNEMASSE\n"
     ]
    },
    {
     "name": "stderr",
     "output_type": "stream",
     "text": [
      "\n",
      "\u001b[A"
     ]
    },
    {
     "name": "stdout",
     "output_type": "stream",
     "text": [
      "✅ 1 agences sauvegardées : CAISSE DE CREDIT MUTUEL DE LA VALLEE VERTE - DE BOEGE\n"
     ]
    },
    {
     "name": "stderr",
     "output_type": "stream",
     "text": [
      "\n",
      "\u001b[A"
     ]
    },
    {
     "name": "stdout",
     "output_type": "stream",
     "text": [
      "✅ 1 agences sauvegardées : CAISSE DE CREDIT MUTUEL DU FAUCIGNY\n"
     ]
    },
    {
     "name": "stderr",
     "output_type": "stream",
     "text": [
      "\n",
      "\u001b[A"
     ]
    },
    {
     "name": "stdout",
     "output_type": "stream",
     "text": [
      "✅ 1 agences sauvegardées : CAISSE DE CREDIT MUTUEL DE BONS-EN-CHABLAIS\n"
     ]
    },
    {
     "name": "stderr",
     "output_type": "stream",
     "text": [
      "\n",
      "\u001b[A"
     ]
    },
    {
     "name": "stdout",
     "output_type": "stream",
     "text": [
      "✅ 1 agences sauvegardées : CAISSE DE CREDIT MUTUEL DU MONT BLANC - CHAMONIX\n"
     ]
    },
    {
     "name": "stderr",
     "output_type": "stream",
     "text": [
      "\n",
      "\u001b[A"
     ]
    },
    {
     "name": "stdout",
     "output_type": "stream",
     "text": [
      "✅ 2 agences sauvegardées : CAISSE DE CREDIT MUTUEL DE LA CLUSE D'ARVE, CAISSE DE CREDIT MUTUEL DE LA CLUSE D'ARVE - DE CLUSES SARDAGNE\n"
     ]
    },
    {
     "name": "stderr",
     "output_type": "stream",
     "text": [
      "\n",
      "\u001b[A"
     ]
    },
    {
     "name": "stdout",
     "output_type": "stream",
     "text": [
      "✅ 1 agences sauvegardées : CAISSE DE CREDIT MUTUEL DE CRANVES-SALES LES VOIRONS\n"
     ]
    },
    {
     "name": "stderr",
     "output_type": "stream",
     "text": [
      "\n",
      "\u001b[A"
     ]
    },
    {
     "name": "stdout",
     "output_type": "stream",
     "text": [
      "✅ 1 agences sauvegardées : CAISSE DE CREDIT MUTUEL USSES ET SALEVE\n"
     ]
    },
    {
     "name": "stderr",
     "output_type": "stream",
     "text": [
      "\n",
      "\u001b[A"
     ]
    },
    {
     "name": "stdout",
     "output_type": "stream",
     "text": [
      "✅ 1 agences sauvegardées : CAISSE DE CREDIT MUTUEL BAS CHABLAIS\n"
     ]
    },
    {
     "name": "stderr",
     "output_type": "stream",
     "text": [
      "\n",
      "\u001b[A"
     ]
    },
    {
     "name": "stdout",
     "output_type": "stream",
     "text": [
      "✅ 1 agences sauvegardées : CAISSE DE CREDIT MUTUEL D'EVIAN - VAL D'ABONDANCE\n"
     ]
    },
    {
     "name": "stderr",
     "output_type": "stream",
     "text": [
      "\n",
      "\u001b[A"
     ]
    },
    {
     "name": "stdout",
     "output_type": "stream",
     "text": [
      "✅ 1 agences sauvegardées : CAISSE DE CREDIT MUTUEL MONT CHARVIN\n"
     ]
    },
    {
     "name": "stderr",
     "output_type": "stream",
     "text": [
      "\n",
      "\u001b[A"
     ]
    },
    {
     "name": "stdout",
     "output_type": "stream",
     "text": [
      "✅ 1 agences sauvegardées : CAISSE DE CREDIT MUTUEL USSES ET SALEVE - FRANGY-VAL DES USSES\n"
     ]
    },
    {
     "name": "stderr",
     "output_type": "stream",
     "text": [
      "\n",
      "\u001b[A"
     ]
    },
    {
     "name": "stdout",
     "output_type": "stream",
     "text": [
      "✅ 1 agences sauvegardées : CAISSE DE CREDIT MUTUEL REGION D'ANNEMASSE - DE GAILLARD\n"
     ]
    },
    {
     "name": "stderr",
     "output_type": "stream",
     "text": [
      "\n",
      "\u001b[A"
     ]
    },
    {
     "name": "stdout",
     "output_type": "stream",
     "text": [
      "✅ 1 agences sauvegardées : CAISSE DE CREDIT MUTUEL MEGEVE\n"
     ]
    },
    {
     "name": "stderr",
     "output_type": "stream",
     "text": [
      "\n",
      "\u001b[A"
     ]
    },
    {
     "name": "stdout",
     "output_type": "stream",
     "text": [
      "✅ 1 agences sauvegardées : CAISSE DE CREDIT MUTUEL DU HAUT CHABLAIS\n"
     ]
    },
    {
     "name": "stderr",
     "output_type": "stream",
     "text": [
      "\n",
      "\u001b[A"
     ]
    },
    {
     "name": "stdout",
     "output_type": "stream",
     "text": [
      "✅ 1 agences sauvegardées : CAISSE DE CREDIT MUTUEL LA ROCHE - REIGNIER\n"
     ]
    },
    {
     "name": "stderr",
     "output_type": "stream",
     "text": [
      "\n",
      "\u001b[A"
     ]
    },
    {
     "name": "stdout",
     "output_type": "stream",
     "text": [
      "✅ 1 agences sauvegardées : CAISSE DE CREDIT MUTUEL DE L'ALBANAIS\n"
     ]
    },
    {
     "name": "stderr",
     "output_type": "stream",
     "text": [
      "\n",
      "\u001b[A"
     ]
    },
    {
     "name": "stdout",
     "output_type": "stream",
     "text": [
      "✅ 1 agences sauvegardées : CAISSE DE CREDIT MUTUEL DU MONT BLANC\n"
     ]
    },
    {
     "name": "stderr",
     "output_type": "stream",
     "text": [
      "\n",
      "\u001b[A"
     ]
    },
    {
     "name": "stdout",
     "output_type": "stream",
     "text": [
      "✅ 1 agences sauvegardées : CAISSE DE CREDIT MUTUEL DE LA VALLEE DU GIFFRE - DE SAMOENS\n"
     ]
    },
    {
     "name": "stderr",
     "output_type": "stream",
     "text": [
      "\n",
      "\u001b[A"
     ]
    },
    {
     "name": "stdout",
     "output_type": "stream",
     "text": [
      "✅ 1 agences sauvegardées : CAISSE DE CREDIT MUTUEL BAS CHABLAIS - DE SCIEZ\n"
     ]
    },
    {
     "name": "stderr",
     "output_type": "stream",
     "text": [
      "\n",
      "\u001b[A"
     ]
    },
    {
     "name": "stdout",
     "output_type": "stream",
     "text": [
      "✅ 1 agences sauvegardées : CAISSE DE CREDIT MUTUEL PAYS DU LAUDON\n"
     ]
    },
    {
     "name": "stderr",
     "output_type": "stream",
     "text": [
      "\n",
      "\u001b[A"
     ]
    },
    {
     "name": "stdout",
     "output_type": "stream",
     "text": [
      "✅ 1 agences sauvegardées : CAISSE DE CREDIT MUTUEL DE LA VALLEE DU GIFFRE\n"
     ]
    },
    {
     "name": "stderr",
     "output_type": "stream",
     "text": [
      "\n",
      "\u001b[A"
     ]
    },
    {
     "name": "stdout",
     "output_type": "stream",
     "text": [
      "✅ 1 agences sauvegardées : CAISSE DE CREDIT MUTUEL DU PAYS DE THONES\n"
     ]
    },
    {
     "name": "stderr",
     "output_type": "stream",
     "text": [
      "\n",
      "\u001b[A"
     ]
    },
    {
     "name": "stdout",
     "output_type": "stream",
     "text": [
      "✅ 3 agences sauvegardées : CAISSE DE CREDIT MUTUEL DU CHABLAIS, CAISSE DE CREDIT MUTUEL DU CHABLAIS - DE THONON OUEST, CAISSE DE CREDIT MUTUEL DU CHABLAIS - CHABLAIS POLE PRO\n"
     ]
    },
    {
     "name": "stderr",
     "output_type": "stream",
     "text": [
      "\n",
      "\u001b[A\n",
      "Régions:   8%|▊         | 1/12 [16:35<3:02:35, 995.96s/it]"
     ]
    },
    {
     "name": "stdout",
     "output_type": "stream",
     "text": [
      "✅ 1 agences sauvegardées : CAISSE DE CREDIT MUTUEL DE LA VALLEE VERTE\n"
     ]
    },
    {
     "name": "stderr",
     "output_type": "stream",
     "text": [
      "\n",
      "\u001b[A\n",
      "\u001b[A"
     ]
    },
    {
     "name": "stdout",
     "output_type": "stream",
     "text": [
      "✅ 1 agences sauvegardées : CAISSE DE CREDIT MUTUEL AUXOIS SUD - ARNAY LE DUC\n"
     ]
    },
    {
     "name": "stderr",
     "output_type": "stream",
     "text": [
      "\n",
      "\u001b[A"
     ]
    },
    {
     "name": "stdout",
     "output_type": "stream",
     "text": [
      "✅ 1 agences sauvegardées : CAISSE DE CREDIT MUTUEL D AUXONNE\n"
     ]
    },
    {
     "name": "stderr",
     "output_type": "stream",
     "text": [
      "\n",
      "\u001b[A"
     ]
    },
    {
     "name": "stdout",
     "output_type": "stream",
     "text": [
      "✅ 2 agences sauvegardées : CAISSE DE CREDIT MUTUEL DE BEAUNE, CAISSE DE CREDIT MUTUEL DE BEAUNE - FLEURY\n"
     ]
    },
    {
     "name": "stderr",
     "output_type": "stream",
     "text": [
      "\n",
      "\u001b[A"
     ]
    },
    {
     "name": "stdout",
     "output_type": "stream",
     "text": [
      "✅ 1 agences sauvegardées : CAISSE DE CREDIT MUTUEL DU CHATILLONNAIS\n"
     ]
    },
    {
     "name": "stderr",
     "output_type": "stream",
     "text": [
      "\n",
      "\u001b[A"
     ]
    },
    {
     "name": "stdout",
     "output_type": "stream",
     "text": [
      "✅ 1 agences sauvegardées : CAISSE DE CREDIT MUTUEL DU SUD DIJONNAIS\n"
     ]
    },
    {
     "name": "stderr",
     "output_type": "stream",
     "text": [
      "\n",
      "\u001b[A"
     ]
    },
    {
     "name": "stdout",
     "output_type": "stream",
     "text": [
      "✅ 8 agences sauvegardées : CAISSE DE CREDIT MUTUEL DIJON THEATRE MIRANDE, CAISSE DE CREDIT MUTUEL DE DIJON AUDITORIUM, CAISSE DE CREDIT MUTUEL PROFESSIONS DE SANTE - CMPS BOURGOGNE CHAMPAGNE, CAISSE DE CREDIT MUTUEL DIJON EIFFEL, CAISSE DE CREDIT MUTUEL ENSEIGNANT BOURGOGNE CENTRE, CAISSE DE CREDIT MUTUEL DIJON TOISON D OR, CAISSE DE CREDIT MUTUEL DIJON THEATRE MIRANDE - THEATRE - MIRANDE, CAISSE DE CREDIT MUTUEL DE DIJON AUDITORIUM - GALILEE\n"
     ]
    },
    {
     "name": "stderr",
     "output_type": "stream",
     "text": [
      "\n",
      "\u001b[A"
     ]
    },
    {
     "name": "stdout",
     "output_type": "stream",
     "text": [
      "✅ 1 agences sauvegardées : CAISSE DE CREDIT MUTUEL DE SEMUR EN AUXOIS - EPOISSES\n"
     ]
    },
    {
     "name": "stderr",
     "output_type": "stream",
     "text": [
      "\n",
      "\u001b[A"
     ]
    },
    {
     "name": "stdout",
     "output_type": "stream",
     "text": [
      "✅ 1 agences sauvegardées : CAISSE DE CREDIT MUTUEL MIREBEAU PONTAILLER - FONTAINE FRANCAISE\n"
     ]
    },
    {
     "name": "stderr",
     "output_type": "stream",
     "text": [
      "\n",
      "\u001b[A"
     ]
    },
    {
     "name": "stdout",
     "output_type": "stream",
     "text": [
      "✅ 1 agences sauvegardées : CAISSE DE CREDIT MUTUEL FONTAINE TALANT - DE FONTAINE LES DIJON\n"
     ]
    },
    {
     "name": "stderr",
     "output_type": "stream",
     "text": [
      "\n",
      "\u001b[A"
     ]
    },
    {
     "name": "stdout",
     "output_type": "stream",
     "text": [
      "✅ 1 agences sauvegardées : CAISSE DE CREDIT MUTUEL DE GENLIS\n"
     ]
    },
    {
     "name": "stderr",
     "output_type": "stream",
     "text": [
      "\n",
      "\u001b[A"
     ]
    },
    {
     "name": "stdout",
     "output_type": "stream",
     "text": [
      "✅ 1 agences sauvegardées : CAISSE DE CREDIT MUTUEL DE GEVREY CHAMBERTIN\n"
     ]
    },
    {
     "name": "stderr",
     "output_type": "stream",
     "text": [
      "\n",
      "\u001b[A"
     ]
    },
    {
     "name": "stdout",
     "output_type": "stream",
     "text": [
      "✅ 1 agences sauvegardées : CAISSE DE CREDIT MUTUEL PAYS DES TROIS RIVIERES - PAYS DES 3 RIVIERES\n"
     ]
    },
    {
     "name": "stderr",
     "output_type": "stream",
     "text": [
      "\n",
      "\u001b[A"
     ]
    },
    {
     "name": "stdout",
     "output_type": "stream",
     "text": [
      "✅ 1 agences sauvegardées : CAISSE DE CREDIT MUTUEL DE LONGVIC\n"
     ]
    },
    {
     "name": "stderr",
     "output_type": "stream",
     "text": [
      "\n",
      "\u001b[A"
     ]
    },
    {
     "name": "stdout",
     "output_type": "stream",
     "text": [
      "✅ 1 agences sauvegardées : CAISSE DE CREDIT MUTUEL DU SUD DIJONNAIS - MARSANNAY CHAMPAGNE HAU\n"
     ]
    },
    {
     "name": "stderr",
     "output_type": "stream",
     "text": [
      "\n",
      "\u001b[A"
     ]
    },
    {
     "name": "stdout",
     "output_type": "stream",
     "text": [
      "✅ 1 agences sauvegardées : CAISSE DE CREDIT MUTUEL DE BEAUNE - MEURSAULT\n"
     ]
    },
    {
     "name": "stderr",
     "output_type": "stream",
     "text": [
      "\n",
      "\u001b[A"
     ]
    },
    {
     "name": "stdout",
     "output_type": "stream",
     "text": [
      "✅ 1 agences sauvegardées : CAISSE DE CREDIT MUTUEL MIREBEAU PONTAILLER\n"
     ]
    },
    {
     "name": "stderr",
     "output_type": "stream",
     "text": [
      "\n",
      "\u001b[A"
     ]
    },
    {
     "name": "stdout",
     "output_type": "stream",
     "text": [
      "✅ 1 agences sauvegardées : CAISSE DE CREDIT MUTUEL DE MONTBARD VENAREY\n"
     ]
    },
    {
     "name": "stderr",
     "output_type": "stream",
     "text": [
      "\n",
      "\u001b[A"
     ]
    },
    {
     "name": "stdout",
     "output_type": "stream",
     "text": [
      "✅ 1 agences sauvegardées : CAISSE DE CREDIT MUTUEL DE DIJON AUDITORIUM - PLOMBIERES LES DIJON\n"
     ]
    },
    {
     "name": "stderr",
     "output_type": "stream",
     "text": [
      "\n",
      "\u001b[A"
     ]
    },
    {
     "name": "stdout",
     "output_type": "stream",
     "text": [
      "✅ 1 agences sauvegardées : CAISSE DE CREDIT MUTUEL MIREBEAU PONTAILLER - PONTAILLER SUR SAONE\n"
     ]
    },
    {
     "name": "stderr",
     "output_type": "stream",
     "text": [
      "\n",
      "\u001b[A"
     ]
    },
    {
     "name": "stdout",
     "output_type": "stream",
     "text": [
      "✅ 1 agences sauvegardées : CAISSE DE CREDIT MUTUEL AUXOIS SUD - POUILLY EN AUXOIS\n"
     ]
    },
    {
     "name": "stderr",
     "output_type": "stream",
     "text": [
      "\n",
      "\u001b[A"
     ]
    },
    {
     "name": "stdout",
     "output_type": "stream",
     "text": [
      "✅ 1 agences sauvegardées : CAISSE DE CREDIT MUTUEL QUETIGNY CHEVIGNY\n"
     ]
    },
    {
     "name": "stderr",
     "output_type": "stream",
     "text": [
      "\n",
      "\u001b[A"
     ]
    },
    {
     "name": "stdout",
     "output_type": "stream",
     "text": [
      "✅ 1 agences sauvegardées : CAISSE DE CREDIT MUTUEL DE SAULIEU\n"
     ]
    },
    {
     "name": "stderr",
     "output_type": "stream",
     "text": [
      "\n",
      "\u001b[A"
     ]
    },
    {
     "name": "stdout",
     "output_type": "stream",
     "text": [
      "✅ 1 agences sauvegardées : CAISSE DE CREDIT MUTUEL PAYS DES TROIS RIVIERES - DE SELONGEY\n"
     ]
    },
    {
     "name": "stderr",
     "output_type": "stream",
     "text": [
      "\n",
      "\u001b[A"
     ]
    },
    {
     "name": "stdout",
     "output_type": "stream",
     "text": [
      "✅ 1 agences sauvegardées : CAISSE DE CREDIT MUTUEL DE SEMUR EN AUXOIS\n"
     ]
    },
    {
     "name": "stderr",
     "output_type": "stream",
     "text": [
      "\n",
      "\u001b[A"
     ]
    },
    {
     "name": "stdout",
     "output_type": "stream",
     "text": [
      "✅ 1 agences sauvegardées : CAISSE DE CREDIT MUTUEL DU VAL DE SAONE SUD\n"
     ]
    },
    {
     "name": "stderr",
     "output_type": "stream",
     "text": [
      "\n",
      "\u001b[A"
     ]
    },
    {
     "name": "stdout",
     "output_type": "stream",
     "text": [
      "✅ 1 agences sauvegardées : CAISSE DE CREDIT MUTUEL FONTAINE TALANT - DE\n"
     ]
    },
    {
     "name": "stderr",
     "output_type": "stream",
     "text": [
      "\n",
      "\u001b[A\n",
      "\u001b[A"
     ]
    },
    {
     "name": "stdout",
     "output_type": "stream",
     "text": [
      "✅ 1 agences sauvegardées : CAISSE DE CREDIT MUTUEL DE MONTBARD VENAREY - VENAREY LES LAUMES\n"
     ]
    },
    {
     "name": "stderr",
     "output_type": "stream",
     "text": [
      "\n",
      "\u001b[A\n",
      "\u001b[A"
     ]
    },
    {
     "name": "stdout",
     "output_type": "stream",
     "text": [
      "✅ 1 agences sauvegardées : CAISSE DE CREDIT MUTUEL AUDINCOURT\n"
     ]
    },
    {
     "name": "stderr",
     "output_type": "stream",
     "text": [
      "\n",
      "\u001b[A"
     ]
    },
    {
     "name": "stdout",
     "output_type": "stream",
     "text": [
      "✅ 1 agences sauvegardées : CAISSE DE CREDIT MUTUEL BAUME VALDAHON ROUGEMONT\n"
     ]
    },
    {
     "name": "stderr",
     "output_type": "stream",
     "text": [
      "\n",
      "\u001b[A"
     ]
    },
    {
     "name": "stdout",
     "output_type": "stream",
     "text": [
      "✅ 9 agences sauvegardées : BANQUE EUROPEENNE DU CREDIT MUTUEL BESANCON - BECM, CAISSE DE CREDIT MUTUEL BESANCON UNION, CAISSE DE CREDIT MUTUEL BESANCON ST CLAUDE, CAISSE DE CREDIT MUTUEL BESANCON MONTRAPON MARNAY, CAISSE DE CREDIT MUTUEL DES PROFESSIONS DE SANTE DE FC - CMPS FRANCHE COMTE BESANCO, CAISSE DE CREDIT MUTUEL ENSEIGNANT FRANCHE COMTE, CAISSE DE CREDIT MUTUEL BESANCON UNION - PALENTE, CAISSE DE CREDIT MUTUEL BESANCON UNION - LES CHAPRAIS, CAISSE DE CREDIT MUTUEL GRAND BESANCON OUEST - CHATEAUFARINE\n"
     ]
    },
    {
     "name": "stderr",
     "output_type": "stream",
     "text": [
      "\n",
      "\u001b[A"
     ]
    },
    {
     "name": "stdout",
     "output_type": "stream",
     "text": [
      "✅ 1 agences sauvegardées : CAISSE DE CREDIT MUTUEL BETHONCOURT HERICOURT\n"
     ]
    },
    {
     "name": "stderr",
     "output_type": "stream",
     "text": [
      "\n",
      "\u001b[A"
     ]
    },
    {
     "name": "stdout",
     "output_type": "stream",
     "text": [
      "✅ 1 agences sauvegardées : CAISSE DE CREDIT MUTUEL BESANCON ST CLAUDE - VALENTIN\n"
     ]
    },
    {
     "name": "stderr",
     "output_type": "stream",
     "text": [
      "\n",
      "\u001b[A"
     ]
    },
    {
     "name": "stdout",
     "output_type": "stream",
     "text": [
      "✅ 1 agences sauvegardées : CAISSE DE CREDIT MUTUEL PONTARLIER\n"
     ]
    },
    {
     "name": "stderr",
     "output_type": "stream",
     "text": [
      "\n",
      "\u001b[A"
     ]
    },
    {
     "name": "stdout",
     "output_type": "stream",
     "text": [
      "✅ 1 agences sauvegardées : CAISSE DE CREDIT MUTUEL ETUPES BEAUCOURT\n"
     ]
    },
    {
     "name": "stderr",
     "output_type": "stream",
     "text": [
      "\n",
      "\u001b[A"
     ]
    },
    {
     "name": "stdout",
     "output_type": "stream",
     "text": [
      "✅ 1 agences sauvegardées : CAISSE DE CREDIT MUTUEL CHARMONT SOCHAUX\n"
     ]
    },
    {
     "name": "stderr",
     "output_type": "stream",
     "text": [
      "\n",
      "\u001b[A"
     ]
    },
    {
     "name": "stdout",
     "output_type": "stream",
     "text": [
      "✅ 1 agences sauvegardées : CAISSE DE CREDIT MUTUEL MAICHE\n"
     ]
    },
    {
     "name": "stderr",
     "output_type": "stream",
     "text": [
      "\n",
      "\u001b[A"
     ]
    },
    {
     "name": "stdout",
     "output_type": "stream",
     "text": [
      "✅ 1 agences sauvegardées : CAISSE DE CREDIT MUTUEL MANDEURE VALENTIGNEY\n"
     ]
    },
    {
     "name": "stderr",
     "output_type": "stream",
     "text": [
      "\n",
      "\u001b[A"
     ]
    },
    {
     "name": "stdout",
     "output_type": "stream",
     "text": [
      "✅ 3 agences sauvegardées : CAISSE DE CREDIT MUTUEL MONTBELIARD, CAISSE DE CREDIT MUTUEL DES PROFESSIONS DE SANTE DE FC - CMPS MONTBELIARD, CAISSE DE CREDIT MUTUEL MONTBELIARD - PIED DES GOUTTES\n"
     ]
    },
    {
     "name": "stderr",
     "output_type": "stream",
     "text": [
      "\n",
      "\u001b[A"
     ]
    },
    {
     "name": "stdout",
     "output_type": "stream",
     "text": [
      "✅ 1 agences sauvegardées : CAISSE DE CREDIT MUTUEL MORTEAU\n"
     ]
    },
    {
     "name": "stderr",
     "output_type": "stream",
     "text": [
      "\n",
      "\u001b[A"
     ]
    },
    {
     "name": "stdout",
     "output_type": "stream",
     "text": [
      "✅ 1 agences sauvegardées : CAISSE DE CREDIT MUTUEL MORTEAU - ORCHAMPS VENNES\n"
     ]
    },
    {
     "name": "stderr",
     "output_type": "stream",
     "text": [
      "\n",
      "\u001b[A"
     ]
    },
    {
     "name": "stdout",
     "output_type": "stream",
     "text": [
      "✅ 1 agences sauvegardées : CAISSE DE CREDIT MUTUEL ORNANS\n"
     ]
    },
    {
     "name": "stderr",
     "output_type": "stream",
     "text": [
      "\n",
      "\u001b[A"
     ]
    },
    {
     "name": "stdout",
     "output_type": "stream",
     "text": [
      "✅ 1 agences sauvegardées : CAISSE DE CREDIT MUTUEL PONTARLIER - ST PIERRE\n"
     ]
    },
    {
     "name": "stderr",
     "output_type": "stream",
     "text": [
      "\n",
      "\u001b[A"
     ]
    },
    {
     "name": "stdout",
     "output_type": "stream",
     "text": [
      "✅ 1 agences sauvegardées : CAISSE DE CREDIT MUTUEL PONT DE ROIDE L ISLE SUR DOUBS\n"
     ]
    },
    {
     "name": "stderr",
     "output_type": "stream",
     "text": [
      "\n",
      "\u001b[A"
     ]
    },
    {
     "name": "stdout",
     "output_type": "stream",
     "text": [
      "✅ 1 agences sauvegardées : CAISSE DE CREDIT MUTUEL BAUME VALDAHON ROUGEMONT\n"
     ]
    },
    {
     "name": "stderr",
     "output_type": "stream",
     "text": [
      "\n",
      "\u001b[A"
     ]
    },
    {
     "name": "stdout",
     "output_type": "stream",
     "text": [
      "✅ 1 agences sauvegardées : CAISSE DE CREDIT MUTUEL BESANCON UNION - SAONE\n"
     ]
    },
    {
     "name": "stderr",
     "output_type": "stream",
     "text": [
      "\n",
      "\u001b[A"
     ]
    },
    {
     "name": "stdout",
     "output_type": "stream",
     "text": [
      "✅ 1 agences sauvegardées : CAISSE DE CREDIT MUTUEL SELONCOURT HERIMONCOURT\n"
     ]
    },
    {
     "name": "stderr",
     "output_type": "stream",
     "text": [
      "\n",
      "\u001b[A"
     ]
    },
    {
     "name": "stdout",
     "output_type": "stream",
     "text": [
      "✅ 1 agences sauvegardées : CAISSE DE CREDIT MUTUEL CHARMONT SOCHAUX\n"
     ]
    },
    {
     "name": "stderr",
     "output_type": "stream",
     "text": [
      "\n",
      "\u001b[A"
     ]
    },
    {
     "name": "stdout",
     "output_type": "stream",
     "text": [
      "✅ 1 agences sauvegardées : CAISSE DE CREDIT MUTUEL BAUME VALDAHON ROUGEMONT - LE\n"
     ]
    },
    {
     "name": "stderr",
     "output_type": "stream",
     "text": [
      "\n",
      "\u001b[A"
     ]
    },
    {
     "name": "stdout",
     "output_type": "stream",
     "text": [
      "✅ 1 agences sauvegardées : CAISSE DE CREDIT MUTUEL MANDEURE VALENTIGNEY\n"
     ]
    },
    {
     "name": "stderr",
     "output_type": "stream",
     "text": [
      "\n",
      "\u001b[A\n",
      "\u001b[A"
     ]
    },
    {
     "name": "stdout",
     "output_type": "stream",
     "text": [
      "✅ 1 agences sauvegardées : CAISSE DE CREDIT MUTUEL VILLERS LE LAC\n"
     ]
    },
    {
     "name": "stderr",
     "output_type": "stream",
     "text": [
      "\n",
      "\u001b[A\n",
      "\u001b[A"
     ]
    },
    {
     "name": "stdout",
     "output_type": "stream",
     "text": [
      "✅ 1 agences sauvegardées : CAISSE DE CREDIT MUTUEL ARBOIS POLIGNY SALINS\n"
     ]
    },
    {
     "name": "stderr",
     "output_type": "stream",
     "text": [
      "\n",
      "\u001b[A"
     ]
    },
    {
     "name": "stdout",
     "output_type": "stream",
     "text": [
      "✅ 1 agences sauvegardées : CAISSE DE CREDIT MUTUEL LONS LE SAUNIER ROUGET DE LISLE - BLETTERANS\n"
     ]
    },
    {
     "name": "stderr",
     "output_type": "stream",
     "text": [
      "\n",
      "\u001b[A"
     ]
    },
    {
     "name": "stdout",
     "output_type": "stream",
     "text": [
      "✅ 1 agences sauvegardées : CAISSE DE CREDIT MUTUEL CHAMPAGNOLE MOREZ LES ROUSSES\n"
     ]
    },
    {
     "name": "stderr",
     "output_type": "stream",
     "text": [
      "\n",
      "\u001b[A"
     ]
    },
    {
     "name": "stdout",
     "output_type": "stream",
     "text": [
      "ℹ️ Pas de nouvelles agences (ou déjà existantes).\n"
     ]
    },
    {
     "name": "stderr",
     "output_type": "stream",
     "text": [
      "\n",
      "\u001b[A"
     ]
    },
    {
     "name": "stdout",
     "output_type": "stream",
     "text": [
      "✅ 1 agences sauvegardées : CAISSE DE CREDIT MUTUEL CHAMPAGNOLE MOREZ LES ROUSSES\n"
     ]
    },
    {
     "name": "stderr",
     "output_type": "stream",
     "text": [
      "\n",
      "\u001b[A"
     ]
    },
    {
     "name": "stdout",
     "output_type": "stream",
     "text": [
      "✅ 2 agences sauvegardées : CAISSE DE CREDIT MUTUEL LONS LE SAUNIER ROUGET DE LISLE, CAISSE DE CREDIT MUTUEL ENSEIGNANT FRANCHE COMTE - CME LONS\n"
     ]
    },
    {
     "name": "stderr",
     "output_type": "stream",
     "text": [
      "\n",
      "\u001b[A"
     ]
    },
    {
     "name": "stdout",
     "output_type": "stream",
     "text": [
      "✅ 1 agences sauvegardées : CAISSE DE CREDIT MUTUEL ARBOIS POLIGNY SALINS\n"
     ]
    },
    {
     "name": "stderr",
     "output_type": "stream",
     "text": [
      "\n",
      "\u001b[A\n",
      "\u001b[A"
     ]
    },
    {
     "name": "stdout",
     "output_type": "stream",
     "text": [
      "✅ 1 agences sauvegardées : CAISSE DE CREDIT MUTUEL DOLE TAVAUX - DAMPARIS\n"
     ]
    },
    {
     "name": "stderr",
     "output_type": "stream",
     "text": [
      "\n",
      "\u001b[A\n",
      "\u001b[A"
     ]
    },
    {
     "name": "stdout",
     "output_type": "stream",
     "text": [
      "✅ 1 agences sauvegardées : CAISSE DE CREDIT MUTUEL DE COSNE SUR LOIRE\n"
     ]
    },
    {
     "name": "stderr",
     "output_type": "stream",
     "text": [
      "\n",
      "\u001b[A"
     ]
    },
    {
     "name": "stdout",
     "output_type": "stream",
     "text": [
      "✅ 1 agences sauvegardées : CAISSE DE CREDIT MUTUEL NEVERS OUEST\n"
     ]
    },
    {
     "name": "stderr",
     "output_type": "stream",
     "text": [
      "\n",
      "\u001b[A\n",
      "\u001b[A"
     ]
    },
    {
     "name": "stdout",
     "output_type": "stream",
     "text": [
      "✅ 1 agences sauvegardées : CAISSE DE CREDIT MUTUEL DE NEVERS - VARENNES VAUZELLES\n"
     ]
    },
    {
     "name": "stderr",
     "output_type": "stream",
     "text": [
      "\n",
      "\u001b[A\n",
      "\u001b[A"
     ]
    },
    {
     "name": "stdout",
     "output_type": "stream",
     "text": [
      "✅ 1 agences sauvegardées : CAISSE DE CREDIT MUTUEL GRAY\n"
     ]
    },
    {
     "name": "stderr",
     "output_type": "stream",
     "text": [
      "\n",
      "\u001b[A"
     ]
    },
    {
     "name": "stdout",
     "output_type": "stream",
     "text": [
      "✅ 1 agences sauvegardées : CAISSE DE CREDIT MUTUEL BETHONCOURT HERICOURT\n"
     ]
    },
    {
     "name": "stderr",
     "output_type": "stream",
     "text": [
      "\n",
      "\u001b[A"
     ]
    },
    {
     "name": "stdout",
     "output_type": "stream",
     "text": [
      "✅ 1 agences sauvegardées : CAISSE DE CREDIT MUTUEL HAUTE SAONE NORD\n"
     ]
    },
    {
     "name": "stderr",
     "output_type": "stream",
     "text": [
      "\n",
      "\u001b[A"
     ]
    },
    {
     "name": "stdout",
     "output_type": "stream",
     "text": [
      "✅ 1 agences sauvegardées : CAISSE DE CREDIT MUTUEL HAUTE SAONE NORD - LUXEUIL LES BAINS\n"
     ]
    },
    {
     "name": "stderr",
     "output_type": "stream",
     "text": [
      "\n",
      "\u001b[A"
     ]
    },
    {
     "name": "stdout",
     "output_type": "stream",
     "text": [
      "✅ 1 agences sauvegardées : CAISSE DE CREDIT MUTUEL BESANCON MONTRAPON MARNAY\n"
     ]
    },
    {
     "name": "stderr",
     "output_type": "stream",
     "text": [
      "\n",
      "\u001b[A"
     ]
    },
    {
     "name": "stdout",
     "output_type": "stream",
     "text": [
      "✅ 1 agences sauvegardées : CAISSE DE CREDIT MUTUEL BESANCON ST CLAUDE - RIOZ\n"
     ]
    },
    {
     "name": "stderr",
     "output_type": "stream",
     "text": [
      "\n",
      "\u001b[A"
     ]
    },
    {
     "name": "stdout",
     "output_type": "stream",
     "text": [
      "✅ 1 agences sauvegardées : CAISSE DE CREDIT MUTUEL HAUTE SAONE NORD - RONCHAMP\n"
     ]
    },
    {
     "name": "stderr",
     "output_type": "stream",
     "text": [
      "\n",
      "\u001b[A"
     ]
    },
    {
     "name": "stdout",
     "output_type": "stream",
     "text": [
      "✅ 2 agences sauvegardées : CAISSE DE CREDIT MUTUEL VESOUL, CAISSE DE CREDIT MUTUEL ENSEIGNANT FRANCHE COMTE - CME VESOUL\n"
     ]
    },
    {
     "name": "stderr",
     "output_type": "stream",
     "text": [
      "\n",
      "\u001b[A\n",
      "\u001b[A"
     ]
    },
    {
     "name": "stdout",
     "output_type": "stream",
     "text": [
      "✅ 1 agences sauvegardées : CAISSE DE CREDIT MUTUEL VESOUL - VILLERSEXEL\n"
     ]
    },
    {
     "name": "stderr",
     "output_type": "stream",
     "text": [
      "\n",
      "\u001b[A\n",
      "\u001b[A"
     ]
    },
    {
     "name": "stdout",
     "output_type": "stream",
     "text": [
      "✅ 1 agences sauvegardées : CAISSE DE CREDIT MUTUEL D AUTUN\n"
     ]
    },
    {
     "name": "stderr",
     "output_type": "stream",
     "text": [
      "\n",
      "\u001b[A"
     ]
    },
    {
     "name": "stdout",
     "output_type": "stream",
     "text": [
      "✅ 1 agences sauvegardées : CAISSE DE CREDIT MUTUEL DE CHAGNY\n"
     ]
    },
    {
     "name": "stderr",
     "output_type": "stream",
     "text": [
      "\n",
      "\u001b[A"
     ]
    },
    {
     "name": "stdout",
     "output_type": "stream",
     "text": [
      "✅ 5 agences sauvegardées : CAISSE DE CREDIT MUTUEL DE CHALON SUR SAONE, CAISSE DE CREDIT MUTUEL ENSEIGNANT SAONE ET LOIRE - CME CHALON, CAISSE DE CREDIT MUTUEL DE CHALON SUR SAONE - CHALON / SAONE-NEPTUNE, CAISSE DE CREDIT MUTUEL PROFESSIONS DE SANTE - CMPS SAONE ET LOIRE, CAISSE DE CREDIT MUTUEL DE CHALON SUR SAONE - CHALON PRO\n"
     ]
    },
    {
     "name": "stderr",
     "output_type": "stream",
     "text": [
      "\n",
      "\u001b[A"
     ]
    },
    {
     "name": "stdout",
     "output_type": "stream",
     "text": [
      "✅ 1 agences sauvegardées : CAISSE DE CREDIT MUTUEL DU MACONNAIS - CHARNAY LES MACON\n"
     ]
    },
    {
     "name": "stderr",
     "output_type": "stream",
     "text": [
      "\n",
      "\u001b[A"
     ]
    },
    {
     "name": "stdout",
     "output_type": "stream",
     "text": [
      "✅ 1 agences sauvegardées : CAISSE DE CREDIT MUTUEL DE CHATENOY LE ROYAL\n"
     ]
    },
    {
     "name": "stderr",
     "output_type": "stream",
     "text": [
      "\n",
      "\u001b[A"
     ]
    },
    {
     "name": "stdout",
     "output_type": "stream",
     "text": [
      "✅ 1 agences sauvegardées : CAISSE DE CREDIT MUTUEL CHAROLAIS BRIONNAIS - DIGOIN\n"
     ]
    },
    {
     "name": "stderr",
     "output_type": "stream",
     "text": [
      "\n",
      "\u001b[A"
     ]
    },
    {
     "name": "stdout",
     "output_type": "stream",
     "text": [
      "✅ 1 agences sauvegardées : CAISSE DE CREDIT MUTUEL DE MONTCEAU LES MINES - GENELARD\n"
     ]
    },
    {
     "name": "stderr",
     "output_type": "stream",
     "text": [
      "\n",
      "\u001b[A"
     ]
    },
    {
     "name": "stdout",
     "output_type": "stream",
     "text": [
      "✅ 1 agences sauvegardées : CAISSE DE CREDIT MUTUEL CHAROLAIS BRIONNAIS - GUEUGNON\n"
     ]
    },
    {
     "name": "stderr",
     "output_type": "stream",
     "text": [
      "\n",
      "\u001b[A"
     ]
    },
    {
     "name": "stdout",
     "output_type": "stream",
     "text": [
      "✅ 2 agences sauvegardées : CAISSE DE CREDIT MUTUEL LE CREUSOT - CREUSOT FOCH, CAISSE DE CREDIT MUTUEL LE CREUSOT - DE CREUSOT JAURES\n"
     ]
    },
    {
     "name": "stderr",
     "output_type": "stream",
     "text": [
      "\n",
      "\u001b[A"
     ]
    },
    {
     "name": "stdout",
     "output_type": "stream",
     "text": [
      "✅ 1 agences sauvegardées : CAISSE DE CREDIT MUTUEL DU LOUHANNAIS\n"
     ]
    },
    {
     "name": "stderr",
     "output_type": "stream",
     "text": [
      "\n",
      "\u001b[A"
     ]
    },
    {
     "name": "stdout",
     "output_type": "stream",
     "text": [
      "✅ 2 agences sauvegardées : CAISSE DE CREDIT MUTUEL DU MACONNAIS, CAISSE DE CREDIT MUTUEL ENSEIGNANT LYON - CME LYON MACON\n"
     ]
    },
    {
     "name": "stderr",
     "output_type": "stream",
     "text": [
      "\n",
      "\u001b[A"
     ]
    },
    {
     "name": "stdout",
     "output_type": "stream",
     "text": [
      "✅ 2 agences sauvegardées : CAISSE DE CREDIT MUTUEL DE MONTCEAU LES MINES, CAISSE DE CREDIT MUTUEL DE MONTCEAU LES MINES - MONTCEAU BOIS DU VERNE\n"
     ]
    },
    {
     "name": "stderr",
     "output_type": "stream",
     "text": [
      "\n",
      "\u001b[A"
     ]
    },
    {
     "name": "stdout",
     "output_type": "stream",
     "text": [
      "✅ 1 agences sauvegardées : CAISSE DE CREDIT MUTUEL DE MONTCHANIN\n"
     ]
    },
    {
     "name": "stderr",
     "output_type": "stream",
     "text": [
      "\n",
      "\u001b[A"
     ]
    },
    {
     "name": "stdout",
     "output_type": "stream",
     "text": [
      "✅ 1 agences sauvegardées : CAISSE DE CREDIT MUTUEL CHAROLAIS BRIONNAIS - PARAY LE MONIAL\n"
     ]
    },
    {
     "name": "stderr",
     "output_type": "stream",
     "text": [
      "\n",
      "\u001b[A"
     ]
    },
    {
     "name": "stdout",
     "output_type": "stream",
     "text": [
      "ℹ️ Pas de nouvelles agences (ou déjà existantes).\n"
     ]
    },
    {
     "name": "stderr",
     "output_type": "stream",
     "text": [
      "\n",
      "\u001b[A\n",
      "\u001b[A"
     ]
    },
    {
     "name": "stdout",
     "output_type": "stream",
     "text": [
      "✅ 1 agences sauvegardées : CAISSE DE CREDIT MUTUEL DU VAL DE SAONE SUD - VERDUN SUR LE DOUBS\n"
     ]
    },
    {
     "name": "stderr",
     "output_type": "stream",
     "text": [
      "\n",
      "\u001b[A\n",
      "\u001b[A"
     ]
    },
    {
     "name": "stdout",
     "output_type": "stream",
     "text": [
      "✅ 2 agences sauvegardées : CAISSE DE CREDIT MUTUEL AUXERRE - LA FONTAINE, CAISSE DE CREDIT MUTUEL AUXERRE - LA CHAINETTE\n"
     ]
    },
    {
     "name": "stderr",
     "output_type": "stream",
     "text": [
      "\n",
      "\u001b[A"
     ]
    },
    {
     "name": "stdout",
     "output_type": "stream",
     "text": [
      "✅ 1 agences sauvegardées : CAISSE DE CREDIT MUTUEL AVALLON\n"
     ]
    },
    {
     "name": "stderr",
     "output_type": "stream",
     "text": [
      "\n",
      "\u001b[A"
     ]
    },
    {
     "name": "stdout",
     "output_type": "stream",
     "text": [
      "✅ 1 agences sauvegardées : CAISSE DE CREDIT MUTUEL TONNERRE-CHABLIS\n"
     ]
    },
    {
     "name": "stderr",
     "output_type": "stream",
     "text": [
      "\n",
      "\u001b[A"
     ]
    },
    {
     "name": "stdout",
     "output_type": "stream",
     "text": [
      "✅ 1 agences sauvegardées : CAISSE DE CREDIT MUTUEL CENTRE YONNE - JOIGNY\n"
     ]
    },
    {
     "name": "stderr",
     "output_type": "stream",
     "text": [
      "\n",
      "\u001b[A"
     ]
    },
    {
     "name": "stdout",
     "output_type": "stream",
     "text": [
      "✅ 1 agences sauvegardées : CAISSE DE CREDIT MUTUEL CENTRE YONNE - MIGENNES\n"
     ]
    },
    {
     "name": "stderr",
     "output_type": "stream",
     "text": [
      "\n",
      "\u001b[A"
     ]
    },
    {
     "name": "stdout",
     "output_type": "stream",
     "text": [
      "✅ 1 agences sauvegardées : CAISSE DE CREDIT MUTUEL DU SENONAIS - DE SENS\n"
     ]
    },
    {
     "name": "stderr",
     "output_type": "stream",
     "text": [
      "\n",
      "\u001b[A"
     ]
    },
    {
     "name": "stdout",
     "output_type": "stream",
     "text": [
      "✅ 1 agences sauvegardées : CAISSE DE CREDIT MUTUEL TONNERRE-CHABLIS\n"
     ]
    },
    {
     "name": "stderr",
     "output_type": "stream",
     "text": [
      "\n",
      "\u001b[A\n",
      "\u001b[A"
     ]
    },
    {
     "name": "stdout",
     "output_type": "stream",
     "text": [
      "✅ 1 agences sauvegardées : CAISSE DE CREDIT MUTUEL CENTRE YONNE - VILLENEUVE SUR YONNE\n"
     ]
    },
    {
     "name": "stderr",
     "output_type": "stream",
     "text": [
      "\n",
      "\u001b[A\n",
      "\u001b[A"
     ]
    },
    {
     "name": "stdout",
     "output_type": "stream",
     "text": [
      "✅ 1 agences sauvegardées : CAISSE DE CREDIT MUTUEL BELFORT SUD\n"
     ]
    },
    {
     "name": "stderr",
     "output_type": "stream",
     "text": [
      "\n",
      "\u001b[A"
     ]
    },
    {
     "name": "stdout",
     "output_type": "stream",
     "text": [
      "✅ 1 agences sauvegardées : CAISSE DE CREDIT MUTUEL ETUPES BEAUCOURT\n"
     ]
    },
    {
     "name": "stderr",
     "output_type": "stream",
     "text": [
      "\n",
      "\u001b[A"
     ]
    },
    {
     "name": "stdout",
     "output_type": "stream",
     "text": [
      "✅ 3 agences sauvegardées : CAISSE DE CREDIT MUTUEL BELFORT VOSGES, CAISSE DE CREDIT MUTUEL BELFORT OUEST, CAISSE DE CREDIT MUTUEL BELFORT CENTRE - CENTRE AFFAIRES\n"
     ]
    },
    {
     "name": "stderr",
     "output_type": "stream",
     "text": [
      "\n",
      "\u001b[A"
     ]
    },
    {
     "name": "stdout",
     "output_type": "stream",
     "text": [
      "✅ 1 agences sauvegardées : CAISSE DE CREDIT MUTUEL BELFORT SUD - DANJOUTIN\n"
     ]
    },
    {
     "name": "stderr",
     "output_type": "stream",
     "text": [
      "\n",
      "\u001b[A"
     ]
    },
    {
     "name": "stdout",
     "output_type": "stream",
     "text": [
      "✅ 1 agences sauvegardées : CAISSE DE CREDIT MUTUEL VALDOIE GIROMAGNY\n"
     ]
    },
    {
     "name": "stderr",
     "output_type": "stream",
     "text": [
      "\n",
      "\u001b[A"
     ]
    },
    {
     "name": "stdout",
     "output_type": "stream",
     "text": [
      "✅ 1 agences sauvegardées : CAISSE DE CREDIT MUTUEL SUD TERRITOIRE - GRANDVILLARS\n"
     ]
    },
    {
     "name": "stderr",
     "output_type": "stream",
     "text": [
      "\n",
      "\u001b[A"
     ]
    },
    {
     "name": "stdout",
     "output_type": "stream",
     "text": [
      "✅ 1 agences sauvegardées : CAISSE DE CREDIT MUTUEL LACHAPELLE SOUS ROUGEMONT\n"
     ]
    },
    {
     "name": "stderr",
     "output_type": "stream",
     "text": [
      "\n",
      "\u001b[A\n",
      "Régions:  17%|█▋        | 2/12 [27:20<2:11:29, 788.96s/it]"
     ]
    },
    {
     "name": "stdout",
     "output_type": "stream",
     "text": [
      "✅ 1 agences sauvegardées : CAISSE DE CREDIT MUTUEL VALDOIE GIROMAGNY\n"
     ]
    },
    {
     "name": "stderr",
     "output_type": "stream",
     "text": [
      "\n",
      "\u001b[A\n",
      "\u001b[A\n",
      "Régions:  25%|██▌       | 3/12 [27:37<1:05:30, 436.69s/it]"
     ]
    },
    {
     "name": "stdout",
     "output_type": "stream",
     "text": [
      "✅ 1 agences sauvegardées : BANQUE EUROPEENNE DU CREDIT MUTUEL ANGERS - BECM RENNES\n"
     ]
    },
    {
     "name": "stderr",
     "output_type": "stream",
     "text": [
      "\n",
      "\u001b[A\n",
      "\u001b[A"
     ]
    },
    {
     "name": "stdout",
     "output_type": "stream",
     "text": [
      "✅ 3 agences sauvegardées : CAISSE DE CREDIT MUTUEL BOURGES ST DOULCHARD - MARRONNIERS, CAISSE DE CREDIT MUTUEL DE BOURGES AURON - ST GERMAIN, CAISSE DE CREDIT MUTUEL DE BOURGES AURON - ST GERMAIN - ST GERMAIN\n"
     ]
    },
    {
     "name": "stderr",
     "output_type": "stream",
     "text": [
      "\n",
      "\u001b[A\n",
      "\u001b[A"
     ]
    },
    {
     "name": "stdout",
     "output_type": "stream",
     "text": [
      "✅ 1 agences sauvegardées : CAISSE DE CREDIT MUTUEL DE VIERZON\n"
     ]
    },
    {
     "name": "stderr",
     "output_type": "stream",
     "text": [
      "\n",
      "\u001b[A\n",
      "\u001b[A"
     ]
    },
    {
     "name": "stdout",
     "output_type": "stream",
     "text": [
      "✅ 1 agences sauvegardées : CAISSE DE CREDIT MUTUEL D'AUTHON DU PERCHE\n"
     ]
    },
    {
     "name": "stderr",
     "output_type": "stream",
     "text": [
      "\n",
      "\u001b[A"
     ]
    },
    {
     "name": "stdout",
     "output_type": "stream",
     "text": [
      "✅ 1 agences sauvegardées : CAISSE DE CREDIT MUTUEL D'ILLIERS COMBRAY - BAILLEAU LE PIN\n"
     ]
    },
    {
     "name": "stderr",
     "output_type": "stream",
     "text": [
      "\n",
      "\u001b[A"
     ]
    },
    {
     "name": "stdout",
     "output_type": "stream",
     "text": [
      "✅ 1 agences sauvegardées : CAISSE DE CREDIT MUTUEL DE BONNEVAL\n"
     ]
    },
    {
     "name": "stderr",
     "output_type": "stream",
     "text": [
      "\n",
      "\u001b[A"
     ]
    },
    {
     "name": "stdout",
     "output_type": "stream",
     "text": [
      "✅ 1 agences sauvegardées : CAISSE DE CREDIT MUTUEL DE VERNEUIL BREZOLLES\n"
     ]
    },
    {
     "name": "stderr",
     "output_type": "stream",
     "text": [
      "\n",
      "\u001b[A"
     ]
    },
    {
     "name": "stdout",
     "output_type": "stream",
     "text": [
      "✅ 1 agences sauvegardées : CAISSE DE CREDIT MUTUEL DE BROU\n"
     ]
    },
    {
     "name": "stderr",
     "output_type": "stream",
     "text": [
      "\n",
      "\u001b[A"
     ]
    },
    {
     "name": "stdout",
     "output_type": "stream",
     "text": [
      "✅ 2 agences sauvegardées : CAISSE DE CREDIT MUTUEL DE CHARTRES, CAISSE DE CREDIT MUTUEL CHARTRES MADELEINE\n"
     ]
    },
    {
     "name": "stderr",
     "output_type": "stream",
     "text": [
      "\n",
      "\u001b[A"
     ]
    },
    {
     "name": "stdout",
     "output_type": "stream",
     "text": [
      "✅ 1 agences sauvegardées : CAISSE DE CREDIT MUTUEL DE CHATEAUDUN\n"
     ]
    },
    {
     "name": "stderr",
     "output_type": "stream",
     "text": [
      "\n",
      "\u001b[A"
     ]
    },
    {
     "name": "stdout",
     "output_type": "stream",
     "text": [
      "✅ 1 agences sauvegardées : CAISSE DE CREDIT MUTUEL CHATEAUNEUF EN THYMERAIS - CHATEAUNEUF EN THYM.\n"
     ]
    },
    {
     "name": "stderr",
     "output_type": "stream",
     "text": [
      "\n",
      "\u001b[A"
     ]
    },
    {
     "name": "stdout",
     "output_type": "stream",
     "text": [
      "✅ 1 agences sauvegardées : CAISSE DE CREDIT MUTUEL DE CLOYES\n"
     ]
    },
    {
     "name": "stderr",
     "output_type": "stream",
     "text": [
      "\n",
      "\u001b[A"
     ]
    },
    {
     "name": "stdout",
     "output_type": "stream",
     "text": [
      "✅ 1 agences sauvegardées : CAISSE DE CREDIT MUTUEL DE COURVILLE\n"
     ]
    },
    {
     "name": "stderr",
     "output_type": "stream",
     "text": [
      "\n",
      "\u001b[A"
     ]
    },
    {
     "name": "stdout",
     "output_type": "stream",
     "text": [
      "✅ 1 agences sauvegardées : CAISSE DE CREDIT MUTUEL D'AUNEAU - GALLARDON\n"
     ]
    },
    {
     "name": "stderr",
     "output_type": "stream",
     "text": [
      "\n",
      "\u001b[A"
     ]
    },
    {
     "name": "stdout",
     "output_type": "stream",
     "text": [
      "✅ 1 agences sauvegardées : BANQUE EUROPEENNE DU CREDIT MUTUEL CHARTRES ENTREPRISE - BECM\n"
     ]
    },
    {
     "name": "stderr",
     "output_type": "stream",
     "text": [
      "\n",
      "\u001b[A"
     ]
    },
    {
     "name": "stdout",
     "output_type": "stream",
     "text": [
      "✅ 1 agences sauvegardées : CAISSE DE CREDIT MUTUEL D'ILLIERS COMBRAY\n"
     ]
    },
    {
     "name": "stderr",
     "output_type": "stream",
     "text": [
      "\n",
      "\u001b[A"
     ]
    },
    {
     "name": "stdout",
     "output_type": "stream",
     "text": [
      "✅ 1 agences sauvegardées : CAISSE DE CREDIT MUTUEL DE JANVILLE\n"
     ]
    },
    {
     "name": "stderr",
     "output_type": "stream",
     "text": [
      "\n",
      "\u001b[A"
     ]
    },
    {
     "name": "stdout",
     "output_type": "stream",
     "text": [
      "✅ 1 agences sauvegardées : CAISSE DE CREDIT MUTUEL DE LA LOUPE\n"
     ]
    },
    {
     "name": "stderr",
     "output_type": "stream",
     "text": [
      "\n",
      "\u001b[A"
     ]
    },
    {
     "name": "stdout",
     "output_type": "stream",
     "text": [
      "✅ 1 agences sauvegardées : CAISSE DE CREDIT MUTUEL DE LEVES\n"
     ]
    },
    {
     "name": "stderr",
     "output_type": "stream",
     "text": [
      "\n",
      "\u001b[A"
     ]
    },
    {
     "name": "stdout",
     "output_type": "stream",
     "text": [
      "✅ 1 agences sauvegardées : CAISSE DE CREDIT MUTUEL LUCE MAINVILLIERS\n"
     ]
    },
    {
     "name": "stderr",
     "output_type": "stream",
     "text": [
      "\n",
      "\u001b[A"
     ]
    },
    {
     "name": "stdout",
     "output_type": "stream",
     "text": [
      "✅ 2 agences sauvegardées : CAISSE DE CREDIT MUTUEL DE LUISANT, CAISSE DE CREDIT MUTUEL ENSEIGNANT CENTRE - CME CHARTRES\n"
     ]
    },
    {
     "name": "stderr",
     "output_type": "stream",
     "text": [
      "\n",
      "\u001b[A"
     ]
    },
    {
     "name": "stdout",
     "output_type": "stream",
     "text": [
      "✅ 1 agences sauvegardées : CAISSE DE CREDIT MUTUEL D'EPERNON - MAINTENON\n"
     ]
    },
    {
     "name": "stderr",
     "output_type": "stream",
     "text": [
      "\n",
      "\u001b[A"
     ]
    },
    {
     "name": "stdout",
     "output_type": "stream",
     "text": [
      "✅ 1 agences sauvegardées : CAISSE DE CREDIT MUTUEL LUCE MAINVILLIERS\n"
     ]
    },
    {
     "name": "stderr",
     "output_type": "stream",
     "text": [
      "\n",
      "\u001b[A"
     ]
    },
    {
     "name": "stdout",
     "output_type": "stream",
     "text": [
      "✅ 1 agences sauvegardées : CAISSE DE CREDIT MUTUEL DE NOGENT LE ROI\n"
     ]
    },
    {
     "name": "stderr",
     "output_type": "stream",
     "text": [
      "\n",
      "\u001b[A"
     ]
    },
    {
     "name": "stdout",
     "output_type": "stream",
     "text": [
      "✅ 1 agences sauvegardées : CAISSE DE CREDIT MUTUEL DE NOGENT LE ROTROU\n"
     ]
    },
    {
     "name": "stderr",
     "output_type": "stream",
     "text": [
      "\n",
      "\u001b[A"
     ]
    },
    {
     "name": "stdout",
     "output_type": "stream",
     "text": [
      "✅ 1 agences sauvegardées : CAISSE DE CREDIT MUTUEL DE PATAY - ORGERES EN BEAUCE\n"
     ]
    },
    {
     "name": "stderr",
     "output_type": "stream",
     "text": [
      "\n",
      "\u001b[A"
     ]
    },
    {
     "name": "stdout",
     "output_type": "stream",
     "text": [
      "✅ 1 agences sauvegardées : CAISSE DE CREDIT MUTUEL DE CLOYES - ARROU\n"
     ]
    },
    {
     "name": "stderr",
     "output_type": "stream",
     "text": [
      "\n",
      "\u001b[A\n",
      "\u001b[A"
     ]
    },
    {
     "name": "stdout",
     "output_type": "stream",
     "text": [
      "✅ 1 agences sauvegardées : CAISSE DE CREDIT MUTUEL DE VERNOUILLET\n"
     ]
    },
    {
     "name": "stderr",
     "output_type": "stream",
     "text": [
      "\n",
      "\u001b[A\n",
      "\u001b[A"
     ]
    },
    {
     "name": "stdout",
     "output_type": "stream",
     "text": [
      "✅ 1 agences sauvegardées : CAISSE DE CREDIT MUTUEL DE CHATEAUROUX\n"
     ]
    },
    {
     "name": "stderr",
     "output_type": "stream",
     "text": [
      "\n",
      "\u001b[A\n",
      "\u001b[A"
     ]
    },
    {
     "name": "stdout",
     "output_type": "stream",
     "text": [
      "✅ 1 agences sauvegardées : CAISSE DE CREDIT MUTUEL D'ISSOUDUN\n"
     ]
    },
    {
     "name": "stderr",
     "output_type": "stream",
     "text": [
      "\n",
      "\u001b[A\n",
      "\u001b[A"
     ]
    },
    {
     "name": "stdout",
     "output_type": "stream",
     "text": [
      "✅ 1 agences sauvegardées : CAISSE DE CREDIT MUTUEL D'AMBOISE MONTLOUIS\n"
     ]
    },
    {
     "name": "stderr",
     "output_type": "stream",
     "text": [
      "\n",
      "\u001b[A"
     ]
    },
    {
     "name": "stdout",
     "output_type": "stream",
     "text": [
      "✅ 1 agences sauvegardées : CAISSE DE CREDIT MUTUEL BALLAN MIRE\n"
     ]
    },
    {
     "name": "stderr",
     "output_type": "stream",
     "text": [
      "\n",
      "\u001b[A"
     ]
    },
    {
     "name": "stdout",
     "output_type": "stream",
     "text": [
      "✅ 1 agences sauvegardées : CAISSE DE CREDIT MUTUEL DE BOURGUEIL\n"
     ]
    },
    {
     "name": "stderr",
     "output_type": "stream",
     "text": [
      "\n",
      "\u001b[A"
     ]
    },
    {
     "name": "stdout",
     "output_type": "stream",
     "text": [
      "✅ 1 agences sauvegardées : CAISSE DE CREDIT MUTUEL TOURS VAL SUD EST - CHAMBRAY LES TOURS\n"
     ]
    },
    {
     "name": "stderr",
     "output_type": "stream",
     "text": [
      "\n",
      "\u001b[A"
     ]
    },
    {
     "name": "stdout",
     "output_type": "stream",
     "text": [
      "✅ 1 agences sauvegardées : CAISSE DE CREDIT MUTUEL DE CHATEAU RENAULT\n"
     ]
    },
    {
     "name": "stderr",
     "output_type": "stream",
     "text": [
      "\n",
      "\u001b[A"
     ]
    },
    {
     "name": "stdout",
     "output_type": "stream",
     "text": [
      "✅ 1 agences sauvegardées : CAISSE DE CREDIT MUTUEL DE CHINON\n"
     ]
    },
    {
     "name": "stderr",
     "output_type": "stream",
     "text": [
      "\n",
      "\u001b[A"
     ]
    },
    {
     "name": "stdout",
     "output_type": "stream",
     "text": [
      "✅ 1 agences sauvegardées : CAISSE DE CREDIT MUTUEL FONDETTES\n"
     ]
    },
    {
     "name": "stderr",
     "output_type": "stream",
     "text": [
      "\n",
      "\u001b[A"
     ]
    },
    {
     "name": "stdout",
     "output_type": "stream",
     "text": [
      "✅ 1 agences sauvegardées : CAISSE DE CREDIT MUTUEL DE JOUE LES TOURS\n"
     ]
    },
    {
     "name": "stderr",
     "output_type": "stream",
     "text": [
      "\n",
      "\u001b[A"
     ]
    },
    {
     "name": "stdout",
     "output_type": "stream",
     "text": [
      "✅ 1 agences sauvegardées : CAISSE DE CREDIT MUTUEL DE LA RICHE\n"
     ]
    },
    {
     "name": "stderr",
     "output_type": "stream",
     "text": [
      "\n",
      "\u001b[A"
     ]
    },
    {
     "name": "stdout",
     "output_type": "stream",
     "text": [
      "✅ 1 agences sauvegardées : CAISSE DE CREDIT MUTUEL DE LOCHES\n"
     ]
    },
    {
     "name": "stderr",
     "output_type": "stream",
     "text": [
      "\n",
      "\u001b[A"
     ]
    },
    {
     "name": "stdout",
     "output_type": "stream",
     "text": [
      "✅ 1 agences sauvegardées : CAISSE DE CREDIT MUTUEL D'AMBOISE MONTLOUIS - MONTLOUIS SUR LOIRE\n"
     ]
    },
    {
     "name": "stderr",
     "output_type": "stream",
     "text": [
      "\n",
      "\u001b[A\n",
      "\u001b[A"
     ]
    },
    {
     "name": "stdout",
     "output_type": "stream",
     "text": [
      "✅ 3 agences sauvegardées : CAISSE DE CREDIT MUTUEL DE TOURS GRAMMONT, CAISSE DE CREDIT MUTUEL DE TOURS LES HALLES - HALLES, BANQUE EUROPEENNE DU CREDIT MUTUEL ORLEANS  ENTREPRISE - TOURS ENTREPRISE\n"
     ]
    },
    {
     "name": "stderr",
     "output_type": "stream",
     "text": [
      "\n",
      "\u001b[A\n",
      "\u001b[A"
     ]
    },
    {
     "name": "stdout",
     "output_type": "stream",
     "text": [
      "✅ 1 agences sauvegardées : CAISSE DE CREDIT MUTUEL D'OUCQUES - OUZOUER LE MARCHE\n"
     ]
    },
    {
     "name": "stderr",
     "output_type": "stream",
     "text": [
      "\n",
      "\u001b[A"
     ]
    },
    {
     "name": "stdout",
     "output_type": "stream",
     "text": [
      "✅ 2 agences sauvegardées : CAISSE DE CREDIT MUTUEL DE BLOIS - ST GERVAIS, CAISSE DE CREDIT MUTUEL DE BLOIS - ST GERVAIS - BIBLIOTHEQUE\n"
     ]
    },
    {
     "name": "stderr",
     "output_type": "stream",
     "text": [
      "\n",
      "\u001b[A"
     ]
    },
    {
     "name": "stdout",
     "output_type": "stream",
     "text": [
      "✅ 1 agences sauvegardées : CAISSE DE CREDIT MUTUEL DE VENDOME - MONDOUBLEAU\n"
     ]
    },
    {
     "name": "stderr",
     "output_type": "stream",
     "text": [
      "\n",
      "\u001b[A"
     ]
    },
    {
     "name": "stdout",
     "output_type": "stream",
     "text": [
      "✅ 1 agences sauvegardées : CAISSE DE CREDIT MUTUEL DE MONTOIRE\n"
     ]
    },
    {
     "name": "stderr",
     "output_type": "stream",
     "text": [
      "\n",
      "\u001b[A"
     ]
    },
    {
     "name": "stdout",
     "output_type": "stream",
     "text": [
      "✅ 1 agences sauvegardées : CAISSE DE CREDIT MUTUEL DE CONTRES - MONTRICHARD\n"
     ]
    },
    {
     "name": "stderr",
     "output_type": "stream",
     "text": [
      "\n",
      "\u001b[A"
     ]
    },
    {
     "name": "stdout",
     "output_type": "stream",
     "text": [
      "✅ 1 agences sauvegardées : CAISSE DE CREDIT MUTUEL D'OUCQUES\n"
     ]
    },
    {
     "name": "stderr",
     "output_type": "stream",
     "text": [
      "\n",
      "\u001b[A"
     ]
    },
    {
     "name": "stdout",
     "output_type": "stream",
     "text": [
      "✅ 1 agences sauvegardées : CAISSE DE CREDIT MUTUEL DE ROMORANTIN LANTHENAY\n"
     ]
    },
    {
     "name": "stderr",
     "output_type": "stream",
     "text": [
      "\n",
      "\u001b[A\n",
      "\u001b[A"
     ]
    },
    {
     "name": "stdout",
     "output_type": "stream",
     "text": [
      "✅ 1 agences sauvegardées : CAISSE DE CREDIT MUTUEL DE VENDOME - MONDOUBLEAU - -MONDOUBLEAU\n"
     ]
    },
    {
     "name": "stderr",
     "output_type": "stream",
     "text": [
      "\n",
      "\u001b[A\n",
      "\u001b[A"
     ]
    },
    {
     "name": "stdout",
     "output_type": "stream",
     "text": [
      "✅ 1 agences sauvegardées : CAISSE DE CREDIT MUTUEL DE MONTARGIS\n"
     ]
    },
    {
     "name": "stderr",
     "output_type": "stream",
     "text": [
      "\n",
      "\u001b[A"
     ]
    },
    {
     "name": "stdout",
     "output_type": "stream",
     "text": [
      "✅ 1 agences sauvegardées : CAISSE DE CREDIT MUTUEL DE JANVILLE - ARTENAY\n"
     ]
    },
    {
     "name": "stderr",
     "output_type": "stream",
     "text": [
      "\n",
      "\u001b[A"
     ]
    },
    {
     "name": "stdout",
     "output_type": "stream",
     "text": [
      "✅ 1 agences sauvegardées : CAISSE DE CREDIT MUTUEL DE BEAUGENCY\n"
     ]
    },
    {
     "name": "stderr",
     "output_type": "stream",
     "text": [
      "\n",
      "\u001b[A"
     ]
    },
    {
     "name": "stdout",
     "output_type": "stream",
     "text": [
      "✅ 1 agences sauvegardées : CAISSE DE CREDIT MUTUEL DE CHATEAUNEUF SUR LOIRE - CHATEAUNEUF S/ LOIRE\n"
     ]
    },
    {
     "name": "stderr",
     "output_type": "stream",
     "text": [
      "\n",
      "\u001b[A"
     ]
    },
    {
     "name": "stdout",
     "output_type": "stream",
     "text": [
      "✅ 1 agences sauvegardées : CAISSE DE CREDIT MUTUEL DE SAINT JEAN DE BRAYE - CHECY\n"
     ]
    },
    {
     "name": "stderr",
     "output_type": "stream",
     "text": [
      "\n",
      "\u001b[A"
     ]
    },
    {
     "name": "stdout",
     "output_type": "stream",
     "text": [
      "✅ 1 agences sauvegardées : CAISSE DE CREDIT MUTUEL DE FLEURY LES AUBRAIS\n"
     ]
    },
    {
     "name": "stderr",
     "output_type": "stream",
     "text": [
      "\n",
      "\u001b[A"
     ]
    },
    {
     "name": "stdout",
     "output_type": "stream",
     "text": [
      "✅ 1 agences sauvegardées : CAISSE DE CREDIT MUTUEL DE GIEN\n"
     ]
    },
    {
     "name": "stderr",
     "output_type": "stream",
     "text": [
      "\n",
      "\u001b[A"
     ]
    },
    {
     "name": "stdout",
     "output_type": "stream",
     "text": [
      "✅ 1 agences sauvegardées : CAISSE DE CREDIT MUTUEL DE ST PRYVE ST MESMIN - INGRE\n"
     ]
    },
    {
     "name": "stderr",
     "output_type": "stream",
     "text": [
      "\n",
      "\u001b[A"
     ]
    },
    {
     "name": "stdout",
     "output_type": "stream",
     "text": [
      "✅ 1 agences sauvegardées : CAISSE DE CREDIT MUTUEL DE PITHIVIERS - MALESHERBES\n"
     ]
    },
    {
     "name": "stderr",
     "output_type": "stream",
     "text": [
      "\n",
      "\u001b[A"
     ]
    },
    {
     "name": "stdout",
     "output_type": "stream",
     "text": [
      "✅ 1 agences sauvegardées : CAISSE DE CREDIT MUTUEL DE MEUNG SUR LOIRE\n"
     ]
    },
    {
     "name": "stderr",
     "output_type": "stream",
     "text": [
      "\n",
      "\u001b[A"
     ]
    },
    {
     "name": "stdout",
     "output_type": "stream",
     "text": [
      "✅ 1 agences sauvegardées : CAISSE DE CREDIT MUTUEL DE NEUVILLE AUX BOIS\n"
     ]
    },
    {
     "name": "stderr",
     "output_type": "stream",
     "text": [
      "\n",
      "\u001b[A"
     ]
    },
    {
     "name": "stdout",
     "output_type": "stream",
     "text": [
      "✅ 2 agences sauvegardées : CAISSE DE CREDIT MUTUEL D'OLIVET, CAISSE DE CREDIT MUTUEL LA FERTE - UNIVERSITE - ORLEANS UNIVERSITE\n"
     ]
    },
    {
     "name": "stderr",
     "output_type": "stream",
     "text": [
      "\n",
      "\u001b[A"
     ]
    },
    {
     "name": "stdout",
     "output_type": "stream",
     "text": [
      "✅ 4 agences sauvegardées : CAISSE DE CREDIT MUTUEL ENSEIGNANT CENTRE, CAISSE DE CREDIT MUTUEL D'ORLEANS BANNIER, CAISSE DE CREDIT MUTUEL D'ORLEANS CHATELET, CAISSE DE CREDIT MUTUEL DE ST PRYVE ST MESMIN - ORLEANS MADELEINE\n"
     ]
    },
    {
     "name": "stderr",
     "output_type": "stream",
     "text": [
      "\n",
      "\u001b[A"
     ]
    },
    {
     "name": "stdout",
     "output_type": "stream",
     "text": [
      "✅ 1 agences sauvegardées : CAISSE DE CREDIT MUTUEL DE PATAY\n"
     ]
    },
    {
     "name": "stderr",
     "output_type": "stream",
     "text": [
      "\n",
      "\u001b[A"
     ]
    },
    {
     "name": "stdout",
     "output_type": "stream",
     "text": [
      "✅ 1 agences sauvegardées : CAISSE DE CREDIT MUTUEL DE PITHIVIERS\n"
     ]
    },
    {
     "name": "stderr",
     "output_type": "stream",
     "text": [
      "\n",
      "\u001b[A"
     ]
    },
    {
     "name": "stdout",
     "output_type": "stream",
     "text": [
      "✅ 1 agences sauvegardées : CAISSE DE CREDIT MUTUEL D'ORLEANS LES AYDES\n"
     ]
    },
    {
     "name": "stderr",
     "output_type": "stream",
     "text": [
      "\n",
      "\u001b[A\n",
      "Régions:  33%|███▎      | 4/12 [34:40<57:31, 431.43s/it]  "
     ]
    },
    {
     "name": "stdout",
     "output_type": "stream",
     "text": [
      "✅ 1 agences sauvegardées : CAISSE DE CREDIT MUTUEL DE CHATEAUNEUF SUR LOIRE - SULLY SUR LOIRE\n"
     ]
    },
    {
     "name": "stderr",
     "output_type": "stream",
     "text": [
      "\n",
      "\u001b[A\n",
      "\u001b[A"
     ]
    },
    {
     "name": "stdout",
     "output_type": "stream",
     "text": [
      "✅ 4 agences sauvegardées : ESPACE CONSEILS PRO CHARLEVILLE-MEZIERES - ECP CHARLEVILLE-MEZIERES, CAISSE DE CREDIT MUTUEL ENSEIGNANT ARDENNES - CME ARDENNES, CAISSE DE CREDIT MUTUEL CHARLEVILLE - CHARLEVILLE MOHON, CAISSE DE CREDIT MUTUEL CHARLEVILLE - MEZIERES\n"
     ]
    },
    {
     "name": "stderr",
     "output_type": "stream",
     "text": [
      "\n",
      "\u001b[A"
     ]
    },
    {
     "name": "stdout",
     "output_type": "stream",
     "text": [
      "✅ 1 agences sauvegardées : CAISSE DE CREDIT MUTUEL REVIN - GIVET\n"
     ]
    },
    {
     "name": "stderr",
     "output_type": "stream",
     "text": [
      "\n",
      "\u001b[A"
     ]
    },
    {
     "name": "stdout",
     "output_type": "stream",
     "text": [
      "✅ 1 agences sauvegardées : CAISSE DE CREDIT MUTUEL RETHEL\n"
     ]
    },
    {
     "name": "stderr",
     "output_type": "stream",
     "text": [
      "\n",
      "\u001b[A"
     ]
    },
    {
     "name": "stdout",
     "output_type": "stream",
     "text": [
      "✅ 1 agences sauvegardées : CAISSE DE CREDIT MUTUEL REVIN\n"
     ]
    },
    {
     "name": "stderr",
     "output_type": "stream",
     "text": [
      "\n",
      "\u001b[A"
     ]
    },
    {
     "name": "stdout",
     "output_type": "stream",
     "text": [
      "✅ 1 agences sauvegardées : CAISSE DE CREDIT MUTUEL SEDAN\n"
     ]
    },
    {
     "name": "stderr",
     "output_type": "stream",
     "text": [
      "\n",
      "\u001b[A\n",
      "\u001b[A"
     ]
    },
    {
     "name": "stdout",
     "output_type": "stream",
     "text": [
      "✅ 1 agences sauvegardées : CAISSE DE CREDIT MUTUEL VOUZIERS\n"
     ]
    },
    {
     "name": "stderr",
     "output_type": "stream",
     "text": [
      "\n",
      "\u001b[A\n",
      "\u001b[A"
     ]
    },
    {
     "name": "stdout",
     "output_type": "stream",
     "text": [
      "✅ 1 agences sauvegardées : CAISSE DE CREDIT MUTUEL DE BRIENNE LE CHATEAU - ARCIS SUR AUBE\n"
     ]
    },
    {
     "name": "stderr",
     "output_type": "stream",
     "text": [
      "\n",
      "\u001b[A"
     ]
    },
    {
     "name": "stdout",
     "output_type": "stream",
     "text": [
      "✅ 1 agences sauvegardées : CAISSE DE CREDIT MUTUEL DE LA COTE DES BAR - DE BAR SUR AUBE\n"
     ]
    },
    {
     "name": "stderr",
     "output_type": "stream",
     "text": [
      "\n",
      "\u001b[A"
     ]
    },
    {
     "name": "stdout",
     "output_type": "stream",
     "text": [
      "✅ 1 agences sauvegardées : CAISSE DE CREDIT MUTUEL DE LA COTE DES BAR - BAR SUR SEINE\n"
     ]
    },
    {
     "name": "stderr",
     "output_type": "stream",
     "text": [
      "\n",
      "\u001b[A"
     ]
    },
    {
     "name": "stdout",
     "output_type": "stream",
     "text": [
      "✅ 1 agences sauvegardées : CAISSE DE CREDIT MUTUEL DE BRIENNE LE CHATEAU\n"
     ]
    },
    {
     "name": "stderr",
     "output_type": "stream",
     "text": [
      "\n",
      "\u001b[A"
     ]
    },
    {
     "name": "stdout",
     "output_type": "stream",
     "text": [
      "✅ 1 agences sauvegardées : CAISSE DE CREDIT MUTUEL DE ROMILLY SUR SEINE\n"
     ]
    },
    {
     "name": "stderr",
     "output_type": "stream",
     "text": [
      "\n",
      "\u001b[A\n",
      "\u001b[A"
     ]
    },
    {
     "name": "stdout",
     "output_type": "stream",
     "text": [
      "✅ 1 agences sauvegardées : CAISSE DE CREDIT MUTUEL DE TROYES\n"
     ]
    },
    {
     "name": "stderr",
     "output_type": "stream",
     "text": [
      "\n",
      "\u001b[A\n",
      "\u001b[A"
     ]
    },
    {
     "name": "stdout",
     "output_type": "stream",
     "text": [
      "✅ 2 agences sauvegardées : ESPACE CONSEILS PRO CHALONS - ECP CHALONS, CAISSE DE CREDIT MUTUEL CHALONS EN CHAMPAGNE\n"
     ]
    },
    {
     "name": "stderr",
     "output_type": "stream",
     "text": [
      "\n",
      "\u001b[A"
     ]
    },
    {
     "name": "stdout",
     "output_type": "stream",
     "text": [
      "✅ 1 agences sauvegardées : CAISSE DE CREDIT MUTUEL EPERNAY\n"
     ]
    },
    {
     "name": "stderr",
     "output_type": "stream",
     "text": [
      "\n",
      "\u001b[A"
     ]
    },
    {
     "name": "stdout",
     "output_type": "stream",
     "text": [
      "✅ 7 agences sauvegardées : ESPACE CONSEILS PRO REIMS - ECP, CAISSE DE CREDIT MUTUEL ENSEIGNANT MARNE - CME MARNE, CAISSE DE CREDIT MUTUEL REIMS D ERLON, CAISSE DE CREDIT MUTUEL REIMS SAINT REMI, CAISSE DE CREDIT MUTUEL REIMS D ERLON - SAINT THOMAS, CAISSE DE CREDIT MUTUEL REIMS SAINT REMI - EUROPE, CAISSE DE CREDIT MUTUEL REIMS D ERLON - LA NEUVILLETTE\n"
     ]
    },
    {
     "name": "stderr",
     "output_type": "stream",
     "text": [
      "\n",
      "\u001b[A"
     ]
    },
    {
     "name": "stdout",
     "output_type": "stream",
     "text": [
      "✅ 1 agences sauvegardées : CAISSE DE CREDIT MUTUEL REIMS SAINT REMI - TINQUEUX\n"
     ]
    },
    {
     "name": "stderr",
     "output_type": "stream",
     "text": [
      "\n",
      "\u001b[A\n",
      "\u001b[A"
     ]
    },
    {
     "name": "stdout",
     "output_type": "stream",
     "text": [
      "✅ 1 agences sauvegardées : CAISSE DE CREDIT MUTUEL VITRY LE FRANCOIS\n"
     ]
    },
    {
     "name": "stderr",
     "output_type": "stream",
     "text": [
      "\n",
      "\u001b[A\n",
      "\u001b[A\n",
      "\u001b[A"
     ]
    },
    {
     "name": "stdout",
     "output_type": "stream",
     "text": [
      "✅ 1 agences sauvegardées : CAISSE DE CREDIT MUTUEL DE LANGRES\n"
     ]
    },
    {
     "name": "stderr",
     "output_type": "stream",
     "text": [
      "\n",
      "\u001b[A\n",
      "\u001b[A"
     ]
    },
    {
     "name": "stdout",
     "output_type": "stream",
     "text": [
      "✅ 1 agences sauvegardées : CAISSE DE CREDIT MUTUEL PORTE DES VOSGES - BACCARAT\n"
     ]
    },
    {
     "name": "stderr",
     "output_type": "stream",
     "text": [
      "\n",
      "\u001b[A"
     ]
    },
    {
     "name": "stdout",
     "output_type": "stream",
     "text": [
      "✅ 1 agences sauvegardées : CAISSE DE CREDIT MUTUEL POMPEY CHAMPIGNEULLES\n"
     ]
    },
    {
     "name": "stderr",
     "output_type": "stream",
     "text": [
      "\n",
      "\u001b[A"
     ]
    },
    {
     "name": "stdout",
     "output_type": "stream",
     "text": [
      "✅ 1 agences sauvegardées : CAISSE DE CREDIT MUTUEL DIEULOUARD\n"
     ]
    },
    {
     "name": "stderr",
     "output_type": "stream",
     "text": [
      "\n",
      "\u001b[A"
     ]
    },
    {
     "name": "stdout",
     "output_type": "stream",
     "text": [
      "✅ 1 agences sauvegardées : CAISSE DE CREDIT MUTUEL DU VAL DE MEURTHE\n"
     ]
    },
    {
     "name": "stderr",
     "output_type": "stream",
     "text": [
      "\n",
      "\u001b[A"
     ]
    },
    {
     "name": "stdout",
     "output_type": "stream",
     "text": [
      "✅ 1 agences sauvegardées : CAISSE DE CREDIT MUTUEL SAINT MAX ESSEY LES NANCY\n"
     ]
    },
    {
     "name": "stderr",
     "output_type": "stream",
     "text": [
      "\n",
      "\u001b[A"
     ]
    },
    {
     "name": "stdout",
     "output_type": "stream",
     "text": [
      "✅ 1 agences sauvegardées : CAISSE DE CREDIT MUTUEL DES HAUTS DE LORRAINE\n"
     ]
    },
    {
     "name": "stderr",
     "output_type": "stream",
     "text": [
      "\n",
      "\u001b[A"
     ]
    },
    {
     "name": "stdout",
     "output_type": "stream",
     "text": [
      "✅ 1 agences sauvegardées : CAISSE DE CREDIT MUTUEL NANCY SUD - NANCY SUD - JARVILLE\n"
     ]
    },
    {
     "name": "stderr",
     "output_type": "stream",
     "text": [
      "\n",
      "\u001b[A"
     ]
    },
    {
     "name": "stdout",
     "output_type": "stream",
     "text": [
      "✅ 1 agences sauvegardées : CAISSE DE CREDIT MUTUEL AUMETZ LANDRES\n"
     ]
    },
    {
     "name": "stderr",
     "output_type": "stream",
     "text": [
      "\n",
      "\u001b[A"
     ]
    },
    {
     "name": "stdout",
     "output_type": "stream",
     "text": [
      "✅ 1 agences sauvegardées : CAISSE DE CREDIT MUTUEL LIVERDUN\n"
     ]
    },
    {
     "name": "stderr",
     "output_type": "stream",
     "text": [
      "\n",
      "\u001b[A"
     ]
    },
    {
     "name": "stdout",
     "output_type": "stream",
     "text": [
      "✅ 1 agences sauvegardées : CAISSE DE CREDIT MUTUEL LONGWY\n"
     ]
    },
    {
     "name": "stderr",
     "output_type": "stream",
     "text": [
      "\n",
      "\u001b[A"
     ]
    },
    {
     "name": "stdout",
     "output_type": "stream",
     "text": [
      "✅ 1 agences sauvegardées : CAISSE DE CREDIT MUTUEL NEUVES MAISONS LUDRES\n"
     ]
    },
    {
     "name": "stderr",
     "output_type": "stream",
     "text": [
      "\n",
      "\u001b[A"
     ]
    },
    {
     "name": "stdout",
     "output_type": "stream",
     "text": [
      "✅ 1 agences sauvegardées : CAISSE DE CREDIT MUTUEL LUNEVILLE\n"
     ]
    },
    {
     "name": "stderr",
     "output_type": "stream",
     "text": [
      "\n",
      "\u001b[A"
     ]
    },
    {
     "name": "stdout",
     "output_type": "stream",
     "text": [
      "✅ 4 agences sauvegardées : CAISSE DE CREDIT MUTUEL NANCY TROIS MAISONS, CAISSE DE CREDIT MUTUEL PROFESSIONS DE SANTE 54 - CMPS NANCY, CAISSE DE CREDIT MUTUEL NANCY COEUR DE VILLE - PLACE DES VOSGES, CAISSE DE CREDIT MUTUEL NANCY COEUR DE VILLE - JOFFRE\n"
     ]
    },
    {
     "name": "stderr",
     "output_type": "stream",
     "text": [
      "\n",
      "\u001b[A"
     ]
    },
    {
     "name": "stdout",
     "output_type": "stream",
     "text": [
      "✅ 1 agences sauvegardées : CAISSE DE CREDIT MUTUEL NEUVES MAISONS LUDRES\n"
     ]
    },
    {
     "name": "stderr",
     "output_type": "stream",
     "text": [
      "\n",
      "\u001b[A"
     ]
    },
    {
     "name": "stdout",
     "output_type": "stream",
     "text": [
      "✅ 1 agences sauvegardées : CAISSE DE CREDIT MUTUEL POMPEY CHAMPIGNEULLES\n"
     ]
    },
    {
     "name": "stderr",
     "output_type": "stream",
     "text": [
      "\n",
      "\u001b[A"
     ]
    },
    {
     "name": "stdout",
     "output_type": "stream",
     "text": [
      "✅ 1 agences sauvegardées : CAISSE DE CREDIT MUTUEL PONT A MOUSSON\n"
     ]
    },
    {
     "name": "stderr",
     "output_type": "stream",
     "text": [
      "\n",
      "\u001b[A"
     ]
    },
    {
     "name": "stdout",
     "output_type": "stream",
     "text": [
      "✅ 1 agences sauvegardées : CAISSE DE CREDIT MUTUEL TOUL\n"
     ]
    },
    {
     "name": "stderr",
     "output_type": "stream",
     "text": [
      "\n",
      "\u001b[A"
     ]
    },
    {
     "name": "stdout",
     "output_type": "stream",
     "text": [
      "✅ 1 agences sauvegardées : CAISSE DE CREDIT MUTUEL DE JARNY - BRIEY\n"
     ]
    },
    {
     "name": "stderr",
     "output_type": "stream",
     "text": [
      "\n",
      "\u001b[A"
     ]
    },
    {
     "name": "stdout",
     "output_type": "stream",
     "text": [
      "✅ 2 agences sauvegardées : CAISSE DE CREDIT MUTUEL NANCY SUD - VANDOEUVRE VELODROME, CAISSE DE CREDIT MUTUEL NANCY SUD - POLE PRO NANCY NORD\n"
     ]
    },
    {
     "name": "stderr",
     "output_type": "stream",
     "text": [
      "\n",
      "\u001b[A"
     ]
    },
    {
     "name": "stdout",
     "output_type": "stream",
     "text": [
      "✅ 1 agences sauvegardées : CAISSE DE CREDIT MUTUEL LAXOU VILLERS\n"
     ]
    },
    {
     "name": "stderr",
     "output_type": "stream",
     "text": [
      "\n",
      "\u001b[A\n",
      "\u001b[A"
     ]
    },
    {
     "name": "stdout",
     "output_type": "stream",
     "text": [
      "✅ 1 agences sauvegardées : CAISSE DE CREDIT MUTUEL VILLERUPT\n"
     ]
    },
    {
     "name": "stderr",
     "output_type": "stream",
     "text": [
      "\n",
      "\u001b[A\n",
      "\u001b[A"
     ]
    },
    {
     "name": "stdout",
     "output_type": "stream",
     "text": [
      "✅ 1 agences sauvegardées : CAISSE DE CREDIT MUTUEL MEUSE SUD SAINT DIZIER\n"
     ]
    },
    {
     "name": "stderr",
     "output_type": "stream",
     "text": [
      "\n",
      "\u001b[A"
     ]
    },
    {
     "name": "stdout",
     "output_type": "stream",
     "text": [
      "✅ 1 agences sauvegardées : CAISSE DE CREDIT MUTUEL MEUSE SUD SAINT DIZIER - COMMERCY\n"
     ]
    },
    {
     "name": "stderr",
     "output_type": "stream",
     "text": [
      "\n",
      "\u001b[A\n",
      "\u001b[A"
     ]
    },
    {
     "name": "stdout",
     "output_type": "stream",
     "text": [
      "✅ 1 agences sauvegardées : CAISSE DE CREDIT MUTUEL MEUSE NORD - STENAY\n"
     ]
    },
    {
     "name": "stderr",
     "output_type": "stream",
     "text": [
      "\n",
      "\u001b[A\n",
      "\u001b[A"
     ]
    },
    {
     "name": "stdout",
     "output_type": "stream",
     "text": [
      "✅ 1 agences sauvegardées : CAISSE DE CREDIT MUTUEL SUD EST MOSELLAN - ABRESCHVILLER\n"
     ]
    },
    {
     "name": "stderr",
     "output_type": "stream",
     "text": [
      "\n",
      "\u001b[A"
     ]
    },
    {
     "name": "stdout",
     "output_type": "stream",
     "text": [
      "✅ 1 agences sauvegardées : CAISSE DE CREDIT MUTUEL FENSCH HORIZON\n"
     ]
    },
    {
     "name": "stderr",
     "output_type": "stream",
     "text": [
      "\n",
      "\u001b[A"
     ]
    },
    {
     "name": "stdout",
     "output_type": "stream",
     "text": [
      "✅ 1 agences sauvegardées : CAISSE DE CREDIT MUTUEL ALSTING SPICHEREN\n"
     ]
    },
    {
     "name": "stderr",
     "output_type": "stream",
     "text": [
      "\n",
      "\u001b[A"
     ]
    },
    {
     "name": "stdout",
     "output_type": "stream",
     "text": [
      "✅ 1 agences sauvegardées : CAISSE DE CREDIT MUTUEL METZ SUD LES COTEAUX - ARS SUR MOSELLE\n"
     ]
    },
    {
     "name": "stderr",
     "output_type": "stream",
     "text": [
      "\n",
      "\u001b[A"
     ]
    },
    {
     "name": "stdout",
     "output_type": "stream",
     "text": [
      "✅ 1 agences sauvegardées : CAISSE DE CREDIT MUTUEL AUDUN LE TICHE\n"
     ]
    },
    {
     "name": "stderr",
     "output_type": "stream",
     "text": [
      "\n",
      "\u001b[A"
     ]
    },
    {
     "name": "stdout",
     "output_type": "stream",
     "text": [
      "✅ 1 agences sauvegardées : CAISSE DE CREDIT MUTUEL AUMETZ LANDRES\n"
     ]
    },
    {
     "name": "stderr",
     "output_type": "stream",
     "text": [
      "\n",
      "\u001b[A"
     ]
    },
    {
     "name": "stdout",
     "output_type": "stream",
     "text": [
      "✅ 1 agences sauvegardées : CAISSE DE CREDIT MUTUEL COEUR DE LORRAINE - BEHREN LES FORBACH\n"
     ]
    },
    {
     "name": "stderr",
     "output_type": "stream",
     "text": [
      "\n",
      "\u001b[A"
     ]
    },
    {
     "name": "stdout",
     "output_type": "stream",
     "text": [
      "✅ 1 agences sauvegardées : CAISSE DE CREDIT MUTUEL DU PAYS DE BITCHE\n"
     ]
    },
    {
     "name": "stderr",
     "output_type": "stream",
     "text": [
      "\n",
      "\u001b[A"
     ]
    },
    {
     "name": "stdout",
     "output_type": "stream",
     "text": [
      "✅ 1 agences sauvegardées : CAISSE DE CREDIT MUTUEL DU VAL DE NIED\n"
     ]
    },
    {
     "name": "stderr",
     "output_type": "stream",
     "text": [
      "\n",
      "\u001b[A"
     ]
    },
    {
     "name": "stdout",
     "output_type": "stream",
     "text": [
      "✅ 1 agences sauvegardées : CAISSE DE CREDIT MUTUEL CARLING L HOPITAL\n"
     ]
    },
    {
     "name": "stderr",
     "output_type": "stream",
     "text": [
      "\n",
      "\u001b[A"
     ]
    },
    {
     "name": "stdout",
     "output_type": "stream",
     "text": [
      "✅ 1 agences sauvegardées : CAISSE DE CREDIT MUTUEL DES TROIS FRONTIERES\n"
     ]
    },
    {
     "name": "stderr",
     "output_type": "stream",
     "text": [
      "\n",
      "\u001b[A"
     ]
    },
    {
     "name": "stdout",
     "output_type": "stream",
     "text": [
      "✅ 1 agences sauvegardées : CAISSE DE CREDIT MUTUEL CLOUANGE ROMBAS\n"
     ]
    },
    {
     "name": "stderr",
     "output_type": "stream",
     "text": [
      "\n",
      "\u001b[A"
     ]
    },
    {
     "name": "stdout",
     "output_type": "stream",
     "text": [
      "✅ 1 agences sauvegardées : CAISSE DE CREDIT MUTUEL CREUTZWALD\n"
     ]
    },
    {
     "name": "stderr",
     "output_type": "stream",
     "text": [
      "\n",
      "\u001b[A"
     ]
    },
    {
     "name": "stdout",
     "output_type": "stream",
     "text": [
      "✅ 1 agences sauvegardées : CAISSE DE CREDIT MUTUEL PAYS DE LUTZELBOURG DABO\n"
     ]
    },
    {
     "name": "stderr",
     "output_type": "stream",
     "text": [
      "\n",
      "\u001b[A"
     ]
    },
    {
     "name": "stdout",
     "output_type": "stream",
     "text": [
      "✅ 1 agences sauvegardées : CAISSE DE CREDIT MUTUEL SECTEUR FAREBERSVILLER - DIEBLING\n"
     ]
    },
    {
     "name": "stderr",
     "output_type": "stream",
     "text": [
      "\n",
      "\u001b[A"
     ]
    },
    {
     "name": "stdout",
     "output_type": "stream",
     "text": [
      "✅ 1 agences sauvegardées : CAISSE DE CREDIT MUTUEL DU SAULNOIS\n"
     ]
    },
    {
     "name": "stderr",
     "output_type": "stream",
     "text": [
      "\n",
      "\u001b[A"
     ]
    },
    {
     "name": "stdout",
     "output_type": "stream",
     "text": [
      "✅ 1 agences sauvegardées : CAISSE DE CREDIT MUTUEL DE LA HOUVE\n"
     ]
    },
    {
     "name": "stderr",
     "output_type": "stream",
     "text": [
      "\n",
      "\u001b[A"
     ]
    },
    {
     "name": "stdout",
     "output_type": "stream",
     "text": [
      "✅ 1 agences sauvegardées : CAISSE DE CREDIT MUTUEL VAL DE FENSCH - FAMECK\n"
     ]
    },
    {
     "name": "stderr",
     "output_type": "stream",
     "text": [
      "\n",
      "\u001b[A"
     ]
    },
    {
     "name": "stdout",
     "output_type": "stream",
     "text": [
      "✅ 2 agences sauvegardées : CAISSE DE CREDIT MUTUEL SECTEUR FAREBERSVILLER, CAISSE DE CREDIT MUTUEL SECTEUR FAREBERSVILLER - CITE\n"
     ]
    },
    {
     "name": "stderr",
     "output_type": "stream",
     "text": [
      "\n",
      "\u001b[A"
     ]
    },
    {
     "name": "stdout",
     "output_type": "stream",
     "text": [
      "✅ 1 agences sauvegardées : CAISSE DE CREDIT MUTUEL COEUR DE MOSELLE - FAULQUEMONT\n"
     ]
    },
    {
     "name": "stderr",
     "output_type": "stream",
     "text": [
      "\n",
      "\u001b[A"
     ]
    },
    {
     "name": "stdout",
     "output_type": "stream",
     "text": [
      "✅ 1 agences sauvegardées : CAISSE DE CREDIT MUTUEL ETANGS ET DEUX PROVINCES\n"
     ]
    },
    {
     "name": "stderr",
     "output_type": "stream",
     "text": [
      "\n",
      "\u001b[A"
     ]
    },
    {
     "name": "stdout",
     "output_type": "stream",
     "text": [
      "✅ 1 agences sauvegardées : CAISSE DE CREDIT MUTUEL RIVES DE MOSELLE\n"
     ]
    },
    {
     "name": "stderr",
     "output_type": "stream",
     "text": [
      "\n",
      "\u001b[A"
     ]
    },
    {
     "name": "stdout",
     "output_type": "stream",
     "text": [
      "✅ 1 agences sauvegardées : CAISSE DE CREDIT MUTUEL DE FURST\n"
     ]
    },
    {
     "name": "stderr",
     "output_type": "stream",
     "text": [
      "\n",
      "\u001b[A"
     ]
    },
    {
     "name": "stdout",
     "output_type": "stream",
     "text": [
      "✅ 1 agences sauvegardées : CAISSE DE CREDIT MUTUEL FENSCH HORIZON - FONTOY\n"
     ]
    },
    {
     "name": "stderr",
     "output_type": "stream",
     "text": [
      "\n",
      "\u001b[A"
     ]
    },
    {
     "name": "stdout",
     "output_type": "stream",
     "text": [
      "✅ 2 agences sauvegardées : CAISSE DE CREDIT MUTUEL FREYMING MERLEBACH ET ENVIRONS, CAISSE DE CREDIT MUTUEL FREYMING MERLEBACH ET ENVIRONS\n"
     ]
    },
    {
     "name": "stderr",
     "output_type": "stream",
     "text": [
      "\n",
      "\u001b[A"
     ]
    },
    {
     "name": "stdout",
     "output_type": "stream",
     "text": [
      "✅ 1 agences sauvegardées : CAISSE DE CREDIT MUTUEL GOETZENBRUCK ET ENVIRONS\n"
     ]
    },
    {
     "name": "stderr",
     "output_type": "stream",
     "text": [
      "\n",
      "\u001b[A"
     ]
    },
    {
     "name": "stdout",
     "output_type": "stream",
     "text": [
      "✅ 1 agences sauvegardées : CAISSE DE CREDIT MUTUEL DE L UNION\n"
     ]
    },
    {
     "name": "stderr",
     "output_type": "stream",
     "text": [
      "\n",
      "\u001b[A"
     ]
    },
    {
     "name": "stdout",
     "output_type": "stream",
     "text": [
      "✅ 1 agences sauvegardées : CAISSE DE CREDIT MUTUEL HAGONDANGE MONDELANGE ET ENVIRONS\n"
     ]
    },
    {
     "name": "stderr",
     "output_type": "stream",
     "text": [
      "\n",
      "\u001b[A"
     ]
    },
    {
     "name": "stdout",
     "output_type": "stream",
     "text": [
      "✅ 1 agences sauvegardées : CAISSE DE CREDIT MUTUEL PAYS D ALBE ET DU HAM - HAMBACH\n"
     ]
    },
    {
     "name": "stderr",
     "output_type": "stream",
     "text": [
      "\n",
      "\u001b[A"
     ]
    },
    {
     "name": "stdout",
     "output_type": "stream",
     "text": [
      "✅ 1 agences sauvegardées : CAISSE DE CREDIT MUTUEL VALLEE DE LA BISTEN - HAM SOUS VARSBERG\n"
     ]
    },
    {
     "name": "stderr",
     "output_type": "stream",
     "text": [
      "\n",
      "\u001b[A"
     ]
    },
    {
     "name": "stdout",
     "output_type": "stream",
     "text": [
      "✅ 1 agences sauvegardées : CAISSE DE CREDIT MUTUEL HETTANGE RENTGEN GARCHE\n"
     ]
    },
    {
     "name": "stderr",
     "output_type": "stream",
     "text": [
      "\n",
      "\u001b[A"
     ]
    },
    {
     "name": "stdout",
     "output_type": "stream",
     "text": [
      "✅ 1 agences sauvegardées : CAISSE DE CREDIT MUTUEL SARREGUEMINES - HUNDLING\n"
     ]
    },
    {
     "name": "stderr",
     "output_type": "stream",
     "text": [
      "\n",
      "\u001b[A"
     ]
    },
    {
     "name": "stdout",
     "output_type": "stream",
     "text": [
      "✅ 1 agences sauvegardées : CAISSE DE CREDIT MUTUEL DU SAULNOIS - INSMING\n"
     ]
    },
    {
     "name": "stderr",
     "output_type": "stream",
     "text": [
      "\n",
      "\u001b[A"
     ]
    },
    {
     "name": "stdout",
     "output_type": "stream",
     "text": [
      "✅ 1 agences sauvegardées : CAISSE DE CREDIT MUTUEL UNION MOSELLE EST - KALHAUSEN\n"
     ]
    },
    {
     "name": "stderr",
     "output_type": "stream",
     "text": [
      "\n",
      "\u001b[A"
     ]
    },
    {
     "name": "stdout",
     "output_type": "stream",
     "text": [
      "✅ 1 agences sauvegardées : CAISSE DE CREDIT MUTUEL YUTZ ET ENVIRONS - KEDANGE SUR CANNER\n"
     ]
    },
    {
     "name": "stderr",
     "output_type": "stream",
     "text": [
      "\n",
      "\u001b[A"
     ]
    },
    {
     "name": "stdout",
     "output_type": "stream",
     "text": [
      "✅ 1 agences sauvegardées : CAISSE DE CREDIT MUTUEL FENSCH HORIZON - KNUTANGE\n"
     ]
    },
    {
     "name": "stderr",
     "output_type": "stream",
     "text": [
      "\n",
      "\u001b[A"
     ]
    },
    {
     "name": "stdout",
     "output_type": "stream",
     "text": [
      "✅ 1 agences sauvegardées : CAISSE DE CREDIT MUTUEL DES TROIS FRONTIERES - KOENIGSMACKER\n"
     ]
    },
    {
     "name": "stderr",
     "output_type": "stream",
     "text": [
      "\n",
      "\u001b[A"
     ]
    },
    {
     "name": "stdout",
     "output_type": "stream",
     "text": [
      "✅ 1 agences sauvegardées : CAISSE DE CREDIT MUTUEL PROFESSIONS DE SANTE MOSELLE - CMPS METZ\n"
     ]
    },
    {
     "name": "stderr",
     "output_type": "stream",
     "text": [
      "\n",
      "\u001b[A"
     ]
    },
    {
     "name": "stdout",
     "output_type": "stream",
     "text": [
      "✅ 1 agences sauvegardées : CAISSE DE CREDIT MUTUEL SUD EST MOSELLAN\n"
     ]
    },
    {
     "name": "stderr",
     "output_type": "stream",
     "text": [
      "\n",
      "\u001b[A"
     ]
    },
    {
     "name": "stdout",
     "output_type": "stream",
     "text": [
      "✅ 1 agences sauvegardées : CAISSE DE CREDIT MUTUEL PAYS DE LUTZELBOURG DABO\n"
     ]
    },
    {
     "name": "stderr",
     "output_type": "stream",
     "text": [
      "\n",
      "\u001b[A"
     ]
    },
    {
     "name": "stdout",
     "output_type": "stream",
     "text": [
      "✅ 1 agences sauvegardées : CAISSE DE CREDIT MUTUEL MAIZIERES LES METZ\n"
     ]
    },
    {
     "name": "stderr",
     "output_type": "stream",
     "text": [
      "\n",
      "\u001b[A"
     ]
    },
    {
     "name": "stdout",
     "output_type": "stream",
     "text": [
      "✅ 1 agences sauvegardées : CAISSE DE CREDIT MUTUEL DU VAL DE SEILLE - MARLY\n"
     ]
    },
    {
     "name": "stderr",
     "output_type": "stream",
     "text": [
      "\n",
      "\u001b[A"
     ]
    },
    {
     "name": "stdout",
     "output_type": "stream",
     "text": [
      "✅ 5 agences sauvegardées : CAISSE DE CREDIT MUTUEL METZ CENTRE, CAISSE DE CREDIT MUTUEL METZ SABLON MAGNY, CAISSE DE CREDIT MUTUEL METZ SABLON MAGNY - MAGNY, CAISSE DE CREDIT MUTUEL METZ NOUVEAUX POLES - AMPHITHEATRE, CAISSE DE CREDIT MUTUEL METZ CENTRE - COEUR DE VILLE\n"
     ]
    },
    {
     "name": "stderr",
     "output_type": "stream",
     "text": [
      "\n",
      "\u001b[A"
     ]
    },
    {
     "name": "stdout",
     "output_type": "stream",
     "text": [
      "✅ 1 agences sauvegardées : CAISSE DE CREDIT MUTUEL DU PAYS DE BITCHE - ENCHENBERG MONTBRONN\n"
     ]
    },
    {
     "name": "stderr",
     "output_type": "stream",
     "text": [
      "\n",
      "\u001b[A"
     ]
    },
    {
     "name": "stdout",
     "output_type": "stream",
     "text": [
      "✅ 2 agences sauvegardées : CAISSE DE CREDIT MUTUEL MONTIGNY CENTRE, CAISSE DE CREDIT MUTUEL DU VAL DE SEILLE\n"
     ]
    },
    {
     "name": "stderr",
     "output_type": "stream",
     "text": [
      "\n",
      "\u001b[A"
     ]
    },
    {
     "name": "stdout",
     "output_type": "stream",
     "text": [
      "✅ 1 agences sauvegardées : CAISSE DE CREDIT MUTUEL COEUR DE MOSELLE - MORHANGE\n"
     ]
    },
    {
     "name": "stderr",
     "output_type": "stream",
     "text": [
      "\n",
      "\u001b[A"
     ]
    },
    {
     "name": "stdout",
     "output_type": "stream",
     "text": [
      "✅ 1 agences sauvegardées : CAISSE DE CREDIT MUTUEL DE FORBACH ET ENVIRONS - MORSBACH\n"
     ]
    },
    {
     "name": "stderr",
     "output_type": "stream",
     "text": [
      "\n",
      "\u001b[A"
     ]
    },
    {
     "name": "stdout",
     "output_type": "stream",
     "text": [
      "✅ 2 agences sauvegardées : CAISSE DE CREDIT MUTUEL METZ SUD LES COTEAUX - MOULINS LES METZ, CAISSE DE CREDIT MUTUEL MONTIGNY CENTRE - MOULINS ST PIERRE\n"
     ]
    },
    {
     "name": "stderr",
     "output_type": "stream",
     "text": [
      "\n",
      "\u001b[A"
     ]
    },
    {
     "name": "stdout",
     "output_type": "stream",
     "text": [
      "✅ 1 agences sauvegardées : CAISSE DE CREDIT MUTUEL MOYEUVRE GRANDE\n"
     ]
    },
    {
     "name": "stderr",
     "output_type": "stream",
     "text": [
      "\n",
      "\u001b[A"
     ]
    },
    {
     "name": "stdout",
     "output_type": "stream",
     "text": [
      "✅ 1 agences sauvegardées : CAISSE DE CREDIT MUTUEL NEUFCHEF\n"
     ]
    },
    {
     "name": "stderr",
     "output_type": "stream",
     "text": [
      "\n",
      "\u001b[A"
     ]
    },
    {
     "name": "stdout",
     "output_type": "stream",
     "text": [
      "✅ 1 agences sauvegardées : CAISSE DE CREDIT MUTUEL COTEAUX VAL DE SARRE\n"
     ]
    },
    {
     "name": "stderr",
     "output_type": "stream",
     "text": [
      "\n",
      "\u001b[A"
     ]
    },
    {
     "name": "stdout",
     "output_type": "stream",
     "text": [
      "✅ 1 agences sauvegardées : CAISSE DE CREDIT MUTUEL BIEVRE ET VOSGES\n"
     ]
    },
    {
     "name": "stderr",
     "output_type": "stream",
     "text": [
      "\n",
      "\u001b[A"
     ]
    },
    {
     "name": "stdout",
     "output_type": "stream",
     "text": [
      "✅ 1 agences sauvegardées : CAISSE DE CREDIT MUTUEL OTTANGE BOULANGE\n"
     ]
    },
    {
     "name": "stderr",
     "output_type": "stream",
     "text": [
      "\n",
      "\u001b[A"
     ]
    },
    {
     "name": "stdout",
     "output_type": "stream",
     "text": [
      "✅ 1 agences sauvegardées : CAISSE DE CREDIT MUTUEL DES TROIS PUITS - PETITE ROSSELLE\n"
     ]
    },
    {
     "name": "stderr",
     "output_type": "stream",
     "text": [
      "\n",
      "\u001b[A"
     ]
    },
    {
     "name": "stdout",
     "output_type": "stream",
     "text": [
      "✅ 1 agences sauvegardées : CAISSE DE CREDIT MUTUEL PAYS DE PHALSBOURG\n"
     ]
    },
    {
     "name": "stderr",
     "output_type": "stream",
     "text": [
      "\n",
      "\u001b[A"
     ]
    },
    {
     "name": "stdout",
     "output_type": "stream",
     "text": [
      "✅ 1 agences sauvegardées : CAISSE DE CREDIT MUTUEL VALLEE DE LA BISTEN\n"
     ]
    },
    {
     "name": "stderr",
     "output_type": "stream",
     "text": [
      "\n",
      "\u001b[A"
     ]
    },
    {
     "name": "stdout",
     "output_type": "stream",
     "text": [
      "✅ 1 agences sauvegardées : CAISSE DE CREDIT MUTUEL PAYS DES LACS\n"
     ]
    },
    {
     "name": "stderr",
     "output_type": "stream",
     "text": [
      "\n",
      "\u001b[A"
     ]
    },
    {
     "name": "stdout",
     "output_type": "stream",
     "text": [
      "✅ 1 agences sauvegardées : CAISSE DE CREDIT MUTUEL SARREBOURG REDING ET ENVIRONS\n"
     ]
    },
    {
     "name": "stderr",
     "output_type": "stream",
     "text": [
      "\n",
      "\u001b[A"
     ]
    },
    {
     "name": "stdout",
     "output_type": "stream",
     "text": [
      "✅ 1 agences sauvegardées : CAISSE DE CREDIT MUTUEL UNION MOSELLE EST\n"
     ]
    },
    {
     "name": "stderr",
     "output_type": "stream",
     "text": [
      "\n",
      "\u001b[A"
     ]
    },
    {
     "name": "stdout",
     "output_type": "stream",
     "text": [
      "✅ 1 agences sauvegardées : CAISSE DE CREDIT MUTUEL CLOUANGE ROMBAS\n"
     ]
    },
    {
     "name": "stderr",
     "output_type": "stream",
     "text": [
      "\n",
      "\u001b[A"
     ]
    },
    {
     "name": "stdout",
     "output_type": "stream",
     "text": [
      "✅ 1 agences sauvegardées : CAISSE DE CREDIT MUTUEL PAYS D ALBE ET DU HAM\n"
     ]
    },
    {
     "name": "stderr",
     "output_type": "stream",
     "text": [
      "\n",
      "\u001b[A"
     ]
    },
    {
     "name": "stdout",
     "output_type": "stream",
     "text": [
      "✅ 1 agences sauvegardées : CAISSE DE CREDIT MUTUEL ETANGS ET DEUX PROVINCES - SARRALTROFF\n"
     ]
    },
    {
     "name": "stderr",
     "output_type": "stream",
     "text": [
      "\n",
      "\u001b[A"
     ]
    },
    {
     "name": "stdout",
     "output_type": "stream",
     "text": [
      "✅ 1 agences sauvegardées : CAISSE DE CREDIT MUTUEL SARREBOURG REDING ET ENVIRONS\n"
     ]
    },
    {
     "name": "stderr",
     "output_type": "stream",
     "text": [
      "\n",
      "\u001b[A"
     ]
    },
    {
     "name": "stdout",
     "output_type": "stream",
     "text": [
      "✅ 1 agences sauvegardées : CAISSE DE CREDIT MUTUEL SARREGUEMINES\n"
     ]
    },
    {
     "name": "stderr",
     "output_type": "stream",
     "text": [
      "\n",
      "\u001b[A"
     ]
    },
    {
     "name": "stdout",
     "output_type": "stream",
     "text": [
      "✅ 1 agences sauvegardées : CAISSE DE CREDIT MUTUEL COTEAUX VAL DE SARRE - SARREINSMING\n"
     ]
    },
    {
     "name": "stderr",
     "output_type": "stream",
     "text": [
      "\n",
      "\u001b[A"
     ]
    },
    {
     "name": "stdout",
     "output_type": "stream",
     "text": [
      "✅ 1 agences sauvegardées : CAISSE DE CREDIT MUTUEL VAL DE FENSCH - SEREMANGE ERZANGE\n"
     ]
    },
    {
     "name": "stderr",
     "output_type": "stream",
     "text": [
      "\n",
      "\u001b[A"
     ]
    },
    {
     "name": "stdout",
     "output_type": "stream",
     "text": [
      "✅ 1 agences sauvegardées : CAISSE DE CREDIT MUTUEL DU VAL SIERCKOIS\n"
     ]
    },
    {
     "name": "stderr",
     "output_type": "stream",
     "text": [
      "\n",
      "\u001b[A"
     ]
    },
    {
     "name": "stdout",
     "output_type": "stream",
     "text": [
      "✅ 2 agences sauvegardées : CAISSE DE CREDIT MUTUEL DES TROIS PUITS - STIRING WENDEL, CAISSE DE CREDIT MUTUEL DES TROIS PUITS - HABSTERDICK\n"
     ]
    },
    {
     "name": "stderr",
     "output_type": "stream",
     "text": [
      "\n",
      "\u001b[A"
     ]
    },
    {
     "name": "stdout",
     "output_type": "stream",
     "text": [
      "✅ 1 agences sauvegardées : CAISSE DE CREDIT MUTUEL TALANGE\n"
     ]
    },
    {
     "name": "stderr",
     "output_type": "stream",
     "text": [
      "\n",
      "\u001b[A"
     ]
    },
    {
     "name": "stdout",
     "output_type": "stream",
     "text": [
      "✅ 1 agences sauvegardées : CAISSE DE CREDIT MUTUEL TERVILLE\n"
     ]
    },
    {
     "name": "stderr",
     "output_type": "stream",
     "text": [
      "\n",
      "\u001b[A"
     ]
    },
    {
     "name": "stdout",
     "output_type": "stream",
     "text": [
      "✅ 2 agences sauvegardées : CAISSE DE CREDIT MUTUEL ENSEIGNANT 57 - CME 57 THIONVILLE, CAISSE DE CREDIT MUTUEL HETTANGE RENTGEN GARCHE\n"
     ]
    },
    {
     "name": "stderr",
     "output_type": "stream",
     "text": [
      "\n",
      "\u001b[A"
     ]
    },
    {
     "name": "stdout",
     "output_type": "stream",
     "text": [
      "✅ 1 agences sauvegardées : CAISSE DE CREDIT MUTUEL BIEVRE ET VOSGES - TROISFONTAINES\n"
     ]
    },
    {
     "name": "stderr",
     "output_type": "stream",
     "text": [
      "\n",
      "\u001b[A"
     ]
    },
    {
     "name": "stdout",
     "output_type": "stream",
     "text": [
      "✅ 1 agences sauvegardées : CAISSE DE CREDIT MUTUEL RIVES DE MOSELLE - UCKANGE\n"
     ]
    },
    {
     "name": "stderr",
     "output_type": "stream",
     "text": [
      "\n",
      "\u001b[A"
     ]
    },
    {
     "name": "stdout",
     "output_type": "stream",
     "text": [
      "✅ 1 agences sauvegardées : CAISSE DE CREDIT MUTUEL DES TROIS FRONTIERES - VOLMERANGE LES MINES\n"
     ]
    },
    {
     "name": "stderr",
     "output_type": "stream",
     "text": [
      "\n",
      "\u001b[A"
     ]
    },
    {
     "name": "stdout",
     "output_type": "stream",
     "text": [
      "✅ 1 agences sauvegardées : CAISSE DE CREDIT MUTUEL DU PAYS DE BITCHE - VOLMUNSTER\n"
     ]
    },
    {
     "name": "stderr",
     "output_type": "stream",
     "text": [
      "\n",
      "\u001b[A"
     ]
    },
    {
     "name": "stdout",
     "output_type": "stream",
     "text": [
      "✅ 1 agences sauvegardées : CAISSE DE CREDIT MUTUEL UNION MOSELLE EST - DU HAUT POIRIER\n"
     ]
    },
    {
     "name": "stderr",
     "output_type": "stream",
     "text": [
      "\n",
      "\u001b[A"
     ]
    },
    {
     "name": "stdout",
     "output_type": "stream",
     "text": [
      "✅ 1 agences sauvegardées : CAISSE DE CREDIT MUTUEL METZ BELLES RIVES\n"
     ]
    },
    {
     "name": "stderr",
     "output_type": "stream",
     "text": [
      "\n",
      "\u001b[A\n",
      "\u001b[A"
     ]
    },
    {
     "name": "stdout",
     "output_type": "stream",
     "text": [
      "✅ 2 agences sauvegardées : CAISSE DE CREDIT MUTUEL YUTZ ET ENVIRONS, CAISSE DE CREDIT MUTUEL YUTZ ET ENVIRONS - ROOSEVELT\n"
     ]
    },
    {
     "name": "stderr",
     "output_type": "stream",
     "text": [
      "\n",
      "\u001b[A\n",
      "\u001b[A"
     ]
    },
    {
     "name": "stdout",
     "output_type": "stream",
     "text": [
      "✅ 1 agences sauvegardées : CAISSE DE CREDIT MUTUEL LES CHATEAUX\n"
     ]
    },
    {
     "name": "stderr",
     "output_type": "stream",
     "text": [
      "\n",
      "\u001b[A"
     ]
    },
    {
     "name": "stdout",
     "output_type": "stream",
     "text": [
      "✅ 1 agences sauvegardées : CAISSE DE CREDIT MUTUEL RIED CENTRE ALSACE - BALDENHEIM\n"
     ]
    },
    {
     "name": "stderr",
     "output_type": "stream",
     "text": [
      "\n",
      "\u001b[A"
     ]
    },
    {
     "name": "stdout",
     "output_type": "stream",
     "text": [
      "✅ 1 agences sauvegardées : CAISSE DE CREDIT MUTUEL BARR ET ENVIRONS\n"
     ]
    },
    {
     "name": "stderr",
     "output_type": "stream",
     "text": [
      "\n",
      "\u001b[A"
     ]
    },
    {
     "name": "stdout",
     "output_type": "stream",
     "text": [
      "✅ 1 agences sauvegardées : CAISSE DE CREDIT MUTUEL DES 4 RIVIÈRES\n"
     ]
    },
    {
     "name": "stderr",
     "output_type": "stream",
     "text": [
      "\n",
      "\u001b[A"
     ]
    },
    {
     "name": "stdout",
     "output_type": "stream",
     "text": [
      "✅ 1 agences sauvegardées : CAISSE DE CREDIT MUTUEL EHN-LANDSBERG - BERNARDSWILLER\n"
     ]
    },
    {
     "name": "stderr",
     "output_type": "stream",
     "text": [
      "\n",
      "\u001b[A"
     ]
    },
    {
     "name": "stdout",
     "output_type": "stream",
     "text": [
      "✅ 1 agences sauvegardées : CAISSE DE CREDIT MUTUEL DE L OUTRE FORET - BETSCHDORF\n"
     ]
    },
    {
     "name": "stderr",
     "output_type": "stream",
     "text": [
      "\n",
      "\u001b[A"
     ]
    },
    {
     "name": "stdout",
     "output_type": "stream",
     "text": [
      "✅ 1 agences sauvegardées : CAISSE DE CREDIT MUTUEL BISCHHEIM\n"
     ]
    },
    {
     "name": "stderr",
     "output_type": "stream",
     "text": [
      "\n",
      "\u001b[A"
     ]
    },
    {
     "name": "stdout",
     "output_type": "stream",
     "text": [
      "✅ 1 agences sauvegardées : CAISSE DE CREDIT MUTUEL BISCHENBERG\n"
     ]
    },
    {
     "name": "stderr",
     "output_type": "stream",
     "text": [
      "\n",
      "\u001b[A"
     ]
    },
    {
     "name": "stdout",
     "output_type": "stream",
     "text": [
      "✅ 1 agences sauvegardées : CAISSE DE CREDIT MUTUEL EHN-LANDSBERG - BLAESHEIM\n"
     ]
    },
    {
     "name": "stderr",
     "output_type": "stream",
     "text": [
      "\n",
      "\u001b[A"
     ]
    },
    {
     "name": "stdout",
     "output_type": "stream",
     "text": [
      "✅ 1 agences sauvegardées : CAISSE DE CREDIT MUTUEL DE BOUXWILLER ET ENVIRONS\n"
     ]
    },
    {
     "name": "stderr",
     "output_type": "stream",
     "text": [
      "\n",
      "\u001b[A"
     ]
    },
    {
     "name": "stdout",
     "output_type": "stream",
     "text": [
      "✅ 1 agences sauvegardées : CAISSE DE CREDIT MUTUEL REGION BRUMATH\n"
     ]
    },
    {
     "name": "stderr",
     "output_type": "stream",
     "text": [
      "\n",
      "\u001b[A"
     ]
    },
    {
     "name": "stdout",
     "output_type": "stream",
     "text": [
      "✅ 1 agences sauvegardées : CAISSE DE CREDIT MUTUEL HAUT KOENIGSBOURG VAL D'ARGENT\n"
     ]
    },
    {
     "name": "stderr",
     "output_type": "stream",
     "text": [
      "\n",
      "\u001b[A"
     ]
    },
    {
     "name": "stdout",
     "output_type": "stream",
     "text": [
      "✅ 1 agences sauvegardées : CAISSE DE CREDIT MUTUEL COEUR DU VIGNOBLE - DAMBACH LA VILLE\n"
     ]
    },
    {
     "name": "stderr",
     "output_type": "stream",
     "text": [
      "\n",
      "\u001b[A"
     ]
    },
    {
     "name": "stdout",
     "output_type": "stream",
     "text": [
      "✅ 1 agences sauvegardées : CAISSE DE CREDIT MUTUEL DETTWILLER-NEUWILLER\n"
     ]
    },
    {
     "name": "stderr",
     "output_type": "stream",
     "text": [
      "\n",
      "\u001b[A"
     ]
    },
    {
     "name": "stdout",
     "output_type": "stream",
     "text": [
      "✅ 1 agences sauvegardées : CAISSE DE CREDIT MUTUEL VALLEE DE L EICHEL\n"
     ]
    },
    {
     "name": "stderr",
     "output_type": "stream",
     "text": [
      "\n",
      "\u001b[A"
     ]
    },
    {
     "name": "stdout",
     "output_type": "stream",
     "text": [
      "✅ 1 agences sauvegardées : CAISSE DE CREDIT MUTUEL LA SOUFFEL - DINGSHEIM GRIESHEIM\n"
     ]
    },
    {
     "name": "stderr",
     "output_type": "stream",
     "text": [
      "\n",
      "\u001b[A"
     ]
    },
    {
     "name": "stdout",
     "output_type": "stream",
     "text": [
      "✅ 1 agences sauvegardées : CAISSE DE CREDIT MUTUEL FELSBOURG - DINSHEIM\n"
     ]
    },
    {
     "name": "stderr",
     "output_type": "stream",
     "text": [
      "\n",
      "\u001b[A"
     ]
    },
    {
     "name": "stdout",
     "output_type": "stream",
     "text": [
      "✅ 1 agences sauvegardées : CAISSE DE CREDIT MUTUEL BISCHENBERG - DORLISHEIM\n"
     ]
    },
    {
     "name": "stderr",
     "output_type": "stream",
     "text": [
      "\n",
      "\u001b[A"
     ]
    },
    {
     "name": "stdout",
     "output_type": "stream",
     "text": [
      "✅ 1 agences sauvegardées : CAISSE DE CREDIT MUTUEL DE LA REGION DE DRULINGEN\n"
     ]
    },
    {
     "name": "stderr",
     "output_type": "stream",
     "text": [
      "\n",
      "\u001b[A"
     ]
    },
    {
     "name": "stdout",
     "output_type": "stream",
     "text": [
      "✅ 1 agences sauvegardées : CAISSE DE CREDIT MUTUEL ESPACE RHENAN - DRUSENHEIM\n"
     ]
    },
    {
     "name": "stderr",
     "output_type": "stream",
     "text": [
      "\n",
      "\u001b[A"
     ]
    },
    {
     "name": "stdout",
     "output_type": "stream",
     "text": [
      "✅ 1 agences sauvegardées : CAISSE DE CREDIT MUTUEL PLAINE DE LA BRUCHE\n"
     ]
    },
    {
     "name": "stderr",
     "output_type": "stream",
     "text": [
      "\n",
      "\u001b[A"
     ]
    },
    {
     "name": "stdout",
     "output_type": "stream",
     "text": [
      "✅ 2 agences sauvegardées : CAISSE DE CREDIT MUTUEL ENSEIGNANT 67 - CME 67, CAISSE DE CREDIT MUTUEL PARC DE LA BRUCHE - ECKBOLSHEIM\n"
     ]
    },
    {
     "name": "stderr",
     "output_type": "stream",
     "text": [
      "\n",
      "\u001b[A"
     ]
    },
    {
     "name": "stdout",
     "output_type": "stream",
     "text": [
      "✅ 1 agences sauvegardées : CAISSE DE CREDIT MUTUEL HORIZON - ENTZHEIM\n"
     ]
    },
    {
     "name": "stderr",
     "output_type": "stream",
     "text": [
      "\n",
      "\u001b[A"
     ]
    },
    {
     "name": "stdout",
     "output_type": "stream",
     "text": [
      "✅ 1 agences sauvegardées : CAISSE DE CREDIT MUTUEL COEUR DU VIGNOBLE\n"
     ]
    },
    {
     "name": "stderr",
     "output_type": "stream",
     "text": [
      "\n",
      "\u001b[A"
     ]
    },
    {
     "name": "stdout",
     "output_type": "stream",
     "text": [
      "✅ 1 agences sauvegardées : CAISSE DE CREDIT MUTUEL PLAINE DE L ILL\n"
     ]
    },
    {
     "name": "stderr",
     "output_type": "stream",
     "text": [
      "\n",
      "\u001b[A"
     ]
    },
    {
     "name": "stdout",
     "output_type": "stream",
     "text": [
      "✅ 1 agences sauvegardées : CAISSE DE CREDIT MUTUEL PLOBSHEIM ESCHAU\n"
     ]
    },
    {
     "name": "stderr",
     "output_type": "stream",
     "text": [
      "\n",
      "\u001b[A"
     ]
    },
    {
     "name": "stdout",
     "output_type": "stream",
     "text": [
      "✅ 1 agences sauvegardées : CAISSE DE CREDIT MUTUEL SAUER FLECKENSTEIN - ESCHBACH\n"
     ]
    },
    {
     "name": "stderr",
     "output_type": "stream",
     "text": [
      "\n",
      "\u001b[A"
     ]
    },
    {
     "name": "stdout",
     "output_type": "stream",
     "text": [
      "✅ 1 agences sauvegardées : CAISSE DE CREDIT MUTUEL DU COURS DE L ANDLAU\n"
     ]
    },
    {
     "name": "stderr",
     "output_type": "stream",
     "text": [
      "\n",
      "\u001b[A"
     ]
    },
    {
     "name": "stdout",
     "output_type": "stream",
     "text": [
      "✅ 1 agences sauvegardées : CAISSE DE CREDIT MUTUEL GAMBSHEIM KILSTETT\n"
     ]
    },
    {
     "name": "stderr",
     "output_type": "stream",
     "text": [
      "\n",
      "\u001b[A"
     ]
    },
    {
     "name": "stdout",
     "output_type": "stream",
     "text": [
      "✅ 2 agences sauvegardées : CAISSE DE CREDIT MUTUEL GEISPOLSHEIM, CAISSE DE CREDIT MUTUEL GEISPOLSHEIM - GARE\n"
     ]
    },
    {
     "name": "stderr",
     "output_type": "stream",
     "text": [
      "\n",
      "\u001b[A"
     ]
    },
    {
     "name": "stdout",
     "output_type": "stream",
     "text": [
      "✅ 1 agences sauvegardées : CAISSE DE CREDIT MUTUEL PLAINE DE L ILL - GERSTHEIM\n"
     ]
    },
    {
     "name": "stderr",
     "output_type": "stream",
     "text": [
      "\n",
      "\u001b[A"
     ]
    },
    {
     "name": "stdout",
     "output_type": "stream",
     "text": [
      "✅ 1 agences sauvegardées : CAISSE DE CREDIT MUTUEL CANTON DE ROSHEIM - GRENDELBRUCH\n"
     ]
    },
    {
     "name": "stderr",
     "output_type": "stream",
     "text": [
      "\n",
      "\u001b[A"
     ]
    },
    {
     "name": "stdout",
     "output_type": "stream",
     "text": [
      "✅ 1 agences sauvegardées : CAISSE DE CREDIT MUTUEL BISCHWILLER ET ENVIRONS - GRIES\n"
     ]
    },
    {
     "name": "stderr",
     "output_type": "stream",
     "text": [
      "\n",
      "\u001b[A"
     ]
    },
    {
     "name": "stdout",
     "output_type": "stream",
     "text": [
      "✅ 1 agences sauvegardées : CAISSE DE CREDIT MUTUEL BISCHENBERG - GRIESHEIM\n"
     ]
    },
    {
     "name": "stderr",
     "output_type": "stream",
     "text": [
      "\n",
      "\u001b[A"
     ]
    },
    {
     "name": "stdout",
     "output_type": "stream",
     "text": [
      "✅ 1 agences sauvegardées : CAISSE DE CREDIT MUTUEL DE LA ZINSEL DU NORD\n"
     ]
    },
    {
     "name": "stderr",
     "output_type": "stream",
     "text": [
      "\n",
      "\u001b[A"
     ]
    },
    {
     "name": "stdout",
     "output_type": "stream",
     "text": [
      "✅ 1 agences sauvegardées : CAISSE DE CREDIT MUTUEL ADELAIDE SELTZBACH - HATTEN\n"
     ]
    },
    {
     "name": "stderr",
     "output_type": "stream",
     "text": [
      "\n",
      "\u001b[A"
     ]
    },
    {
     "name": "stdout",
     "output_type": "stream",
     "text": [
      "✅ 1 agences sauvegardées : CAISSE DE CREDIT MUTUEL UNION SARRE ET EICHEL - HERBITZHEIM\n"
     ]
    },
    {
     "name": "stderr",
     "output_type": "stream",
     "text": [
      "\n",
      "\u001b[A"
     ]
    },
    {
     "name": "stdout",
     "output_type": "stream",
     "text": [
      "✅ 1 agences sauvegardées : CAISSE DE CREDIT MUTUEL ESPACE RHENAN\n"
     ]
    },
    {
     "name": "stderr",
     "output_type": "stream",
     "text": [
      "\n",
      "\u001b[A"
     ]
    },
    {
     "name": "stdout",
     "output_type": "stream",
     "text": [
      "✅ 1 agences sauvegardées : CAISSE DE CREDIT MUTUEL RIED CENTRE ALSACE - HILSENHEIM\n"
     ]
    },
    {
     "name": "stderr",
     "output_type": "stream",
     "text": [
      "\n",
      "\u001b[A"
     ]
    },
    {
     "name": "stdout",
     "output_type": "stream",
     "text": [
      "✅ 1 agences sauvegardées : CAISSE DE CREDIT MUTUEL DU ZORNTHAL\n"
     ]
    },
    {
     "name": "stderr",
     "output_type": "stream",
     "text": [
      "\n",
      "\u001b[A"
     ]
    },
    {
     "name": "stdout",
     "output_type": "stream",
     "text": [
      "✅ 2 agences sauvegardées : CAISSE DE CREDIT MUTUEL HOENHEIM, CAISSE DE CREDIT MUTUEL HOENHEIM - LE RIED\n"
     ]
    },
    {
     "name": "stderr",
     "output_type": "stream",
     "text": [
      "\n",
      "\u001b[A"
     ]
    },
    {
     "name": "stdout",
     "output_type": "stream",
     "text": [
      "✅ 1 agences sauvegardées : CAISSE DE CREDIT MUTUEL DE LA BASSE ZORN\n"
     ]
    },
    {
     "name": "stderr",
     "output_type": "stream",
     "text": [
      "\n",
      "\u001b[A"
     ]
    },
    {
     "name": "stdout",
     "output_type": "stream",
     "text": [
      "✅ 1 agences sauvegardées : CAISSE DE CREDIT MUTUEL HORIZON\n"
     ]
    },
    {
     "name": "stderr",
     "output_type": "stream",
     "text": [
      "\n",
      "\u001b[A"
     ]
    },
    {
     "name": "stdout",
     "output_type": "stream",
     "text": [
      "✅ 1 agences sauvegardées : CAISSE DE CREDIT MUTUEL DES 4 RIVIÈRES - HUTTENHEIM\n"
     ]
    },
    {
     "name": "stderr",
     "output_type": "stream",
     "text": [
      "\n",
      "\u001b[A"
     ]
    },
    {
     "name": "stdout",
     "output_type": "stream",
     "text": [
      "✅ 1 agences sauvegardées : CAISSE DE CREDIT MUTUEL DE LA REGION D INGWILLER\n"
     ]
    },
    {
     "name": "stderr",
     "output_type": "stream",
     "text": [
      "\n",
      "\u001b[A"
     ]
    },
    {
     "name": "stdout",
     "output_type": "stream",
     "text": [
      "✅ 1 agences sauvegardées : CAISSE DE CREDIT MUTUEL ACKERLAND\n"
     ]
    },
    {
     "name": "stderr",
     "output_type": "stream",
     "text": [
      "\n",
      "\u001b[A"
     ]
    },
    {
     "name": "stdout",
     "output_type": "stream",
     "text": [
      "✅ 1 agences sauvegardées : CAISSE DE CREDIT MUTUEL CONCORDE\n"
     ]
    },
    {
     "name": "stderr",
     "output_type": "stream",
     "text": [
      "\n",
      "\u001b[A"
     ]
    },
    {
     "name": "stdout",
     "output_type": "stream",
     "text": [
      "✅ 1 agences sauvegardées : CAISSE DE CREDIT MUTUEL HAUT KOENIGSBOURG VAL D'ARGENT - KINTZHEIM\n"
     ]
    },
    {
     "name": "stderr",
     "output_type": "stream",
     "text": [
      "\n",
      "\u001b[A"
     ]
    },
    {
     "name": "stdout",
     "output_type": "stream",
     "text": [
      "✅ 1 agences sauvegardées : CAISSE DE CREDIT MUTUEL DES 4 RIVIÈRES - KOGENHEIM\n"
     ]
    },
    {
     "name": "stderr",
     "output_type": "stream",
     "text": [
      "\n",
      "\u001b[A"
     ]
    },
    {
     "name": "stdout",
     "output_type": "stream",
     "text": [
      "✅ 1 agences sauvegardées : CAISSE DE CREDIT MUTUEL EHN-LANDSBERG - KRAUTERGERSHEIM\n"
     ]
    },
    {
     "name": "stderr",
     "output_type": "stream",
     "text": [
      "\n",
      "\u001b[A"
     ]
    },
    {
     "name": "stdout",
     "output_type": "stream",
     "text": [
      "✅ 1 agences sauvegardées : CAISSE DE CREDIT MUTUEL LA WANTZENAU\n"
     ]
    },
    {
     "name": "stderr",
     "output_type": "stream",
     "text": [
      "\n",
      "\u001b[A"
     ]
    },
    {
     "name": "stdout",
     "output_type": "stream",
     "text": [
      "✅ 1 agences sauvegardées : CAISSE DE CREDIT MUTUEL LA SOUFFEL\n"
     ]
    },
    {
     "name": "stderr",
     "output_type": "stream",
     "text": [
      "\n",
      "\u001b[A"
     ]
    },
    {
     "name": "stdout",
     "output_type": "stream",
     "text": [
      "✅ 1 agences sauvegardées : CAISSE DE CREDIT MUTUEL ALSACE DU NORD - LAUTERBOURG\n"
     ]
    },
    {
     "name": "stderr",
     "output_type": "stream",
     "text": [
      "\n",
      "\u001b[A"
     ]
    },
    {
     "name": "stdout",
     "output_type": "stream",
     "text": [
      "✅ 1 agences sauvegardées : CAISSE DE CREDIT MUTUEL SAUER FLECKENSTEIN - LEMBACH\n"
     ]
    },
    {
     "name": "stderr",
     "output_type": "stream",
     "text": [
      "\n",
      "\u001b[A"
     ]
    },
    {
     "name": "stdout",
     "output_type": "stream",
     "text": [
      "✅ 1 agences sauvegardées : CAISSE DE CREDIT MUTUEL LINGOLSHEIM - MONTAGNE VERTE\n"
     ]
    },
    {
     "name": "stderr",
     "output_type": "stream",
     "text": [
      "\n",
      "\u001b[A"
     ]
    },
    {
     "name": "stdout",
     "output_type": "stream",
     "text": [
      "✅ 1 agences sauvegardées : CAISSE DE CREDIT MUTUEL DU COURS DE L ANDLAU - LIPSHEIM\n"
     ]
    },
    {
     "name": "stderr",
     "output_type": "stream",
     "text": [
      "\n",
      "\u001b[A"
     ]
    },
    {
     "name": "stdout",
     "output_type": "stream",
     "text": [
      "✅ 1 agences sauvegardées : CAISSE DE CREDIT MUTUEL BRUCHE NIDECK - LUTZELHOUSE\n"
     ]
    },
    {
     "name": "stderr",
     "output_type": "stream",
     "text": [
      "\n",
      "\u001b[A"
     ]
    },
    {
     "name": "stdout",
     "output_type": "stream",
     "text": [
      "✅ 1 agences sauvegardées : CAISSE DE CREDIT MUTUEL GRAND RIED - MARCKOLSHEIM\n"
     ]
    },
    {
     "name": "stderr",
     "output_type": "stream",
     "text": [
      "\n",
      "\u001b[A"
     ]
    },
    {
     "name": "stdout",
     "output_type": "stream",
     "text": [
      "✅ 1 agences sauvegardées : CAISSE DE CREDIT MUTUEL KRONTHAL\n"
     ]
    },
    {
     "name": "stderr",
     "output_type": "stream",
     "text": [
      "\n",
      "\u001b[A"
     ]
    },
    {
     "name": "stdout",
     "output_type": "stream",
     "text": [
      "✅ 1 agences sauvegardées : CAISSE DE CREDIT MUTUEL EHN-LANDSBERG\n"
     ]
    },
    {
     "name": "stderr",
     "output_type": "stream",
     "text": [
      "\n",
      "\u001b[A"
     ]
    },
    {
     "name": "stdout",
     "output_type": "stream",
     "text": [
      "✅ 1 agences sauvegardées : CAISSE DE CREDIT MUTUEL DE L OUTRE FORET - MERKWILLER PECHELBRONN\n"
     ]
    },
    {
     "name": "stderr",
     "output_type": "stream",
     "text": [
      "\n",
      "\u001b[A"
     ]
    },
    {
     "name": "stdout",
     "output_type": "stream",
     "text": [
      "✅ 1 agences sauvegardées : CAISSE DE CREDIT MUTUEL AVENIR\n"
     ]
    },
    {
     "name": "stderr",
     "output_type": "stream",
     "text": [
      "\n",
      "\u001b[A"
     ]
    },
    {
     "name": "stdout",
     "output_type": "stream",
     "text": [
      "✅ 1 agences sauvegardées : CAISSE DE CREDIT MUTUEL LA VALLEE\n"
     ]
    },
    {
     "name": "stderr",
     "output_type": "stream",
     "text": [
      "\n",
      "\u001b[A"
     ]
    },
    {
     "name": "stdout",
     "output_type": "stream",
     "text": [
      "✅ 1 agences sauvegardées : CAISSE DE CREDIT MUTUEL REGION DE SAVERNE - MONSWILLER\n"
     ]
    },
    {
     "name": "stderr",
     "output_type": "stream",
     "text": [
      "\n",
      "\u001b[A"
     ]
    },
    {
     "name": "stdout",
     "output_type": "stream",
     "text": [
      "✅ 1 agences sauvegardées : CAISSE DE CREDIT MUTUEL DES CITES RHENANES\n"
     ]
    },
    {
     "name": "stderr",
     "output_type": "stream",
     "text": [
      "\n",
      "\u001b[A"
     ]
    },
    {
     "name": "stdout",
     "output_type": "stream",
     "text": [
      "✅ 1 agences sauvegardées : CAISSE DE CREDIT MUTUEL LES TROIS CHENES - MUNDOLSHEIM\n"
     ]
    },
    {
     "name": "stderr",
     "output_type": "stream",
     "text": [
      "\n",
      "\u001b[A"
     ]
    },
    {
     "name": "stdout",
     "output_type": "stream",
     "text": [
      "✅ 1 agences sauvegardées : CAISSE DE CREDIT MUTUEL RIED CENTRE ALSACE\n"
     ]
    },
    {
     "name": "stderr",
     "output_type": "stream",
     "text": [
      "\n",
      "\u001b[A"
     ]
    },
    {
     "name": "stdout",
     "output_type": "stream",
     "text": [
      "✅ 1 agences sauvegardées : CAISSE DE CREDIT MUTUEL FELSBOURG\n"
     ]
    },
    {
     "name": "stderr",
     "output_type": "stream",
     "text": [
      "\n",
      "\u001b[A"
     ]
    },
    {
     "name": "stdout",
     "output_type": "stream",
     "text": [
      "✅ 1 agences sauvegardées : CAISSE DE CREDIT MUTUEL DETTWILLER-NEUWILLER - NEUWILLER LES SAVERNE\n"
     ]
    },
    {
     "name": "stderr",
     "output_type": "stream",
     "text": [
      "\n",
      "\u001b[A"
     ]
    },
    {
     "name": "stdout",
     "output_type": "stream",
     "text": [
      "✅ 1 agences sauvegardées : CAISSE DE CREDIT MUTUEL DES VOSGES DU NORD\n"
     ]
    },
    {
     "name": "stderr",
     "output_type": "stream",
     "text": [
      "\n",
      "\u001b[A"
     ]
    },
    {
     "name": "stdout",
     "output_type": "stream",
     "text": [
      "✅ 1 agences sauvegardées : CAISSE DE CREDIT MUTUEL BRUCHE NIDECK - NIEDERHASLACH\n"
     ]
    },
    {
     "name": "stderr",
     "output_type": "stream",
     "text": [
      "\n",
      "\u001b[A"
     ]
    },
    {
     "name": "stdout",
     "output_type": "stream",
     "text": [
      "✅ 1 agences sauvegardées : CAISSE DE CREDIT MUTUEL ADELAIDE SELTZBACH - NIEDERROEDERN\n"
     ]
    },
    {
     "name": "stderr",
     "output_type": "stream",
     "text": [
      "\n",
      "\u001b[A"
     ]
    },
    {
     "name": "stdout",
     "output_type": "stream",
     "text": [
      "✅ 1 agences sauvegardées : CAISSE DE CREDIT MUTUEL DU RHIN - OBENHEIM DAUBENSAND\n"
     ]
    },
    {
     "name": "stderr",
     "output_type": "stream",
     "text": [
      "\n",
      "\u001b[A"
     ]
    },
    {
     "name": "stdout",
     "output_type": "stream",
     "text": [
      "✅ 1 agences sauvegardées : CAISSE DE CREDIT MUTUEL COTEAUX DE HAUSBERGEN\n"
     ]
    },
    {
     "name": "stderr",
     "output_type": "stream",
     "text": [
      "\n",
      "\u001b[A"
     ]
    },
    {
     "name": "stdout",
     "output_type": "stream",
     "text": [
      "✅ 1 agences sauvegardées : CAISSE DE CREDIT MUTUEL CONCORDE - OBERHOFFEN SUR MODER\n"
     ]
    },
    {
     "name": "stderr",
     "output_type": "stream",
     "text": [
      "\n",
      "\u001b[A"
     ]
    },
    {
     "name": "stdout",
     "output_type": "stream",
     "text": [
      "✅ 1 agences sauvegardées : CAISSE DE CREDIT MUTUEL HANAU-VAL DE MODER - OBERMODERN\n"
     ]
    },
    {
     "name": "stderr",
     "output_type": "stream",
     "text": [
      "\n",
      "\u001b[A"
     ]
    },
    {
     "name": "stdout",
     "output_type": "stream",
     "text": [
      "✅ 1 agences sauvegardées : CAISSE DE CREDIT MUTUEL OSTWALD\n"
     ]
    },
    {
     "name": "stderr",
     "output_type": "stream",
     "text": [
      "\n",
      "\u001b[A"
     ]
    },
    {
     "name": "stdout",
     "output_type": "stream",
     "text": [
      "✅ 1 agences sauvegardées : CAISSE DE CREDIT MUTUEL REGION MARMOUTIER ET OTTERSWILLER\n"
     ]
    },
    {
     "name": "stderr",
     "output_type": "stream",
     "text": [
      "\n",
      "\u001b[A"
     ]
    },
    {
     "name": "stdout",
     "output_type": "stream",
     "text": [
      "✅ 1 agences sauvegardées : CAISSE DE CREDIT MUTUEL PAYS WINGEN PETITE PIERRE - PETERSBACH\n"
     ]
    },
    {
     "name": "stderr",
     "output_type": "stream",
     "text": [
      "\n",
      "\u001b[A"
     ]
    },
    {
     "name": "stdout",
     "output_type": "stream",
     "text": [
      "✅ 1 agences sauvegardées : CAISSE DE CREDIT MUTUEL DES VOSGES DU NORD - REICHSHOFFEN\n"
     ]
    },
    {
     "name": "stderr",
     "output_type": "stream",
     "text": [
      "\n",
      "\u001b[A"
     ]
    },
    {
     "name": "stdout",
     "output_type": "stream",
     "text": [
      "✅ 1 agences sauvegardées : CAISSE DE CREDIT MUTUEL LES TROIS CHENES\n"
     ]
    },
    {
     "name": "stderr",
     "output_type": "stream",
     "text": [
      "\n",
      "\u001b[A"
     ]
    },
    {
     "name": "stdout",
     "output_type": "stream",
     "text": [
      "✅ 1 agences sauvegardées : CAISSE DE CREDIT MUTUEL DU RHIN\n"
     ]
    },
    {
     "name": "stderr",
     "output_type": "stream",
     "text": [
      "\n",
      "\u001b[A"
     ]
    },
    {
     "name": "stdout",
     "output_type": "stream",
     "text": [
      "✅ 1 agences sauvegardées : CAISSE DE CREDIT MUTUEL UFFRIED NORD\n"
     ]
    },
    {
     "name": "stderr",
     "output_type": "stream",
     "text": [
      "\n",
      "\u001b[A"
     ]
    },
    {
     "name": "stdout",
     "output_type": "stream",
     "text": [
      "✅ 1 agences sauvegardées : CAISSE DE CREDIT MUTUEL CANTON DE ROSHEIM\n"
     ]
    },
    {
     "name": "stderr",
     "output_type": "stream",
     "text": [
      "\n",
      "\u001b[A"
     ]
    },
    {
     "name": "stdout",
     "output_type": "stream",
     "text": [
      "✅ 1 agences sauvegardées : CAISSE DE CREDIT MUTUEL BRUCHE NIDECK - ROTHAU\n"
     ]
    },
    {
     "name": "stderr",
     "output_type": "stream",
     "text": [
      "\n",
      "\u001b[A"
     ]
    },
    {
     "name": "stdout",
     "output_type": "stream",
     "text": [
      "✅ 1 agences sauvegardées : CAISSE DE CREDIT MUTUEL REGION DE SAVERNE\n"
     ]
    },
    {
     "name": "stderr",
     "output_type": "stream",
     "text": [
      "\n",
      "\u001b[A"
     ]
    },
    {
     "name": "stdout",
     "output_type": "stream",
     "text": [
      "✅ 1 agences sauvegardées : CAISSE DE CREDIT MUTUEL DU VIGNOBLE - SCHARRACHBERGHEIM\n"
     ]
    },
    {
     "name": "stderr",
     "output_type": "stream",
     "text": [
      "\n",
      "\u001b[A"
     ]
    },
    {
     "name": "stdout",
     "output_type": "stream",
     "text": [
      "✅ 1 agences sauvegardées : CAISSE DE CREDIT MUTUEL SELESTAT SCHERWILLER\n"
     ]
    },
    {
     "name": "stderr",
     "output_type": "stream",
     "text": [
      "\n",
      "\u001b[A"
     ]
    },
    {
     "name": "stdout",
     "output_type": "stream",
     "text": [
      "✅ 9 agences sauvegardées : BANQUE EUROPEENNE DU CREDIT MUTUEL STRASBOURG ENTREPRISES - BECM, BANQUE EUROPEENNE DU CREDIT MUTUEL STRASBOURG IMMOBILIER - BECM, BANQUE EUROPEENNE DU CREDIT MUTUEL STRASBOURG REL. SIEGE - BECM, BANQUE EUROPEENNE DU CREDIT MUTUEL STRASBOURG INTERNATIONAL - BECM, BANQUE EUROPEENNE DU CREDIT MUTUEL SINT MAARTEN - BECM, CAISSE DE CREDIT MUTUEL SCHILTIGHEIM, CAISSE DE CREDIT MUTUEL PROFESSIONS DE SANTE - CMPS STRASBOURG, CAISSE DE CREDIT MUTUEL SCHILTIGHEIM - AGENCE CENTRE, CAISSE DE CREDIT MUTUEL SCHILTIGHEIM - AGENCE CONCORDE\n"
     ]
    },
    {
     "name": "stderr",
     "output_type": "stream",
     "text": [
      "\n",
      "\u001b[A"
     ]
    },
    {
     "name": "stdout",
     "output_type": "stream",
     "text": [
      "✅ 1 agences sauvegardées : CAISSE DE CREDIT MUTUEL SCHIRRHEIN SCHIRRHOFFEN\n"
     ]
    },
    {
     "name": "stderr",
     "output_type": "stream",
     "text": [
      "\n",
      "\u001b[A"
     ]
    },
    {
     "name": "stdout",
     "output_type": "stream",
     "text": [
      "✅ 1 agences sauvegardées : CAISSE DE CREDIT MUTUEL ACKERLAND - SCHNERSHEIM\n"
     ]
    },
    {
     "name": "stderr",
     "output_type": "stream",
     "text": [
      "\n",
      "\u001b[A"
     ]
    },
    {
     "name": "stdout",
     "output_type": "stream",
     "text": [
      "✅ 1 agences sauvegardées : CAISSE DE CREDIT MUTUEL DES VALLONS\n"
     ]
    },
    {
     "name": "stderr",
     "output_type": "stream",
     "text": [
      "\n",
      "\u001b[A"
     ]
    },
    {
     "name": "stdout",
     "output_type": "stream",
     "text": [
      "✅ 1 agences sauvegardées : CAISSE DE CREDIT MUTUEL LA VALLEE - SCHWINDRATZHEIM\n"
     ]
    },
    {
     "name": "stderr",
     "output_type": "stream",
     "text": [
      "\n",
      "\u001b[A"
     ]
    },
    {
     "name": "stdout",
     "output_type": "stream",
     "text": [
      "✅ 1 agences sauvegardées : CAISSE DE CREDIT MUTUEL ALSACE DU NORD - SEEBACH\n"
     ]
    },
    {
     "name": "stderr",
     "output_type": "stream",
     "text": [
      "\n",
      "\u001b[A"
     ]
    },
    {
     "name": "stdout",
     "output_type": "stream",
     "text": [
      "✅ 1 agences sauvegardées : CAISSE DE CREDIT MUTUEL ADELAIDE SELTZBACH\n"
     ]
    },
    {
     "name": "stderr",
     "output_type": "stream",
     "text": [
      "\n",
      "\u001b[A"
     ]
    },
    {
     "name": "stdout",
     "output_type": "stream",
     "text": [
      "✅ 1 agences sauvegardées : CAISSE DE CREDIT MUTUEL PAYS DE LA CERAMIQUE - SESSENHEIM\n"
     ]
    },
    {
     "name": "stderr",
     "output_type": "stream",
     "text": [
      "\n",
      "\u001b[A"
     ]
    },
    {
     "name": "stdout",
     "output_type": "stream",
     "text": [
      "✅ 1 agences sauvegardées : CAISSE DE CREDIT MUTUEL DE SOUFFELWEYERSHEIM\n"
     ]
    },
    {
     "name": "stderr",
     "output_type": "stream",
     "text": [
      "\n",
      "\u001b[A"
     ]
    },
    {
     "name": "stdout",
     "output_type": "stream",
     "text": [
      "✅ 1 agences sauvegardées : CAISSE DE CREDIT MUTUEL PAYS DE LA CERAMIQUE\n"
     ]
    },
    {
     "name": "stderr",
     "output_type": "stream",
     "text": [
      "\n",
      "\u001b[A"
     ]
    },
    {
     "name": "stdout",
     "output_type": "stream",
     "text": [
      "✅ 1 agences sauvegardées : CAISSE DE CREDIT MUTUEL REGION MOLSHEIM - SOULTZ LES BAINS\n"
     ]
    },
    {
     "name": "stderr",
     "output_type": "stream",
     "text": [
      "\n",
      "\u001b[A"
     ]
    },
    {
     "name": "stdout",
     "output_type": "stream",
     "text": [
      "✅ 1 agences sauvegardées : CAISSE DE CREDIT MUTUEL DE L OUTRE FORET - DE L'OUTRE FORET\n"
     ]
    },
    {
     "name": "stderr",
     "output_type": "stream",
     "text": [
      "\n",
      "\u001b[A"
     ]
    },
    {
     "name": "stdout",
     "output_type": "stream",
     "text": [
      "✅ 1 agences sauvegardées : CAISSE DE CREDIT MUTUEL REGION DE SAVERNE - STEINBOURG\n"
     ]
    },
    {
     "name": "stderr",
     "output_type": "stream",
     "text": [
      "\n",
      "\u001b[A"
     ]
    },
    {
     "name": "stdout",
     "output_type": "stream",
     "text": [
      "✅ 10 agences sauvegardées : CAISSE DE CREDIT MUTUEL ST JEAN STRASBOURG, CAISSE DE CREDIT MUTUEL STRASBOURG ROBERTSAU, CAISSE DE CREDIT MUTUEL STRASBOURG VOSGES, CAISSE DE CREDIT MUTUEL STRASBOURG AUSTERLITZ, CAUTIONNEMENT MUTUEL DE L HABITAT - CMH STRASBOURG, CAISSE DE CREDIT MUTUEL STRASBOURG ROBERTSAU, CAISSE DE CREDIT MUTUEL STRASBOURG EUROPE - ANVERS, CAISSE DE CREDIT MUTUEL STRASBOURG AUSTERLITZ - QUAI DES PECHEURS, CAISSE DE CREDIT MUTUEL STRASBOURG EUROPE - AGENCE DU RHIN, CAISSE DE CREDIT MUTUEL STRASBOURG ESPLANADE - ESPACE AV GAL DE GAULLE\n"
     ]
    },
    {
     "name": "stderr",
     "output_type": "stream",
     "text": [
      "\n",
      "\u001b[A"
     ]
    },
    {
     "name": "stdout",
     "output_type": "stream",
     "text": [
      "✅ 1 agences sauvegardées : CAISSE DE CREDIT MUTUEL GRAND RIED - SUNDHOUSE\n"
     ]
    },
    {
     "name": "stderr",
     "output_type": "stream",
     "text": [
      "\n",
      "\u001b[A"
     ]
    },
    {
     "name": "stdout",
     "output_type": "stream",
     "text": [
      "✅ 1 agences sauvegardées : CAISSE DE CREDIT MUTUEL DE L OUTRE FORET - SURBOURG\n"
     ]
    },
    {
     "name": "stderr",
     "output_type": "stream",
     "text": [
      "\n",
      "\u001b[A"
     ]
    },
    {
     "name": "stdout",
     "output_type": "stream",
     "text": [
      "✅ 1 agences sauvegardées : CAISSE DE CREDIT MUTUEL KOCHERSBERG\n"
     ]
    },
    {
     "name": "stderr",
     "output_type": "stream",
     "text": [
      "\n",
      "\u001b[A"
     ]
    },
    {
     "name": "stdout",
     "output_type": "stream",
     "text": [
      "✅ 1 agences sauvegardées : CAISSE DE CREDIT MUTUEL HANAU-VAL DE MODER\n"
     ]
    },
    {
     "name": "stderr",
     "output_type": "stream",
     "text": [
      "\n",
      "\u001b[A"
     ]
    },
    {
     "name": "stdout",
     "output_type": "stream",
     "text": [
      "✅ 1 agences sauvegardées : CAISSE DE CREDIT MUTUEL VENDENHEIM BERSTETT\n"
     ]
    },
    {
     "name": "stderr",
     "output_type": "stream",
     "text": [
      "\n",
      "\u001b[A"
     ]
    },
    {
     "name": "stdout",
     "output_type": "stream",
     "text": [
      "✅ 1 agences sauvegardées : CAISSE DE CREDIT MUTUEL DU VAL DE VILLE\n"
     ]
    },
    {
     "name": "stderr",
     "output_type": "stream",
     "text": [
      "\n",
      "\u001b[A"
     ]
    },
    {
     "name": "stdout",
     "output_type": "stream",
     "text": [
      "✅ 1 agences sauvegardées : CAISSE DE CREDIT MUTUEL DU PAYS DE LA MOSSIG - WANGENBOURG ENGENTHAL\n"
     ]
    },
    {
     "name": "stderr",
     "output_type": "stream",
     "text": [
      "\n",
      "\u001b[A"
     ]
    },
    {
     "name": "stdout",
     "output_type": "stream",
     "text": [
      "✅ 1 agences sauvegardées : CAISSE DE CREDIT MUTUEL DU PAYS DE LA MOSSIG\n"
     ]
    },
    {
     "name": "stderr",
     "output_type": "stream",
     "text": [
      "\n",
      "\u001b[A"
     ]
    },
    {
     "name": "stdout",
     "output_type": "stream",
     "text": [
      "✅ 1 agences sauvegardées : CAISSE DE CREDIT MUTUEL HAGUENAU SUD - WEITBRUCH\n"
     ]
    },
    {
     "name": "stderr",
     "output_type": "stream",
     "text": [
      "\n",
      "\u001b[A"
     ]
    },
    {
     "name": "stdout",
     "output_type": "stream",
     "text": [
      "✅ 1 agences sauvegardées : CAISSE DE CREDIT MUTUEL DU VIGNOBLE\n"
     ]
    },
    {
     "name": "stderr",
     "output_type": "stream",
     "text": [
      "\n",
      "\u001b[A"
     ]
    },
    {
     "name": "stdout",
     "output_type": "stream",
     "text": [
      "✅ 1 agences sauvegardées : CAISSE DE CREDIT MUTUEL DE LA BASSE ZORN - WEYERSHEIM\n"
     ]
    },
    {
     "name": "stderr",
     "output_type": "stream",
     "text": [
      "\n",
      "\u001b[A"
     ]
    },
    {
     "name": "stdout",
     "output_type": "stream",
     "text": [
      "✅ 1 agences sauvegardées : CAISSE DE CREDIT MUTUEL PAYS WINGEN PETITE PIERRE\n"
     ]
    },
    {
     "name": "stderr",
     "output_type": "stream",
     "text": [
      "\n",
      "\u001b[A"
     ]
    },
    {
     "name": "stdout",
     "output_type": "stream",
     "text": [
      "✅ 1 agences sauvegardées : CAISSE DE CREDIT MUTUEL RIED CENTRE ALSACE - WITTISHEIM\n"
     ]
    },
    {
     "name": "stderr",
     "output_type": "stream",
     "text": [
      "\n",
      "\u001b[A"
     ]
    },
    {
     "name": "stdout",
     "output_type": "stream",
     "text": [
      "✅ 1 agences sauvegardées : CAISSE DE CREDIT MUTUEL SAUER FLECKENSTEIN\n"
     ]
    },
    {
     "name": "stderr",
     "output_type": "stream",
     "text": [
      "\n",
      "\u001b[A"
     ]
    },
    {
     "name": "stdout",
     "output_type": "stream",
     "text": [
      "✅ 1 agences sauvegardées : CAISSE DE CREDIT MUTUEL PARC DE LA BRUCHE\n"
     ]
    },
    {
     "name": "stderr",
     "output_type": "stream",
     "text": [
      "\n",
      "\u001b[A\n",
      "\u001b[A"
     ]
    },
    {
     "name": "stdout",
     "output_type": "stream",
     "text": [
      "✅ 1 agences sauvegardées : CAISSE DE CREDIT MUTUEL DES VOSGES DU NORD - ZINSWILLER\n"
     ]
    },
    {
     "name": "stderr",
     "output_type": "stream",
     "text": [
      "\n",
      "\u001b[A\n",
      "\u001b[A"
     ]
    },
    {
     "name": "stdout",
     "output_type": "stream",
     "text": [
      "✅ 1 agences sauvegardées : CAISSE DE CREDIT MUTUEL REGION ALTKIRCH\n"
     ]
    },
    {
     "name": "stderr",
     "output_type": "stream",
     "text": [
      "\n",
      "\u001b[A"
     ]
    },
    {
     "name": "stdout",
     "output_type": "stream",
     "text": [
      "✅ 1 agences sauvegardées : CAISSE DE CREDIT MUTUEL DR ALBERT SCHWEITZER - AMMERSCHWIHR\n"
     ]
    },
    {
     "name": "stderr",
     "output_type": "stream",
     "text": [
      "\n",
      "\u001b[A"
     ]
    },
    {
     "name": "stdout",
     "output_type": "stream",
     "text": [
      "✅ 1 agences sauvegardées : CAISSE DE CREDIT MUTUEL LA RHENANE - BANTZENHEIM\n"
     ]
    },
    {
     "name": "stderr",
     "output_type": "stream",
     "text": [
      "\n",
      "\u001b[A"
     ]
    },
    {
     "name": "stdout",
     "output_type": "stream",
     "text": [
      "✅ 1 agences sauvegardées : CAISSE DE CREDIT MUTUEL RHIN JURA\n"
     ]
    },
    {
     "name": "stderr",
     "output_type": "stream",
     "text": [
      "\n",
      "\u001b[A"
     ]
    },
    {
     "name": "stdout",
     "output_type": "stream",
     "text": [
      "✅ 1 agences sauvegardées : CAISSE DE CREDIT MUTUEL RIBEAUVILLE TAENNCHEL - BERGHEIM\n"
     ]
    },
    {
     "name": "stderr",
     "output_type": "stream",
     "text": [
      "\n",
      "\u001b[A"
     ]
    },
    {
     "name": "stdout",
     "output_type": "stream",
     "text": [
      "✅ 1 agences sauvegardées : CAISSE DE CREDIT MUTUEL VAUBAN - BIESHEIM WIDENSOLEN\n"
     ]
    },
    {
     "name": "stderr",
     "output_type": "stream",
     "text": [
      "\n",
      "\u001b[A"
     ]
    },
    {
     "name": "stdout",
     "output_type": "stream",
     "text": [
      "✅ 1 agences sauvegardées : CAISSE DE CREDIT MUTUEL REGION DE BLOTZHEIM\n"
     ]
    },
    {
     "name": "stderr",
     "output_type": "stream",
     "text": [
      "\n",
      "\u001b[A"
     ]
    },
    {
     "name": "stdout",
     "output_type": "stream",
     "text": [
      "✅ 1 agences sauvegardées : CAISSE DE CREDIT MUTUEL DU NOUVEAU MONDE\n"
     ]
    },
    {
     "name": "stderr",
     "output_type": "stream",
     "text": [
      "\n",
      "\u001b[A"
     ]
    },
    {
     "name": "stdout",
     "output_type": "stream",
     "text": [
      "✅ 2 agences sauvegardées : CAUTIONNEMENT MUTUEL DE L HABITAT - CMH MULHOUSE, CAISSE DE CREDIT MUTUEL MULHOUSE EUROPE - ESPACE ENTREPR. LE RHENAN\n"
     ]
    },
    {
     "name": "stderr",
     "output_type": "stream",
     "text": [
      "\n",
      "\u001b[A"
     ]
    },
    {
     "name": "stdout",
     "output_type": "stream",
     "text": [
      "✅ 1 agences sauvegardées : CAISSE DE CREDIT MUTUEL DU FLORIVAL\n"
     ]
    },
    {
     "name": "stderr",
     "output_type": "stream",
     "text": [
      "\n",
      "\u001b[A"
     ]
    },
    {
     "name": "stdout",
     "output_type": "stream",
     "text": [
      "✅ 1 agences sauvegardées : CAISSE DE CREDIT MUTUEL LA DOLLER - BURNHAUPT LE HAUT\n"
     ]
    },
    {
     "name": "stderr",
     "output_type": "stream",
     "text": [
      "\n",
      "\u001b[A"
     ]
    },
    {
     "name": "stdout",
     "output_type": "stream",
     "text": [
      "✅ 1 agences sauvegardées : CAISSE DE CREDIT MUTUEL DU VIEIL ARMAND - CROISIERE\n"
     ]
    },
    {
     "name": "stderr",
     "output_type": "stream",
     "text": [
      "\n",
      "\u001b[A"
     ]
    },
    {
     "name": "stdout",
     "output_type": "stream",
     "text": [
      "✅ 6 agences sauvegardées : CAISSE DE CREDIT MUTUEL BARTHOLDI, CAISSE DE CREDIT MUTUEL COLMAR LIBERTE, CAISSE DE CREDIT MUTUEL ENSEIGNANT COLMAR - CREDIT MUTUEL ENSEIGNANT, CAISSE DE CREDIT MUTUEL BARTHOLDI - BARTHOLDI TURENNE, CAISSE DE CREDIT MUTUEL COLMAR LIBERTE - PASTEUR, CAISSE DE CREDIT MUTUEL STE GENEVIEVE ET DES PROF. DE SANTE - CMPS COLMAR\n"
     ]
    },
    {
     "name": "stderr",
     "output_type": "stream",
     "text": [
      "\n",
      "\u001b[A"
     ]
    },
    {
     "name": "stdout",
     "output_type": "stream",
     "text": [
      "✅ 1 agences sauvegardées : CAISSE DE CREDIT MUTUEL SUD ALSACE-TERRITOIRE\n"
     ]
    },
    {
     "name": "stderr",
     "output_type": "stream",
     "text": [
      "\n",
      "\u001b[A"
     ]
    },
    {
     "name": "stdout",
     "output_type": "stream",
     "text": [
      "✅ 1 agences sauvegardées : CAISSE DE CREDIT MUTUEL DU HAUT SUNDGAU - DURLINSDORF\n"
     ]
    },
    {
     "name": "stderr",
     "output_type": "stream",
     "text": [
      "\n",
      "\u001b[A"
     ]
    },
    {
     "name": "stdout",
     "output_type": "stream",
     "text": [
      "✅ 1 agences sauvegardées : CAISSE DE CREDIT MUTUEL VIGNOBLE ET CHATEAUX - EGUISHEIM\n"
     ]
    },
    {
     "name": "stderr",
     "output_type": "stream",
     "text": [
      "\n",
      "\u001b[A"
     ]
    },
    {
     "name": "stdout",
     "output_type": "stream",
     "text": [
      "✅ 1 agences sauvegardées : CAISSE DE CREDIT MUTUEL ENSISHEIM ET ENVIRONS\n"
     ]
    },
    {
     "name": "stderr",
     "output_type": "stream",
     "text": [
      "\n",
      "\u001b[A"
     ]
    },
    {
     "name": "stdout",
     "output_type": "stream",
     "text": [
      "✅ 1 agences sauvegardées : CAISSE DE CREDIT MUTUEL RIEDISHEIM ET ENVIRONS - ESCHENTZWILLER\n"
     ]
    },
    {
     "name": "stderr",
     "output_type": "stream",
     "text": [
      "\n",
      "\u001b[A"
     ]
    },
    {
     "name": "stdout",
     "output_type": "stream",
     "text": [
      "✅ 1 agences sauvegardées : CAISSE DE CREDIT MUTUEL HAUTE THUR - FELLERING\n"
     ]
    },
    {
     "name": "stderr",
     "output_type": "stream",
     "text": [
      "\n",
      "\u001b[A"
     ]
    },
    {
     "name": "stdout",
     "output_type": "stream",
     "text": [
      "✅ 1 agences sauvegardées : CAISSE DE CREDIT MUTUEL DU HAUT SUNDGAU\n"
     ]
    },
    {
     "name": "stderr",
     "output_type": "stream",
     "text": [
      "\n",
      "\u001b[A"
     ]
    },
    {
     "name": "stdout",
     "output_type": "stream",
     "text": [
      "✅ 1 agences sauvegardées : CAISSE DE CREDIT MUTUEL DE LA HARDT\n"
     ]
    },
    {
     "name": "stderr",
     "output_type": "stream",
     "text": [
      "\n",
      "\u001b[A"
     ]
    },
    {
     "name": "stdout",
     "output_type": "stream",
     "text": [
      "✅ 1 agences sauvegardées : CAISSE DE CREDIT MUTUEL LE CASTEL - FORTSCHWIHR\n"
     ]
    },
    {
     "name": "stderr",
     "output_type": "stream",
     "text": [
      "\n",
      "\u001b[A"
     ]
    },
    {
     "name": "stdout",
     "output_type": "stream",
     "text": [
      "✅ 1 agences sauvegardées : CAISSE DE CREDIT MUTUEL DES DEUX VALLEES - FRANKEN\n"
     ]
    },
    {
     "name": "stderr",
     "output_type": "stream",
     "text": [
      "\n",
      "\u001b[A"
     ]
    },
    {
     "name": "stdout",
     "output_type": "stream",
     "text": [
      "✅ 1 agences sauvegardées : CAISSE DE CREDIT MUTUEL DU CANTON VERT - FRELAND\n"
     ]
    },
    {
     "name": "stderr",
     "output_type": "stream",
     "text": [
      "\n",
      "\u001b[A"
     ]
    },
    {
     "name": "stdout",
     "output_type": "stream",
     "text": [
      "✅ 1 agences sauvegardées : CAISSE DE CREDIT MUTUEL GUEBWILLER\n"
     ]
    },
    {
     "name": "stderr",
     "output_type": "stream",
     "text": [
      "\n",
      "\u001b[A"
     ]
    },
    {
     "name": "stdout",
     "output_type": "stream",
     "text": [
      "✅ 1 agences sauvegardées : CAISSE DE CREDIT MUTUEL HABSHEIM\n"
     ]
    },
    {
     "name": "stderr",
     "output_type": "stream",
     "text": [
      "\n",
      "\u001b[A"
     ]
    },
    {
     "name": "stdout",
     "output_type": "stream",
     "text": [
      "✅ 1 agences sauvegardées : CAISSE DE CREDIT MUTUEL LA FRONTALIERE - HAGENTHAL\n"
     ]
    },
    {
     "name": "stderr",
     "output_type": "stream",
     "text": [
      "\n",
      "\u001b[A"
     ]
    },
    {
     "name": "stdout",
     "output_type": "stream",
     "text": [
      "✅ 1 agences sauvegardées : CAISSE DE CREDIT MUTUEL LA FRONTALIERE\n"
     ]
    },
    {
     "name": "stderr",
     "output_type": "stream",
     "text": [
      "\n",
      "\u001b[A"
     ]
    },
    {
     "name": "stdout",
     "output_type": "stream",
     "text": [
      "✅ 1 agences sauvegardées : CAISSE DE CREDIT MUTUEL HESINGUE ET ENVIRONS\n"
     ]
    },
    {
     "name": "stderr",
     "output_type": "stream",
     "text": [
      "\n",
      "\u001b[A"
     ]
    },
    {
     "name": "stdout",
     "output_type": "stream",
     "text": [
      "✅ 1 agences sauvegardées : CAISSE DE CREDIT MUTUEL DES DEUX VALLEES\n"
     ]
    },
    {
     "name": "stderr",
     "output_type": "stream",
     "text": [
      "\n",
      "\u001b[A"
     ]
    },
    {
     "name": "stdout",
     "output_type": "stream",
     "text": [
      "✅ 1 agences sauvegardées : CAISSE DE CREDIT MUTUEL DE LA REGION D ILLFURTH - HOCHSTATT\n"
     ]
    },
    {
     "name": "stderr",
     "output_type": "stream",
     "text": [
      "\n",
      "\u001b[A"
     ]
    },
    {
     "name": "stdout",
     "output_type": "stream",
     "text": [
      "✅ 1 agences sauvegardées : CAISSE DE CREDIT MUTUEL LE CASTEL\n"
     ]
    },
    {
     "name": "stderr",
     "output_type": "stream",
     "text": [
      "\n",
      "\u001b[A"
     ]
    },
    {
     "name": "stdout",
     "output_type": "stream",
     "text": [
      "✅ 1 agences sauvegardées : CAISSE DE CREDIT MUTUEL DES 9 ECUS - HOUSSEN\n"
     ]
    },
    {
     "name": "stderr",
     "output_type": "stream",
     "text": [
      "\n",
      "\u001b[A"
     ]
    },
    {
     "name": "stdout",
     "output_type": "stream",
     "text": [
      "✅ 1 agences sauvegardées : CAISSE DE CREDIT MUTUEL DES TROIS PAYS - HUNINGUE\n"
     ]
    },
    {
     "name": "stderr",
     "output_type": "stream",
     "text": [
      "\n",
      "\u001b[A"
     ]
    },
    {
     "name": "stdout",
     "output_type": "stream",
     "text": [
      "✅ 1 agences sauvegardées : CAISSE DE CREDIT MUTUEL DE LA REGION D ILLFURTH\n"
     ]
    },
    {
     "name": "stderr",
     "output_type": "stream",
     "text": [
      "\n",
      "\u001b[A"
     ]
    },
    {
     "name": "stdout",
     "output_type": "stream",
     "text": [
      "✅ 1 agences sauvegardées : CAISSE DE CREDIT MUTUEL ILLZACH\n"
     ]
    },
    {
     "name": "stderr",
     "output_type": "stream",
     "text": [
      "\n",
      "\u001b[A"
     ]
    },
    {
     "name": "stdout",
     "output_type": "stream",
     "text": [
      "✅ 1 agences sauvegardées : CAISSE DE CREDIT MUTUEL FLORIMONT\n"
     ]
    },
    {
     "name": "stderr",
     "output_type": "stream",
     "text": [
      "\n",
      "\u001b[A"
     ]
    },
    {
     "name": "stdout",
     "output_type": "stream",
     "text": [
      "✅ 1 agences sauvegardées : CAISSE DE CREDIT MUTUEL DU GRAND BALLON - ISSENHEIM\n"
     ]
    },
    {
     "name": "stderr",
     "output_type": "stream",
     "text": [
      "\n",
      "\u001b[A"
     ]
    },
    {
     "name": "stdout",
     "output_type": "stream",
     "text": [
      "✅ 2 agences sauvegardées : CAISSE DE CREDIT MUTUEL DR ALBERT SCHWEITZER, CAISSE DE CREDIT MUTUEL DR ALBERT SCHWEITZER - SIGOLSHEIM\n"
     ]
    },
    {
     "name": "stderr",
     "output_type": "stream",
     "text": [
      "\n",
      "\u001b[A"
     ]
    },
    {
     "name": "stdout",
     "output_type": "stream",
     "text": [
      "✅ 1 agences sauvegardées : CAISSE DE CREDIT MUTUEL KEMBS NIFFER\n"
     ]
    },
    {
     "name": "stderr",
     "output_type": "stream",
     "text": [
      "\n",
      "\u001b[A"
     ]
    },
    {
     "name": "stdout",
     "output_type": "stream",
     "text": [
      "✅ 2 agences sauvegardées : CAISSE DE CREDIT MUTUEL KINGERSHEIM, CAISSE DE CREDIT MUTUEL KINGERSHEIM - STRUETH\n"
     ]
    },
    {
     "name": "stderr",
     "output_type": "stream",
     "text": [
      "\n",
      "\u001b[A"
     ]
    },
    {
     "name": "stdout",
     "output_type": "stream",
     "text": [
      "✅ 1 agences sauvegardées : CAISSE DE CREDIT MUTUEL PORTE DU SUNDGAU - LANDSER\n"
     ]
    },
    {
     "name": "stderr",
     "output_type": "stream",
     "text": [
      "\n",
      "\u001b[A"
     ]
    },
    {
     "name": "stdout",
     "output_type": "stream",
     "text": [
      "✅ 1 agences sauvegardées : CAISSE DE CREDIT MUTUEL LA FRONTALIERE - LEYMEN\n"
     ]
    },
    {
     "name": "stderr",
     "output_type": "stream",
     "text": [
      "\n",
      "\u001b[A"
     ]
    },
    {
     "name": "stdout",
     "output_type": "stream",
     "text": [
      "✅ 1 agences sauvegardées : CAISSE DE CREDIT MUTUEL HAUT KOENIGSBOURG VAL D'ARGENT - LIEPVRE\n"
     ]
    },
    {
     "name": "stderr",
     "output_type": "stream",
     "text": [
      "\n",
      "\u001b[A"
     ]
    },
    {
     "name": "stdout",
     "output_type": "stream",
     "text": [
      "✅ 1 agences sauvegardées : CAISSE DE CREDIT MUTUEL LUTTERBACH\n"
     ]
    },
    {
     "name": "stderr",
     "output_type": "stream",
     "text": [
      "\n",
      "\u001b[A"
     ]
    },
    {
     "name": "stdout",
     "output_type": "stream",
     "text": [
      "✅ 1 agences sauvegardées : CAISSE DE CREDIT MUTUEL LA DOLLER\n"
     ]
    },
    {
     "name": "stderr",
     "output_type": "stream",
     "text": [
      "\n",
      "\u001b[A"
     ]
    },
    {
     "name": "stdout",
     "output_type": "stream",
     "text": [
      "✅ 1 agences sauvegardées : CAISSE DE CREDIT MUTUEL PORTE AERIENNE - MERXHEIM\n"
     ]
    },
    {
     "name": "stderr",
     "output_type": "stream",
     "text": [
      "\n",
      "\u001b[A"
     ]
    },
    {
     "name": "stdout",
     "output_type": "stream",
     "text": [
      "✅ 1 agences sauvegardées : CAISSE DE CREDIT MUTUEL VALLEES DE LA FECHT - METZERAL\n"
     ]
    },
    {
     "name": "stderr",
     "output_type": "stream",
     "text": [
      "\n",
      "\u001b[A"
     ]
    },
    {
     "name": "stdout",
     "output_type": "stream",
     "text": [
      "✅ 1 agences sauvegardées : CAISSE DE CREDIT MUTUEL RIBEAUVILLE TAENNCHEL - MITTELWIHR\n"
     ]
    },
    {
     "name": "stderr",
     "output_type": "stream",
     "text": [
      "\n",
      "\u001b[A"
     ]
    },
    {
     "name": "stdout",
     "output_type": "stream",
     "text": [
      "✅ 1 agences sauvegardées : CAISSE DE CREDIT MUTUEL SUD ALSACE-TERRITOIRE - MONTREUX VIEUX\n"
     ]
    },
    {
     "name": "stderr",
     "output_type": "stream",
     "text": [
      "\n",
      "\u001b[A"
     ]
    },
    {
     "name": "stdout",
     "output_type": "stream",
     "text": [
      "✅ 1 agences sauvegardées : CAISSE DE CREDIT MUTUEL HAUTE THUR - MOOSCH\n"
     ]
    },
    {
     "name": "stderr",
     "output_type": "stream",
     "text": [
      "\n",
      "\u001b[A"
     ]
    },
    {
     "name": "stdout",
     "output_type": "stream",
     "text": [
      "✅ 5 agences sauvegardées : CAISSE DE CREDIT MUTUEL MULHOUSE FONDERIE REBBERG, CAISSE DE CREDIT MUTUEL STE GENEVIEVE ET DES PROF. DE SANTE, CAISSE DE CREDIT MUTUEL MULHOUSE STE JEANNE D ARC, CAISSE DE CREDIT MUTUEL ENSEIGNANT 68 SUD - CME 68, CAISSE DE CREDIT MUTUEL STE GENEVIEVE ET DES PROF. DE SANTE - CMPS MULHOUSE\n"
     ]
    },
    {
     "name": "stderr",
     "output_type": "stream",
     "text": [
      "\n",
      "\u001b[A"
     ]
    },
    {
     "name": "stdout",
     "output_type": "stream",
     "text": [
      "✅ 1 agences sauvegardées : CAISSE DE CREDIT MUTUEL VALLEES DE LA FECHT\n"
     ]
    },
    {
     "name": "stderr",
     "output_type": "stream",
     "text": [
      "\n",
      "\u001b[A"
     ]
    },
    {
     "name": "stdout",
     "output_type": "stream",
     "text": [
      "✅ 1 agences sauvegardées : CAISSE DE CREDIT MUTUEL VAUBAN\n"
     ]
    },
    {
     "name": "stderr",
     "output_type": "stream",
     "text": [
      "\n",
      "\u001b[A"
     ]
    },
    {
     "name": "stdout",
     "output_type": "stream",
     "text": [
      "✅ 1 agences sauvegardées : CAISSE DE CREDIT MUTUEL LES BLES D OR OBERHERGHEIM\n"
     ]
    },
    {
     "name": "stderr",
     "output_type": "stream",
     "text": [
      "\n",
      "\u001b[A"
     ]
    },
    {
     "name": "stdout",
     "output_type": "stream",
     "text": [
      "✅ 1 agences sauvegardées : CAISSE DE CREDIT MUTUEL DU CANTON VERT\n"
     ]
    },
    {
     "name": "stderr",
     "output_type": "stream",
     "text": [
      "\n",
      "\u001b[A"
     ]
    },
    {
     "name": "stdout",
     "output_type": "stream",
     "text": [
      "✅ 1 agences sauvegardées : CAISSE DE CREDIT MUTUEL ROUFFACH ET ENVIRONS - ORSCHWIHR\n"
     ]
    },
    {
     "name": "stderr",
     "output_type": "stream",
     "text": [
      "\n",
      "\u001b[A"
     ]
    },
    {
     "name": "stdout",
     "output_type": "stream",
     "text": [
      "✅ 1 agences sauvegardées : CAISSE DE CREDIT MUTUEL RIBEAUVILLE TAENNCHEL - OSTHEIM\n"
     ]
    },
    {
     "name": "stderr",
     "output_type": "stream",
     "text": [
      "\n",
      "\u001b[A"
     ]
    },
    {
     "name": "stdout",
     "output_type": "stream",
     "text": [
      "✅ 1 agences sauvegardées : CAISSE DE CREDIT MUTUEL LA RHENANE\n"
     ]
    },
    {
     "name": "stderr",
     "output_type": "stream",
     "text": [
      "\n",
      "\u001b[A"
     ]
    },
    {
     "name": "stdout",
     "output_type": "stream",
     "text": [
      "✅ 1 agences sauvegardées : CAISSE DE CREDIT MUTUEL PFASTATT\n"
     ]
    },
    {
     "name": "stderr",
     "output_type": "stream",
     "text": [
      "\n",
      "\u001b[A"
     ]
    },
    {
     "name": "stdout",
     "output_type": "stream",
     "text": [
      "✅ 1 agences sauvegardées : CAISSE DE CREDIT MUTUEL DES 9 ECUS\n"
     ]
    },
    {
     "name": "stderr",
     "output_type": "stream",
     "text": [
      "\n",
      "\u001b[A"
     ]
    },
    {
     "name": "stdout",
     "output_type": "stream",
     "text": [
      "✅ 1 agences sauvegardées : CAISSE DE CREDIT MUTUEL DU BASSIN POTASSIQUE - PULVERSHEIM\n"
     ]
    },
    {
     "name": "stderr",
     "output_type": "stream",
     "text": [
      "\n",
      "\u001b[A"
     ]
    },
    {
     "name": "stdout",
     "output_type": "stream",
     "text": [
      "✅ 1 agences sauvegardées : CAISSE DE CREDIT MUTUEL REGION DE BLOTZHEIM - RANSPACH LE BAS\n"
     ]
    },
    {
     "name": "stderr",
     "output_type": "stream",
     "text": [
      "\n",
      "\u001b[A"
     ]
    },
    {
     "name": "stdout",
     "output_type": "stream",
     "text": [
      "✅ 1 agences sauvegardées : CAISSE DE CREDIT MUTUEL PORTE AERIENNE\n"
     ]
    },
    {
     "name": "stderr",
     "output_type": "stream",
     "text": [
      "\n",
      "\u001b[A"
     ]
    },
    {
     "name": "stdout",
     "output_type": "stream",
     "text": [
      "✅ 1 agences sauvegardées : CAISSE DE CREDIT MUTUEL REININGUE ET ENVIRONS\n"
     ]
    },
    {
     "name": "stderr",
     "output_type": "stream",
     "text": [
      "\n",
      "\u001b[A"
     ]
    },
    {
     "name": "stdout",
     "output_type": "stream",
     "text": [
      "✅ 1 agences sauvegardées : CAISSE DE CREDIT MUTUEL RIBEAUVILLE TAENNCHEL\n"
     ]
    },
    {
     "name": "stderr",
     "output_type": "stream",
     "text": [
      "\n",
      "\u001b[A"
     ]
    },
    {
     "name": "stdout",
     "output_type": "stream",
     "text": [
      "✅ 1 agences sauvegardées : CAISSE DE CREDIT MUTUEL DU BASSIN POTASSIQUE - RICHWILLER\n"
     ]
    },
    {
     "name": "stderr",
     "output_type": "stream",
     "text": [
      "\n",
      "\u001b[A"
     ]
    },
    {
     "name": "stdout",
     "output_type": "stream",
     "text": [
      "✅ 1 agences sauvegardées : CAISSE DE CREDIT MUTUEL RIEDISHEIM ET ENVIRONS\n"
     ]
    },
    {
     "name": "stderr",
     "output_type": "stream",
     "text": [
      "\n",
      "\u001b[A"
     ]
    },
    {
     "name": "stdout",
     "output_type": "stream",
     "text": [
      "✅ 1 agences sauvegardées : CAISSE DE CREDIT MUTUEL RIXHEIM\n"
     ]
    },
    {
     "name": "stderr",
     "output_type": "stream",
     "text": [
      "\n",
      "\u001b[A"
     ]
    },
    {
     "name": "stdout",
     "output_type": "stream",
     "text": [
      "✅ 1 agences sauvegardées : CAISSE DE CREDIT MUTUEL DES TROIS PAYS - ROSENAU\n"
     ]
    },
    {
     "name": "stderr",
     "output_type": "stream",
     "text": [
      "\n",
      "\u001b[A"
     ]
    },
    {
     "name": "stdout",
     "output_type": "stream",
     "text": [
      "✅ 1 agences sauvegardées : CAISSE DE CREDIT MUTUEL ROUFFACH ET ENVIRONS\n"
     ]
    },
    {
     "name": "stderr",
     "output_type": "stream",
     "text": [
      "\n",
      "\u001b[A"
     ]
    },
    {
     "name": "stdout",
     "output_type": "stream",
     "text": [
      "✅ 1 agences sauvegardées : CAISSE DE CREDIT MUTUEL QUATELBACH SAUSHEIM\n"
     ]
    },
    {
     "name": "stderr",
     "output_type": "stream",
     "text": [
      "\n",
      "\u001b[A"
     ]
    },
    {
     "name": "stdout",
     "output_type": "stream",
     "text": [
      "✅ 1 agences sauvegardées : CAISSE DE CREDIT MUTUEL DE LA LARGUE\n"
     ]
    },
    {
     "name": "stderr",
     "output_type": "stream",
     "text": [
      "\n",
      "\u001b[A"
     ]
    },
    {
     "name": "stdout",
     "output_type": "stream",
     "text": [
      "✅ 1 agences sauvegardées : CAISSE DE CREDIT MUTUEL PAYS DE SIERENTZ\n"
     ]
    },
    {
     "name": "stderr",
     "output_type": "stream",
     "text": [
      "\n",
      "\u001b[A"
     ]
    },
    {
     "name": "stdout",
     "output_type": "stream",
     "text": [
      "✅ 1 agences sauvegardées : CAISSE DE CREDIT MUTUEL DU GRAND BALLON\n"
     ]
    },
    {
     "name": "stderr",
     "output_type": "stream",
     "text": [
      "\n",
      "\u001b[A"
     ]
    },
    {
     "name": "stdout",
     "output_type": "stream",
     "text": [
      "✅ 1 agences sauvegardées : CAISSE DE CREDIT MUTUEL ROUFFACH ET ENVIRONS - SOULTZMATT\n"
     ]
    },
    {
     "name": "stderr",
     "output_type": "stream",
     "text": [
      "\n",
      "\u001b[A"
     ]
    },
    {
     "name": "stdout",
     "output_type": "stream",
     "text": [
      "✅ 1 agences sauvegardées : CAISSE DE CREDIT MUTUEL ILL ET HARDT - SUNDHOFFEN\n"
     ]
    },
    {
     "name": "stderr",
     "output_type": "stream",
     "text": [
      "\n",
      "\u001b[A"
     ]
    },
    {
     "name": "stdout",
     "output_type": "stream",
     "text": [
      "✅ 1 agences sauvegardées : CAISSE DE CREDIT MUTUEL PAYS DE THANN\n"
     ]
    },
    {
     "name": "stderr",
     "output_type": "stream",
     "text": [
      "\n",
      "\u001b[A"
     ]
    },
    {
     "name": "stdout",
     "output_type": "stream",
     "text": [
      "✅ 1 agences sauvegardées : CAISSE DE CREDIT MUTUEL DU BRAND\n"
     ]
    },
    {
     "name": "stderr",
     "output_type": "stream",
     "text": [
      "\n",
      "\u001b[A"
     ]
    },
    {
     "name": "stdout",
     "output_type": "stream",
     "text": [
      "✅ 1 agences sauvegardées : CAISSE DE CREDIT MUTUEL DU NOUVEAU MONDE - UNGERSHEIM\n"
     ]
    },
    {
     "name": "stderr",
     "output_type": "stream",
     "text": [
      "\n",
      "\u001b[A"
     ]
    },
    {
     "name": "stdout",
     "output_type": "stream",
     "text": [
      "✅ 1 agences sauvegardées : CAISSE DE CREDIT MUTUEL PAYS DE THANN - VIEUX THANN\n"
     ]
    },
    {
     "name": "stderr",
     "output_type": "stream",
     "text": [
      "\n",
      "\u001b[A"
     ]
    },
    {
     "name": "stdout",
     "output_type": "stream",
     "text": [
      "✅ 1 agences sauvegardées : CAISSE DE CREDIT MUTUEL DES TROIS PAYS\n"
     ]
    },
    {
     "name": "stderr",
     "output_type": "stream",
     "text": [
      "\n",
      "\u001b[A"
     ]
    },
    {
     "name": "stdout",
     "output_type": "stream",
     "text": [
      "✅ 1 agences sauvegardées : CAISSE DE CREDIT MUTUEL REGIO PLUS\n"
     ]
    },
    {
     "name": "stderr",
     "output_type": "stream",
     "text": [
      "\n",
      "\u001b[A"
     ]
    },
    {
     "name": "stdout",
     "output_type": "stream",
     "text": [
      "✅ 1 agences sauvegardées : CAISSE DE CREDIT MUTUEL VIGNOBLE ET CHATEAUX - WETTOLSHEIM\n"
     ]
    },
    {
     "name": "stderr",
     "output_type": "stream",
     "text": [
      "\n",
      "\u001b[A"
     ]
    },
    {
     "name": "stdout",
     "output_type": "stream",
     "text": [
      "✅ 1 agences sauvegardées : CAISSE DE CREDIT MUTUEL DU BRAND - WIHR AU VAL\n"
     ]
    },
    {
     "name": "stderr",
     "output_type": "stream",
     "text": [
      "\n",
      "\u001b[A"
     ]
    },
    {
     "name": "stdout",
     "output_type": "stream",
     "text": [
      "✅ 1 agences sauvegardées : CAISSE DE CREDIT MUTUEL PAYS DE THANN - WILLER SUR THUR\n"
     ]
    },
    {
     "name": "stderr",
     "output_type": "stream",
     "text": [
      "\n",
      "\u001b[A"
     ]
    },
    {
     "name": "stdout",
     "output_type": "stream",
     "text": [
      "✅ 1 agences sauvegardées : CAISSE DE CREDIT MUTUEL VIGNOBLE ET CHATEAUX\n"
     ]
    },
    {
     "name": "stderr",
     "output_type": "stream",
     "text": [
      "\n",
      "\u001b[A"
     ]
    },
    {
     "name": "stdout",
     "output_type": "stream",
     "text": [
      "✅ 1 agences sauvegardées : CAISSE DE CREDIT MUTUEL DU BASSIN POTASSIQUE\n"
     ]
    },
    {
     "name": "stderr",
     "output_type": "stream",
     "text": [
      "\n",
      "\u001b[A\n",
      "\u001b[A"
     ]
    },
    {
     "name": "stdout",
     "output_type": "stream",
     "text": [
      "✅ 1 agences sauvegardées : CAISSE DE CREDIT MUTUEL PORTE DU SUNDGAU - ZILLISHEIM\n"
     ]
    },
    {
     "name": "stderr",
     "output_type": "stream",
     "text": [
      "\n",
      "\u001b[A\n",
      "\u001b[A"
     ]
    },
    {
     "name": "stdout",
     "output_type": "stream",
     "text": [
      "✅ 1 agences sauvegardées : CAISSE DE CREDIT MUTUEL CENTRE VOSGES - BRUYERES\n"
     ]
    },
    {
     "name": "stderr",
     "output_type": "stream",
     "text": [
      "\n",
      "\u001b[A"
     ]
    },
    {
     "name": "stdout",
     "output_type": "stream",
     "text": [
      "✅ 1 agences sauvegardées : CAISSE DE CREDIT MUTUEL MOSELLE ET MADON - CHARMES\n"
     ]
    },
    {
     "name": "stderr",
     "output_type": "stream",
     "text": [
      "\n",
      "\u001b[A"
     ]
    },
    {
     "name": "stdout",
     "output_type": "stream",
     "text": [
      "✅ 1 agences sauvegardées : CAISSE DE CREDIT MUTUEL DE LA PLAINE DES VOSGES - CONTREXEVILLE\n"
     ]
    },
    {
     "name": "stderr",
     "output_type": "stream",
     "text": [
      "\n",
      "\u001b[A"
     ]
    },
    {
     "name": "stdout",
     "output_type": "stream",
     "text": [
      "✅ 1 agences sauvegardées : CAISSE DE CREDIT MUTUEL DES HAUTES VOSGES - CORNIMONT VENTRON\n"
     ]
    },
    {
     "name": "stderr",
     "output_type": "stream",
     "text": [
      "\n",
      "\u001b[A"
     ]
    },
    {
     "name": "stdout",
     "output_type": "stream",
     "text": [
      "✅ 3 agences sauvegardées : CAISSE DE CREDIT MUTUEL CENTRE VOSGES, CAISSE DE CREDIT MUTUEL PROFESSIONS DE SANTE 54 - CMPS BUREAU D EPINAL, CAISSE DE CREDIT MUTUEL CENTRE VOSGES - EPINAL BASILIQUE\n"
     ]
    },
    {
     "name": "stderr",
     "output_type": "stream",
     "text": [
      "\n",
      "\u001b[A"
     ]
    },
    {
     "name": "stdout",
     "output_type": "stream",
     "text": [
      "✅ 1 agences sauvegardées : CAISSE DE CREDIT MUTUEL DES HAUTES VOSGES - GERARDMER\n"
     ]
    },
    {
     "name": "stderr",
     "output_type": "stream",
     "text": [
      "\n",
      "\u001b[A"
     ]
    },
    {
     "name": "stdout",
     "output_type": "stream",
     "text": [
      "✅ 1 agences sauvegardées : CAISSE DE CREDIT MUTUEL DES HAUTES VOSGES\n"
     ]
    },
    {
     "name": "stderr",
     "output_type": "stream",
     "text": [
      "\n",
      "\u001b[A"
     ]
    },
    {
     "name": "stdout",
     "output_type": "stream",
     "text": [
      "✅ 2 agences sauvegardées : CAISSE DE CREDIT MUTUEL HAUTE MOSELLE, CAISSE DE CREDIT MUTUEL HAUTE MOSELLE - HAUTE MOSELLE REPLI\n"
     ]
    },
    {
     "name": "stderr",
     "output_type": "stream",
     "text": [
      "\n",
      "\u001b[A"
     ]
    },
    {
     "name": "stdout",
     "output_type": "stream",
     "text": [
      "✅ 1 agences sauvegardées : CAISSE DE CREDIT MUTUEL MOSELLE ET MADON - MIRECOURT\n"
     ]
    },
    {
     "name": "stderr",
     "output_type": "stream",
     "text": [
      "\n",
      "\u001b[A"
     ]
    },
    {
     "name": "stdout",
     "output_type": "stream",
     "text": [
      "✅ 1 agences sauvegardées : CAISSE DE CREDIT MUTUEL PORTE DES VOSGES\n"
     ]
    },
    {
     "name": "stderr",
     "output_type": "stream",
     "text": [
      "\n",
      "\u001b[A"
     ]
    },
    {
     "name": "stdout",
     "output_type": "stream",
     "text": [
      "✅ 1 agences sauvegardées : CAISSE DE CREDIT MUTUEL MOSELLE ET MADON\n"
     ]
    },
    {
     "name": "stderr",
     "output_type": "stream",
     "text": [
      "\n",
      "\u001b[A\n",
      "Régions:  42%|████▏     | 5/12 [1:08:56<1:58:40, 1017.27s/it]"
     ]
    },
    {
     "name": "stdout",
     "output_type": "stream",
     "text": [
      "✅ 1 agences sauvegardées : CAISSE DE CREDIT MUTUEL REMIREMONT - VAGNEY\n"
     ]
    },
    {
     "name": "stderr",
     "output_type": "stream",
     "text": [
      "\n",
      "\u001b[A\n",
      "\u001b[A"
     ]
    },
    {
     "name": "stdout",
     "output_type": "stream",
     "text": [
      "✅ 1 agences sauvegardées : CAISSE DE CREDIT MUTUEL CHATEAU THIERRY\n"
     ]
    },
    {
     "name": "stderr",
     "output_type": "stream",
     "text": [
      "\n",
      "\u001b[A"
     ]
    },
    {
     "name": "stdout",
     "output_type": "stream",
     "text": [
      "✅ 1 agences sauvegardées : CAISSE DE CREDIT MUTUEL CHAUNY\n"
     ]
    },
    {
     "name": "stderr",
     "output_type": "stream",
     "text": [
      "\n",
      "\u001b[A"
     ]
    },
    {
     "name": "stdout",
     "output_type": "stream",
     "text": [
      "✅ 1 agences sauvegardées : CAISSE DE CREDIT MUTUEL LE CATEAU - GUISE\n"
     ]
    },
    {
     "name": "stderr",
     "output_type": "stream",
     "text": [
      "\n",
      "\u001b[A"
     ]
    },
    {
     "name": "stdout",
     "output_type": "stream",
     "text": [
      "✅ 1 agences sauvegardées : CAISSE DE CREDIT MUTUEL FOURMIES - HIRSON\n"
     ]
    },
    {
     "name": "stderr",
     "output_type": "stream",
     "text": [
      "\n",
      "\u001b[A"
     ]
    },
    {
     "name": "stdout",
     "output_type": "stream",
     "text": [
      "✅ 1 agences sauvegardées : CAISSE DE CREDIT MUTUEL LAON\n"
     ]
    },
    {
     "name": "stderr",
     "output_type": "stream",
     "text": [
      "\n",
      "\u001b[A"
     ]
    },
    {
     "name": "stdout",
     "output_type": "stream",
     "text": [
      "✅ 1 agences sauvegardées : CAISSE DE CREDIT MUTUEL SOISSONS\n"
     ]
    },
    {
     "name": "stderr",
     "output_type": "stream",
     "text": [
      "\n",
      "\u001b[A\n",
      "\u001b[A"
     ]
    },
    {
     "name": "stdout",
     "output_type": "stream",
     "text": [
      "✅ 1 agences sauvegardées : CAISSE DE CREDIT MUTUEL CREPY EN VALOIS - VILLERS COTTERETS\n"
     ]
    },
    {
     "name": "stderr",
     "output_type": "stream",
     "text": [
      "\n",
      "\u001b[A\n",
      "\u001b[A"
     ]
    },
    {
     "name": "stdout",
     "output_type": "stream",
     "text": [
      "✅ 1 agences sauvegardées : CAISSE DE CREDIT MUTUEL VALENCIENNES - ANZIN\n"
     ]
    },
    {
     "name": "stderr",
     "output_type": "stream",
     "text": [
      "\n",
      "\u001b[A"
     ]
    },
    {
     "name": "stdout",
     "output_type": "stream",
     "text": [
      "✅ 1 agences sauvegardées : CAISSE DE CREDIT MUTUEL DOUAI - ARLEUX\n"
     ]
    },
    {
     "name": "stderr",
     "output_type": "stream",
     "text": [
      "\n",
      "\u001b[A"
     ]
    },
    {
     "name": "stdout",
     "output_type": "stream",
     "text": [
      "✅ 1 agences sauvegardées : CAISSE DE CREDIT MUTUEL ARMENTIERES\n"
     ]
    },
    {
     "name": "stderr",
     "output_type": "stream",
     "text": [
      "\n",
      "\u001b[A"
     ]
    },
    {
     "name": "stdout",
     "output_type": "stream",
     "text": [
      "✅ 1 agences sauvegardées : CAISSE DE CREDIT MUTUEL WORMHOUT - ARNEKE\n"
     ]
    },
    {
     "name": "stderr",
     "output_type": "stream",
     "text": [
      "\n",
      "\u001b[A"
     ]
    },
    {
     "name": "stdout",
     "output_type": "stream",
     "text": [
      "✅ 1 agences sauvegardées : CAISSE DE CREDIT MUTUEL AULNOYE AYMERIES\n"
     ]
    },
    {
     "name": "stderr",
     "output_type": "stream",
     "text": [
      "\n",
      "\u001b[A"
     ]
    },
    {
     "name": "stdout",
     "output_type": "stream",
     "text": [
      "✅ 1 agences sauvegardées : CAISSE DE CREDIT MUTUEL CAMBRAI - AVESNES LES AUBERT\n"
     ]
    },
    {
     "name": "stderr",
     "output_type": "stream",
     "text": [
      "\n",
      "\u001b[A"
     ]
    },
    {
     "name": "stdout",
     "output_type": "stream",
     "text": [
      "✅ 2 agences sauvegardées : CAISSE DE CREDIT MUTUEL AVESNES SUR HELPE, ESPACE CONSEILS AVESNES SUR HELPE - ECP\n"
     ]
    },
    {
     "name": "stderr",
     "output_type": "stream",
     "text": [
      "\n",
      "\u001b[A"
     ]
    },
    {
     "name": "stdout",
     "output_type": "stream",
     "text": [
      "✅ 1 agences sauvegardées : CAISSE DE CREDIT MUTUEL BAILLEUL\n"
     ]
    },
    {
     "name": "stderr",
     "output_type": "stream",
     "text": [
      "\n",
      "\u001b[A"
     ]
    },
    {
     "name": "stdout",
     "output_type": "stream",
     "text": [
      "✅ 1 agences sauvegardées : CAISSE DE CREDIT MUTUEL CYSOING - BAISIEUX SIN\n"
     ]
    },
    {
     "name": "stderr",
     "output_type": "stream",
     "text": [
      "\n",
      "\u001b[A"
     ]
    },
    {
     "name": "stdout",
     "output_type": "stream",
     "text": [
      "✅ 1 agences sauvegardées : CAISSE DE CREDIT MUTUEL BAVAY\n"
     ]
    },
    {
     "name": "stderr",
     "output_type": "stream",
     "text": [
      "\n",
      "\u001b[A"
     ]
    },
    {
     "name": "stdout",
     "output_type": "stream",
     "text": [
      "✅ 1 agences sauvegardées : CAISSE DE CREDIT MUTUEL BERGUES\n"
     ]
    },
    {
     "name": "stderr",
     "output_type": "stream",
     "text": [
      "\n",
      "\u001b[A"
     ]
    },
    {
     "name": "stdout",
     "output_type": "stream",
     "text": [
      "✅ 1 agences sauvegardées : CAISSE DE CREDIT MUTUEL WORMHOUT - BOLLEZEELE\n"
     ]
    },
    {
     "name": "stderr",
     "output_type": "stream",
     "text": [
      "\n",
      "\u001b[A"
     ]
    },
    {
     "name": "stdout",
     "output_type": "stream",
     "text": [
      "✅ 1 agences sauvegardées : CAISSE DE CREDIT MUTUEL MARCQ EN BAROEUL - BONDUES\n"
     ]
    },
    {
     "name": "stderr",
     "output_type": "stream",
     "text": [
      "\n",
      "\u001b[A"
     ]
    },
    {
     "name": "stdout",
     "output_type": "stream",
     "text": [
      "✅ 1 agences sauvegardées : CAISSE DE CREDIT MUTUEL BOUCHAIN\n"
     ]
    },
    {
     "name": "stderr",
     "output_type": "stream",
     "text": [
      "\n",
      "\u001b[A"
     ]
    },
    {
     "name": "stdout",
     "output_type": "stream",
     "text": [
      "✅ 1 agences sauvegardées : CAISSE DE CREDIT MUTUEL GRAVELINES - BOURBOURG\n"
     ]
    },
    {
     "name": "stderr",
     "output_type": "stream",
     "text": [
      "\n",
      "\u001b[A"
     ]
    },
    {
     "name": "stdout",
     "output_type": "stream",
     "text": [
      "✅ 1 agences sauvegardées : CAISSE DE CREDIT MUTUEL DUNKERQUE MALO - BRAY DUNES\n"
     ]
    },
    {
     "name": "stderr",
     "output_type": "stream",
     "text": [
      "\n",
      "\u001b[A"
     ]
    },
    {
     "name": "stdout",
     "output_type": "stream",
     "text": [
      "✅ 3 agences sauvegardées : CAISSE DE CREDIT MUTUEL CAMBRAI, ESPACE CONSEILS PRO CAMBRAI - ECP, CAISSE DE CREDIT MUTUEL CAMBRAI - CATHEDRALE\n"
     ]
    },
    {
     "name": "stderr",
     "output_type": "stream",
     "text": [
      "\n",
      "\u001b[A"
     ]
    },
    {
     "name": "stdout",
     "output_type": "stream",
     "text": [
      "✅ 1 agences sauvegardées : CAISSE DE CREDIT MUTUEL DUNKERQUE MALO - CAPPELLE LA GRANDE\n"
     ]
    },
    {
     "name": "stderr",
     "output_type": "stream",
     "text": [
      "\n",
      "\u001b[A"
     ]
    },
    {
     "name": "stdout",
     "output_type": "stream",
     "text": [
      "✅ 1 agences sauvegardées : CAISSE DE CREDIT MUTUEL WORMHOUT - CASSEL\n"
     ]
    },
    {
     "name": "stderr",
     "output_type": "stream",
     "text": [
      "\n",
      "\u001b[A"
     ]
    },
    {
     "name": "stdout",
     "output_type": "stream",
     "text": [
      "✅ 1 agences sauvegardées : CAISSE DE CREDIT MUTUEL CAUDRY\n"
     ]
    },
    {
     "name": "stderr",
     "output_type": "stream",
     "text": [
      "\n",
      "\u001b[A"
     ]
    },
    {
     "name": "stdout",
     "output_type": "stream",
     "text": [
      "✅ 1 agences sauvegardées : CAISSE DE CREDIT MUTUEL QUESNOY SUR DEULE - COMINES\n"
     ]
    },
    {
     "name": "stderr",
     "output_type": "stream",
     "text": [
      "\n",
      "\u001b[A"
     ]
    },
    {
     "name": "stdout",
     "output_type": "stream",
     "text": [
      "✅ 1 agences sauvegardées : CAISSE DE CREDIT MUTUEL DUNKERQUE MALO - COUDEKERQUE BRANCHE\n"
     ]
    },
    {
     "name": "stderr",
     "output_type": "stream",
     "text": [
      "\n",
      "\u001b[A"
     ]
    },
    {
     "name": "stdout",
     "output_type": "stream",
     "text": [
      "✅ 1 agences sauvegardées : CAISSE DE CREDIT MUTUEL CROIX\n"
     ]
    },
    {
     "name": "stderr",
     "output_type": "stream",
     "text": [
      "\n",
      "\u001b[A"
     ]
    },
    {
     "name": "stdout",
     "output_type": "stream",
     "text": [
      "✅ 1 agences sauvegardées : CAISSE DE CREDIT MUTUEL CYSOING\n"
     ]
    },
    {
     "name": "stderr",
     "output_type": "stream",
     "text": [
      "\n",
      "\u001b[A"
     ]
    },
    {
     "name": "stdout",
     "output_type": "stream",
     "text": [
      "✅ 1 agences sauvegardées : CAISSE DE CREDIT MUTUEL DENAIN\n"
     ]
    },
    {
     "name": "stderr",
     "output_type": "stream",
     "text": [
      "\n",
      "\u001b[A"
     ]
    },
    {
     "name": "stdout",
     "output_type": "stream",
     "text": [
      "✅ 3 agences sauvegardées : CAISSE DE CREDIT MUTUEL DOUAI, ESPACE CONSEILS PRO DOUAI - ECP, CAISSE DE CREDIT MUTUEL DOUAI - SAINTE THERESE\n"
     ]
    },
    {
     "name": "stderr",
     "output_type": "stream",
     "text": [
      "\n",
      "\u001b[A"
     ]
    },
    {
     "name": "stdout",
     "output_type": "stream",
     "text": [
      "✅ 2 agences sauvegardées : CAISSE DE CREDIT MUTUEL DUNKERQUE CENTRE, ESPACE CONSEILS PRO DUNKERQUE - ECP\n"
     ]
    },
    {
     "name": "stderr",
     "output_type": "stream",
     "text": [
      "\n",
      "\u001b[A"
     ]
    },
    {
     "name": "stdout",
     "output_type": "stream",
     "text": [
      "✅ 1 agences sauvegardées : CAISSE DE CREDIT MUTUEL MERVILLE - ESTAIRES\n"
     ]
    },
    {
     "name": "stderr",
     "output_type": "stream",
     "text": [
      "\n",
      "\u001b[A"
     ]
    },
    {
     "name": "stdout",
     "output_type": "stream",
     "text": [
      "✅ 1 agences sauvegardées : CAISSE DE CREDIT MUTUEL FOURMIES\n"
     ]
    },
    {
     "name": "stderr",
     "output_type": "stream",
     "text": [
      "\n",
      "\u001b[A"
     ]
    },
    {
     "name": "stdout",
     "output_type": "stream",
     "text": [
      "✅ 1 agences sauvegardées : CAISSE DE CREDIT MUTUEL FOURNES EN WEPPES\n"
     ]
    },
    {
     "name": "stderr",
     "output_type": "stream",
     "text": [
      "\n",
      "\u001b[A"
     ]
    },
    {
     "name": "stdout",
     "output_type": "stream",
     "text": [
      "✅ 1 agences sauvegardées : CAISSE DE CREDIT MUTUEL FRETIN\n"
     ]
    },
    {
     "name": "stderr",
     "output_type": "stream",
     "text": [
      "\n",
      "\u001b[A"
     ]
    },
    {
     "name": "stdout",
     "output_type": "stream",
     "text": [
      "✅ 1 agences sauvegardées : CAISSE DE CREDIT MUTUEL CAMBRAI - GOUZEAUCOURT\n"
     ]
    },
    {
     "name": "stderr",
     "output_type": "stream",
     "text": [
      "\n",
      "\u001b[A"
     ]
    },
    {
     "name": "stdout",
     "output_type": "stream",
     "text": [
      "✅ 1 agences sauvegardées : CAISSE DE CREDIT MUTUEL DUNKERQUE CENTRE - GRANDE SYNTHE\n"
     ]
    },
    {
     "name": "stderr",
     "output_type": "stream",
     "text": [
      "\n",
      "\u001b[A"
     ]
    },
    {
     "name": "stdout",
     "output_type": "stream",
     "text": [
      "✅ 1 agences sauvegardées : CAISSE DE CREDIT MUTUEL GRAVELINES\n"
     ]
    },
    {
     "name": "stderr",
     "output_type": "stream",
     "text": [
      "\n",
      "\u001b[A"
     ]
    },
    {
     "name": "stdout",
     "output_type": "stream",
     "text": [
      "✅ 1 agences sauvegardées : CAISSE DE CREDIT MUTUEL HALLUIN\n"
     ]
    },
    {
     "name": "stderr",
     "output_type": "stream",
     "text": [
      "\n",
      "\u001b[A"
     ]
    },
    {
     "name": "stdout",
     "output_type": "stream",
     "text": [
      "✅ 1 agences sauvegardées : CAISSE DE CREDIT MUTUEL HAUBOURDIN\n"
     ]
    },
    {
     "name": "stderr",
     "output_type": "stream",
     "text": [
      "\n",
      "\u001b[A"
     ]
    },
    {
     "name": "stdout",
     "output_type": "stream",
     "text": [
      "✅ 1 agences sauvegardées : CAISSE DE CREDIT MUTUEL HAUTMONT\n"
     ]
    },
    {
     "name": "stderr",
     "output_type": "stream",
     "text": [
      "\n",
      "\u001b[A"
     ]
    },
    {
     "name": "stdout",
     "output_type": "stream",
     "text": [
      "✅ 3 agences sauvegardées : CAISSE DE CREDIT MUTUEL HAZEBROUCK, ESPACE CONSEILS PRO HAZEBROUCK - ECP, CAISSE DE CREDIT MUTUEL HAZEBROUCK - NOUVEAU MDE\n"
     ]
    },
    {
     "name": "stderr",
     "output_type": "stream",
     "text": [
      "\n",
      "\u001b[A"
     ]
    },
    {
     "name": "stdout",
     "output_type": "stream",
     "text": [
      "✅ 1 agences sauvegardées : CAISSE DE CREDIT MUTUEL BERGUES - HONDSCHOOTE\n"
     ]
    },
    {
     "name": "stderr",
     "output_type": "stream",
     "text": [
      "\n",
      "\u001b[A"
     ]
    },
    {
     "name": "stdout",
     "output_type": "stream",
     "text": [
      "✅ 1 agences sauvegardées : CAISSE DE CREDIT MUTUEL JEUMONT\n"
     ]
    },
    {
     "name": "stderr",
     "output_type": "stream",
     "text": [
      "\n",
      "\u001b[A"
     ]
    },
    {
     "name": "stdout",
     "output_type": "stream",
     "text": [
      "✅ 1 agences sauvegardées : CAISSE DE CREDIT MUTUEL LA MADELEINE\n"
     ]
    },
    {
     "name": "stderr",
     "output_type": "stream",
     "text": [
      "\n",
      "\u001b[A"
     ]
    },
    {
     "name": "stdout",
     "output_type": "stream",
     "text": [
      "✅ 1 agences sauvegardées : CAISSE DE CREDIT MUTUEL LAMBERSART\n"
     ]
    },
    {
     "name": "stderr",
     "output_type": "stream",
     "text": [
      "\n",
      "\u001b[A"
     ]
    },
    {
     "name": "stdout",
     "output_type": "stream",
     "text": [
      "✅ 1 agences sauvegardées : CAISSE DE CREDIT MUTUEL LANDRECIES\n"
     ]
    },
    {
     "name": "stderr",
     "output_type": "stream",
     "text": [
      "\n",
      "\u001b[A"
     ]
    },
    {
     "name": "stdout",
     "output_type": "stream",
     "text": [
      "✅ 1 agences sauvegardées : CAISSE DE CREDIT MUTUEL LANNOY\n"
     ]
    },
    {
     "name": "stderr",
     "output_type": "stream",
     "text": [
      "\n",
      "\u001b[A"
     ]
    },
    {
     "name": "stdout",
     "output_type": "stream",
     "text": [
      "✅ 1 agences sauvegardées : CAISSE DE CREDIT MUTUEL LE QUESNOY\n"
     ]
    },
    {
     "name": "stderr",
     "output_type": "stream",
     "text": [
      "\n",
      "\u001b[A"
     ]
    },
    {
     "name": "stdout",
     "output_type": "stream",
     "text": [
      "✅ 1 agences sauvegardées : CAISSE DE CREDIT MUTUEL LANNOY - LEERS\n"
     ]
    },
    {
     "name": "stderr",
     "output_type": "stream",
     "text": [
      "\n",
      "\u001b[A"
     ]
    },
    {
     "name": "stdout",
     "output_type": "stream",
     "text": [
      "✅ 1 agences sauvegardées : CAISSE DE CREDIT MUTUEL LILLE LIBERTE - GAMBETTA\n"
     ]
    },
    {
     "name": "stderr",
     "output_type": "stream",
     "text": [
      "\n",
      "\u001b[A"
     ]
    },
    {
     "name": "stdout",
     "output_type": "stream",
     "text": [
      "✅ 1 agences sauvegardées : CAISSE DE CREDIT MUTUEL LINSELLES\n"
     ]
    },
    {
     "name": "stderr",
     "output_type": "stream",
     "text": [
      "\n",
      "\u001b[A"
     ]
    },
    {
     "name": "stdout",
     "output_type": "stream",
     "text": [
      "✅ 1 agences sauvegardées : CAISSE DE CREDIT MUTUEL GRAVELINES - LOON PLAGE\n"
     ]
    },
    {
     "name": "stderr",
     "output_type": "stream",
     "text": [
      "\n",
      "\u001b[A"
     ]
    },
    {
     "name": "stdout",
     "output_type": "stream",
     "text": [
      "✅ 1 agences sauvegardées : CAISSE DE CREDIT MUTUEL HAUBOURDIN - LOOS LES LILLE\n"
     ]
    },
    {
     "name": "stderr",
     "output_type": "stream",
     "text": [
      "\n",
      "\u001b[A"
     ]
    },
    {
     "name": "stdout",
     "output_type": "stream",
     "text": [
      "✅ 1 agences sauvegardées : CAISSE DE CREDIT MUTUEL MARCQ EN BAROEUL\n"
     ]
    },
    {
     "name": "stderr",
     "output_type": "stream",
     "text": [
      "\n",
      "\u001b[A"
     ]
    },
    {
     "name": "stdout",
     "output_type": "stream",
     "text": [
      "✅ 1 agences sauvegardées : CAISSE DE CREDIT MUTUEL MAUBEUGE\n"
     ]
    },
    {
     "name": "stderr",
     "output_type": "stream",
     "text": [
      "\n",
      "\u001b[A"
     ]
    },
    {
     "name": "stdout",
     "output_type": "stream",
     "text": [
      "✅ 1 agences sauvegardées : CAISSE DE CREDIT MUTUEL MERVILLE\n"
     ]
    },
    {
     "name": "stderr",
     "output_type": "stream",
     "text": [
      "\n",
      "\u001b[A"
     ]
    },
    {
     "name": "stdout",
     "output_type": "stream",
     "text": [
      "✅ 1 agences sauvegardées : CAISSE DE CREDIT MUTUEL MONS EN BAROEUL\n"
     ]
    },
    {
     "name": "stderr",
     "output_type": "stream",
     "text": [
      "\n",
      "\u001b[A"
     ]
    },
    {
     "name": "stdout",
     "output_type": "stream",
     "text": [
      "✅ 1 agences sauvegardées : CAISSE DE CREDIT MUTUEL MARCQ EN BAROEUL - MOUVAUX\n"
     ]
    },
    {
     "name": "stderr",
     "output_type": "stream",
     "text": [
      "\n",
      "\u001b[A"
     ]
    },
    {
     "name": "stdout",
     "output_type": "stream",
     "text": [
      "✅ 1 agences sauvegardées : CAISSE DE CREDIT MUTUEL HALLUIN - NEUVILLE EN FERRAIN\n"
     ]
    },
    {
     "name": "stderr",
     "output_type": "stream",
     "text": [
      "\n",
      "\u001b[A"
     ]
    },
    {
     "name": "stdout",
     "output_type": "stream",
     "text": [
      "✅ 1 agences sauvegardées : CAISSE DE CREDIT MUTUEL ARMENTIERES - NIEPPE\n"
     ]
    },
    {
     "name": "stderr",
     "output_type": "stream",
     "text": [
      "\n",
      "\u001b[A"
     ]
    },
    {
     "name": "stdout",
     "output_type": "stream",
     "text": [
      "✅ 2 agences sauvegardées : CAISSE DE CREDIT MUTUEL ORCHIES, ESPACE CONSEILS PRO ORCHIES - ECP\n"
     ]
    },
    {
     "name": "stderr",
     "output_type": "stream",
     "text": [
      "\n",
      "\u001b[A"
     ]
    },
    {
     "name": "stdout",
     "output_type": "stream",
     "text": [
      "✅ 1 agences sauvegardées : CAISSE DE CREDIT MUTUEL PERENCHIES\n"
     ]
    },
    {
     "name": "stderr",
     "output_type": "stream",
     "text": [
      "\n",
      "\u001b[A"
     ]
    },
    {
     "name": "stdout",
     "output_type": "stream",
     "text": [
      "✅ 1 agences sauvegardées : CAISSE DE CREDIT MUTUEL SECLIN - PROVIN\n"
     ]
    },
    {
     "name": "stderr",
     "output_type": "stream",
     "text": [
      "\n",
      "\u001b[A"
     ]
    },
    {
     "name": "stdout",
     "output_type": "stream",
     "text": [
      "✅ 1 agences sauvegardées : CAISSE DE CREDIT MUTUEL QUESNOY SUR DEULE\n"
     ]
    },
    {
     "name": "stderr",
     "output_type": "stream",
     "text": [
      "\n",
      "\u001b[A"
     ]
    },
    {
     "name": "stdout",
     "output_type": "stream",
     "text": [
      "✅ 1 agences sauvegardées : CAISSE DE CREDIT MUTUEL HAZEBROUCK - RENESCURE\n"
     ]
    },
    {
     "name": "stderr",
     "output_type": "stream",
     "text": [
      "\n",
      "\u001b[A"
     ]
    },
    {
     "name": "stdout",
     "output_type": "stream",
     "text": [
      "✅ 1 agences sauvegardées : CAISSE DE CREDIT MUTUEL RONCHIN\n"
     ]
    },
    {
     "name": "stderr",
     "output_type": "stream",
     "text": [
      "\n",
      "\u001b[A"
     ]
    },
    {
     "name": "stdout",
     "output_type": "stream",
     "text": [
      "✅ 1 agences sauvegardées : CAISSE DE CREDIT MUTUEL HALLUIN - RONCQ\n"
     ]
    },
    {
     "name": "stderr",
     "output_type": "stream",
     "text": [
      "\n",
      "\u001b[A"
     ]
    },
    {
     "name": "stdout",
     "output_type": "stream",
     "text": [
      "✅ 2 agences sauvegardées : CAISSE DE CREDIT MUTUEL ROUBAIX LECLERC, CAISSE DE CREDIT MUTUEL ROUBAIX LECLERC - LYON\n"
     ]
    },
    {
     "name": "stderr",
     "output_type": "stream",
     "text": [
      "\n",
      "\u001b[A"
     ]
    },
    {
     "name": "stdout",
     "output_type": "stream",
     "text": [
      "✅ 1 agences sauvegardées : CAISSE DE CREDIT MUTUEL CYSOING - SAINGHIN EN MELANTOIS\n"
     ]
    },
    {
     "name": "stderr",
     "output_type": "stream",
     "text": [
      "\n",
      "\u001b[A"
     ]
    },
    {
     "name": "stdout",
     "output_type": "stream",
     "text": [
      "✅ 1 agences sauvegardées : CAISSE DE CREDIT MUTUEL WAVRIN - SANTES\n"
     ]
    },
    {
     "name": "stderr",
     "output_type": "stream",
     "text": [
      "\n",
      "\u001b[A"
     ]
    },
    {
     "name": "stdout",
     "output_type": "stream",
     "text": [
      "✅ 1 agences sauvegardées : CAISSE DE CREDIT MUTUEL SECLIN\n"
     ]
    },
    {
     "name": "stderr",
     "output_type": "stream",
     "text": [
      "\n",
      "\u001b[A"
     ]
    },
    {
     "name": "stdout",
     "output_type": "stream",
     "text": [
      "✅ 1 agences sauvegardées : CAISSE DE CREDIT MUTUEL DOUAI - SIN LE NOBLE\n"
     ]
    },
    {
     "name": "stderr",
     "output_type": "stream",
     "text": [
      "\n",
      "\u001b[A"
     ]
    },
    {
     "name": "stdout",
     "output_type": "stream",
     "text": [
      "✅ 1 agences sauvegardées : CAISSE DE CREDIT MUTUEL SOLESMES\n"
     ]
    },
    {
     "name": "stderr",
     "output_type": "stream",
     "text": [
      "\n",
      "\u001b[A"
     ]
    },
    {
     "name": "stdout",
     "output_type": "stream",
     "text": [
      "✅ 1 agences sauvegardées : CAISSE DE CREDIT MUTUEL MAUBEUGE - SOLRE LE CHATEAU\n"
     ]
    },
    {
     "name": "stderr",
     "output_type": "stream",
     "text": [
      "\n",
      "\u001b[A"
     ]
    },
    {
     "name": "stdout",
     "output_type": "stream",
     "text": [
      "✅ 1 agences sauvegardées : CAISSE DE CREDIT MUTUEL SOMAIN\n"
     ]
    },
    {
     "name": "stderr",
     "output_type": "stream",
     "text": [
      "\n",
      "\u001b[A"
     ]
    },
    {
     "name": "stdout",
     "output_type": "stream",
     "text": [
      "✅ 1 agences sauvegardées : CAISSE DE CREDIT MUTUEL HAZEBROUCK - STEENVOORDE\n"
     ]
    },
    {
     "name": "stderr",
     "output_type": "stream",
     "text": [
      "\n",
      "\u001b[A"
     ]
    },
    {
     "name": "stdout",
     "output_type": "stream",
     "text": [
      "✅ 1 agences sauvegardées : CAISSE DE CREDIT MUTUEL BAILLEUL - STEENWERCK\n"
     ]
    },
    {
     "name": "stderr",
     "output_type": "stream",
     "text": [
      "\n",
      "\u001b[A"
     ]
    },
    {
     "name": "stdout",
     "output_type": "stream",
     "text": [
      "✅ 1 agences sauvegardées : CAISSE DE CREDIT MUTUEL FRETIN - TEMPLEUVE\n"
     ]
    },
    {
     "name": "stderr",
     "output_type": "stream",
     "text": [
      "\n",
      "\u001b[A"
     ]
    },
    {
     "name": "stdout",
     "output_type": "stream",
     "text": [
      "✅ 1 agences sauvegardées : CAISSE DE CREDIT MUTUEL THUMERIES\n"
     ]
    },
    {
     "name": "stderr",
     "output_type": "stream",
     "text": [
      "\n",
      "\u001b[A"
     ]
    },
    {
     "name": "stdout",
     "output_type": "stream",
     "text": [
      "✅ 2 agences sauvegardées : CAISSE DE CREDIT MUTUEL TOURCOING REPUBLIQUE, CAISSE DE CREDIT MUTUEL TOURCOING REPUBLIQUE - GAND\n"
     ]
    },
    {
     "name": "stderr",
     "output_type": "stream",
     "text": [
      "\n",
      "\u001b[A"
     ]
    },
    {
     "name": "stdout",
     "output_type": "stream",
     "text": [
      "✅ 3 agences sauvegardées : CMNE CENTRE D'AFFAIRES VALENCIENNES - CENT AFF, CAISSE DE CREDIT MUTUEL VALENCIENNES, ESPACE CONSEILS PRO VALENCIENNES - ECP\n"
     ]
    },
    {
     "name": "stderr",
     "output_type": "stream",
     "text": [
      "\n",
      "\u001b[A"
     ]
    },
    {
     "name": "stdout",
     "output_type": "stream",
     "text": [
      "✅ 1 agences sauvegardées : CAISSE DE CREDIT MUTUEL PERENCHIES - VERLINGHEM\n"
     ]
    },
    {
     "name": "stderr",
     "output_type": "stream",
     "text": [
      "\n",
      "\u001b[A"
     ]
    },
    {
     "name": "stdout",
     "output_type": "stream",
     "text": [
      "✅ 1 agences sauvegardées : CAISSE DE CREDIT MUTUEL VIEUX CONDE\n"
     ]
    },
    {
     "name": "stderr",
     "output_type": "stream",
     "text": [
      "\n",
      "\u001b[A"
     ]
    },
    {
     "name": "stdout",
     "output_type": "stream",
     "text": [
      "ℹ️ Pas de nouvelles agences (ou déjà existantes).\n"
     ]
    },
    {
     "name": "stderr",
     "output_type": "stream",
     "text": [
      "\n",
      "\u001b[A"
     ]
    },
    {
     "name": "stdout",
     "output_type": "stream",
     "text": [
      "✅ 2 agences sauvegardées : CMNE CENTRE D'AFFAIRES LILLE - CENT AFF LILLE, ESPACE CONSEILS PRO WASQUEHAL - ECP\n"
     ]
    },
    {
     "name": "stderr",
     "output_type": "stream",
     "text": [
      "\n",
      "\u001b[A"
     ]
    },
    {
     "name": "stdout",
     "output_type": "stream",
     "text": [
      "✅ 1 agences sauvegardées : CAISSE DE CREDIT MUTUEL WATTIGNIES\n"
     ]
    },
    {
     "name": "stderr",
     "output_type": "stream",
     "text": [
      "\n",
      "\u001b[A"
     ]
    },
    {
     "name": "stdout",
     "output_type": "stream",
     "text": [
      "✅ 1 agences sauvegardées : CAISSE DE CREDIT MUTUEL ROUBAIX LECLERC - WATTRELOS\n"
     ]
    },
    {
     "name": "stderr",
     "output_type": "stream",
     "text": [
      "\n",
      "\u001b[A"
     ]
    },
    {
     "name": "stdout",
     "output_type": "stream",
     "text": [
      "✅ 1 agences sauvegardées : CAISSE DE CREDIT MUTUEL WAVRIN\n"
     ]
    },
    {
     "name": "stderr",
     "output_type": "stream",
     "text": [
      "\n",
      "\u001b[A\n",
      "\u001b[A"
     ]
    },
    {
     "name": "stdout",
     "output_type": "stream",
     "text": [
      "✅ 1 agences sauvegardées : CAISSE DE CREDIT MUTUEL WORMHOUT\n"
     ]
    },
    {
     "name": "stderr",
     "output_type": "stream",
     "text": [
      "\n",
      "\u001b[A\n",
      "\u001b[A"
     ]
    },
    {
     "name": "stdout",
     "output_type": "stream",
     "text": [
      "✅ 4 agences sauvegardées : CAISSE DE CREDIT MUTUEL BEAUVAIS, ESPACE CONSEILS PRO BEAUVAIS - ECP, CAISSE DE CREDIT MUTUEL BEAUVAIS - GREBER, CAISSE DE CREDIT MUTUEL BEAUVAIS - VOISINLIEU\n"
     ]
    },
    {
     "name": "stderr",
     "output_type": "stream",
     "text": [
      "\n",
      "\u001b[A"
     ]
    },
    {
     "name": "stdout",
     "output_type": "stream",
     "text": [
      "✅ 1 agences sauvegardées : CAISSE DE CREDIT MUTUEL SAINT JUST EN CHAUSSEE - BRETEUIL\n"
     ]
    },
    {
     "name": "stderr",
     "output_type": "stream",
     "text": [
      "\n",
      "\u001b[A"
     ]
    },
    {
     "name": "stdout",
     "output_type": "stream",
     "text": [
      "✅ 1 agences sauvegardées : CAISSE DE CREDIT MUTUEL BEAUVAIS - CHAMBLY\n"
     ]
    },
    {
     "name": "stderr",
     "output_type": "stream",
     "text": [
      "\n",
      "\u001b[A"
     ]
    },
    {
     "name": "stdout",
     "output_type": "stream",
     "text": [
      "✅ 1 agences sauvegardées : CAISSE DE CREDIT MUTUEL SENLIS - CHANTILLY\n"
     ]
    },
    {
     "name": "stderr",
     "output_type": "stream",
     "text": [
      "\n",
      "\u001b[A"
     ]
    },
    {
     "name": "stdout",
     "output_type": "stream",
     "text": [
      "✅ 1 agences sauvegardées : CAISSE DE CREDIT MUTUEL BEAUVAIS - CHAUMONT EN VEXIN\n"
     ]
    },
    {
     "name": "stderr",
     "output_type": "stream",
     "text": [
      "\n",
      "\u001b[A"
     ]
    },
    {
     "name": "stdout",
     "output_type": "stream",
     "text": [
      "✅ 1 agences sauvegardées : CAISSE DE CREDIT MUTUEL CREIL - CLERMONT\n"
     ]
    },
    {
     "name": "stderr",
     "output_type": "stream",
     "text": [
      "\n",
      "\u001b[A"
     ]
    },
    {
     "name": "stdout",
     "output_type": "stream",
     "text": [
      "✅ 2 agences sauvegardées : CAISSE DE CREDIT MUTUEL COMPIEGNE, CAISSE DE CREDIT MUTUEL COMPIEGNE - LES SABLONS\n"
     ]
    },
    {
     "name": "stderr",
     "output_type": "stream",
     "text": [
      "\n",
      "\u001b[A"
     ]
    },
    {
     "name": "stdout",
     "output_type": "stream",
     "text": [
      "✅ 1 agences sauvegardées : CAISSE DE CREDIT MUTUEL CREIL\n"
     ]
    },
    {
     "name": "stderr",
     "output_type": "stream",
     "text": [
      "\n",
      "\u001b[A"
     ]
    },
    {
     "name": "stdout",
     "output_type": "stream",
     "text": [
      "✅ 1 agences sauvegardées : CAISSE DE CREDIT MUTUEL CREPY EN VALOIS\n"
     ]
    },
    {
     "name": "stderr",
     "output_type": "stream",
     "text": [
      "\n",
      "\u001b[A"
     ]
    },
    {
     "name": "stdout",
     "output_type": "stream",
     "text": [
      "✅ 1 agences sauvegardées : CAISSE DE CREDIT MUTUEL BEAUVAIS - MERU\n"
     ]
    },
    {
     "name": "stderr",
     "output_type": "stream",
     "text": [
      "\n",
      "\u001b[A"
     ]
    },
    {
     "name": "stdout",
     "output_type": "stream",
     "text": [
      "✅ 1 agences sauvegardées : CAISSE DE CREDIT MUTUEL CREIL - NOGENT SUR OISE\n"
     ]
    },
    {
     "name": "stderr",
     "output_type": "stream",
     "text": [
      "\n",
      "\u001b[A"
     ]
    },
    {
     "name": "stdout",
     "output_type": "stream",
     "text": [
      "✅ 1 agences sauvegardées : CAISSE DE CREDIT MUTUEL NOYON\n"
     ]
    },
    {
     "name": "stderr",
     "output_type": "stream",
     "text": [
      "\n",
      "\u001b[A\n",
      "\u001b[A"
     ]
    },
    {
     "name": "stdout",
     "output_type": "stream",
     "text": [
      "✅ 1 agences sauvegardées : CAISSE DE CREDIT MUTUEL SENLIS\n"
     ]
    },
    {
     "name": "stderr",
     "output_type": "stream",
     "text": [
      "\n",
      "\u001b[A\n",
      "\u001b[A"
     ]
    },
    {
     "name": "stdout",
     "output_type": "stream",
     "text": [
      "✅ 1 agences sauvegardées : CAISSE DE CREDIT MUTUEL ACHICOURT\n"
     ]
    },
    {
     "name": "stderr",
     "output_type": "stream",
     "text": [
      "\n",
      "\u001b[A"
     ]
    },
    {
     "name": "stdout",
     "output_type": "stream",
     "text": [
      "✅ 1 agences sauvegardées : CAISSE DE CREDIT MUTUEL AIRE SUR LA LYS\n"
     ]
    },
    {
     "name": "stderr",
     "output_type": "stream",
     "text": [
      "\n",
      "\u001b[A"
     ]
    },
    {
     "name": "stdout",
     "output_type": "stream",
     "text": [
      "✅ 1 agences sauvegardées : CAISSE DE CREDIT MUTUEL ARDRES\n"
     ]
    },
    {
     "name": "stderr",
     "output_type": "stream",
     "text": [
      "\n",
      "\u001b[A"
     ]
    },
    {
     "name": "stdout",
     "output_type": "stream",
     "text": [
      "✅ 4 agences sauvegardées : CMNE CENTRE D'AFFAIRES ARRAS - CENT AFF, ESPACE CONSEILS PRO ARRAS - ECP, CAISSE DE CREDIT MUTUEL BEAURAINS - ARRAS SUD, CAISSE DE CREDIT MUTUEL ARRAS - VERLAINE\n"
     ]
    },
    {
     "name": "stderr",
     "output_type": "stream",
     "text": [
      "\n",
      "\u001b[A"
     ]
    },
    {
     "name": "stdout",
     "output_type": "stream",
     "text": [
      "✅ 1 agences sauvegardées : CAISSE DE CREDIT MUTUEL AVESNES LE COMTE - AUBIGNY EN ARTOIS\n"
     ]
    },
    {
     "name": "stderr",
     "output_type": "stream",
     "text": [
      "\n",
      "\u001b[A"
     ]
    },
    {
     "name": "stdout",
     "output_type": "stream",
     "text": [
      "✅ 1 agences sauvegardées : CAISSE DE CREDIT MUTUEL AUCHEL\n"
     ]
    },
    {
     "name": "stderr",
     "output_type": "stream",
     "text": [
      "\n",
      "\u001b[A"
     ]
    },
    {
     "name": "stdout",
     "output_type": "stream",
     "text": [
      "✅ 1 agences sauvegardées : CAISSE DE CREDIT MUTUEL ARDRES - AUDRUICQ\n"
     ]
    },
    {
     "name": "stderr",
     "output_type": "stream",
     "text": [
      "\n",
      "\u001b[A"
     ]
    },
    {
     "name": "stdout",
     "output_type": "stream",
     "text": [
      "✅ 1 agences sauvegardées : CAISSE DE CREDIT MUTUEL AUXI LE CHATEAU\n"
     ]
    },
    {
     "name": "stderr",
     "output_type": "stream",
     "text": [
      "\n",
      "\u001b[A"
     ]
    },
    {
     "name": "stdout",
     "output_type": "stream",
     "text": [
      "✅ 1 agences sauvegardées : CAISSE DE CREDIT MUTUEL AVESNES LE COMTE\n"
     ]
    },
    {
     "name": "stderr",
     "output_type": "stream",
     "text": [
      "\n",
      "\u001b[A"
     ]
    },
    {
     "name": "stdout",
     "output_type": "stream",
     "text": [
      "✅ 1 agences sauvegardées : CAISSE DE CREDIT MUTUEL LENS - AVION\n"
     ]
    },
    {
     "name": "stderr",
     "output_type": "stream",
     "text": [
      "\n",
      "\u001b[A"
     ]
    },
    {
     "name": "stdout",
     "output_type": "stream",
     "text": [
      "✅ 1 agences sauvegardées : CAISSE DE CREDIT MUTUEL BAPAUME\n"
     ]
    },
    {
     "name": "stderr",
     "output_type": "stream",
     "text": [
      "\n",
      "\u001b[A"
     ]
    },
    {
     "name": "stdout",
     "output_type": "stream",
     "text": [
      "✅ 1 agences sauvegardées : CAISSE DE CREDIT MUTUEL NOEUX LES MINES - BARLIN\n"
     ]
    },
    {
     "name": "stderr",
     "output_type": "stream",
     "text": [
      "\n",
      "\u001b[A"
     ]
    },
    {
     "name": "stdout",
     "output_type": "stream",
     "text": [
      "✅ 1 agences sauvegardées : CAISSE DE CREDIT MUTUEL ACHICOURT - BEAUMETZ LES LOGES\n"
     ]
    },
    {
     "name": "stderr",
     "output_type": "stream",
     "text": [
      "\n",
      "\u001b[A"
     ]
    },
    {
     "name": "stdout",
     "output_type": "stream",
     "text": [
      "✅ 1 agences sauvegardées : CAISSE DE CREDIT MUTUEL BEAURAINS\n"
     ]
    },
    {
     "name": "stderr",
     "output_type": "stream",
     "text": [
      "\n",
      "\u001b[A"
     ]
    },
    {
     "name": "stdout",
     "output_type": "stream",
     "text": [
      "✅ 1 agences sauvegardées : CAISSE DE CREDIT MUTUEL BERCK SUR MER\n"
     ]
    },
    {
     "name": "stderr",
     "output_type": "stream",
     "text": [
      "\n",
      "\u001b[A"
     ]
    },
    {
     "name": "stdout",
     "output_type": "stream",
     "text": [
      "✅ 2 agences sauvegardées : CAISSE DE CREDIT MUTUEL BETHUNE, ESPACE CONSEILS PRO BETHUNE - ECP\n"
     ]
    },
    {
     "name": "stderr",
     "output_type": "stream",
     "text": [
      "\n",
      "\u001b[A"
     ]
    },
    {
     "name": "stdout",
     "output_type": "stream",
     "text": [
      "✅ 1 agences sauvegardées : CAISSE DE CREDIT MUTUEL BETHUNE - BEUVRY\n"
     ]
    },
    {
     "name": "stderr",
     "output_type": "stream",
     "text": [
      "\n",
      "\u001b[A"
     ]
    },
    {
     "name": "stdout",
     "output_type": "stream",
     "text": [
      "✅ 4 agences sauvegardées : CMNE CENTRE D'AFFAIRES BOULOGNE SUR MER - CENT AFF BOULOGNE MER, CAISSE DE CREDIT MUTUEL BOULOGNE SUR MER, ESPACE CONSEILS PRO BOULOGNE SUR MER - ECP BOULOGNE, CAISSE DE CREDIT MUTUEL BOULOGNE SUR MER - BOULOGNE DERNIER SOU\n"
     ]
    },
    {
     "name": "stderr",
     "output_type": "stream",
     "text": [
      "\n",
      "\u001b[A"
     ]
    },
    {
     "name": "stdout",
     "output_type": "stream",
     "text": [
      "✅ 2 agences sauvegardées : CAISSE DE CREDIT MUTUEL BRUAY LA BUISSIERE, CAISSE DE CREDIT MUTUEL BRUAY LA BUISSIERE - BRUAY GARE\n"
     ]
    },
    {
     "name": "stderr",
     "output_type": "stream",
     "text": [
      "\n",
      "\u001b[A"
     ]
    },
    {
     "name": "stdout",
     "output_type": "stream",
     "text": [
      "✅ 1 agences sauvegardées : CAISSE DE CREDIT MUTUEL BAPAUME - BUCQUOY\n"
     ]
    },
    {
     "name": "stderr",
     "output_type": "stream",
     "text": [
      "\n",
      "\u001b[A"
     ]
    },
    {
     "name": "stdout",
     "output_type": "stream",
     "text": [
      "✅ 1 agences sauvegardées : CAISSE DE CREDIT MUTUEL BULLY LES MINES\n"
     ]
    },
    {
     "name": "stderr",
     "output_type": "stream",
     "text": [
      "\n",
      "\u001b[A"
     ]
    },
    {
     "name": "stdout",
     "output_type": "stream",
     "text": [
      "✅ 3 agences sauvegardées : CAISSE DE CREDIT MUTUEL CALAIS, CAISSE DE CREDIT MUTUEL CALAIS - EGALITE, CAISSE DE CREDIT MUTUEL CALAIS - MOLLIEN\n"
     ]
    },
    {
     "name": "stderr",
     "output_type": "stream",
     "text": [
      "\n",
      "\u001b[A"
     ]
    },
    {
     "name": "stdout",
     "output_type": "stream",
     "text": [
      "✅ 1 agences sauvegardées : CAISSE DE CREDIT MUTUEL CARVIN\n"
     ]
    },
    {
     "name": "stderr",
     "output_type": "stream",
     "text": [
      "\n",
      "\u001b[A"
     ]
    },
    {
     "name": "stdout",
     "output_type": "stream",
     "text": [
      "✅ 1 agences sauvegardées : CAISSE DE CREDIT MUTUEL NEUFCHATEL HARDELOT - CONDETTE\n"
     ]
    },
    {
     "name": "stderr",
     "output_type": "stream",
     "text": [
      "\n",
      "\u001b[A"
     ]
    },
    {
     "name": "stdout",
     "output_type": "stream",
     "text": [
      "✅ 1 agences sauvegardées : ESPACE CONSEILS PRO CALAIS-COQUELLES - ECP CALAIS-\n"
     ]
    },
    {
     "name": "stderr",
     "output_type": "stream",
     "text": [
      "\n",
      "\u001b[A"
     ]
    },
    {
     "name": "stdout",
     "output_type": "stream",
     "text": [
      "✅ 1 agences sauvegardées : CAISSE DE CREDIT MUTUEL ARRAS - ARRAS DAINVILLE\n"
     ]
    },
    {
     "name": "stderr",
     "output_type": "stream",
     "text": [
      "\n",
      "\u001b[A"
     ]
    },
    {
     "name": "stdout",
     "output_type": "stream",
     "text": [
      "✅ 1 agences sauvegardées : CAISSE DE CREDIT MUTUEL DESVRES\n"
     ]
    },
    {
     "name": "stderr",
     "output_type": "stream",
     "text": [
      "\n",
      "\u001b[A"
     ]
    },
    {
     "name": "stdout",
     "output_type": "stream",
     "text": [
      "✅ 1 agences sauvegardées : CAISSE DE CREDIT MUTUEL ETAPLES\n"
     ]
    },
    {
     "name": "stderr",
     "output_type": "stream",
     "text": [
      "\n",
      "\u001b[A"
     ]
    },
    {
     "name": "stdout",
     "output_type": "stream",
     "text": [
      "✅ 1 agences sauvegardées : CAISSE DE CREDIT MUTUEL FRUGES - FAUQUEMBERGUES\n"
     ]
    },
    {
     "name": "stderr",
     "output_type": "stream",
     "text": [
      "\n",
      "\u001b[A"
     ]
    },
    {
     "name": "stdout",
     "output_type": "stream",
     "text": [
      "✅ 1 agences sauvegardées : CAISSE DE CREDIT MUTUEL SAINT POL SUR TERNOISE - FREVENT\n"
     ]
    },
    {
     "name": "stderr",
     "output_type": "stream",
     "text": [
      "\n",
      "\u001b[A"
     ]
    },
    {
     "name": "stdout",
     "output_type": "stream",
     "text": [
      "✅ 1 agences sauvegardées : CAISSE DE CREDIT MUTUEL FRUGES\n"
     ]
    },
    {
     "name": "stderr",
     "output_type": "stream",
     "text": [
      "\n",
      "\u001b[A"
     ]
    },
    {
     "name": "stdout",
     "output_type": "stream",
     "text": [
      "✅ 1 agences sauvegardées : CAISSE DE CREDIT MUTUEL ARDRES - GUINES\n"
     ]
    },
    {
     "name": "stderr",
     "output_type": "stream",
     "text": [
      "\n",
      "\u001b[A"
     ]
    },
    {
     "name": "stdout",
     "output_type": "stream",
     "text": [
      "✅ 1 agences sauvegardées : CAISSE DE CREDIT MUTUEL HARNES\n"
     ]
    },
    {
     "name": "stderr",
     "output_type": "stream",
     "text": [
      "\n",
      "\u001b[A"
     ]
    },
    {
     "name": "stdout",
     "output_type": "stream",
     "text": [
      "✅ 1 agences sauvegardées : CAISSE DE CREDIT MUTUEL HENIN BEAUMONT\n"
     ]
    },
    {
     "name": "stderr",
     "output_type": "stream",
     "text": [
      "\n",
      "\u001b[A"
     ]
    },
    {
     "name": "stdout",
     "output_type": "stream",
     "text": [
      "✅ 1 agences sauvegardées : CAISSE DE CREDIT MUTUEL BAPAUME - HERMIES\n"
     ]
    },
    {
     "name": "stderr",
     "output_type": "stream",
     "text": [
      "\n",
      "\u001b[A"
     ]
    },
    {
     "name": "stdout",
     "output_type": "stream",
     "text": [
      "✅ 1 agences sauvegardées : CAISSE DE CREDIT MUTUEL HESDIN\n"
     ]
    },
    {
     "name": "stderr",
     "output_type": "stream",
     "text": [
      "\n",
      "\u001b[A"
     ]
    },
    {
     "name": "stdout",
     "output_type": "stream",
     "text": [
      "✅ 1 agences sauvegardées : CAISSE DE CREDIT MUTUEL BRUAY LA BUISSIERE - HOUDAIN\n"
     ]
    },
    {
     "name": "stderr",
     "output_type": "stream",
     "text": [
      "\n",
      "\u001b[A"
     ]
    },
    {
     "name": "stdout",
     "output_type": "stream",
     "text": [
      "✅ 1 agences sauvegardées : CAISSE DE CREDIT MUTUEL FRUGES - HUCQUELIERS\n"
     ]
    },
    {
     "name": "stderr",
     "output_type": "stream",
     "text": [
      "\n",
      "\u001b[A"
     ]
    },
    {
     "name": "stdout",
     "output_type": "stream",
     "text": [
      "✅ 1 agences sauvegardées : CAISSE DE CREDIT MUTUEL AIRE SUR LA LYS - ISBERGUES\n"
     ]
    },
    {
     "name": "stderr",
     "output_type": "stream",
     "text": [
      "\n",
      "\u001b[A"
     ]
    },
    {
     "name": "stdout",
     "output_type": "stream",
     "text": [
      "✅ 1 agences sauvegardées : CAISSE DE CREDIT MUTUEL LAVENTIE\n"
     ]
    },
    {
     "name": "stderr",
     "output_type": "stream",
     "text": [
      "\n",
      "\u001b[A"
     ]
    },
    {
     "name": "stdout",
     "output_type": "stream",
     "text": [
      "✅ 1 agences sauvegardées : CAISSE DE CREDIT MUTUEL BOULOGNE SUR MER - LE PORTEL\n"
     ]
    },
    {
     "name": "stderr",
     "output_type": "stream",
     "text": [
      "\n",
      "\u001b[A"
     ]
    },
    {
     "name": "stdout",
     "output_type": "stream",
     "text": [
      "✅ 1 agences sauvegardées : CAISSE DE CREDIT MUTUEL ETAPLES - LE TOUQUET\n"
     ]
    },
    {
     "name": "stderr",
     "output_type": "stream",
     "text": [
      "\n",
      "\u001b[A"
     ]
    },
    {
     "name": "stdout",
     "output_type": "stream",
     "text": [
      "✅ 3 agences sauvegardées : CAISSE DE CREDIT MUTUEL LENS, ESPACE CONSEILS PRO LENS - ECP, CAISSE DE CREDIT MUTUEL LENS - LOUVRE\n"
     ]
    },
    {
     "name": "stderr",
     "output_type": "stream",
     "text": [
      "\n",
      "\u001b[A"
     ]
    },
    {
     "name": "stdout",
     "output_type": "stream",
     "text": [
      "✅ 1 agences sauvegardées : CAISSE DE CREDIT MUTUEL LIEVIN\n"
     ]
    },
    {
     "name": "stderr",
     "output_type": "stream",
     "text": [
      "\n",
      "\u001b[A"
     ]
    },
    {
     "name": "stdout",
     "output_type": "stream",
     "text": [
      "✅ 1 agences sauvegardées : CAISSE DE CREDIT MUTUEL LILLERS\n"
     ]
    },
    {
     "name": "stderr",
     "output_type": "stream",
     "text": [
      "\n",
      "\u001b[A"
     ]
    },
    {
     "name": "stdout",
     "output_type": "stream",
     "text": [
      "✅ 1 agences sauvegardées : CAISSE DE CREDIT MUTUEL LUMBRES\n"
     ]
    },
    {
     "name": "stderr",
     "output_type": "stream",
     "text": [
      "\n",
      "\u001b[A"
     ]
    },
    {
     "name": "stdout",
     "output_type": "stream",
     "text": [
      "✅ 1 agences sauvegardées : CAISSE DE CREDIT MUTUEL MARQUION\n"
     ]
    },
    {
     "name": "stderr",
     "output_type": "stream",
     "text": [
      "\n",
      "\u001b[A"
     ]
    },
    {
     "name": "stdout",
     "output_type": "stream",
     "text": [
      "✅ 1 agences sauvegardées : CAISSE DE CREDIT MUTUEL MARQUISE\n"
     ]
    },
    {
     "name": "stderr",
     "output_type": "stream",
     "text": [
      "\n",
      "\u001b[A"
     ]
    },
    {
     "name": "stdout",
     "output_type": "stream",
     "text": [
      "✅ 1 agences sauvegardées : CAISSE DE CREDIT MUTUEL LENS - MERICOURT\n"
     ]
    },
    {
     "name": "stderr",
     "output_type": "stream",
     "text": [
      "\n",
      "\u001b[A"
     ]
    },
    {
     "name": "stdout",
     "output_type": "stream",
     "text": [
      "✅ 1 agences sauvegardées : CAISSE DE CREDIT MUTUEL MONTREUIL SUR MER\n"
     ]
    },
    {
     "name": "stderr",
     "output_type": "stream",
     "text": [
      "\n",
      "\u001b[A"
     ]
    },
    {
     "name": "stdout",
     "output_type": "stream",
     "text": [
      "✅ 1 agences sauvegardées : CAISSE DE CREDIT MUTUEL NEUFCHATEL HARDELOT\n"
     ]
    },
    {
     "name": "stderr",
     "output_type": "stream",
     "text": [
      "\n",
      "\u001b[A"
     ]
    },
    {
     "name": "stdout",
     "output_type": "stream",
     "text": [
      "✅ 1 agences sauvegardées : CAISSE DE CREDIT MUTUEL NOEUX LES MINES\n"
     ]
    },
    {
     "name": "stderr",
     "output_type": "stream",
     "text": [
      "\n",
      "\u001b[A"
     ]
    },
    {
     "name": "stdout",
     "output_type": "stream",
     "text": [
      "✅ 1 agences sauvegardées : CAISSE DE CREDIT MUTUEL CARVIN - OIGNIES\n"
     ]
    },
    {
     "name": "stderr",
     "output_type": "stream",
     "text": [
      "\n",
      "\u001b[A"
     ]
    },
    {
     "name": "stdout",
     "output_type": "stream",
     "text": [
      "✅ 1 agences sauvegardées : CAISSE DE CREDIT MUTUEL PERNES EN ARTOIS\n"
     ]
    },
    {
     "name": "stderr",
     "output_type": "stream",
     "text": [
      "\n",
      "\u001b[A"
     ]
    },
    {
     "name": "stdout",
     "output_type": "stream",
     "text": [
      "✅ 1 agences sauvegardées : CAISSE DE CREDIT MUTUEL DESVRES - SAMER\n"
     ]
    },
    {
     "name": "stderr",
     "output_type": "stream",
     "text": [
      "\n",
      "\u001b[A"
     ]
    },
    {
     "name": "stdout",
     "output_type": "stream",
     "text": [
      "✅ 1 agences sauvegardées : CAISSE DE CREDIT MUTUEL AIRE SUR LA LYS - THEROUANNE\n"
     ]
    },
    {
     "name": "stderr",
     "output_type": "stream",
     "text": [
      "\n",
      "\u001b[A"
     ]
    },
    {
     "name": "stdout",
     "output_type": "stream",
     "text": [
      "✅ 1 agences sauvegardées : CAISSE DE CREDIT MUTUEL VIMY\n"
     ]
    },
    {
     "name": "stderr",
     "output_type": "stream",
     "text": [
      "\n",
      "\u001b[A"
     ]
    },
    {
     "name": "stdout",
     "output_type": "stream",
     "text": [
      "✅ 1 agences sauvegardées : CAISSE DE CREDIT MUTUEL VITRY EN ARTOIS\n"
     ]
    },
    {
     "name": "stderr",
     "output_type": "stream",
     "text": [
      "\n",
      "\u001b[A"
     ]
    },
    {
     "name": "stdout",
     "output_type": "stream",
     "text": [
      "✅ 1 agences sauvegardées : CAISSE DE CREDIT MUTUEL BOULOGNE SUR MER - WIMEREUX\n"
     ]
    },
    {
     "name": "stderr",
     "output_type": "stream",
     "text": [
      "\n",
      "\u001b[A\n",
      "\u001b[A"
     ]
    },
    {
     "name": "stdout",
     "output_type": "stream",
     "text": [
      "✅ 1 agences sauvegardées : CAISSE DE CREDIT MUTUEL WINGLES\n"
     ]
    },
    {
     "name": "stderr",
     "output_type": "stream",
     "text": [
      "\n",
      "\u001b[A\n",
      "\u001b[A"
     ]
    },
    {
     "name": "stdout",
     "output_type": "stream",
     "text": [
      "✅ 1 agences sauvegardées : CAISSE DE CREDIT MUTUEL ABBEVILLE\n"
     ]
    },
    {
     "name": "stderr",
     "output_type": "stream",
     "text": [
      "\n",
      "\u001b[A"
     ]
    },
    {
     "name": "stdout",
     "output_type": "stream",
     "text": [
      "✅ 1 agences sauvegardées : CAISSE DE CREDIT MUTUEL ALBERT\n"
     ]
    },
    {
     "name": "stderr",
     "output_type": "stream",
     "text": [
      "\n",
      "\u001b[A"
     ]
    },
    {
     "name": "stdout",
     "output_type": "stream",
     "text": [
      "✅ 1 agences sauvegardées : CAISSE DE CREDIT MUTUEL AMIENS - MONTIERES\n"
     ]
    },
    {
     "name": "stderr",
     "output_type": "stream",
     "text": [
      "\n",
      "\u001b[A"
     ]
    },
    {
     "name": "stdout",
     "output_type": "stream",
     "text": [
      "✅ 1 agences sauvegardées : CAISSE DE CREDIT MUTUEL CORBIE\n"
     ]
    },
    {
     "name": "stderr",
     "output_type": "stream",
     "text": [
      "\n",
      "\u001b[A"
     ]
    },
    {
     "name": "stdout",
     "output_type": "stream",
     "text": [
      "✅ 1 agences sauvegardées : CAISSE DE CREDIT MUTUEL DOULLENS\n"
     ]
    },
    {
     "name": "stderr",
     "output_type": "stream",
     "text": [
      "\n",
      "\u001b[A"
     ]
    },
    {
     "name": "stdout",
     "output_type": "stream",
     "text": [
      "✅ 1 agences sauvegardées : CAISSE DE CREDIT MUTUEL FRIVILLE ESCARBOTIN - FRESSENNEVILLE\n"
     ]
    },
    {
     "name": "stderr",
     "output_type": "stream",
     "text": [
      "\n",
      "\u001b[A"
     ]
    },
    {
     "name": "stdout",
     "output_type": "stream",
     "text": [
      "✅ 1 agences sauvegardées : CAISSE DE CREDIT MUTUEL FRIVILLE ESCARBOTIN\n"
     ]
    },
    {
     "name": "stderr",
     "output_type": "stream",
     "text": [
      "\n",
      "\u001b[A"
     ]
    },
    {
     "name": "stdout",
     "output_type": "stream",
     "text": [
      "✅ 1 agences sauvegardées : CAISSE DE CREDIT MUTUEL HAM\n"
     ]
    },
    {
     "name": "stderr",
     "output_type": "stream",
     "text": [
      "\n",
      "\u001b[A"
     ]
    },
    {
     "name": "stdout",
     "output_type": "stream",
     "text": [
      "✅ 3 agences sauvegardées : CMNE CENTRE D'AFFAIRES AMIENS - CENT AFF AMIENS, ESPACE CONSEILS PRO AMIENS - ECP AMIENS, CAISSE DE CREDIT MUTUEL AMIENS - LONGUEAU\n"
     ]
    },
    {
     "name": "stderr",
     "output_type": "stream",
     "text": [
      "\n",
      "\u001b[A"
     ]
    },
    {
     "name": "stdout",
     "output_type": "stream",
     "text": [
      "✅ 1 agences sauvegardées : CAISSE DE CREDIT MUTUEL PERONNE\n"
     ]
    },
    {
     "name": "stderr",
     "output_type": "stream",
     "text": [
      "\n",
      "\u001b[A\n",
      "Régions:  50%|█████     | 6/12 [1:26:50<1:43:37, 1036.30s/it]"
     ]
    },
    {
     "name": "stdout",
     "output_type": "stream",
     "text": [
      "✅ 1 agences sauvegardées : CAISSE DE CREDIT MUTUEL ROYE\n"
     ]
    },
    {
     "name": "stderr",
     "output_type": "stream",
     "text": [
      "\n",
      "\u001b[A\n",
      "\u001b[A"
     ]
    },
    {
     "name": "stdout",
     "output_type": "stream",
     "text": [
      "✅ 1 agences sauvegardées : CAISSE DE CREDIT MUTUEL PARIS MAGENTA-GARE DE L'EST\n"
     ]
    },
    {
     "name": "stderr",
     "output_type": "stream",
     "text": [
      "\n",
      "\u001b[A"
     ]
    },
    {
     "name": "stdout",
     "output_type": "stream",
     "text": [
      "✅ 2 agences sauvegardées : CAISSE DE CREDIT MUTUEL PARIS 11, CAISSE DE CREDIT MUTUEL PARIS REPUBLIQUE\n"
     ]
    },
    {
     "name": "stderr",
     "output_type": "stream",
     "text": [
      "\n",
      "\u001b[A"
     ]
    },
    {
     "name": "stdout",
     "output_type": "stream",
     "text": [
      "✅ 2 agences sauvegardées : CAISSE DE CREDIT MUTUEL PARIS 12/20 SAINT MANDE-MARAICHERS - 12 SAINT MANDE, CAISSE DE CREDIT MUTUEL PARIS REUILLY SAINT ANTOINE\n"
     ]
    },
    {
     "name": "stderr",
     "output_type": "stream",
     "text": [
      "\n",
      "\u001b[A"
     ]
    },
    {
     "name": "stdout",
     "output_type": "stream",
     "text": [
      "✅ 1 agences sauvegardées : CAISSE DE CREDIT MUTUEL PARIS 13 LES GOBELINS\n"
     ]
    },
    {
     "name": "stderr",
     "output_type": "stream",
     "text": [
      "\n",
      "\u001b[A"
     ]
    },
    {
     "name": "stdout",
     "output_type": "stream",
     "text": [
      "✅ 2 agences sauvegardées : CAISSE DE CREDIT MUTUEL PARIS ALESIA, CAISSE DE CREDIT MUTUEL PARIS ALESIA - PLAISANCE\n"
     ]
    },
    {
     "name": "stderr",
     "output_type": "stream",
     "text": [
      "\n",
      "\u001b[A"
     ]
    },
    {
     "name": "stdout",
     "output_type": "stream",
     "text": [
      "✅ 4 agences sauvegardées : CAISSE DE CREDIT MUTUEL PARIS 15 CONVENTION, CAISSE DE CREDIT MUTUEL PARIS 15 CHAMP DE MARS, CAISSE DE CREDIT MUTUEL PARIS 15 MONTPARNASSE, CAISSE DE CREDIT MUTUEL PARIS 15 CHAMP DE MARS - ENTREPRENEURS\n"
     ]
    },
    {
     "name": "stderr",
     "output_type": "stream",
     "text": [
      "\n",
      "\u001b[A"
     ]
    },
    {
     "name": "stdout",
     "output_type": "stream",
     "text": [
      "✅ 1 agences sauvegardées : CAISSE DE CREDIT MUTUEL PARIS 16 AUTEUIL\n"
     ]
    },
    {
     "name": "stderr",
     "output_type": "stream",
     "text": [
      "\n",
      "\u001b[A"
     ]
    },
    {
     "name": "stdout",
     "output_type": "stream",
     "text": [
      "✅ 3 agences sauvegardées : CAISSE DE CREDIT MUTUEL PARIS 17 ETOILE, CAISSE DE CREDIT MUTUEL PARIS CARDINET, CAISSE DE CREDIT MUTUEL PARIS BATIGNOLLES\n"
     ]
    },
    {
     "name": "stderr",
     "output_type": "stream",
     "text": [
      "\n",
      "\u001b[A"
     ]
    },
    {
     "name": "stdout",
     "output_type": "stream",
     "text": [
      "✅ 2 agences sauvegardées : CAISSE DE CREDIT MUTUEL PARIS MONTMARTRE GDS BOULEVARDS - ABBESSES, CAISSE DE CREDIT MUTUEL PARIS MONTMARTRE GDS BOULEVARDS - ORDENER\n"
     ]
    },
    {
     "name": "stderr",
     "output_type": "stream",
     "text": [
      "\n",
      "\u001b[A"
     ]
    },
    {
     "name": "stdout",
     "output_type": "stream",
     "text": [
      "✅ 3 agences sauvegardées : CAISSE DE CREDIT MUTUEL PARIS 19 FLANDRE, CAISSE DE CREDIT MUTUEL PARIS 19 PL DES FETES, CAISSE DE CREDIT MUTUEL PARIS LES LILAS - BAGNOLET\n"
     ]
    },
    {
     "name": "stderr",
     "output_type": "stream",
     "text": [
      "\n",
      "\u001b[A"
     ]
    },
    {
     "name": "stdout",
     "output_type": "stream",
     "text": [
      "✅ 2 agences sauvegardées : BANQUE FEDERATIVE DU CREDIT MUTUEL - B F C M, CAISSE DE CREDIT MUTUEL PARIS PALAIS ROYAL\n"
     ]
    },
    {
     "name": "stderr",
     "output_type": "stream",
     "text": [
      "\n",
      "\u001b[A"
     ]
    },
    {
     "name": "stdout",
     "output_type": "stream",
     "text": [
      "✅ 3 agences sauvegardées : CAISSE DE CREDIT MUTUEL PARIS 20 ST FARGEAU, CAISSE DE CREDIT MUTUEL PARIS 20 ST FARGEAU - LA PY, CAISSE DE CREDIT MUTUEL PARIS 12/20 SAINT MANDE-MARAICHERS - 20 MARAICHERS\n"
     ]
    },
    {
     "name": "stderr",
     "output_type": "stream",
     "text": [
      "\n",
      "\u001b[A"
     ]
    },
    {
     "name": "stdout",
     "output_type": "stream",
     "text": [
      "✅ 1 agences sauvegardées : CAISSE DE CREDIT MUTUEL PARIS 1-2 LOUVRE MONTORGUEIL\n"
     ]
    },
    {
     "name": "stderr",
     "output_type": "stream",
     "text": [
      "\n",
      "\u001b[A"
     ]
    },
    {
     "name": "stdout",
     "output_type": "stream",
     "text": [
      "✅ 1 agences sauvegardées : CAISSE DE CREDIT MUTUEL PARIS 3/4 LE MARAIS BASTILLE\n"
     ]
    },
    {
     "name": "stderr",
     "output_type": "stream",
     "text": [
      "\n",
      "\u001b[A"
     ]
    },
    {
     "name": "stdout",
     "output_type": "stream",
     "text": [
      "✅ 2 agences sauvegardées : CAISSE DE CREDIT MUTUEL PARIS MONGE, CAISSE DE CREDIT MUTUEL ENSEIGNANT PARIS QUARTIER LATIN - CME  QUARTIER LATIN\n"
     ]
    },
    {
     "name": "stderr",
     "output_type": "stream",
     "text": [
      "\n",
      "\u001b[A"
     ]
    },
    {
     "name": "stdout",
     "output_type": "stream",
     "text": [
      "✅ 2 agences sauvegardées : CAISSE DE CREDIT MUTUEL PARIS 5-6 SAINT MICHEL, CAISSE DE CREDIT MUTUEL PARIS 15 MONTPARNASSE - SAINT PLACIDE\n"
     ]
    },
    {
     "name": "stderr",
     "output_type": "stream",
     "text": [
      "\n",
      "\u001b[A"
     ]
    },
    {
     "name": "stdout",
     "output_type": "stream",
     "text": [
      "✅ 1 agences sauvegardées : CAISSE DE CREDIT MUTUEL PARIS SAINT DOMINIQUE\n"
     ]
    },
    {
     "name": "stderr",
     "output_type": "stream",
     "text": [
      "\n",
      "\u001b[A"
     ]
    },
    {
     "name": "stdout",
     "output_type": "stream",
     "text": [
      "✅ 2 agences sauvegardées : CAISSE DE CREDIT MUTUEL PARIS 8 EUROPE, CAISSE DE CREDIT MUTUEL PARIS 8 LA MADELEINE\n"
     ]
    },
    {
     "name": "stderr",
     "output_type": "stream",
     "text": [
      "\n",
      "\u001b[A\n",
      "\u001b[A"
     ]
    },
    {
     "name": "stdout",
     "output_type": "stream",
     "text": [
      "✅ 7 agences sauvegardées : BANQUE EUROPEENNE DU CREDIT MUTUEL PARIS ENTREPRISE - BECM, BANQUE EUROPEENNE DU CREDIT MUTUEL PARIS OPERA - BECM, CAISSE DE CREDIT MUTUEL ENSEIGNANT PARIS HAUSSMANN - CME  HAUSSMANN, CAISSE DE CREDIT MUTUEL PARIS MONTMARTRE GDS BOULEVARDS, CAISSE DE CREDIT MUTUEL PARIS CHAUSSEE D'ANTIN, CAISSE DE CREDIT MUTUEL DES PROFESSIONS DE SANTE PARIS - CMPS, BANQUE EUROPEENNE DU CREDIT MUTUEL PARIS OPERA - BECM  OPERA\n"
     ]
    },
    {
     "name": "stderr",
     "output_type": "stream",
     "text": [
      "\n",
      "\u001b[A\n",
      "\u001b[A"
     ]
    },
    {
     "name": "stdout",
     "output_type": "stream",
     "text": [
      "✅ 1 agences sauvegardées : CAISSE DE CREDIT MUTUEL SERRIS VAL D'EUROPE - BAILLY ROMAINVILLIERS\n"
     ]
    },
    {
     "name": "stderr",
     "output_type": "stream",
     "text": [
      "\n",
      "\u001b[A"
     ]
    },
    {
     "name": "stdout",
     "output_type": "stream",
     "text": [
      "✅ 1 agences sauvegardées : CAISSE DE CREDIT MUTUEL BRIE COMTE ROBERT\n"
     ]
    },
    {
     "name": "stderr",
     "output_type": "stream",
     "text": [
      "\n",
      "\u001b[A"
     ]
    },
    {
     "name": "stdout",
     "output_type": "stream",
     "text": [
      "✅ 2 agences sauvegardées : CAISSE DE CREDIT MUTUEL CHELLES GOURNAY CHAMPS, CAISSE DE CREDIT MUTUEL CHELLES GOURNAY CHAMPS - AULNOY\n"
     ]
    },
    {
     "name": "stderr",
     "output_type": "stream",
     "text": [
      "\n",
      "\u001b[A"
     ]
    },
    {
     "name": "stdout",
     "output_type": "stream",
     "text": [
      "✅ 1 agences sauvegardées : CAISSE DE CREDIT MUTUEL COULOMMIERS\n"
     ]
    },
    {
     "name": "stderr",
     "output_type": "stream",
     "text": [
      "\n",
      "\u001b[A"
     ]
    },
    {
     "name": "stdout",
     "output_type": "stream",
     "text": [
      "✅ 1 agences sauvegardées : CAISSE DE CREDIT MUTUEL FONTAINEBLEAU - AVON\n"
     ]
    },
    {
     "name": "stderr",
     "output_type": "stream",
     "text": [
      "\n",
      "\u001b[A"
     ]
    },
    {
     "name": "stdout",
     "output_type": "stream",
     "text": [
      "✅ 1 agences sauvegardées : CAISSE DE CREDIT MUTUEL LAGNY POMPONNE THORIGNY\n"
     ]
    },
    {
     "name": "stderr",
     "output_type": "stream",
     "text": [
      "\n",
      "\u001b[A"
     ]
    },
    {
     "name": "stdout",
     "output_type": "stream",
     "text": [
      "✅ 1 agences sauvegardées : CAISSE DE CREDIT MUTUEL LIEUSAINT CARRE SENART\n"
     ]
    },
    {
     "name": "stderr",
     "output_type": "stream",
     "text": [
      "\n",
      "\u001b[A"
     ]
    },
    {
     "name": "stdout",
     "output_type": "stream",
     "text": [
      "✅ 1 agences sauvegardées : CAISSE DE CREDIT MUTUEL MEAUX\n"
     ]
    },
    {
     "name": "stderr",
     "output_type": "stream",
     "text": [
      "\n",
      "\u001b[A"
     ]
    },
    {
     "name": "stdout",
     "output_type": "stream",
     "text": [
      "✅ 2 agences sauvegardées : CAISSE DE CREDIT MUTUEL MELUN VAL DE SEINE, CAISSE DE CREDIT MUTUEL ENSEIGNANT MELUN - CME\n"
     ]
    },
    {
     "name": "stderr",
     "output_type": "stream",
     "text": [
      "\n",
      "\u001b[A"
     ]
    },
    {
     "name": "stdout",
     "output_type": "stream",
     "text": [
      "✅ 1 agences sauvegardées : CAISSE DE CREDIT MUTUEL MONTEREAU FAULT YONNE\n"
     ]
    },
    {
     "name": "stderr",
     "output_type": "stream",
     "text": [
      "\n",
      "\u001b[A"
     ]
    },
    {
     "name": "stdout",
     "output_type": "stream",
     "text": [
      "✅ 1 agences sauvegardées : CAISSE DE CREDIT MUTUEL MORET SUR LOING\n"
     ]
    },
    {
     "name": "stderr",
     "output_type": "stream",
     "text": [
      "\n",
      "\u001b[A"
     ]
    },
    {
     "name": "stdout",
     "output_type": "stream",
     "text": [
      "✅ 1 agences sauvegardées : CAISSE DE CREDIT MUTUEL NANGIS PLAINE DE LA BRIE\n"
     ]
    },
    {
     "name": "stderr",
     "output_type": "stream",
     "text": [
      "\n",
      "\u001b[A"
     ]
    },
    {
     "name": "stdout",
     "output_type": "stream",
     "text": [
      "✅ 1 agences sauvegardées : CAISSE DE CREDIT MUTUEL NEMOURS VAL DE LOING\n"
     ]
    },
    {
     "name": "stderr",
     "output_type": "stream",
     "text": [
      "\n",
      "\u001b[A"
     ]
    },
    {
     "name": "stdout",
     "output_type": "stream",
     "text": [
      "✅ 1 agences sauvegardées : CAISSE DE CREDIT MUTUEL OZOIR LA FERRIERE\n"
     ]
    },
    {
     "name": "stderr",
     "output_type": "stream",
     "text": [
      "\n",
      "\u001b[A"
     ]
    },
    {
     "name": "stdout",
     "output_type": "stream",
     "text": [
      "✅ 1 agences sauvegardées : CAISSE DE CREDIT MUTUEL PONTAULT COMBAULT\n"
     ]
    },
    {
     "name": "stderr",
     "output_type": "stream",
     "text": [
      "\n",
      "\u001b[A"
     ]
    },
    {
     "name": "stdout",
     "output_type": "stream",
     "text": [
      "✅ 1 agences sauvegardées : CAISSE DE CREDIT MUTUEL DU PROVINOIS\n"
     ]
    },
    {
     "name": "stderr",
     "output_type": "stream",
     "text": [
      "\n",
      "\u001b[A"
     ]
    },
    {
     "name": "stdout",
     "output_type": "stream",
     "text": [
      "✅ 2 agences sauvegardées : CAISSE DE CREDIT MUTUEL SERRIS VAL D'EUROPE, CAISSE DE CREDIT MUTUEL ENSEIGNANT MELUN - CME SERRIS\n"
     ]
    },
    {
     "name": "stderr",
     "output_type": "stream",
     "text": [
      "\n",
      "\u001b[A\n",
      "\u001b[A"
     ]
    },
    {
     "name": "stdout",
     "output_type": "stream",
     "text": [
      "✅ 1 agences sauvegardées : CAISSE DE CREDIT MUTUEL DE LA GONDOIRE - TORCY\n"
     ]
    },
    {
     "name": "stderr",
     "output_type": "stream",
     "text": [
      "\n",
      "\u001b[A\n",
      "\u001b[A"
     ]
    },
    {
     "name": "stdout",
     "output_type": "stream",
     "text": [
      "✅ 2 agences sauvegardées : CAISSE DE CREDIT MUTUEL AUBERGENVILLE, CAISSE DE CREDIT MUTUEL ENSEIGNANT VERSAILLES - CME AUBERGENVILLE\n"
     ]
    },
    {
     "name": "stderr",
     "output_type": "stream",
     "text": [
      "\n",
      "\u001b[A"
     ]
    },
    {
     "name": "stdout",
     "output_type": "stream",
     "text": [
      "✅ 1 agences sauvegardées : CAISSE DE CREDIT MUTUEL BOIS D'ARCY\n"
     ]
    },
    {
     "name": "stderr",
     "output_type": "stream",
     "text": [
      "\n",
      "\u001b[A"
     ]
    },
    {
     "name": "stdout",
     "output_type": "stream",
     "text": [
      "✅ 1 agences sauvegardées : CAISSE DE CREDIT MUTUEL HOUILLES CARRIERES SUR SEINE\n"
     ]
    },
    {
     "name": "stderr",
     "output_type": "stream",
     "text": [
      "\n",
      "\u001b[A"
     ]
    },
    {
     "name": "stdout",
     "output_type": "stream",
     "text": [
      "✅ 1 agences sauvegardées : CAISSE DE CREDIT MUTUEL ELANCOURT\n"
     ]
    },
    {
     "name": "stderr",
     "output_type": "stream",
     "text": [
      "\n",
      "\u001b[A"
     ]
    },
    {
     "name": "stdout",
     "output_type": "stream",
     "text": [
      "✅ 1 agences sauvegardées : CAISSE DE CREDIT MUTUEL HOUILLES CARRIERES SUR SEINE\n"
     ]
    },
    {
     "name": "stderr",
     "output_type": "stream",
     "text": [
      "\n",
      "\u001b[A"
     ]
    },
    {
     "name": "stdout",
     "output_type": "stream",
     "text": [
      "✅ 1 agences sauvegardées : CAISSE DE CREDIT MUTUEL SEINE FORET - MAISONS LAFFITTE\n"
     ]
    },
    {
     "name": "stderr",
     "output_type": "stream",
     "text": [
      "\n",
      "\u001b[A"
     ]
    },
    {
     "name": "stdout",
     "output_type": "stream",
     "text": [
      "✅ 1 agences sauvegardées : CAISSE DE CREDIT MUTUEL DU MANTOIS\n"
     ]
    },
    {
     "name": "stderr",
     "output_type": "stream",
     "text": [
      "\n",
      "\u001b[A"
     ]
    },
    {
     "name": "stdout",
     "output_type": "stream",
     "text": [
      "✅ 1 agences sauvegardées : CAISSE DE CREDIT MUTUEL CONFLANS STE HONORINE - MAURECOURT\n"
     ]
    },
    {
     "name": "stderr",
     "output_type": "stream",
     "text": [
      "\n",
      "\u001b[A"
     ]
    },
    {
     "name": "stdout",
     "output_type": "stream",
     "text": [
      "✅ 2 agences sauvegardées : BANQUE EUROPEENNE DU CREDIT MUTUEL PARIS OUEST - BECM, CAISSE DE CREDIT MUTUEL SAINT QUENTIN EN YVELINES\n"
     ]
    },
    {
     "name": "stderr",
     "output_type": "stream",
     "text": [
      "\n",
      "\u001b[A"
     ]
    },
    {
     "name": "stdout",
     "output_type": "stream",
     "text": [
      "✅ 1 agences sauvegardées : CAISSE DE CREDIT MUTUEL LA CELLE ST CLOUD-NOISY LE ROI\n"
     ]
    },
    {
     "name": "stderr",
     "output_type": "stream",
     "text": [
      "\n",
      "\u001b[A"
     ]
    },
    {
     "name": "stdout",
     "output_type": "stream",
     "text": [
      "✅ 1 agences sauvegardées : CAISSE DE CREDIT MUTUEL PLAISIR\n"
     ]
    },
    {
     "name": "stderr",
     "output_type": "stream",
     "text": [
      "\n",
      "\u001b[A"
     ]
    },
    {
     "name": "stdout",
     "output_type": "stream",
     "text": [
      "✅ 1 agences sauvegardées : CAISSE DE CREDIT MUTUEL POISSY SAINT LOUIS\n"
     ]
    },
    {
     "name": "stderr",
     "output_type": "stream",
     "text": [
      "\n",
      "\u001b[A"
     ]
    },
    {
     "name": "stdout",
     "output_type": "stream",
     "text": [
      "✅ 1 agences sauvegardées : CAISSE DE CREDIT MUTUEL SARTROUVILLE LA VAUDOIRE\n"
     ]
    },
    {
     "name": "stderr",
     "output_type": "stream",
     "text": [
      "\n",
      "\u001b[A"
     ]
    },
    {
     "name": "stdout",
     "output_type": "stream",
     "text": [
      "✅ 1 agences sauvegardées : CAISSE DE CREDIT MUTUEL DE VELIZY VIROFLAY\n"
     ]
    },
    {
     "name": "stderr",
     "output_type": "stream",
     "text": [
      "\n",
      "\u001b[A"
     ]
    },
    {
     "name": "stdout",
     "output_type": "stream",
     "text": [
      "✅ 1 agences sauvegardées : CAISSE DE CREDIT MUTUEL VERNEUIL SUR SEINE\n"
     ]
    },
    {
     "name": "stderr",
     "output_type": "stream",
     "text": [
      "\n",
      "\u001b[A"
     ]
    },
    {
     "name": "stdout",
     "output_type": "stream",
     "text": [
      "✅ 4 agences sauvegardées : CAISSE DE CREDIT MUTUEL VERSAILLES, CAISSE DE CREDIT MUTUEL ENSEIGNANT VERSAILLES - CME, CAISSE DE CREDIT MUTUEL VERSAILLES - NEPTUNE, CAISSE DE CREDIT MUTUEL VERSAILLES - ST LOUIS\n"
     ]
    },
    {
     "name": "stderr",
     "output_type": "stream",
     "text": [
      "\n",
      "\u001b[A\n",
      "\u001b[A"
     ]
    },
    {
     "name": "stdout",
     "output_type": "stream",
     "text": [
      "✅ 1 agences sauvegardées : CAISSE DE CREDIT MUTUEL DE VELIZY VIROFLAY\n"
     ]
    },
    {
     "name": "stderr",
     "output_type": "stream",
     "text": [
      "\n",
      "\u001b[A\n",
      "\u001b[A"
     ]
    },
    {
     "name": "stdout",
     "output_type": "stream",
     "text": [
      "✅ 1 agences sauvegardées : CAISSE DE CREDIT MUTUEL D'ANGERVILLE\n"
     ]
    },
    {
     "name": "stderr",
     "output_type": "stream",
     "text": [
      "\n",
      "\u001b[A"
     ]
    },
    {
     "name": "stdout",
     "output_type": "stream",
     "text": [
      "✅ 1 agences sauvegardées : CAISSE DE CREDIT MUTUEL DU VAL D'ORGE - ARPAJON\n"
     ]
    },
    {
     "name": "stderr",
     "output_type": "stream",
     "text": [
      "\n",
      "\u001b[A"
     ]
    },
    {
     "name": "stdout",
     "output_type": "stream",
     "text": [
      "✅ 1 agences sauvegardées : CAISSE DE CREDIT MUTUEL ABLON ATHIS MONS\n"
     ]
    },
    {
     "name": "stderr",
     "output_type": "stream",
     "text": [
      "\n",
      "\u001b[A"
     ]
    },
    {
     "name": "stdout",
     "output_type": "stream",
     "text": [
      "✅ 1 agences sauvegardées : CAISSE DE CREDIT MUTUEL DU VAL D'ORGE\n"
     ]
    },
    {
     "name": "stderr",
     "output_type": "stream",
     "text": [
      "\n",
      "\u001b[A"
     ]
    },
    {
     "name": "stdout",
     "output_type": "stream",
     "text": [
      "✅ 1 agences sauvegardées : CAISSE DE CREDIT MUTUEL BRUNOY - VAL D'YERRES\n"
     ]
    },
    {
     "name": "stderr",
     "output_type": "stream",
     "text": [
      "\n",
      "\u001b[A"
     ]
    },
    {
     "name": "stdout",
     "output_type": "stream",
     "text": [
      "✅ 1 agences sauvegardées : CAISSE DE CREDIT MUTUEL DE LA VALLEE DE CHEVREUSE\n"
     ]
    },
    {
     "name": "stderr",
     "output_type": "stream",
     "text": [
      "\n",
      "\u001b[A"
     ]
    },
    {
     "name": "stdout",
     "output_type": "stream",
     "text": [
      "✅ 1 agences sauvegardées : CAISSE DE CREDIT MUTUEL CORBEIL-ESSONNES\n"
     ]
    },
    {
     "name": "stderr",
     "output_type": "stream",
     "text": [
      "\n",
      "\u001b[A"
     ]
    },
    {
     "name": "stdout",
     "output_type": "stream",
     "text": [
      "✅ 1 agences sauvegardées : CAISSE DE CREDIT MUTUEL DRAVEIL SEINE-SENART\n"
     ]
    },
    {
     "name": "stderr",
     "output_type": "stream",
     "text": [
      "\n",
      "\u001b[A"
     ]
    },
    {
     "name": "stdout",
     "output_type": "stream",
     "text": [
      "✅ 1 agences sauvegardées : CAISSE DE CREDIT MUTUEL EPINAY CENTRE ESSONNE\n"
     ]
    },
    {
     "name": "stderr",
     "output_type": "stream",
     "text": [
      "\n",
      "\u001b[A"
     ]
    },
    {
     "name": "stdout",
     "output_type": "stream",
     "text": [
      "✅ 1 agences sauvegardées : CAISSE DE CREDIT MUTUEL ETAMPES\n"
     ]
    },
    {
     "name": "stderr",
     "output_type": "stream",
     "text": [
      "\n",
      "\u001b[A"
     ]
    },
    {
     "name": "stdout",
     "output_type": "stream",
     "text": [
      "✅ 2 agences sauvegardées : CAISSE DE CREDIT MUTUEL ENSEIGNANT ESSONNE - CME ESSONNE, CAISSE DE CREDIT MUTUEL CORBEIL-ESSONNES - EVRY\n"
     ]
    },
    {
     "name": "stderr",
     "output_type": "stream",
     "text": [
      "\n",
      "\u001b[A"
     ]
    },
    {
     "name": "stdout",
     "output_type": "stream",
     "text": [
      "✅ 1 agences sauvegardées : CAISSE DE CREDIT MUTUEL PALAISEAU IGNY - VAUHALLAN\n"
     ]
    },
    {
     "name": "stderr",
     "output_type": "stream",
     "text": [
      "\n",
      "\u001b[A"
     ]
    },
    {
     "name": "stdout",
     "output_type": "stream",
     "text": [
      "✅ 1 agences sauvegardées : CAISSE DE CREDIT MUTUEL JUVISY SUR ORGE\n"
     ]
    },
    {
     "name": "stderr",
     "output_type": "stream",
     "text": [
      "\n",
      "\u001b[A"
     ]
    },
    {
     "name": "stdout",
     "output_type": "stream",
     "text": [
      "✅ 1 agences sauvegardées : CAISSE DE CREDIT MUTUEL LONGJUMEAU CHAMPLAN\n"
     ]
    },
    {
     "name": "stderr",
     "output_type": "stream",
     "text": [
      "\n",
      "\u001b[A"
     ]
    },
    {
     "name": "stdout",
     "output_type": "stream",
     "text": [
      "✅ 1 agences sauvegardées : CAISSE DE CREDIT MUTUEL DE MASSY\n"
     ]
    },
    {
     "name": "stderr",
     "output_type": "stream",
     "text": [
      "\n",
      "\u001b[A"
     ]
    },
    {
     "name": "stdout",
     "output_type": "stream",
     "text": [
      "✅ 1 agences sauvegardées : CAISSE DE CREDIT MUTUEL MONTGERON SENART\n"
     ]
    },
    {
     "name": "stderr",
     "output_type": "stream",
     "text": [
      "\n",
      "\u001b[A"
     ]
    },
    {
     "name": "stdout",
     "output_type": "stream",
     "text": [
      "✅ 1 agences sauvegardées : CAISSE DE CREDIT MUTUEL PALAISEAU IGNY\n"
     ]
    },
    {
     "name": "stderr",
     "output_type": "stream",
     "text": [
      "\n",
      "\u001b[A"
     ]
    },
    {
     "name": "stdout",
     "output_type": "stream",
     "text": [
      "✅ 1 agences sauvegardées : CAISSE DE CREDIT MUTUEL SAVIGNY-MORANGIS\n"
     ]
    },
    {
     "name": "stderr",
     "output_type": "stream",
     "text": [
      "\n",
      "\u001b[A"
     ]
    },
    {
     "name": "stdout",
     "output_type": "stream",
     "text": [
      "✅ 1 agences sauvegardées : CAISSE DE CREDIT MUTUEL VERRIERES LE BUISSON\n"
     ]
    },
    {
     "name": "stderr",
     "output_type": "stream",
     "text": [
      "\n",
      "\u001b[A"
     ]
    },
    {
     "name": "stdout",
     "output_type": "stream",
     "text": [
      "✅ 1 agences sauvegardées : CAISSE DE CREDIT MUTUEL VIGNEUX VAL DE SEINE\n"
     ]
    },
    {
     "name": "stderr",
     "output_type": "stream",
     "text": [
      "\n",
      "\u001b[A\n",
      "\u001b[A"
     ]
    },
    {
     "name": "stdout",
     "output_type": "stream",
     "text": [
      "✅ 1 agences sauvegardées : CAISSE DE CREDIT MUTUEL YERRES-CROSNE\n"
     ]
    },
    {
     "name": "stderr",
     "output_type": "stream",
     "text": [
      "\n",
      "\u001b[A\n",
      "\u001b[A"
     ]
    },
    {
     "name": "stdout",
     "output_type": "stream",
     "text": [
      "✅ 2 agences sauvegardées : CAISSE DE CREDIT MUTUEL ANTONY, CAISSE DE CREDIT MUTUEL ENSEIGNANT ANTONY - CME\n"
     ]
    },
    {
     "name": "stderr",
     "output_type": "stream",
     "text": [
      "\n",
      "\u001b[A"
     ]
    },
    {
     "name": "stdout",
     "output_type": "stream",
     "text": [
      "✅ 1 agences sauvegardées : CAISSE DE CREDIT MUTUEL ASNIERES\n"
     ]
    },
    {
     "name": "stderr",
     "output_type": "stream",
     "text": [
      "\n",
      "\u001b[A"
     ]
    },
    {
     "name": "stdout",
     "output_type": "stream",
     "text": [
      "✅ 1 agences sauvegardées : CAISSE DE CREDIT MUTUEL BOIS COLOMBES\n"
     ]
    },
    {
     "name": "stderr",
     "output_type": "stream",
     "text": [
      "\n",
      "\u001b[A"
     ]
    },
    {
     "name": "stdout",
     "output_type": "stream",
     "text": [
      "✅ 2 agences sauvegardées : CAISSE DE CREDIT MUTUEL BOUCLES DE SEINE OUEST PARISIEN, CAISSE DE CREDIT MUTUEL BOULOGNE - JEAN-BAPTISTE CLEMENT\n"
     ]
    },
    {
     "name": "stderr",
     "output_type": "stream",
     "text": [
      "\n",
      "\u001b[A"
     ]
    },
    {
     "name": "stdout",
     "output_type": "stream",
     "text": [
      "✅ 1 agences sauvegardées : CAISSE DE CREDIT MUTUEL BOURG LA REINE\n"
     ]
    },
    {
     "name": "stderr",
     "output_type": "stream",
     "text": [
      "\n",
      "\u001b[A"
     ]
    },
    {
     "name": "stdout",
     "output_type": "stream",
     "text": [
      "✅ 1 agences sauvegardées : CAISSE DE CREDIT MUTUEL CHATILLON\n"
     ]
    },
    {
     "name": "stderr",
     "output_type": "stream",
     "text": [
      "\n",
      "\u001b[A"
     ]
    },
    {
     "name": "stdout",
     "output_type": "stream",
     "text": [
      "✅ 2 agences sauvegardées : CAISSE DE CREDIT MUTUEL ARTDONYS - CLAMART, CAISSE DE CREDIT MUTUEL LE PLESSIS CLAMART - LE PETIT\n"
     ]
    },
    {
     "name": "stderr",
     "output_type": "stream",
     "text": [
      "\n",
      "\u001b[A"
     ]
    },
    {
     "name": "stdout",
     "output_type": "stream",
     "text": [
      "✅ 1 agences sauvegardées : CAISSE DE CREDIT MUTUEL CLICHY\n"
     ]
    },
    {
     "name": "stderr",
     "output_type": "stream",
     "text": [
      "\n",
      "\u001b[A"
     ]
    },
    {
     "name": "stdout",
     "output_type": "stream",
     "text": [
      "✅ 1 agences sauvegardées : CAISSE DE CREDIT MUTUEL COLOMBES\n"
     ]
    },
    {
     "name": "stderr",
     "output_type": "stream",
     "text": [
      "\n",
      "\u001b[A"
     ]
    },
    {
     "name": "stdout",
     "output_type": "stream",
     "text": [
      "✅ 3 agences sauvegardées : CAISSE DE CREDIT MUTUEL SEINE OUEST, CAISSE DE CREDIT MUTUEL COURBEVOIE - PONT DE LEVALLOIS, CAUTIONNEMENT MUTUEL DE L HABITAT - CMH PUTEAUX\n"
     ]
    },
    {
     "name": "stderr",
     "output_type": "stream",
     "text": [
      "\n",
      "\u001b[A"
     ]
    },
    {
     "name": "stdout",
     "output_type": "stream",
     "text": [
      "✅ 1 agences sauvegardées : CAISSE DE CREDIT MUTUEL GARCHES\n"
     ]
    },
    {
     "name": "stderr",
     "output_type": "stream",
     "text": [
      "\n",
      "\u001b[A"
     ]
    },
    {
     "name": "stdout",
     "output_type": "stream",
     "text": [
      "✅ 1 agences sauvegardées : CAISSE DE CREDIT MUTUEL ARTDONYS - ISSY LES MOULINEAUX\n"
     ]
    },
    {
     "name": "stderr",
     "output_type": "stream",
     "text": [
      "\n",
      "\u001b[A"
     ]
    },
    {
     "name": "stdout",
     "output_type": "stream",
     "text": [
      "✅ 2 agences sauvegardées : CAISSE DE CREDIT MUTUEL LEVALLOIS PERRET, CAISSE DE CREDIT MUTUEL LEVALLOIS PERRET - LEVALLOIS VILLIERS\n"
     ]
    },
    {
     "name": "stderr",
     "output_type": "stream",
     "text": [
      "\n",
      "\u001b[A"
     ]
    },
    {
     "name": "stdout",
     "output_type": "stream",
     "text": [
      "✅ 1 agences sauvegardées : CAISSE DE CREDIT MUTUEL MONTROUGE MALAKOFF\n"
     ]
    },
    {
     "name": "stderr",
     "output_type": "stream",
     "text": [
      "\n",
      "\u001b[A"
     ]
    },
    {
     "name": "stdout",
     "output_type": "stream",
     "text": [
      "✅ 2 agences sauvegardées : CAISSE DE CREDIT MUTUEL MEUDON BELLEVUE, CAISSE DE CREDIT MUTUEL ARTDONYS - MEUDON\n"
     ]
    },
    {
     "name": "stderr",
     "output_type": "stream",
     "text": [
      "\n",
      "\u001b[A"
     ]
    },
    {
     "name": "stdout",
     "output_type": "stream",
     "text": [
      "✅ 1 agences sauvegardées : CAISSE DE CREDIT MUTUEL MONTROUGE MALAKOFF\n"
     ]
    },
    {
     "name": "stderr",
     "output_type": "stream",
     "text": [
      "\n",
      "\u001b[A"
     ]
    },
    {
     "name": "stdout",
     "output_type": "stream",
     "text": [
      "✅ 1 agences sauvegardées : CAISSE DE CREDIT MUTUEL NANTERRE VILLE\n"
     ]
    },
    {
     "name": "stderr",
     "output_type": "stream",
     "text": [
      "\n",
      "\u001b[A"
     ]
    },
    {
     "name": "stdout",
     "output_type": "stream",
     "text": [
      "✅ 2 agences sauvegardées : CAISSE DE CREDIT MUTUEL NEUILLY SUR SEINE, CAISSE DE CREDIT MUTUEL NEUILLY SUR SEINE - NEUILLY LES SABLONS\n"
     ]
    },
    {
     "name": "stderr",
     "output_type": "stream",
     "text": [
      "\n",
      "\u001b[A"
     ]
    },
    {
     "name": "stdout",
     "output_type": "stream",
     "text": [
      "✅ 1 agences sauvegardées : CAISSE DE CREDIT MUTUEL SEINE OUEST - PUTEAUX\n"
     ]
    },
    {
     "name": "stderr",
     "output_type": "stream",
     "text": [
      "\n",
      "\u001b[A"
     ]
    },
    {
     "name": "stdout",
     "output_type": "stream",
     "text": [
      "✅ 1 agences sauvegardées : CAISSE DE CREDIT MUTUEL RUEIL\n"
     ]
    },
    {
     "name": "stderr",
     "output_type": "stream",
     "text": [
      "\n",
      "\u001b[A"
     ]
    },
    {
     "name": "stdout",
     "output_type": "stream",
     "text": [
      "✅ 1 agences sauvegardées : CAISSE DE CREDIT MUTUEL SEVRES-CHAVILLE\n"
     ]
    },
    {
     "name": "stderr",
     "output_type": "stream",
     "text": [
      "\n",
      "\u001b[A"
     ]
    },
    {
     "name": "stdout",
     "output_type": "stream",
     "text": [
      "✅ 2 agences sauvegardées : CAISSE DE CREDIT MUTUEL SURESNES LONGCHAMP, CAISSE DE CREDIT MUTUEL SURESNES LONGCHAMP - LE HAUT\n"
     ]
    },
    {
     "name": "stderr",
     "output_type": "stream",
     "text": [
      "\n",
      "\u001b[A\n",
      "\u001b[A"
     ]
    },
    {
     "name": "stdout",
     "output_type": "stream",
     "text": [
      "✅ 1 agences sauvegardées : CAISSE DE CREDIT MUTUEL VANVES\n"
     ]
    },
    {
     "name": "stderr",
     "output_type": "stream",
     "text": [
      "\n",
      "\u001b[A\n",
      "\u001b[A"
     ]
    },
    {
     "name": "stdout",
     "output_type": "stream",
     "text": [
      "✅ 1 agences sauvegardées : CAISSE DE CREDIT MUTUEL DE L'AULNOYE\n"
     ]
    },
    {
     "name": "stderr",
     "output_type": "stream",
     "text": [
      "\n",
      "\u001b[A"
     ]
    },
    {
     "name": "stdout",
     "output_type": "stream",
     "text": [
      "✅ 1 agences sauvegardées : CAISSE DE CREDIT MUTUEL PARIS LES LILAS - BAGNOLET\n"
     ]
    },
    {
     "name": "stderr",
     "output_type": "stream",
     "text": [
      "\n",
      "\u001b[A"
     ]
    },
    {
     "name": "stdout",
     "output_type": "stream",
     "text": [
      "✅ 1 agences sauvegardées : CAISSE DE CREDIT MUTUEL ROSNY - BONDY - DU NOIS\n"
     ]
    },
    {
     "name": "stderr",
     "output_type": "stream",
     "text": [
      "\n",
      "\u001b[A"
     ]
    },
    {
     "name": "stdout",
     "output_type": "stream",
     "text": [
      "✅ 1 agences sauvegardées : CAISSE DE CREDIT MUTUEL DRANCY\n"
     ]
    },
    {
     "name": "stderr",
     "output_type": "stream",
     "text": [
      "\n",
      "\u001b[A"
     ]
    },
    {
     "name": "stdout",
     "output_type": "stream",
     "text": [
      "✅ 1 agences sauvegardées : CAISSE DE CREDIT MUTUEL GAGNY\n"
     ]
    },
    {
     "name": "stderr",
     "output_type": "stream",
     "text": [
      "\n",
      "\u001b[A"
     ]
    },
    {
     "name": "stdout",
     "output_type": "stream",
     "text": [
      "✅ 1 agences sauvegardées : CAISSE DE CREDIT MUTUEL CHELLES GOURNAY CHAMPS\n"
     ]
    },
    {
     "name": "stderr",
     "output_type": "stream",
     "text": [
      "\n",
      "\u001b[A"
     ]
    },
    {
     "name": "stdout",
     "output_type": "stream",
     "text": [
      "✅ 1 agences sauvegardées : CAISSE DE CREDIT MUTUEL DE LA DHUYS - LE RAINCY\n"
     ]
    },
    {
     "name": "stderr",
     "output_type": "stream",
     "text": [
      "\n",
      "\u001b[A"
     ]
    },
    {
     "name": "stdout",
     "output_type": "stream",
     "text": [
      "✅ 1 agences sauvegardées : CAISSE DE CREDIT MUTUEL PAVILLONS-LIVRY\n"
     ]
    },
    {
     "name": "stderr",
     "output_type": "stream",
     "text": [
      "\n",
      "\u001b[A"
     ]
    },
    {
     "name": "stdout",
     "output_type": "stream",
     "text": [
      "✅ 1 agences sauvegardées : CAISSE DE CREDIT MUTUEL DE LA DHUYS - MONTREUIL SOUS BOIS\n"
     ]
    },
    {
     "name": "stderr",
     "output_type": "stream",
     "text": [
      "\n",
      "\u001b[A"
     ]
    },
    {
     "name": "stdout",
     "output_type": "stream",
     "text": [
      "✅ 1 agences sauvegardées : CAISSE DE CREDIT MUTUEL BORDS DE MARNE\n"
     ]
    },
    {
     "name": "stderr",
     "output_type": "stream",
     "text": [
      "\n",
      "\u001b[A"
     ]
    },
    {
     "name": "stdout",
     "output_type": "stream",
     "text": [
      "✅ 1 agences sauvegardées : CAISSE DE CREDIT MUTUEL BORDS DE MARNE - NOISY LE GRAND\n"
     ]
    },
    {
     "name": "stderr",
     "output_type": "stream",
     "text": [
      "\n",
      "\u001b[A"
     ]
    },
    {
     "name": "stdout",
     "output_type": "stream",
     "text": [
      "✅ 1 agences sauvegardées : CAISSE DE CREDIT MUTUEL DE LA DHUYS\n"
     ]
    },
    {
     "name": "stderr",
     "output_type": "stream",
     "text": [
      "\n",
      "\u001b[A"
     ]
    },
    {
     "name": "stdout",
     "output_type": "stream",
     "text": [
      "✅ 1 agences sauvegardées : CAISSE DE CREDIT MUTUEL PANTIN\n"
     ]
    },
    {
     "name": "stderr",
     "output_type": "stream",
     "text": [
      "\n",
      "\u001b[A"
     ]
    },
    {
     "name": "stdout",
     "output_type": "stream",
     "text": [
      "✅ 1 agences sauvegardées : CAISSE DE CREDIT MUTUEL ROSNY - BONDY\n"
     ]
    },
    {
     "name": "stderr",
     "output_type": "stream",
     "text": [
      "\n",
      "\u001b[A"
     ]
    },
    {
     "name": "stdout",
     "output_type": "stream",
     "text": [
      "✅ 1 agences sauvegardées : CAISSE DE CREDIT MUTUEL TREMBLAY EN FRANCE\n"
     ]
    },
    {
     "name": "stderr",
     "output_type": "stream",
     "text": [
      "\n",
      "\u001b[A\n",
      "\u001b[A"
     ]
    },
    {
     "name": "stdout",
     "output_type": "stream",
     "text": [
      "✅ 1 agences sauvegardées : CAISSE DE CREDIT MUTUEL DE LA DHUYS - VILLEMOMBLE\n"
     ]
    },
    {
     "name": "stderr",
     "output_type": "stream",
     "text": [
      "\n",
      "\u001b[A\n",
      "\u001b[A"
     ]
    },
    {
     "name": "stdout",
     "output_type": "stream",
     "text": [
      "✅ 1 agences sauvegardées : CAISSE DE CREDIT MUTUEL ABLON ATHIS MONS\n"
     ]
    },
    {
     "name": "stderr",
     "output_type": "stream",
     "text": [
      "\n",
      "\u001b[A"
     ]
    },
    {
     "name": "stdout",
     "output_type": "stream",
     "text": [
      "✅ 1 agences sauvegardées : CAISSE DE CREDIT MUTUEL ALFORTVILLE\n"
     ]
    },
    {
     "name": "stderr",
     "output_type": "stream",
     "text": [
      "\n",
      "\u001b[A"
     ]
    },
    {
     "name": "stdout",
     "output_type": "stream",
     "text": [
      "✅ 1 agences sauvegardées : CAISSE DE CREDIT MUTUEL DU VAL DE BIEVRE - ARCUEIL\n"
     ]
    },
    {
     "name": "stderr",
     "output_type": "stream",
     "text": [
      "\n",
      "\u001b[A"
     ]
    },
    {
     "name": "stdout",
     "output_type": "stream",
     "text": [
      "✅ 1 agences sauvegardées : CAISSE DE CREDIT MUTUEL LE PERREUX-BRY - BRY SUR MARNE\n"
     ]
    },
    {
     "name": "stderr",
     "output_type": "stream",
     "text": [
      "\n",
      "\u001b[A"
     ]
    },
    {
     "name": "stdout",
     "output_type": "stream",
     "text": [
      "✅ 1 agences sauvegardées : CAISSE DE CREDIT MUTUEL CHAMPIGNY SUR MARNE\n"
     ]
    },
    {
     "name": "stderr",
     "output_type": "stream",
     "text": [
      "\n",
      "\u001b[A"
     ]
    },
    {
     "name": "stdout",
     "output_type": "stream",
     "text": [
      "✅ 1 agences sauvegardées : CAISSE DE CREDIT MUTUEL CHARENTON\n"
     ]
    },
    {
     "name": "stderr",
     "output_type": "stream",
     "text": [
      "\n",
      "\u001b[A"
     ]
    },
    {
     "name": "stdout",
     "output_type": "stream",
     "text": [
      "✅ 1 agences sauvegardées : CAISSE DE CREDIT MUTUEL LA FAISANDERIE - CHOISY LE ROI\n"
     ]
    },
    {
     "name": "stderr",
     "output_type": "stream",
     "text": [
      "\n",
      "\u001b[A"
     ]
    },
    {
     "name": "stdout",
     "output_type": "stream",
     "text": [
      "✅ 2 agences sauvegardées : CAISSE DE CREDIT MUTUEL CRETEIL, CAISSE DE CREDIT MUTUEL ENSEIGNANT CRETEIL - CME\n"
     ]
    },
    {
     "name": "stderr",
     "output_type": "stream",
     "text": [
      "\n",
      "\u001b[A"
     ]
    },
    {
     "name": "stdout",
     "output_type": "stream",
     "text": [
      "✅ 1 agences sauvegardées : CAISSE DE CREDIT MUTUEL IVRY SUR SEINE\n"
     ]
    },
    {
     "name": "stderr",
     "output_type": "stream",
     "text": [
      "\n",
      "\u001b[A"
     ]
    },
    {
     "name": "stdout",
     "output_type": "stream",
     "text": [
      "✅ 1 agences sauvegardées : CAISSE DE CREDIT MUTUEL NOGENT SUR MARNE\n"
     ]
    },
    {
     "name": "stderr",
     "output_type": "stream",
     "text": [
      "\n",
      "\u001b[A"
     ]
    },
    {
     "name": "stdout",
     "output_type": "stream",
     "text": [
      "✅ 1 agences sauvegardées : CAISSE DE CREDIT MUTUEL DU PLATEAU BRIARD\n"
     ]
    },
    {
     "name": "stderr",
     "output_type": "stream",
     "text": [
      "\n",
      "\u001b[A"
     ]
    },
    {
     "name": "stdout",
     "output_type": "stream",
     "text": [
      "✅ 1 agences sauvegardées : CAISSE DE CREDIT MUTUEL DU PLATEAU BRIARD - SUCY EN BRIE\n"
     ]
    },
    {
     "name": "stderr",
     "output_type": "stream",
     "text": [
      "\n",
      "\u001b[A"
     ]
    },
    {
     "name": "stdout",
     "output_type": "stream",
     "text": [
      "✅ 1 agences sauvegardées : CAISSE DE CREDIT MUTUEL VILLEJUIF\n"
     ]
    },
    {
     "name": "stderr",
     "output_type": "stream",
     "text": [
      "\n",
      "\u001b[A"
     ]
    },
    {
     "name": "stdout",
     "output_type": "stream",
     "text": [
      "✅ 1 agences sauvegardées : CAISSE DE CREDIT MUTUEL LA FAISANDERIE\n"
     ]
    },
    {
     "name": "stderr",
     "output_type": "stream",
     "text": [
      "\n",
      "\u001b[A"
     ]
    },
    {
     "name": "stdout",
     "output_type": "stream",
     "text": [
      "✅ 1 agences sauvegardées : CAISSE DE CREDIT MUTUEL VILLIERS SUR MARNE\n"
     ]
    },
    {
     "name": "stderr",
     "output_type": "stream",
     "text": [
      "\n",
      "\u001b[A"
     ]
    },
    {
     "name": "stdout",
     "output_type": "stream",
     "text": [
      "✅ 1 agences sauvegardées : CAISSE DE CREDIT MUTUEL VINCENNES\n"
     ]
    },
    {
     "name": "stderr",
     "output_type": "stream",
     "text": [
      "\n",
      "\u001b[A\n",
      "\u001b[A"
     ]
    },
    {
     "name": "stdout",
     "output_type": "stream",
     "text": [
      "✅ 1 agences sauvegardées : CAISSE DE CREDIT MUTUEL VITRY SUR SEINE\n"
     ]
    },
    {
     "name": "stderr",
     "output_type": "stream",
     "text": [
      "\n",
      "\u001b[A\n",
      "\u001b[A"
     ]
    },
    {
     "name": "stdout",
     "output_type": "stream",
     "text": [
      "✅ 1 agences sauvegardées : CAISSE DE CREDIT MUTUEL DU PARISIS\n"
     ]
    },
    {
     "name": "stderr",
     "output_type": "stream",
     "text": [
      "\n",
      "\u001b[A"
     ]
    },
    {
     "name": "stdout",
     "output_type": "stream",
     "text": [
      "✅ 1 agences sauvegardées : CAISSE DE CREDIT MUTUEL DE LA VALLEE DE L'OISE - BEAUMONT SUR OISE\n"
     ]
    },
    {
     "name": "stderr",
     "output_type": "stream",
     "text": [
      "\n",
      "\u001b[A"
     ]
    },
    {
     "name": "stdout",
     "output_type": "stream",
     "text": [
      "✅ 2 agences sauvegardées : CAISSE DE CREDIT MUTUEL ENSEIGNANT CERGY - CME, CAISSE DE CREDIT MUTUEL CERGY PONTOISE\n"
     ]
    },
    {
     "name": "stderr",
     "output_type": "stream",
     "text": [
      "\n",
      "\u001b[A"
     ]
    },
    {
     "name": "stdout",
     "output_type": "stream",
     "text": [
      "✅ 1 agences sauvegardées : CAISSE DE CREDIT MUTUEL DOMONT\n"
     ]
    },
    {
     "name": "stderr",
     "output_type": "stream",
     "text": [
      "\n",
      "\u001b[A"
     ]
    },
    {
     "name": "stdout",
     "output_type": "stream",
     "text": [
      "✅ 1 agences sauvegardées : CAISSE DE CREDIT MUTUEL EAUBONNE\n"
     ]
    },
    {
     "name": "stderr",
     "output_type": "stream",
     "text": [
      "\n",
      "\u001b[A"
     ]
    },
    {
     "name": "stdout",
     "output_type": "stream",
     "text": [
      "✅ 1 agences sauvegardées : CAISSE DE CREDIT MUTUEL ENGHIEN LES BAINS\n"
     ]
    },
    {
     "name": "stderr",
     "output_type": "stream",
     "text": [
      "\n",
      "\u001b[A"
     ]
    },
    {
     "name": "stdout",
     "output_type": "stream",
     "text": [
      "✅ 1 agences sauvegardées : CAISSE DE CREDIT MUTUEL FOSSES\n"
     ]
    },
    {
     "name": "stderr",
     "output_type": "stream",
     "text": [
      "\n",
      "\u001b[A"
     ]
    },
    {
     "name": "stdout",
     "output_type": "stream",
     "text": [
      "✅ 1 agences sauvegardées : CAISSE DE CREDIT MUTUEL OSNY\n"
     ]
    },
    {
     "name": "stderr",
     "output_type": "stream",
     "text": [
      "\n",
      "\u001b[A"
     ]
    },
    {
     "name": "stdout",
     "output_type": "stream",
     "text": [
      "ℹ️ Pas de nouvelles agences (ou déjà existantes).\n"
     ]
    },
    {
     "name": "stderr",
     "output_type": "stream",
     "text": [
      "\n",
      "\u001b[A"
     ]
    },
    {
     "name": "stdout",
     "output_type": "stream",
     "text": [
      "✅ 1 agences sauvegardées : CAISSE DE CREDIT MUTUEL DU PARISIS - SANNOIS\n"
     ]
    },
    {
     "name": "stderr",
     "output_type": "stream",
     "text": [
      "\n",
      "\u001b[A"
     ]
    },
    {
     "name": "stdout",
     "output_type": "stream",
     "text": [
      "✅ 1 agences sauvegardées : CAISSE DE CREDIT MUTUEL SARCELLES\n"
     ]
    },
    {
     "name": "stderr",
     "output_type": "stream",
     "text": [
      "\n",
      "\u001b[A"
     ]
    },
    {
     "name": "stdout",
     "output_type": "stream",
     "text": [
      "✅ 1 agences sauvegardées : CAISSE DE CREDIT MUTUEL LA VALLEE DE MONTMORENCY\n"
     ]
    },
    {
     "name": "stderr",
     "output_type": "stream",
     "text": [
      "\n",
      "\u001b[A\n",
      "Régions:  58%|█████▊    | 7/12 [1:41:36<1:22:15, 987.18s/it] "
     ]
    },
    {
     "name": "stdout",
     "output_type": "stream",
     "text": [
      "✅ 1 agences sauvegardées : CAISSE DE CREDIT MUTUEL DU PARISIS - TAVERNY ST LEU LA FORET\n"
     ]
    },
    {
     "name": "stderr",
     "output_type": "stream",
     "text": [
      "\n",
      "\u001b[A\n",
      "\u001b[A"
     ]
    },
    {
     "name": "stdout",
     "output_type": "stream",
     "text": [
      "✅ 1 agences sauvegardées : CAISSE DE CREDIT MUTUEL ARGENCES\n"
     ]
    },
    {
     "name": "stderr",
     "output_type": "stream",
     "text": [
      "\n",
      "\u001b[A"
     ]
    },
    {
     "name": "stdout",
     "output_type": "stream",
     "text": [
      "✅ 1 agences sauvegardées : CAISSE DE CREDIT MUTUEL BAYEUX LE MOLAY LITTRY\n"
     ]
    },
    {
     "name": "stderr",
     "output_type": "stream",
     "text": [
      "\n",
      "\u001b[A"
     ]
    },
    {
     "name": "stdout",
     "output_type": "stream",
     "text": [
      "✅ 7 agences sauvegardées : CREDIT MUTUEL CAEN CADP, CAISSE DE CREDIT MUTUEL ENSEIGNANT CAEN LE HAVRE, CAISSE DE CREDIT MUTUEL CAEN CYGNE DE CROIX - IFS, CAISSE DE CREDIT MUTUEL CAEN VENOIX, CAISSE DE CREDIT MUTUEL CAEN CENTRE, CAISSE DE CREDIT MUTUEL CAEN VENOIX - BEAULIEU, CREDIT MUTUEL CAEN CADP - CMPS CALVADOS\n"
     ]
    },
    {
     "name": "stderr",
     "output_type": "stream",
     "text": [
      "\n",
      "\u001b[A"
     ]
    },
    {
     "name": "stdout",
     "output_type": "stream",
     "text": [
      "✅ 1 agences sauvegardées : CREDIT MUTUEL CAEN CADP - CREDIT MUTUEL COLOMBELLES\n"
     ]
    },
    {
     "name": "stderr",
     "output_type": "stream",
     "text": [
      "\n",
      "\u001b[A"
     ]
    },
    {
     "name": "stdout",
     "output_type": "stream",
     "text": [
      "✅ 1 agences sauvegardées : CAISSE DE CREDIT MUTUEL CONDE SUR NOIREAU\n"
     ]
    },
    {
     "name": "stderr",
     "output_type": "stream",
     "text": [
      "\n",
      "\u001b[A"
     ]
    },
    {
     "name": "stdout",
     "output_type": "stream",
     "text": [
      "✅ 1 agences sauvegardées : CAISSE DE CREDIT MUTUEL DIVES SUR MER\n"
     ]
    },
    {
     "name": "stderr",
     "output_type": "stream",
     "text": [
      "\n",
      "\u001b[A"
     ]
    },
    {
     "name": "stdout",
     "output_type": "stream",
     "text": [
      "✅ 1 agences sauvegardées : CAISSE DE CREDIT MUTUEL DOUVRES LA DELIVRANDE OUISTREHAM - DOUVRES - OUISTREHAM\n"
     ]
    },
    {
     "name": "stderr",
     "output_type": "stream",
     "text": [
      "\n",
      "\u001b[A"
     ]
    },
    {
     "name": "stdout",
     "output_type": "stream",
     "text": [
      "✅ 1 agences sauvegardées : CAISSE DE CREDIT MUTUEL FALAISE\n"
     ]
    },
    {
     "name": "stderr",
     "output_type": "stream",
     "text": [
      "\n",
      "\u001b[A"
     ]
    },
    {
     "name": "stdout",
     "output_type": "stream",
     "text": [
      "✅ 1 agences sauvegardées : CAISSE DE CREDIT MUTUEL CAEN CYGNE DE CROIX - IFS - FLEURY SUR ORNE\n"
     ]
    },
    {
     "name": "stderr",
     "output_type": "stream",
     "text": [
      "\n",
      "\u001b[A"
     ]
    },
    {
     "name": "stdout",
     "output_type": "stream",
     "text": [
      "✅ 1 agences sauvegardées : CAISSE DE CREDIT MUTUEL BEUZEVILLE - HONFLEUR\n"
     ]
    },
    {
     "name": "stderr",
     "output_type": "stream",
     "text": [
      "\n",
      "\u001b[A"
     ]
    },
    {
     "name": "stdout",
     "output_type": "stream",
     "text": [
      "✅ 1 agences sauvegardées : CAISSE DE CREDIT MUTUEL CAEN CYGNE DE CROIX - IFS\n"
     ]
    },
    {
     "name": "stderr",
     "output_type": "stream",
     "text": [
      "\n",
      "\u001b[A"
     ]
    },
    {
     "name": "stdout",
     "output_type": "stream",
     "text": [
      "✅ 1 agences sauvegardées : CAISSE DE CREDIT MUTUEL BAYEUX LE MOLAY LITTRY - ISIGNY SUR MER\n"
     ]
    },
    {
     "name": "stderr",
     "output_type": "stream",
     "text": [
      "\n",
      "\u001b[A"
     ]
    },
    {
     "name": "stdout",
     "output_type": "stream",
     "text": [
      "✅ 1 agences sauvegardées : CAISSE DE CREDIT MUTUEL LISIEUX\n"
     ]
    },
    {
     "name": "stderr",
     "output_type": "stream",
     "text": [
      "\n",
      "\u001b[A"
     ]
    },
    {
     "name": "stdout",
     "output_type": "stream",
     "text": [
      "✅ 1 agences sauvegardées : CAISSE DE CREDIT MUTUEL DOUVRES LA DELIVRANDE OUISTREHAM\n"
     ]
    },
    {
     "name": "stderr",
     "output_type": "stream",
     "text": [
      "\n",
      "\u001b[A"
     ]
    },
    {
     "name": "stdout",
     "output_type": "stream",
     "text": [
      "✅ 1 agences sauvegardées : CAISSE DE CREDIT MUTUEL LISIEUX - PONT L EVEQUE\n"
     ]
    },
    {
     "name": "stderr",
     "output_type": "stream",
     "text": [
      "\n",
      "\u001b[A"
     ]
    },
    {
     "name": "stdout",
     "output_type": "stream",
     "text": [
      "✅ 1 agences sauvegardées : CAISSE DE CREDIT MUTUEL THURY HARCOURT\n"
     ]
    },
    {
     "name": "stderr",
     "output_type": "stream",
     "text": [
      "\n",
      "\u001b[A"
     ]
    },
    {
     "name": "stdout",
     "output_type": "stream",
     "text": [
      "✅ 1 agences sauvegardées : CAISSE DE CREDIT MUTUEL TROUVILLE - DEAUVILLE\n"
     ]
    },
    {
     "name": "stderr",
     "output_type": "stream",
     "text": [
      "\n",
      "\u001b[A"
     ]
    },
    {
     "name": "stdout",
     "output_type": "stream",
     "text": [
      "✅ 1 agences sauvegardées : CAISSE DE CREDIT MUTUEL VILLERS AUNAY\n"
     ]
    },
    {
     "name": "stderr",
     "output_type": "stream",
     "text": [
      "\n",
      "\u001b[A\n",
      "\u001b[A"
     ]
    },
    {
     "name": "stdout",
     "output_type": "stream",
     "text": [
      "✅ 1 agences sauvegardées : CAISSE DE CREDIT MUTUEL VIRE\n"
     ]
    },
    {
     "name": "stderr",
     "output_type": "stream",
     "text": [
      "\n",
      "\u001b[A\n",
      "\u001b[A"
     ]
    },
    {
     "name": "stdout",
     "output_type": "stream",
     "text": [
      "✅ 1 agences sauvegardées : CAISSE DE CREDIT MUTUEL BERNAY CONCHES EN OUCHE\n"
     ]
    },
    {
     "name": "stderr",
     "output_type": "stream",
     "text": [
      "\n",
      "\u001b[A"
     ]
    },
    {
     "name": "stdout",
     "output_type": "stream",
     "text": [
      "✅ 1 agences sauvegardées : CAISSE DE CREDIT MUTUEL BEUZEVILLE\n"
     ]
    },
    {
     "name": "stderr",
     "output_type": "stream",
     "text": [
      "\n",
      "\u001b[A"
     ]
    },
    {
     "name": "stdout",
     "output_type": "stream",
     "text": [
      "✅ 1 agences sauvegardées : CAISSE DE CREDIT MUTUEL BERNAY CONCHES EN OUCHE\n"
     ]
    },
    {
     "name": "stderr",
     "output_type": "stream",
     "text": [
      "\n",
      "\u001b[A"
     ]
    },
    {
     "name": "stdout",
     "output_type": "stream",
     "text": [
      "✅ 3 agences sauvegardées : CAISSE DE CREDIT MUTUEL EVREUX, CAISSE DE CREDIT MUTUEL ENSEIGNANT ROUEN EVREUX - ENSEIGNANT EURE, CAISSE DE CREDIT MUTUEL EVREUX - JEAN MOULIN\n"
     ]
    },
    {
     "name": "stderr",
     "output_type": "stream",
     "text": [
      "\n",
      "\u001b[A"
     ]
    },
    {
     "name": "stdout",
     "output_type": "stream",
     "text": [
      "✅ 1 agences sauvegardées : CAISSE DE CREDIT MUTUEL GISORS\n"
     ]
    },
    {
     "name": "stderr",
     "output_type": "stream",
     "text": [
      "\n",
      "\u001b[A"
     ]
    },
    {
     "name": "stdout",
     "output_type": "stream",
     "text": [
      "✅ 1 agences sauvegardées : CAISSE DE CREDIT MUTUEL LE NEUBOURG\n"
     ]
    },
    {
     "name": "stderr",
     "output_type": "stream",
     "text": [
      "\n",
      "\u001b[A"
     ]
    },
    {
     "name": "stdout",
     "output_type": "stream",
     "text": [
      "✅ 1 agences sauvegardées : CAISSE DE CREDIT MUTUEL LES ANDELYS\n"
     ]
    },
    {
     "name": "stderr",
     "output_type": "stream",
     "text": [
      "\n",
      "\u001b[A"
     ]
    },
    {
     "name": "stdout",
     "output_type": "stream",
     "text": [
      "✅ 1 agences sauvegardées : CAISSE DE CREDIT MUTUEL LOUVIERS\n"
     ]
    },
    {
     "name": "stderr",
     "output_type": "stream",
     "text": [
      "\n",
      "\u001b[A"
     ]
    },
    {
     "name": "stdout",
     "output_type": "stream",
     "text": [
      "✅ 1 agences sauvegardées : CAISSE DE CREDIT MUTUEL PACY SUR EURE\n"
     ]
    },
    {
     "name": "stderr",
     "output_type": "stream",
     "text": [
      "\n",
      "\u001b[A"
     ]
    },
    {
     "name": "stdout",
     "output_type": "stream",
     "text": [
      "✅ 1 agences sauvegardées : CAISSE DE CREDIT MUTUEL PONT AUDEMER\n"
     ]
    },
    {
     "name": "stderr",
     "output_type": "stream",
     "text": [
      "\n",
      "\u001b[A"
     ]
    },
    {
     "name": "stdout",
     "output_type": "stream",
     "text": [
      "✅ 1 agences sauvegardées : CAISSE DE CREDIT MUTUEL DE VERNEUIL BREZOLLES - VERNEUIL SUR AVRE\n"
     ]
    },
    {
     "name": "stderr",
     "output_type": "stream",
     "text": [
      "\n",
      "\u001b[A\n",
      "\u001b[A"
     ]
    },
    {
     "name": "stdout",
     "output_type": "stream",
     "text": [
      "✅ 1 agences sauvegardées : CAISSE DE CREDIT MUTUEL VERNON\n"
     ]
    },
    {
     "name": "stderr",
     "output_type": "stream",
     "text": [
      "\n",
      "\u001b[A\n",
      "\u001b[A"
     ]
    },
    {
     "name": "stdout",
     "output_type": "stream",
     "text": [
      "✅ 1 agences sauvegardées : CAISSE DE CREDIT MUTUEL DE COUTANCES - AGON COUTAINVILLE\n"
     ]
    },
    {
     "name": "stderr",
     "output_type": "stream",
     "text": [
      "\n",
      "\u001b[A"
     ]
    },
    {
     "name": "stdout",
     "output_type": "stream",
     "text": [
      "✅ 1 agences sauvegardées : CAISSE DE CREDIT MUTUEL D'AVRANCHES\n"
     ]
    },
    {
     "name": "stderr",
     "output_type": "stream",
     "text": [
      "\n",
      "\u001b[A"
     ]
    },
    {
     "name": "stdout",
     "output_type": "stream",
     "text": [
      "✅ 1 agences sauvegardées : CAISSE DE CREDIT MUTUEL DE LA HAYE DU PUITS - BARNEVILLE\n"
     ]
    },
    {
     "name": "stderr",
     "output_type": "stream",
     "text": [
      "\n",
      "\u001b[A"
     ]
    },
    {
     "name": "stdout",
     "output_type": "stream",
     "text": [
      "✅ 1 agences sauvegardées : CAISSE DE CREDIT MUTUEL DE VILLEDIEU LES POELES - BRECEY\n"
     ]
    },
    {
     "name": "stderr",
     "output_type": "stream",
     "text": [
      "\n",
      "\u001b[A"
     ]
    },
    {
     "name": "stdout",
     "output_type": "stream",
     "text": [
      "✅ 1 agences sauvegardées : CAISSE DE CREDIT MUTUEL DE GRANVILLE - BREHAL\n"
     ]
    },
    {
     "name": "stderr",
     "output_type": "stream",
     "text": [
      "\n",
      "\u001b[A"
     ]
    },
    {
     "name": "stdout",
     "output_type": "stream",
     "text": [
      "✅ 1 agences sauvegardées : CAISSE DE CREDIT MUTUEL DES CHATEAUX EN COTENTIN - BRICQUEBEC\n"
     ]
    },
    {
     "name": "stderr",
     "output_type": "stream",
     "text": [
      "\n",
      "\u001b[A"
     ]
    },
    {
     "name": "stdout",
     "output_type": "stream",
     "text": [
      "✅ 1 agences sauvegardées : CAISSE DE CREDIT MUTUEL DE CARENTAN\n"
     ]
    },
    {
     "name": "stderr",
     "output_type": "stream",
     "text": [
      "\n",
      "\u001b[A"
     ]
    },
    {
     "name": "stdout",
     "output_type": "stream",
     "text": [
      "✅ 2 agences sauvegardées : CAISSE DE CREDIT MUTUEL DE CHERBOURG NAPOLEON, CAISSE DE CREDIT MUTUEL DE CHERBOURG SCHUMAN\n"
     ]
    },
    {
     "name": "stderr",
     "output_type": "stream",
     "text": [
      "\n",
      "\u001b[A"
     ]
    },
    {
     "name": "stdout",
     "output_type": "stream",
     "text": [
      "✅ 1 agences sauvegardées : CAISSE DE CREDIT MUTUEL DE SAINT LO CENTRE - CONDE SUR VIRE\n"
     ]
    },
    {
     "name": "stderr",
     "output_type": "stream",
     "text": [
      "\n",
      "\u001b[A"
     ]
    },
    {
     "name": "stdout",
     "output_type": "stream",
     "text": [
      "✅ 1 agences sauvegardées : CAISSE DE CREDIT MUTUEL DE COUTANCES\n"
     ]
    },
    {
     "name": "stderr",
     "output_type": "stream",
     "text": [
      "\n",
      "\u001b[A"
     ]
    },
    {
     "name": "stdout",
     "output_type": "stream",
     "text": [
      "✅ 1 agences sauvegardées : CAISSE DE CREDIT MUTUEL DE CREANCES\n"
     ]
    },
    {
     "name": "stderr",
     "output_type": "stream",
     "text": [
      "\n",
      "\u001b[A"
     ]
    },
    {
     "name": "stdout",
     "output_type": "stream",
     "text": [
      "✅ 1 agences sauvegardées : CAISSE DE CREDIT MUTUEL DE GRANVILLE - DONVILLE LES BAINS\n"
     ]
    },
    {
     "name": "stderr",
     "output_type": "stream",
     "text": [
      "\n",
      "\u001b[A"
     ]
    },
    {
     "name": "stdout",
     "output_type": "stream",
     "text": [
      "✅ 1 agences sauvegardées : CAISSE DE CREDIT MUTUEL D'AVRANCHES - DUCEY\n"
     ]
    },
    {
     "name": "stderr",
     "output_type": "stream",
     "text": [
      "\n",
      "\u001b[A"
     ]
    },
    {
     "name": "stdout",
     "output_type": "stream",
     "text": [
      "✅ 1 agences sauvegardées : CAISSE DE CREDIT MUTUEL DE VILLEDIEU LES POELES - GAVRAY\n"
     ]
    },
    {
     "name": "stderr",
     "output_type": "stream",
     "text": [
      "\n",
      "\u001b[A"
     ]
    },
    {
     "name": "stdout",
     "output_type": "stream",
     "text": [
      "✅ 1 agences sauvegardées : CAISSE DE CREDIT MUTUEL DE COUTANCES - GOUVILLE SUR MER\n"
     ]
    },
    {
     "name": "stderr",
     "output_type": "stream",
     "text": [
      "\n",
      "\u001b[A"
     ]
    },
    {
     "name": "stdout",
     "output_type": "stream",
     "text": [
      "✅ 1 agences sauvegardées : CAISSE DE CREDIT MUTUEL DE GRANVILLE\n"
     ]
    },
    {
     "name": "stderr",
     "output_type": "stream",
     "text": [
      "\n",
      "\u001b[A"
     ]
    },
    {
     "name": "stdout",
     "output_type": "stream",
     "text": [
      "✅ 1 agences sauvegardées : CAISSE DE CREDIT MUTUEL DE QUERQUEVILLE - BEAUMONT HAGUE\n"
     ]
    },
    {
     "name": "stderr",
     "output_type": "stream",
     "text": [
      "\n",
      "\u001b[A"
     ]
    },
    {
     "name": "stdout",
     "output_type": "stream",
     "text": [
      "✅ 1 agences sauvegardées : CAISSE DE CREDIT MUTUEL DE LA HAYE DU PUITS\n"
     ]
    },
    {
     "name": "stderr",
     "output_type": "stream",
     "text": [
      "\n",
      "\u001b[A"
     ]
    },
    {
     "name": "stdout",
     "output_type": "stream",
     "text": [
      "✅ 1 agences sauvegardées : CAISSE DE CREDIT MUTUEL DE ST HILAIRE DU HARCOUET - LE TEILLEUL\n"
     ]
    },
    {
     "name": "stderr",
     "output_type": "stream",
     "text": [
      "\n",
      "\u001b[A"
     ]
    },
    {
     "name": "stdout",
     "output_type": "stream",
     "text": [
      "✅ 1 agences sauvegardées : CAISSE DE CREDIT MUTUEL DE LES PIEUX\n"
     ]
    },
    {
     "name": "stderr",
     "output_type": "stream",
     "text": [
      "\n",
      "\u001b[A"
     ]
    },
    {
     "name": "stdout",
     "output_type": "stream",
     "text": [
      "✅ 1 agences sauvegardées : CAISSE DE CREDIT MUTUEL DE SAINT LO CENTRE - MARIGNY\n"
     ]
    },
    {
     "name": "stderr",
     "output_type": "stream",
     "text": [
      "\n",
      "\u001b[A"
     ]
    },
    {
     "name": "stdout",
     "output_type": "stream",
     "text": [
      "✅ 1 agences sauvegardées : CAISSE DE CREDIT MUTUEL DE VALOGNES - MONTEBOURG\n"
     ]
    },
    {
     "name": "stderr",
     "output_type": "stream",
     "text": [
      "\n",
      "\u001b[A"
     ]
    },
    {
     "name": "stdout",
     "output_type": "stream",
     "text": [
      "✅ 1 agences sauvegardées : CAISSE DE CREDIT MUTUEL DE MORTAIN\n"
     ]
    },
    {
     "name": "stderr",
     "output_type": "stream",
     "text": [
      "\n",
      "\u001b[A"
     ]
    },
    {
     "name": "stdout",
     "output_type": "stream",
     "text": [
      "✅ 1 agences sauvegardées : CAISSE DE CREDIT MUTUEL DE VILLEDIEU LES POELES - PERCY\n"
     ]
    },
    {
     "name": "stderr",
     "output_type": "stream",
     "text": [
      "\n",
      "\u001b[A"
     ]
    },
    {
     "name": "stdout",
     "output_type": "stream",
     "text": [
      "✅ 1 agences sauvegardées : CAISSE DE CREDIT MUTUEL DE PERIERS\n"
     ]
    },
    {
     "name": "stderr",
     "output_type": "stream",
     "text": [
      "\n",
      "\u001b[A"
     ]
    },
    {
     "name": "stdout",
     "output_type": "stream",
     "text": [
      "✅ 1 agences sauvegardées : CAISSE DE CREDIT MUTUEL DE CARENTAN - PICAUVILLE\n"
     ]
    },
    {
     "name": "stderr",
     "output_type": "stream",
     "text": [
      "\n",
      "\u001b[A"
     ]
    },
    {
     "name": "stdout",
     "output_type": "stream",
     "text": [
      "✅ 1 agences sauvegardées : CAISSE DE CREDIT MUTUEL DE PONTORSON\n"
     ]
    },
    {
     "name": "stderr",
     "output_type": "stream",
     "text": [
      "\n",
      "\u001b[A"
     ]
    },
    {
     "name": "stdout",
     "output_type": "stream",
     "text": [
      "✅ 1 agences sauvegardées : CAISSE DE CREDIT MUTUEL D'AVRANCHES - SARTILLY\n"
     ]
    },
    {
     "name": "stderr",
     "output_type": "stream",
     "text": [
      "\n",
      "\u001b[A"
     ]
    },
    {
     "name": "stdout",
     "output_type": "stream",
     "text": [
      "✅ 1 agences sauvegardées : CAISSE DE CREDIT MUTUEL DE SOURDEVAL\n"
     ]
    },
    {
     "name": "stderr",
     "output_type": "stream",
     "text": [
      "\n",
      "\u001b[A"
     ]
    },
    {
     "name": "stdout",
     "output_type": "stream",
     "text": [
      "✅ 1 agences sauvegardées : CAISSE DE CREDIT MUTUEL DE ST LO TORTERON - TESSY SUR VIRE\n"
     ]
    },
    {
     "name": "stderr",
     "output_type": "stream",
     "text": [
      "\n",
      "\u001b[A"
     ]
    },
    {
     "name": "stdout",
     "output_type": "stream",
     "text": [
      "✅ 1 agences sauvegardées : CAISSE DE CREDIT MUTUEL DE SAINT LO CENTRE - TORIGNI SUR VIRE\n"
     ]
    },
    {
     "name": "stderr",
     "output_type": "stream",
     "text": [
      "\n",
      "\u001b[A\n",
      "\u001b[A"
     ]
    },
    {
     "name": "stdout",
     "output_type": "stream",
     "text": [
      "✅ 1 agences sauvegardées : CAISSE DE CREDIT MUTUEL DE VALOGNES\n"
     ]
    },
    {
     "name": "stderr",
     "output_type": "stream",
     "text": [
      "\n",
      "\u001b[A\n",
      "\u001b[A"
     ]
    },
    {
     "name": "stdout",
     "output_type": "stream",
     "text": [
      "✅ 2 agences sauvegardées : CAISSE DE CREDIT MUTUEL D'ALENCON MONTSORT ST DENIS, CAISSE DE CREDIT MUTUEL D'ALENCON CENTRE - COURTEILLE\n"
     ]
    },
    {
     "name": "stderr",
     "output_type": "stream",
     "text": [
      "\n",
      "\u001b[A"
     ]
    },
    {
     "name": "stdout",
     "output_type": "stream",
     "text": [
      "✅ 1 agences sauvegardées : CAISSE DE CREDIT MUTUEL D'ARGENTAN\n"
     ]
    },
    {
     "name": "stderr",
     "output_type": "stream",
     "text": [
      "\n",
      "\u001b[A"
     ]
    },
    {
     "name": "stdout",
     "output_type": "stream",
     "text": [
      "✅ 1 agences sauvegardées : CAISSE DE CREDIT MUTUEL DU BOCAGE FLERIEN - ATHIS\n"
     ]
    },
    {
     "name": "stderr",
     "output_type": "stream",
     "text": [
      "\n",
      "\u001b[A"
     ]
    },
    {
     "name": "stdout",
     "output_type": "stream",
     "text": [
      "✅ 1 agences sauvegardées : CAISSE DE CREDIT MUTUEL DE MAMERS - BELLEME\n"
     ]
    },
    {
     "name": "stderr",
     "output_type": "stream",
     "text": [
      "\n",
      "\u001b[A"
     ]
    },
    {
     "name": "stdout",
     "output_type": "stream",
     "text": [
      "✅ 1 agences sauvegardées : CAISSE DE CREDIT MUTUEL DU PAYS FERTOIS - BRIOUZE\n"
     ]
    },
    {
     "name": "stderr",
     "output_type": "stream",
     "text": [
      "\n",
      "\u001b[A"
     ]
    },
    {
     "name": "stdout",
     "output_type": "stream",
     "text": [
      "✅ 1 agences sauvegardées : CAISSE DE CREDIT MUTUEL DU PAYS FERTOIS - CARROUGES\n"
     ]
    },
    {
     "name": "stderr",
     "output_type": "stream",
     "text": [
      "\n",
      "\u001b[A"
     ]
    },
    {
     "name": "stdout",
     "output_type": "stream",
     "text": [
      "✅ 1 agences sauvegardées : CAISSE DE CREDIT MUTUEL DU BOCAGE DOMFRONTAIS\n"
     ]
    },
    {
     "name": "stderr",
     "output_type": "stream",
     "text": [
      "\n",
      "\u001b[A"
     ]
    },
    {
     "name": "stdout",
     "output_type": "stream",
     "text": [
      "✅ 1 agences sauvegardées : CAISSE DE CREDIT MUTUEL DU BOCAGE FLERIEN\n"
     ]
    },
    {
     "name": "stderr",
     "output_type": "stream",
     "text": [
      "\n",
      "\u001b[A"
     ]
    },
    {
     "name": "stdout",
     "output_type": "stream",
     "text": [
      "✅ 1 agences sauvegardées : CAISSE DE CREDIT MUTUEL D'ARGENTAN - GACE\n"
     ]
    },
    {
     "name": "stderr",
     "output_type": "stream",
     "text": [
      "\n",
      "\u001b[A"
     ]
    },
    {
     "name": "stdout",
     "output_type": "stream",
     "text": [
      "✅ 1 agences sauvegardées : CAISSE DE CREDIT MUTUEL DU BOCAGE DOMFRONTAIS - LONLAY L ABBAYE\n"
     ]
    },
    {
     "name": "stderr",
     "output_type": "stream",
     "text": [
      "\n",
      "\u001b[A"
     ]
    },
    {
     "name": "stdout",
     "output_type": "stream",
     "text": [
      "✅ 1 agences sauvegardées : CAISSE DE CREDIT MUTUEL DU BOCAGE FLERIEN - MESSEI\n"
     ]
    },
    {
     "name": "stderr",
     "output_type": "stream",
     "text": [
      "\n",
      "\u001b[A"
     ]
    },
    {
     "name": "stdout",
     "output_type": "stream",
     "text": [
      "✅ 1 agences sauvegardées : CAISSE DE CREDIT MUTUEL DE MORTAGNE AU PERCHE\n"
     ]
    },
    {
     "name": "stderr",
     "output_type": "stream",
     "text": [
      "\n",
      "\u001b[A"
     ]
    },
    {
     "name": "stdout",
     "output_type": "stream",
     "text": [
      "✅ 1 agences sauvegardées : CAISSE DE CREDIT MUTUEL DU BOCAGE DOMFRONTAIS - PASSAIS MANTILLY\n"
     ]
    },
    {
     "name": "stderr",
     "output_type": "stream",
     "text": [
      "\n",
      "\u001b[A"
     ]
    },
    {
     "name": "stdout",
     "output_type": "stream",
     "text": [
      "✅ 1 agences sauvegardées : CAISSE DE CREDIT MUTUEL D'ARGENTAN - PUTANGES PONT ECREPIN\n"
     ]
    },
    {
     "name": "stderr",
     "output_type": "stream",
     "text": [
      "\n",
      "\u001b[A"
     ]
    },
    {
     "name": "stdout",
     "output_type": "stream",
     "text": [
      "✅ 1 agences sauvegardées : CAISSE DE CREDIT MUTUEL DE NOGENT LE ROTROU - REMALARD\n"
     ]
    },
    {
     "name": "stderr",
     "output_type": "stream",
     "text": [
      "\n",
      "\u001b[A"
     ]
    },
    {
     "name": "stdout",
     "output_type": "stream",
     "text": [
      "✅ 1 agences sauvegardées : CAISSE DE CREDIT MUTUEL DU PAYS FERTOIS - ANDAINE\n"
     ]
    },
    {
     "name": "stderr",
     "output_type": "stream",
     "text": [
      "\n",
      "\u001b[A"
     ]
    },
    {
     "name": "stdout",
     "output_type": "stream",
     "text": [
      "✅ 1 agences sauvegardées : CAISSE DE CREDIT MUTUEL DE SEES\n"
     ]
    },
    {
     "name": "stderr",
     "output_type": "stream",
     "text": [
      "\n",
      "\u001b[A"
     ]
    },
    {
     "name": "stdout",
     "output_type": "stream",
     "text": [
      "✅ 1 agences sauvegardées : CAISSE DE CREDIT MUTUEL DE MORTAGNE AU PERCHE - TOUROUVRE\n"
     ]
    },
    {
     "name": "stderr",
     "output_type": "stream",
     "text": [
      "\n",
      "\u001b[A\n",
      "\u001b[A"
     ]
    },
    {
     "name": "stdout",
     "output_type": "stream",
     "text": [
      "✅ 1 agences sauvegardées : CAISSE DE CREDIT MUTUEL DE VIMOUTIERS\n"
     ]
    },
    {
     "name": "stderr",
     "output_type": "stream",
     "text": [
      "\n",
      "\u001b[A\n",
      "\u001b[A"
     ]
    },
    {
     "name": "stdout",
     "output_type": "stream",
     "text": [
      "ℹ️ Pas de nouvelles agences (ou déjà existantes).\n"
     ]
    },
    {
     "name": "stderr",
     "output_type": "stream",
     "text": [
      "\n",
      "\u001b[A"
     ]
    },
    {
     "name": "stdout",
     "output_type": "stream",
     "text": [
      "✅ 2 agences sauvegardées : CAISSE DE CREDIT MUTUEL PROFESSIONS DE SANTE CMPS HTE NDIE - PROFESSIONS DE SANTE HN, CAISSE DE CREDIT MUTUEL BOIS GUILLAUME\n"
     ]
    },
    {
     "name": "stderr",
     "output_type": "stream",
     "text": [
      "\n",
      "\u001b[A"
     ]
    },
    {
     "name": "stdout",
     "output_type": "stream",
     "text": [
      "✅ 1 agences sauvegardées : CAISSE DE CREDIT MUTUEL BOLBEC\n"
     ]
    },
    {
     "name": "stderr",
     "output_type": "stream",
     "text": [
      "\n",
      "\u001b[A"
     ]
    },
    {
     "name": "stdout",
     "output_type": "stream",
     "text": [
      "✅ 1 agences sauvegardées : CAISSE DE CREDIT MUTUEL BUCHY\n"
     ]
    },
    {
     "name": "stderr",
     "output_type": "stream",
     "text": [
      "\n",
      "\u001b[A"
     ]
    },
    {
     "name": "stdout",
     "output_type": "stream",
     "text": [
      "✅ 1 agences sauvegardées : CAISSE DE CREDIT MUTUEL CANY BARVILLE-SAINT VALERY EN CAUX\n"
     ]
    },
    {
     "name": "stderr",
     "output_type": "stream",
     "text": [
      "\n",
      "\u001b[A"
     ]
    },
    {
     "name": "stdout",
     "output_type": "stream",
     "text": [
      "✅ 1 agences sauvegardées : CAISSE DE CREDIT MUTUEL ROUEN SAINT MARC - DARNETAL\n"
     ]
    },
    {
     "name": "stderr",
     "output_type": "stream",
     "text": [
      "\n",
      "\u001b[A"
     ]
    },
    {
     "name": "stdout",
     "output_type": "stream",
     "text": [
      "✅ 1 agences sauvegardées : CAISSE DE CREDIT MUTUEL MAROMME DEVILLE LES ROUEN\n"
     ]
    },
    {
     "name": "stderr",
     "output_type": "stream",
     "text": [
      "\n",
      "\u001b[A"
     ]
    },
    {
     "name": "stdout",
     "output_type": "stream",
     "text": [
      "✅ 1 agences sauvegardées : CAISSE DE CREDIT MUTUEL DIEPPE\n"
     ]
    },
    {
     "name": "stderr",
     "output_type": "stream",
     "text": [
      "\n",
      "\u001b[A"
     ]
    },
    {
     "name": "stdout",
     "output_type": "stream",
     "text": [
      "✅ 1 agences sauvegardées : CAISSE DE CREDIT MUTUEL DUCLAIR PAVILLY\n"
     ]
    },
    {
     "name": "stderr",
     "output_type": "stream",
     "text": [
      "\n",
      "\u001b[A"
     ]
    },
    {
     "name": "stdout",
     "output_type": "stream",
     "text": [
      "✅ 1 agences sauvegardées : CAISSE DE CREDIT MUTUEL ELBEUF\n"
     ]
    },
    {
     "name": "stderr",
     "output_type": "stream",
     "text": [
      "\n",
      "\u001b[A"
     ]
    },
    {
     "name": "stdout",
     "output_type": "stream",
     "text": [
      "✅ 1 agences sauvegardées : CAISSE DE CREDIT MUTUEL DIEPPE - EU\n"
     ]
    },
    {
     "name": "stderr",
     "output_type": "stream",
     "text": [
      "\n",
      "\u001b[A"
     ]
    },
    {
     "name": "stdout",
     "output_type": "stream",
     "text": [
      "✅ 1 agences sauvegardées : CAISSE DE CREDIT MUTUEL FECAMP\n"
     ]
    },
    {
     "name": "stderr",
     "output_type": "stream",
     "text": [
      "\n",
      "\u001b[A"
     ]
    },
    {
     "name": "stdout",
     "output_type": "stream",
     "text": [
      "✅ 1 agences sauvegardées : CAISSE DE CREDIT MUTUEL GOURNAY EN BRAY\n"
     ]
    },
    {
     "name": "stderr",
     "output_type": "stream",
     "text": [
      "\n",
      "\u001b[A"
     ]
    },
    {
     "name": "stdout",
     "output_type": "stream",
     "text": [
      "✅ 5 agences sauvegardées : CAISSE DE CREDIT MUTUEL LE HAVRE CENTRE, CAISSE DE CREDIT MUTUEL LE HAVRE ROND POINT SAINTE CECILE, CAISSE DE CREDIT MUTUEL ENSEIGNANT CAEN LE HAVRE - ENSEIGNANT, CAISSE DE CREDIT MUTUEL LE HAVRE CENTRE - LES HALLES, CAISSE DE CREDIT MUTUEL LE HAVRE ROND POINT SAINTE CECILE - SAINT NICOLAS\n"
     ]
    },
    {
     "name": "stderr",
     "output_type": "stream",
     "text": [
      "\n",
      "\u001b[A"
     ]
    },
    {
     "name": "stdout",
     "output_type": "stream",
     "text": [
      "✅ 1 agences sauvegardées : CAISSE DE CREDIT MUTUEL MAROMME DEVILLE LES ROUEN\n"
     ]
    },
    {
     "name": "stderr",
     "output_type": "stream",
     "text": [
      "\n",
      "\u001b[A"
     ]
    },
    {
     "name": "stdout",
     "output_type": "stream",
     "text": [
      "✅ 1 agences sauvegardées : CAISSE DE CREDIT MUTUEL MONTIVILLIERS\n"
     ]
    },
    {
     "name": "stderr",
     "output_type": "stream",
     "text": [
      "\n",
      "\u001b[A"
     ]
    },
    {
     "name": "stdout",
     "output_type": "stream",
     "text": [
      "✅ 1 agences sauvegardées : CAISSE DE CREDIT MUTUEL MONTVILLE\n"
     ]
    },
    {
     "name": "stderr",
     "output_type": "stream",
     "text": [
      "\n",
      "\u001b[A"
     ]
    },
    {
     "name": "stdout",
     "output_type": "stream",
     "text": [
      "✅ 1 agences sauvegardées : CAISSE DE CREDIT MUTUEL NEUFCHATEL EN BRAY\n"
     ]
    },
    {
     "name": "stderr",
     "output_type": "stream",
     "text": [
      "\n",
      "\u001b[A"
     ]
    },
    {
     "name": "stdout",
     "output_type": "stream",
     "text": [
      "✅ 1 agences sauvegardées : CAISSE DE CREDIT MUTUEL DUCLAIR PAVILLY\n"
     ]
    },
    {
     "name": "stderr",
     "output_type": "stream",
     "text": [
      "\n",
      "\u001b[A"
     ]
    },
    {
     "name": "stdout",
     "output_type": "stream",
     "text": [
      "✅ 5 agences sauvegardées : BANQUE EUROPEENNE DU CREDIT MUTUEL ROUEN - BECM, CAISSE DE CREDIT MUTUEL ENSEIGNANT ROUEN EVREUX, CAISSE DE CREDIT MUTUEL ROUEN JEANNE D ARC, CAISSE DE CREDIT MUTUEL ROUEN SAINT MARC, CAISSE DE CREDIT MUTUEL MONT SAINT AIGNAN - ROUEN GARE\n"
     ]
    },
    {
     "name": "stderr",
     "output_type": "stream",
     "text": [
      "\n",
      "\u001b[A"
     ]
    },
    {
     "name": "stdout",
     "output_type": "stream",
     "text": [
      "✅ 1 agences sauvegardées : CAISSE DE CREDIT MUTUEL SOTTEVILLE LES ROUEN\n"
     ]
    },
    {
     "name": "stderr",
     "output_type": "stream",
     "text": [
      "\n",
      "\u001b[A"
     ]
    },
    {
     "name": "stdout",
     "output_type": "stream",
     "text": [
      "✅ 1 agences sauvegardées : CAISSE DE CREDIT MUTUEL FAUVILLE EN CAUX\n"
     ]
    },
    {
     "name": "stderr",
     "output_type": "stream",
     "text": [
      "\n",
      "\u001b[A"
     ]
    },
    {
     "name": "stdout",
     "output_type": "stream",
     "text": [
      "✅ 1 agences sauvegardées : CAISSE DE CREDIT MUTUEL AUFFAY\n"
     ]
    },
    {
     "name": "stderr",
     "output_type": "stream",
     "text": [
      "\n",
      "\u001b[A\n",
      "Régions:  67%|██████▋   | 8/12 [1:52:29<58:43, 880.76s/it]  "
     ]
    },
    {
     "name": "stdout",
     "output_type": "stream",
     "text": [
      "✅ 1 agences sauvegardées : CAISSE DE CREDIT MUTUEL YVETOT\n"
     ]
    },
    {
     "name": "stderr",
     "output_type": "stream",
     "text": [
      "\n",
      "\u001b[A\n",
      "\u001b[A"
     ]
    },
    {
     "name": "stdout",
     "output_type": "stream",
     "text": [
      "✅ 1 agences sauvegardées : CAISSE DE CREDIT MUTUEL AIGREFEUILLE D'AUNIS\n"
     ]
    },
    {
     "name": "stderr",
     "output_type": "stream",
     "text": [
      "\n",
      "\u001b[A"
     ]
    },
    {
     "name": "stdout",
     "output_type": "stream",
     "text": [
      "✅ 1 agences sauvegardées : CAISSE DE CREDIT MUTUEL AYTRE - ANGOULINS\n"
     ]
    },
    {
     "name": "stderr",
     "output_type": "stream",
     "text": [
      "\n",
      "\u001b[A"
     ]
    },
    {
     "name": "stdout",
     "output_type": "stream",
     "text": [
      "✅ 1 agences sauvegardées : CAISSE DE CREDIT MUTUEL ARCHIAC\n"
     ]
    },
    {
     "name": "stderr",
     "output_type": "stream",
     "text": [
      "\n",
      "\u001b[A"
     ]
    },
    {
     "name": "stdout",
     "output_type": "stream",
     "text": [
      "✅ 1 agences sauvegardées : CAISSE DE CREDIT MUTUEL LA COUARDE SUR MER - ARS EN RE\n"
     ]
    },
    {
     "name": "stderr",
     "output_type": "stream",
     "text": [
      "\n",
      "\u001b[A"
     ]
    },
    {
     "name": "stdout",
     "output_type": "stream",
     "text": [
      "✅ 1 agences sauvegardées : CAISSE DE CREDIT MUTUEL AULNAY DE SAINTONGE\n"
     ]
    },
    {
     "name": "stderr",
     "output_type": "stream",
     "text": [
      "\n",
      "\u001b[A"
     ]
    },
    {
     "name": "stdout",
     "output_type": "stream",
     "text": [
      "✅ 1 agences sauvegardées : CAISSE DE CREDIT MUTUEL AYTRE\n"
     ]
    },
    {
     "name": "stderr",
     "output_type": "stream",
     "text": [
      "\n",
      "\u001b[A"
     ]
    },
    {
     "name": "stdout",
     "output_type": "stream",
     "text": [
      "✅ 1 agences sauvegardées : CAISSE DE CREDIT MUTUEL SAINTES - CHANIERS\n"
     ]
    },
    {
     "name": "stderr",
     "output_type": "stream",
     "text": [
      "\n",
      "\u001b[A"
     ]
    },
    {
     "name": "stdout",
     "output_type": "stream",
     "text": [
      "✅ 1 agences sauvegardées : CCM CHATELAILLON\n"
     ]
    },
    {
     "name": "stderr",
     "output_type": "stream",
     "text": [
      "\n",
      "\u001b[A"
     ]
    },
    {
     "name": "stdout",
     "output_type": "stream",
     "text": [
      "✅ 1 agences sauvegardées : CAISSE DE CREDIT MUTUEL MARANS - COURCON\n"
     ]
    },
    {
     "name": "stderr",
     "output_type": "stream",
     "text": [
      "\n",
      "\u001b[A"
     ]
    },
    {
     "name": "stdout",
     "output_type": "stream",
     "text": [
      "✅ 1 agences sauvegardées : CAISSE DE CREDIT MUTUEL COZES\n"
     ]
    },
    {
     "name": "stderr",
     "output_type": "stream",
     "text": [
      "\n",
      "\u001b[A"
     ]
    },
    {
     "name": "stdout",
     "output_type": "stream",
     "text": [
      "✅ 1 agences sauvegardées : CAISSE DE CREDIT MUTUEL ROCHEFORT SUR MER - FOURAS\n"
     ]
    },
    {
     "name": "stderr",
     "output_type": "stream",
     "text": [
      "\n",
      "\u001b[A"
     ]
    },
    {
     "name": "stdout",
     "output_type": "stream",
     "text": [
      "✅ 1 agences sauvegardées : CAISSE DE CREDIT MUTUEL PONS - GEMOZAC\n"
     ]
    },
    {
     "name": "stderr",
     "output_type": "stream",
     "text": [
      "\n",
      "\u001b[A"
     ]
    },
    {
     "name": "stdout",
     "output_type": "stream",
     "text": [
      "✅ 1 agences sauvegardées : CAISSE DE CREDIT MUTUEL JONZAC\n"
     ]
    },
    {
     "name": "stderr",
     "output_type": "stream",
     "text": [
      "\n",
      "\u001b[A"
     ]
    },
    {
     "name": "stdout",
     "output_type": "stream",
     "text": [
      "✅ 1 agences sauvegardées : CAISSE DE CREDIT MUTUEL LA COUARDE SUR MER - LA FLOTTE EN RE\n"
     ]
    },
    {
     "name": "stderr",
     "output_type": "stream",
     "text": [
      "\n",
      "\u001b[A"
     ]
    },
    {
     "name": "stdout",
     "output_type": "stream",
     "text": [
      "✅ 3 agences sauvegardées : CAISSE DE CREDIT MUTUEL LA ROCHELLE NORD, CAISSE DE CREDIT MUTUEL LA ROCHELLE NORD - CARNOT, CAISSE DE CREDIT MUTUEL LA ROCHELLE SUD - MINIMES\n"
     ]
    },
    {
     "name": "stderr",
     "output_type": "stream",
     "text": [
      "\n",
      "\u001b[A"
     ]
    },
    {
     "name": "stdout",
     "output_type": "stream",
     "text": [
      "✅ 1 agences sauvegardées : CAISSE DE CREDIT MUTUEL LA TREMBLADE\n"
     ]
    },
    {
     "name": "stderr",
     "output_type": "stream",
     "text": [
      "\n",
      "\u001b[A"
     ]
    },
    {
     "name": "stdout",
     "output_type": "stream",
     "text": [
      "✅ 1 agences sauvegardées : CAISSE DE CREDIT MUTUEL LA ROCHELLE NORD - LAGORD\n"
     ]
    },
    {
     "name": "stderr",
     "output_type": "stream",
     "text": [
      "\n",
      "\u001b[A"
     ]
    },
    {
     "name": "stdout",
     "output_type": "stream",
     "text": [
      "✅ 1 agences sauvegardées : CAISSE DE CREDIT MUTUEL MARANS\n"
     ]
    },
    {
     "name": "stderr",
     "output_type": "stream",
     "text": [
      "\n",
      "\u001b[A"
     ]
    },
    {
     "name": "stdout",
     "output_type": "stream",
     "text": [
      "✅ 1 agences sauvegardées : CAISSE DE CREDIT MUTUEL MATHA\n"
     ]
    },
    {
     "name": "stderr",
     "output_type": "stream",
     "text": [
      "\n",
      "\u001b[A"
     ]
    },
    {
     "name": "stdout",
     "output_type": "stream",
     "text": [
      "✅ 1 agences sauvegardées : CAISSE DE CREDIT MUTUEL MIRAMBEAU\n"
     ]
    },
    {
     "name": "stderr",
     "output_type": "stream",
     "text": [
      "\n",
      "\u001b[A"
     ]
    },
    {
     "name": "stdout",
     "output_type": "stream",
     "text": [
      "✅ 1 agences sauvegardées : CAISSE DE CREDIT MUTUEL MONTENDRE\n"
     ]
    },
    {
     "name": "stderr",
     "output_type": "stream",
     "text": [
      "\n",
      "\u001b[A"
     ]
    },
    {
     "name": "stdout",
     "output_type": "stream",
     "text": [
      "✅ 1 agences sauvegardées : CAISSE DE CREDIT MUTUEL MONTGUYON\n"
     ]
    },
    {
     "name": "stderr",
     "output_type": "stream",
     "text": [
      "\n",
      "\u001b[A"
     ]
    },
    {
     "name": "stdout",
     "output_type": "stream",
     "text": [
      "✅ 1 agences sauvegardées : CAISSE DE CREDIT MUTUEL LA ROCHELLE SUD - PERIGNY\n"
     ]
    },
    {
     "name": "stderr",
     "output_type": "stream",
     "text": [
      "\n",
      "\u001b[A"
     ]
    },
    {
     "name": "stdout",
     "output_type": "stream",
     "text": [
      "✅ 1 agences sauvegardées : CAISSE DE CREDIT MUTUEL PONS\n"
     ]
    },
    {
     "name": "stderr",
     "output_type": "stream",
     "text": [
      "\n",
      "\u001b[A"
     ]
    },
    {
     "name": "stdout",
     "output_type": "stream",
     "text": [
      "✅ 1 agences sauvegardées : CAISSE DE CREDIT MUTUEL DE  PONT L'ABBE D'ARNOULT\n"
     ]
    },
    {
     "name": "stderr",
     "output_type": "stream",
     "text": [
      "\n",
      "\u001b[A"
     ]
    },
    {
     "name": "stdout",
     "output_type": "stream",
     "text": [
      "✅ 1 agences sauvegardées : CAISSE DE CREDIT MUTUEL PUILBOREAU\n"
     ]
    },
    {
     "name": "stderr",
     "output_type": "stream",
     "text": [
      "\n",
      "\u001b[A"
     ]
    },
    {
     "name": "stdout",
     "output_type": "stream",
     "text": [
      "✅ 2 agences sauvegardées : CAISSE DE CREDIT MUTUEL ROCHEFORT SUR MER, CAISSE DE CREDIT MUTUEL ROCHEFORT SUR MER - MARTROU\n"
     ]
    },
    {
     "name": "stderr",
     "output_type": "stream",
     "text": [
      "\n",
      "\u001b[A"
     ]
    },
    {
     "name": "stdout",
     "output_type": "stream",
     "text": [
      "✅ 1 agences sauvegardées : CAISSE DE CREDIT MUTUEL ROYAN\n"
     ]
    },
    {
     "name": "stderr",
     "output_type": "stream",
     "text": [
      "\n",
      "\u001b[A"
     ]
    },
    {
     "name": "stdout",
     "output_type": "stream",
     "text": [
      "✅ 2 agences sauvegardées : CAISSE DE CREDIT MUTUEL SAINTES, CAISSE DE CREDIT MUTUEL SAINTES - LES ARENES\n"
     ]
    },
    {
     "name": "stderr",
     "output_type": "stream",
     "text": [
      "\n",
      "\u001b[A"
     ]
    },
    {
     "name": "stdout",
     "output_type": "stream",
     "text": [
      "✅ 1 agences sauvegardées : CAISSE DE CREDIT MUTUEL SAUJON\n"
     ]
    },
    {
     "name": "stderr",
     "output_type": "stream",
     "text": [
      "\n",
      "\u001b[A"
     ]
    },
    {
     "name": "stdout",
     "output_type": "stream",
     "text": [
      "✅ 1 agences sauvegardées : CAISSE DE CREDIT MUTUEL SURGERES\n"
     ]
    },
    {
     "name": "stderr",
     "output_type": "stream",
     "text": [
      "\n",
      "\u001b[A"
     ]
    },
    {
     "name": "stdout",
     "output_type": "stream",
     "text": [
      "✅ 1 agences sauvegardées : CAISSE DE CREDIT MUTUEL TONNAY CHARENTE\n"
     ]
    },
    {
     "name": "stderr",
     "output_type": "stream",
     "text": [
      "\n",
      "\u001b[A\n",
      "\u001b[A"
     ]
    },
    {
     "name": "stdout",
     "output_type": "stream",
     "text": [
      "✅ 1 agences sauvegardées : CAISSE DE CREDIT MUTUEL ROYAN - VAUX SUR MER\n"
     ]
    },
    {
     "name": "stderr",
     "output_type": "stream",
     "text": [
      "\n",
      "\u001b[A\n",
      "\u001b[A"
     ]
    },
    {
     "name": "stdout",
     "output_type": "stream",
     "text": [
      "✅ 2 agences sauvegardées : CAISSE DE CREDIT MUTUEL BRIVE HOTEL DE VILLE, CAISSE DE CREDIT MUTUEL BRIVE GRAND OUEST\n"
     ]
    },
    {
     "name": "stderr",
     "output_type": "stream",
     "text": [
      "\n",
      "\u001b[A"
     ]
    },
    {
     "name": "stdout",
     "output_type": "stream",
     "text": [
      "✅ 1 agences sauvegardées : CAISSE DE CREDIT MUTUEL BRIVE HOTEL DE VILLE - MALEMORT\n"
     ]
    },
    {
     "name": "stderr",
     "output_type": "stream",
     "text": [
      "\n",
      "\u001b[A\n",
      "\u001b[A"
     ]
    },
    {
     "name": "stdout",
     "output_type": "stream",
     "text": [
      "✅ 1 agences sauvegardées : CAISSE DE CREDIT MUTUEL TULLE\n"
     ]
    },
    {
     "name": "stderr",
     "output_type": "stream",
     "text": [
      "\n",
      "\u001b[A\n",
      "\u001b[A"
     ]
    },
    {
     "name": "stdout",
     "output_type": "stream",
     "text": [
      "✅ 1 agences sauvegardées : CAISSE DE CREDIT MUTUEL DU PAYS CREUSOIS\n"
     ]
    },
    {
     "name": "stderr",
     "output_type": "stream",
     "text": [
      "\n",
      "\u001b[A\n",
      "\u001b[A"
     ]
    },
    {
     "name": "stdout",
     "output_type": "stream",
     "text": [
      "✅ 1 agences sauvegardées : CAISSE DE CREDIT MUTUEL LA SOUTERRAINE\n"
     ]
    },
    {
     "name": "stderr",
     "output_type": "stream",
     "text": [
      "\n",
      "\u001b[A\n",
      "\u001b[A\n",
      "\u001b[A\n",
      "\u001b[A"
     ]
    },
    {
     "name": "stdout",
     "output_type": "stream",
     "text": [
      "✅ 1 agences sauvegardées : CAISSE DE CREDIT MUTUEL MARSADOUR - AIRE SUR L'ADOUR\n"
     ]
    },
    {
     "name": "stderr",
     "output_type": "stream",
     "text": [
      "\n",
      "\u001b[A"
     ]
    },
    {
     "name": "stdout",
     "output_type": "stream",
     "text": [
      "✅ 1 agences sauvegardées : CAISSE DE CREDIT MUTUEL BISCARROSSE\n"
     ]
    },
    {
     "name": "stderr",
     "output_type": "stream",
     "text": [
      "\n",
      "\u001b[A"
     ]
    },
    {
     "name": "stdout",
     "output_type": "stream",
     "text": [
      "✅ 1 agences sauvegardées : CAISSE DE CREDIT MUTUEL CAPBRETON\n"
     ]
    },
    {
     "name": "stderr",
     "output_type": "stream",
     "text": [
      "\n",
      "\u001b[A"
     ]
    },
    {
     "name": "stdout",
     "output_type": "stream",
     "text": [
      "✅ 1 agences sauvegardées : CAISSE DE CREDIT MUTUEL DAX\n"
     ]
    },
    {
     "name": "stderr",
     "output_type": "stream",
     "text": [
      "\n",
      "\u001b[A"
     ]
    },
    {
     "name": "stdout",
     "output_type": "stream",
     "text": [
      "✅ 2 agences sauvegardées : CAISSE DE CREDIT MUTUEL MARSADOUR, CAISSE DE CREDIT MUTUEL MONT DE MARSAN FOCH\n"
     ]
    },
    {
     "name": "stderr",
     "output_type": "stream",
     "text": [
      "\n",
      "\u001b[A\n",
      "\u001b[A"
     ]
    },
    {
     "name": "stdout",
     "output_type": "stream",
     "text": [
      "✅ 1 agences sauvegardées : CAISSE DE CREDIT MUTUEL TARNOS SUD LANDES\n"
     ]
    },
    {
     "name": "stderr",
     "output_type": "stream",
     "text": [
      "\n",
      "\u001b[A\n",
      "\u001b[A"
     ]
    },
    {
     "name": "stdout",
     "output_type": "stream",
     "text": [
      "✅ 2 agences sauvegardées : CAISSE DE CREDIT MUTUEL AGEN PIN - NERAC, CAISSE DE CREDIT MUTUEL AGEN JASMIN - LE PASSAGE\n"
     ]
    },
    {
     "name": "stderr",
     "output_type": "stream",
     "text": [
      "\n",
      "\u001b[A"
     ]
    },
    {
     "name": "stdout",
     "output_type": "stream",
     "text": [
      "✅ 1 agences sauvegardées : CAISSE DE CREDIT MUTUEL AGEN JASMIN - LE PASSAGE - D'AGEN\n"
     ]
    },
    {
     "name": "stderr",
     "output_type": "stream",
     "text": [
      "\n",
      "\u001b[A"
     ]
    },
    {
     "name": "stdout",
     "output_type": "stream",
     "text": [
      "✅ 1 agences sauvegardées : CAISSE DE CREDIT MUTUEL MARMANDE\n"
     ]
    },
    {
     "name": "stderr",
     "output_type": "stream",
     "text": [
      "\n",
      "\u001b[A"
     ]
    },
    {
     "name": "stdout",
     "output_type": "stream",
     "text": [
      "✅ 1 agences sauvegardées : CAISSE DE CREDIT MUTUEL AGEN PIN - NERAC\n"
     ]
    },
    {
     "name": "stderr",
     "output_type": "stream",
     "text": [
      "\n",
      "\u001b[A\n",
      "\u001b[A"
     ]
    },
    {
     "name": "stdout",
     "output_type": "stream",
     "text": [
      "✅ 1 agences sauvegardées : CAISSE DE CREDIT MUTUEL VILLENEUVE SUR LOT\n"
     ]
    },
    {
     "name": "stderr",
     "output_type": "stream",
     "text": [
      "\n",
      "\u001b[A\n",
      "\u001b[A"
     ]
    },
    {
     "name": "stdout",
     "output_type": "stream",
     "text": [
      "✅ 2 agences sauvegardées : CAISSE DE CREDIT MUTUEL ANGLET SAINT JEAN, CAISSE DE CREDIT MUTUEL ANGLET CINQ CANTONS\n"
     ]
    },
    {
     "name": "stderr",
     "output_type": "stream",
     "text": [
      "\n",
      "\u001b[A"
     ]
    },
    {
     "name": "stdout",
     "output_type": "stream",
     "text": [
      "✅ 2 agences sauvegardées : CAISSE DE CREDIT MUTUEL BAYONNE CENTRE, CAISSE DE CREDIT MUTUEL BAYONNE SAINT ESPRIT\n"
     ]
    },
    {
     "name": "stderr",
     "output_type": "stream",
     "text": [
      "\n",
      "\u001b[A"
     ]
    },
    {
     "name": "stdout",
     "output_type": "stream",
     "text": [
      "✅ 2 agences sauvegardées : CAISSE DE CREDIT MUTUEL BIARRITZ CLEMENCEAU, CAISSE DE CREDIT MUTUEL BIARRITZ KENNEDY\n"
     ]
    },
    {
     "name": "stderr",
     "output_type": "stream",
     "text": [
      "\n",
      "\u001b[A"
     ]
    },
    {
     "name": "stdout",
     "output_type": "stream",
     "text": [
      "✅ 1 agences sauvegardées : CAISSE DE CREDIT MUTUEL BIDART\n"
     ]
    },
    {
     "name": "stderr",
     "output_type": "stream",
     "text": [
      "\n",
      "\u001b[A"
     ]
    },
    {
     "name": "stdout",
     "output_type": "stream",
     "text": [
      "✅ 1 agences sauvegardées : CAISSE DE CREDIT MUTUEL OUEST BEARN\n"
     ]
    },
    {
     "name": "stderr",
     "output_type": "stream",
     "text": [
      "\n",
      "\u001b[A"
     ]
    },
    {
     "name": "stdout",
     "output_type": "stream",
     "text": [
      "✅ 1 agences sauvegardées : CAISSE DE CREDIT MUTUEL SAINT JEAN DE LUZ - CIBOURE\n"
     ]
    },
    {
     "name": "stderr",
     "output_type": "stream",
     "text": [
      "\n",
      "\u001b[A"
     ]
    },
    {
     "name": "stdout",
     "output_type": "stream",
     "text": [
      "✅ 1 agences sauvegardées : CAISSE DE CREDIT MUTUEL HENDAYE\n"
     ]
    },
    {
     "name": "stderr",
     "output_type": "stream",
     "text": [
      "\n",
      "\u001b[A"
     ]
    },
    {
     "name": "stdout",
     "output_type": "stream",
     "text": [
      "✅ 1 agences sauvegardées : CAISSE DE CREDIT MUTUEL OUEST BEARN - ORTHEZ\n"
     ]
    },
    {
     "name": "stderr",
     "output_type": "stream",
     "text": [
      "\n",
      "\u001b[A"
     ]
    },
    {
     "name": "stdout",
     "output_type": "stream",
     "text": [
      "✅ 7 agences sauvegardées : CAISSE DE CREDIT MUTUEL PAU UNIVERSITE, CAISSE DE CREDIT MUTUEL ENSEIGNANT PAU - CME, CAISSE DE CREDIT MUTUEL PAU HOTEL DE VILLE, CAISSE DE CREDIT MUTUEL PAU REPUBLIQUE, CAISSE DE CREDIT MUTUEL PAU MERMOZ, CAISSE DE CREDIT MUTUEL PAU GENERAL LECLERC, CAISSE DE CREDIT MUTUEL PAU CROIX DU PRINCE\n"
     ]
    },
    {
     "name": "stderr",
     "output_type": "stream",
     "text": [
      "\n",
      "\u001b[A\n",
      "\u001b[A"
     ]
    },
    {
     "name": "stdout",
     "output_type": "stream",
     "text": [
      "✅ 1 agences sauvegardées : CAISSE DE CREDIT MUTUEL USTARITZ\n"
     ]
    },
    {
     "name": "stderr",
     "output_type": "stream",
     "text": [
      "\n",
      "\u001b[A\n",
      "\u001b[A"
     ]
    },
    {
     "name": "stdout",
     "output_type": "stream",
     "text": [
      "✅ 1 agences sauvegardées : CAISSE DE CREDIT MUTUEL SUD NIORTAIS\n"
     ]
    },
    {
     "name": "stderr",
     "output_type": "stream",
     "text": [
      "\n",
      "\u001b[A"
     ]
    },
    {
     "name": "stdout",
     "output_type": "stream",
     "text": [
      "✅ 1 agences sauvegardées : CAISSE DE CREDIT MUTUEL D'AIRVAULT - THOUARS\n"
     ]
    },
    {
     "name": "stderr",
     "output_type": "stream",
     "text": [
      "\n",
      "\u001b[A"
     ]
    },
    {
     "name": "stdout",
     "output_type": "stream",
     "text": [
      "✅ 1 agences sauvegardées : CAISSE DE CREDIT MUTUEL BRIOUX SUR BOUTONNE\n"
     ]
    },
    {
     "name": "stderr",
     "output_type": "stream",
     "text": [
      "\n",
      "\u001b[A"
     ]
    },
    {
     "name": "stdout",
     "output_type": "stream",
     "text": [
      "✅ 1 agences sauvegardées : CAISSE DE CREDIT MUTUEL MELLE - CELLES SUR BELLE\n"
     ]
    },
    {
     "name": "stderr",
     "output_type": "stream",
     "text": [
      "\n",
      "\u001b[A"
     ]
    },
    {
     "name": "stdout",
     "output_type": "stream",
     "text": [
      "✅ 1 agences sauvegardées : CAISSE DE CREDIT MUTUEL CERIZAY\n"
     ]
    },
    {
     "name": "stderr",
     "output_type": "stream",
     "text": [
      "\n",
      "\u001b[A"
     ]
    },
    {
     "name": "stdout",
     "output_type": "stream",
     "text": [
      "✅ 1 agences sauvegardées : CAISSE DE CREDIT MUTUEL CHAURAY\n"
     ]
    },
    {
     "name": "stderr",
     "output_type": "stream",
     "text": [
      "\n",
      "\u001b[A"
     ]
    },
    {
     "name": "stdout",
     "output_type": "stream",
     "text": [
      "✅ 1 agences sauvegardées : CAISSE DE CREDIT MUTUEL CHEF BOUTONNE\n"
     ]
    },
    {
     "name": "stderr",
     "output_type": "stream",
     "text": [
      "\n",
      "\u001b[A"
     ]
    },
    {
     "name": "stdout",
     "output_type": "stream",
     "text": [
      "✅ 1 agences sauvegardées : CAISSE DE CREDIT MUTUEL ST HILAIRE COULONGES\n"
     ]
    },
    {
     "name": "stderr",
     "output_type": "stream",
     "text": [
      "\n",
      "\u001b[A"
     ]
    },
    {
     "name": "stdout",
     "output_type": "stream",
     "text": [
      "✅ 1 agences sauvegardées : CAISSE DE CREDIT MUTUEL CHAURAY - ECHIRE\n"
     ]
    },
    {
     "name": "stderr",
     "output_type": "stream",
     "text": [
      "\n",
      "\u001b[A"
     ]
    },
    {
     "name": "stdout",
     "output_type": "stream",
     "text": [
      "✅ 1 agences sauvegardées : CAISSE DE CREDIT MUTUEL SUD NIORTAIS - FRONTENAY ROHAN ROHAN\n"
     ]
    },
    {
     "name": "stderr",
     "output_type": "stream",
     "text": [
      "\n",
      "\u001b[A"
     ]
    },
    {
     "name": "stdout",
     "output_type": "stream",
     "text": [
      "✅ 1 agences sauvegardées : CAISSE DE CREDIT MUTUEL MELLE - CELLES SUR BELLE - LEZAY\n"
     ]
    },
    {
     "name": "stderr",
     "output_type": "stream",
     "text": [
      "\n",
      "\u001b[A"
     ]
    },
    {
     "name": "stdout",
     "output_type": "stream",
     "text": [
      "✅ 1 agences sauvegardées : CAISSE DE CREDIT MUTUEL NIORT PORTE DU MARAIS - MAGNE COULON\n"
     ]
    },
    {
     "name": "stderr",
     "output_type": "stream",
     "text": [
      "\n",
      "\u001b[A"
     ]
    },
    {
     "name": "stdout",
     "output_type": "stream",
     "text": [
      "✅ 1 agences sauvegardées : CAISSE DE CREDIT MUTUEL DE ARGENT SEVRE MAUGES - MAULEON\n"
     ]
    },
    {
     "name": "stderr",
     "output_type": "stream",
     "text": [
      "\n",
      "\u001b[A"
     ]
    },
    {
     "name": "stdout",
     "output_type": "stream",
     "text": [
      "✅ 1 agences sauvegardées : CAISSE DE CREDIT MUTUEL MAUZE SUR LE MIGNON\n"
     ]
    },
    {
     "name": "stderr",
     "output_type": "stream",
     "text": [
      "\n",
      "\u001b[A"
     ]
    },
    {
     "name": "stdout",
     "output_type": "stream",
     "text": [
      "✅ 1 agences sauvegardées : CAISSE DE CREDIT MUTUEL MELLE - CELLES SUR BELLE\n"
     ]
    },
    {
     "name": "stderr",
     "output_type": "stream",
     "text": [
      "\n",
      "\u001b[A"
     ]
    },
    {
     "name": "stdout",
     "output_type": "stream",
     "text": [
      "✅ 5 agences sauvegardées : CAISSE DE CREDIT MUTUEL SAINTE PEZENNE, CAISSE DE CREDIT MUTUEL NIORT PORTE DU MARAIS - PORTE  DU MARAIS, CAISSE DE CREDIT MUTUEL NIORT - SOUCHE, CAISSE DE CREDIT MUTUEL NIORT - MENDES, CAISSE DE CREDIT MUTUEL NIORT - MARECHAL LECLERC\n"
     ]
    },
    {
     "name": "stderr",
     "output_type": "stream",
     "text": [
      "\n",
      "\u001b[A"
     ]
    },
    {
     "name": "stdout",
     "output_type": "stream",
     "text": [
      "✅ 1 agences sauvegardées : CAISSE DE CREDIT MUTUEL DE ARGENT SEVRE MAUGES\n"
     ]
    },
    {
     "name": "stderr",
     "output_type": "stream",
     "text": [
      "\n",
      "\u001b[A"
     ]
    },
    {
     "name": "stdout",
     "output_type": "stream",
     "text": [
      "✅ 1 agences sauvegardées : CAISSE DE CREDIT MUTUEL PARTHENAY\n"
     ]
    },
    {
     "name": "stderr",
     "output_type": "stream",
     "text": [
      "\n",
      "\u001b[A\n",
      "\u001b[A"
     ]
    },
    {
     "name": "stdout",
     "output_type": "stream",
     "text": [
      "✅ 1 agences sauvegardées : CAISSE DE CREDIT MUTUEL SECONDIGNY\n"
     ]
    },
    {
     "name": "stderr",
     "output_type": "stream",
     "text": [
      "\n",
      "\u001b[A\n",
      "\u001b[A"
     ]
    },
    {
     "name": "stdout",
     "output_type": "stream",
     "text": [
      "✅ 1 agences sauvegardées : CAISSE DE CREDIT MUTUEL DE BUXEROLLES-CHASSENEUIL\n"
     ]
    },
    {
     "name": "stderr",
     "output_type": "stream",
     "text": [
      "\n",
      "\u001b[A"
     ]
    },
    {
     "name": "stdout",
     "output_type": "stream",
     "text": [
      "✅ 2 agences sauvegardées : CAISSE DE CREDIT MUTUEL DE BUXEROLLES-CHASSENEUIL, CRCM LACO POITOU ENTREPRISES - AGENCE POITOU ENTREPRISES\n"
     ]
    },
    {
     "name": "stderr",
     "output_type": "stream",
     "text": [
      "\n",
      "\u001b[A"
     ]
    },
    {
     "name": "stdout",
     "output_type": "stream",
     "text": [
      "✅ 2 agences sauvegardées : CAISSE DE CREDIT MUTUEL DU CHATELLERAUDAIS, CAISSE DE CREDIT MUTUEL DU CHATELLERAUDAIS - ARGENSON\n"
     ]
    },
    {
     "name": "stderr",
     "output_type": "stream",
     "text": [
      "\n",
      "\u001b[A"
     ]
    },
    {
     "name": "stdout",
     "output_type": "stream",
     "text": [
      "✅ 1 agences sauvegardées : CAISSE DE CREDIT MUTUEL DE VIENNE-GARTEMPE - CHAUVIGNY\n"
     ]
    },
    {
     "name": "stderr",
     "output_type": "stream",
     "text": [
      "\n",
      "\u001b[A"
     ]
    },
    {
     "name": "stdout",
     "output_type": "stream",
     "text": [
      "✅ 1 agences sauvegardées : CAISSE DE CREDIT MUTUEL CIVRAY\n"
     ]
    },
    {
     "name": "stderr",
     "output_type": "stream",
     "text": [
      "\n",
      "\u001b[A"
     ]
    },
    {
     "name": "stdout",
     "output_type": "stream",
     "text": [
      "✅ 1 agences sauvegardées : CAISSE DE CREDIT MUTUEL LOUDUN\n"
     ]
    },
    {
     "name": "stderr",
     "output_type": "stream",
     "text": [
      "\n",
      "\u001b[A"
     ]
    },
    {
     "name": "stdout",
     "output_type": "stream",
     "text": [
      "✅ 1 agences sauvegardées : CAISSE DE CREDIT MUTUEL DE VIENNE-GARTEMPE - LUSSAC LES CHATEAUX\n"
     ]
    },
    {
     "name": "stderr",
     "output_type": "stream",
     "text": [
      "\n",
      "\u001b[A"
     ]
    },
    {
     "name": "stdout",
     "output_type": "stream",
     "text": [
      "✅ 1 agences sauvegardées : CAISSE DE CREDIT MUTUEL MIREBEAU - LENCLOITRE\n"
     ]
    },
    {
     "name": "stderr",
     "output_type": "stream",
     "text": [
      "\n",
      "\u001b[A"
     ]
    },
    {
     "name": "stdout",
     "output_type": "stream",
     "text": [
      "✅ 1 agences sauvegardées : CAISSE DE CREDIT MUTUEL DE VIENNE-GARTEMPE\n"
     ]
    },
    {
     "name": "stderr",
     "output_type": "stream",
     "text": [
      "\n",
      "\u001b[A"
     ]
    },
    {
     "name": "stdout",
     "output_type": "stream",
     "text": [
      "✅ 1 agences sauvegardées : CAISSE DE CREDIT MUTUEL NEUVILLE DE POITOU\n"
     ]
    },
    {
     "name": "stderr",
     "output_type": "stream",
     "text": [
      "\n",
      "\u001b[A"
     ]
    },
    {
     "name": "stdout",
     "output_type": "stream",
     "text": [
      "✅ 3 agences sauvegardées : CAISSE DE CREDIT MUTUEL POITIERS OUEST, CAISSE DE CREDIT MUTUEL DE POITIERS HOTEL DE VILLE - SUD - HV - SUD, CAISSE DE CREDIT MUTUEL DE POITIERS HOTEL DE VILLE - SUD - SUD\n"
     ]
    },
    {
     "name": "stderr",
     "output_type": "stream",
     "text": [
      "\n",
      "\u001b[A\n",
      "\u001b[A"
     ]
    },
    {
     "name": "stdout",
     "output_type": "stream",
     "text": [
      "✅ 1 agences sauvegardées : CAISSE DE CREDIT MUTUEL POITIERS GRAND LARGE - VIVONNE\n"
     ]
    },
    {
     "name": "stderr",
     "output_type": "stream",
     "text": [
      "\n",
      "\u001b[A\n",
      "\u001b[A"
     ]
    },
    {
     "name": "stdout",
     "output_type": "stream",
     "text": [
      "✅ 1 agences sauvegardées : CAISSE DE CREDIT MUTUEL DE LIMOGES OUEST - AIXE SUR VIENNE\n"
     ]
    },
    {
     "name": "stderr",
     "output_type": "stream",
     "text": [
      "\n",
      "\u001b[A"
     ]
    },
    {
     "name": "stdout",
     "output_type": "stream",
     "text": [
      "✅ 1 agences sauvegardées : CAISSE DE CREDIT MUTUEL BELLAC\n"
     ]
    },
    {
     "name": "stderr",
     "output_type": "stream",
     "text": [
      "\n",
      "\u001b[A"
     ]
    },
    {
     "name": "stdout",
     "output_type": "stream",
     "text": [
      "✅ 1 agences sauvegardées : CAISSE DE CREDIT MUTUEL DE LIMOGES OUEST - COUZEIX\n"
     ]
    },
    {
     "name": "stderr",
     "output_type": "stream",
     "text": [
      "\n",
      "\u001b[A"
     ]
    },
    {
     "name": "stdout",
     "output_type": "stream",
     "text": [
      "✅ 5 agences sauvegardées : CAISSE DE CREDIT MUTUEL LIMOGES CENTRE, CAISSE DE CREDIT MUTUEL LIMOGES RIVE GAUCHE, CAISSE DE CREDIT MUTUEL DE LIMOGES OUEST, CAISSE DE CREDIT MUTUEL ENSEIGNANT LIMOGES, CRCM LACO LIMOUSIN ENTREPRISES - AGENCE LIMOGES ENTREPRISES\n"
     ]
    },
    {
     "name": "stderr",
     "output_type": "stream",
     "text": [
      "\n",
      "\u001b[A"
     ]
    },
    {
     "name": "stdout",
     "output_type": "stream",
     "text": [
      "✅ 1 agences sauvegardées : CAISSE DE CREDIT MUTUEL LIMOGES RIVE GAUCHE - PANAZOL\n"
     ]
    },
    {
     "name": "stderr",
     "output_type": "stream",
     "text": [
      "\n",
      "\u001b[A\n",
      "Régions:  75%|███████▌  | 9/12 [2:02:52<40:01, 800.45s/it]"
     ]
    },
    {
     "name": "stdout",
     "output_type": "stream",
     "text": [
      "✅ 1 agences sauvegardées : CAISSE DE CREDIT MUTUEL DE LIMOGES NORD - RILHAC-RANCON\n"
     ]
    },
    {
     "name": "stderr",
     "output_type": "stream",
     "text": [
      "\n",
      "\u001b[A\n",
      "\u001b[A\n",
      "\u001b[A\n",
      "\u001b[A"
     ]
    },
    {
     "name": "stdout",
     "output_type": "stream",
     "text": [
      "✅ 1 agences sauvegardées : CAISSE DE CREDIT MUTUEL COEUR D OCCITANIE - CARCASSONNE SALVAZA\n"
     ]
    },
    {
     "name": "stderr",
     "output_type": "stream",
     "text": [
      "\n",
      "\u001b[A"
     ]
    },
    {
     "name": "stdout",
     "output_type": "stream",
     "text": [
      "✅ 1 agences sauvegardées : CAISSE DE CREDIT MUTUEL COEUR D OCCITANIE - CASTELNAUDARY\n"
     ]
    },
    {
     "name": "stderr",
     "output_type": "stream",
     "text": [
      "\n",
      "\u001b[A"
     ]
    },
    {
     "name": "stdout",
     "output_type": "stream",
     "text": [
      "✅ 1 agences sauvegardées : CAISSE DE CREDIT MUTUEL LIMOUX\n"
     ]
    },
    {
     "name": "stderr",
     "output_type": "stream",
     "text": [
      "\n",
      "\u001b[A\n",
      "\u001b[A"
     ]
    },
    {
     "name": "stdout",
     "output_type": "stream",
     "text": [
      "✅ 2 agences sauvegardées : CAISSE DE CREDIT MUTUEL NARBONNE HOTEL DE VILLE, CAISSE DE CREDIT MUTUEL NARBONNE BONNE SOURCE\n"
     ]
    },
    {
     "name": "stderr",
     "output_type": "stream",
     "text": [
      "\n",
      "\u001b[A\n",
      "\u001b[A"
     ]
    },
    {
     "name": "stdout",
     "output_type": "stream",
     "text": [
      "✅ 1 agences sauvegardées : CCM ESPALION\n"
     ]
    },
    {
     "name": "stderr",
     "output_type": "stream",
     "text": [
      "\n",
      "\u001b[A"
     ]
    },
    {
     "name": "stdout",
     "output_type": "stream",
     "text": [
      "✅ 1 agences sauvegardées : CAISSE DE CREDIT MUTUEL DE SUD AVEYRON\n"
     ]
    },
    {
     "name": "stderr",
     "output_type": "stream",
     "text": [
      "\n",
      "\u001b[A"
     ]
    },
    {
     "name": "stdout",
     "output_type": "stream",
     "text": [
      "✅ 2 agences sauvegardées : CAISSE DE CREDIT MUTUEL DE RODEZ, CAISSE DE CREDIT MUTUEL ENSEIGNANT - CME BUREAU DE RODEZ\n"
     ]
    },
    {
     "name": "stderr",
     "output_type": "stream",
     "text": [
      "\n",
      "\u001b[A\n",
      "\u001b[A"
     ]
    },
    {
     "name": "stdout",
     "output_type": "stream",
     "text": [
      "✅ 1 agences sauvegardées : CAISSE DE CREDIT MUTUEL VILLEFRANCHE DE ROUERGUE - VILLEFRANCHE ROUERGUE\n"
     ]
    },
    {
     "name": "stderr",
     "output_type": "stream",
     "text": [
      "\n",
      "\u001b[A\n",
      "\u001b[A"
     ]
    },
    {
     "name": "stdout",
     "output_type": "stream",
     "text": [
      "✅ 1 agences sauvegardées : CAISSE DE CREDIT MUTUEL ALES\n"
     ]
    },
    {
     "name": "stderr",
     "output_type": "stream",
     "text": [
      "\n",
      "\u001b[A"
     ]
    },
    {
     "name": "stdout",
     "output_type": "stream",
     "text": [
      "✅ 1 agences sauvegardées : CAISSE DE CREDIT MUTUEL BAGNOLS SUR CEZE\n"
     ]
    },
    {
     "name": "stderr",
     "output_type": "stream",
     "text": [
      "\n",
      "\u001b[A"
     ]
    },
    {
     "name": "stdout",
     "output_type": "stream",
     "text": [
      "ℹ️ Pas de nouvelles agences (ou déjà existantes).\n"
     ]
    },
    {
     "name": "stderr",
     "output_type": "stream",
     "text": [
      "\n",
      "\u001b[A"
     ]
    },
    {
     "name": "stdout",
     "output_type": "stream",
     "text": [
      "✅ 1 agences sauvegardées : CAISSE DE CREDIT MUTUEL UZES\n"
     ]
    },
    {
     "name": "stderr",
     "output_type": "stream",
     "text": [
      "\n",
      "\u001b[A\n",
      "\u001b[A"
     ]
    },
    {
     "name": "stdout",
     "output_type": "stream",
     "text": [
      "✅ 1 agences sauvegardées : CAISSE DE CREDIT MUTUEL VILLENEUVE LES AVIGNON\n"
     ]
    },
    {
     "name": "stderr",
     "output_type": "stream",
     "text": [
      "\n",
      "\u001b[A\n",
      "\u001b[A"
     ]
    },
    {
     "name": "stdout",
     "output_type": "stream",
     "text": [
      "✅ 1 agences sauvegardées : CAISSE DE CREDIT MUTUEL AUCAMVILLE\n"
     ]
    },
    {
     "name": "stderr",
     "output_type": "stream",
     "text": [
      "\n",
      "\u001b[A"
     ]
    },
    {
     "name": "stdout",
     "output_type": "stream",
     "text": [
      "✅ 1 agences sauvegardées : CAISSE DE CREDIT MUTUEL AUTERIVE - CARBONNE\n"
     ]
    },
    {
     "name": "stderr",
     "output_type": "stream",
     "text": [
      "\n",
      "\u001b[A"
     ]
    },
    {
     "name": "stdout",
     "output_type": "stream",
     "text": [
      "✅ 3 agences sauvegardées : CAISSE DE CREDIT MUTUEL BALMA, CAISSE DE CREDIT MUTUEL ENSEIGNANT TOULOUSE - CME TOULOUSE, CAISSE DE CREDIT MUTUEL PROFESSIONS DE SANTE TOULOUSE - CMPS TOULOUSE\n"
     ]
    },
    {
     "name": "stderr",
     "output_type": "stream",
     "text": [
      "\n",
      "\u001b[A"
     ]
    },
    {
     "name": "stdout",
     "output_type": "stream",
     "text": [
      "✅ 1 agences sauvegardées : CAISSE DE CREDIT MUTUEL BEAUZELLE\n"
     ]
    },
    {
     "name": "stderr",
     "output_type": "stream",
     "text": [
      "\n",
      "\u001b[A"
     ]
    },
    {
     "name": "stdout",
     "output_type": "stream",
     "text": [
      "✅ 1 agences sauvegardées : CAISSE DE CREDIT MUTUEL BLAGNAC\n"
     ]
    },
    {
     "name": "stderr",
     "output_type": "stream",
     "text": [
      "\n",
      "\u001b[A"
     ]
    },
    {
     "name": "stdout",
     "output_type": "stream",
     "text": [
      "✅ 1 agences sauvegardées : CAISSE DE CREDIT MUTUEL BRUGUIERES\n"
     ]
    },
    {
     "name": "stderr",
     "output_type": "stream",
     "text": [
      "\n",
      "\u001b[A"
     ]
    },
    {
     "name": "stdout",
     "output_type": "stream",
     "text": [
      "✅ 1 agences sauvegardées : CAISSE DE CREDIT MUTUEL AUTERIVE - CARBONNE\n"
     ]
    },
    {
     "name": "stderr",
     "output_type": "stream",
     "text": [
      "\n",
      "\u001b[A"
     ]
    },
    {
     "name": "stdout",
     "output_type": "stream",
     "text": [
      "✅ 1 agences sauvegardées : CAISSE DE CREDIT MUTUEL CASTANET - LABEGE\n"
     ]
    },
    {
     "name": "stderr",
     "output_type": "stream",
     "text": [
      "\n",
      "\u001b[A"
     ]
    },
    {
     "name": "stdout",
     "output_type": "stream",
     "text": [
      "✅ 1 agences sauvegardées : CAISSE DE CREDIT MUTUEL CASTELGINEST\n"
     ]
    },
    {
     "name": "stderr",
     "output_type": "stream",
     "text": [
      "\n",
      "\u001b[A"
     ]
    },
    {
     "name": "stdout",
     "output_type": "stream",
     "text": [
      "✅ 2 agences sauvegardées : CAISSE DE CREDIT MUTUEL COLOMIERS, CAISSE DE CREDIT MUTUEL COLOMIERS - PERGET\n"
     ]
    },
    {
     "name": "stderr",
     "output_type": "stream",
     "text": [
      "\n",
      "\u001b[A"
     ]
    },
    {
     "name": "stdout",
     "output_type": "stream",
     "text": [
      "✅ 1 agences sauvegardées : CAISSE DE CREDIT MUTUEL CORNEBARRIEU\n"
     ]
    },
    {
     "name": "stderr",
     "output_type": "stream",
     "text": [
      "\n",
      "\u001b[A"
     ]
    },
    {
     "name": "stdout",
     "output_type": "stream",
     "text": [
      "✅ 1 agences sauvegardées : CAISSE DE CREDIT MUTUEL CUGNAUX\n"
     ]
    },
    {
     "name": "stderr",
     "output_type": "stream",
     "text": [
      "\n",
      "\u001b[A"
     ]
    },
    {
     "name": "stdout",
     "output_type": "stream",
     "text": [
      "✅ 1 agences sauvegardées : CAISSE DE CREDIT MUTUEL PLAISANCE - FONSORBES\n"
     ]
    },
    {
     "name": "stderr",
     "output_type": "stream",
     "text": [
      "\n",
      "\u001b[A"
     ]
    },
    {
     "name": "stdout",
     "output_type": "stream",
     "text": [
      "✅ 1 agences sauvegardées : CAISSE DE CREDIT MUTUEL FRONTON\n"
     ]
    },
    {
     "name": "stderr",
     "output_type": "stream",
     "text": [
      "\n",
      "\u001b[A"
     ]
    },
    {
     "name": "stdout",
     "output_type": "stream",
     "text": [
      "✅ 1 agences sauvegardées : CAISSE DE CREDIT MUTUEL FROUZINS\n"
     ]
    },
    {
     "name": "stderr",
     "output_type": "stream",
     "text": [
      "\n",
      "\u001b[A"
     ]
    },
    {
     "name": "stdout",
     "output_type": "stream",
     "text": [
      "✅ 1 agences sauvegardées : CAISSE DE CREDIT MUTUEL GRENADE\n"
     ]
    },
    {
     "name": "stderr",
     "output_type": "stream",
     "text": [
      "\n",
      "\u001b[A"
     ]
    },
    {
     "name": "stdout",
     "output_type": "stream",
     "text": [
      "✅ 1 agences sauvegardées : CAISSE DE CREDIT MUTUEL MURET - LABARTHE\n"
     ]
    },
    {
     "name": "stderr",
     "output_type": "stream",
     "text": [
      "\n",
      "\u001b[A"
     ]
    },
    {
     "name": "stdout",
     "output_type": "stream",
     "text": [
      "✅ 1 agences sauvegardées : CAISSE DE CREDIT MUTUEL CASTANET - LABEGE\n"
     ]
    },
    {
     "name": "stderr",
     "output_type": "stream",
     "text": [
      "\n",
      "\u001b[A"
     ]
    },
    {
     "name": "stdout",
     "output_type": "stream",
     "text": [
      "✅ 1 agences sauvegardées : CAISSE DE CREDIT MUTUEL LEGUEVIN - L'ISLE JOURDAIN\n"
     ]
    },
    {
     "name": "stderr",
     "output_type": "stream",
     "text": [
      "\n",
      "\u001b[A"
     ]
    },
    {
     "name": "stdout",
     "output_type": "stream",
     "text": [
      "✅ 2 agences sauvegardées : CAISSE DE CREDIT MUTUEL MURET - LABARTHE, CAISSE DE CREDIT MUTUEL MURET - LABARTHE - PYRENEES\n"
     ]
    },
    {
     "name": "stderr",
     "output_type": "stream",
     "text": [
      "\n",
      "\u001b[A"
     ]
    },
    {
     "name": "stdout",
     "output_type": "stream",
     "text": [
      "✅ 1 agences sauvegardées : CAISSE DE CREDIT MUTUEL PLAISANCE - FONSORBES\n"
     ]
    },
    {
     "name": "stderr",
     "output_type": "stream",
     "text": [
      "\n",
      "\u001b[A"
     ]
    },
    {
     "name": "stdout",
     "output_type": "stream",
     "text": [
      "✅ 1 agences sauvegardées : CAISSE DE CREDIT MUTUEL PORTET SUR GARONNE\n"
     ]
    },
    {
     "name": "stderr",
     "output_type": "stream",
     "text": [
      "\n",
      "\u001b[A"
     ]
    },
    {
     "name": "stdout",
     "output_type": "stream",
     "text": [
      "✅ 1 agences sauvegardées : CAISSE DE CREDIT MUTUEL QUINT FONSEGRIVES\n"
     ]
    },
    {
     "name": "stderr",
     "output_type": "stream",
     "text": [
      "\n",
      "\u001b[A"
     ]
    },
    {
     "name": "stdout",
     "output_type": "stream",
     "text": [
      "✅ 1 agences sauvegardées : CAISSE DE CREDIT MUTUEL REVEL\n"
     ]
    },
    {
     "name": "stderr",
     "output_type": "stream",
     "text": [
      "\n",
      "\u001b[A"
     ]
    },
    {
     "name": "stdout",
     "output_type": "stream",
     "text": [
      "✅ 5 agences sauvegardées : CAISSE DE CREDIT MUTUEL TOULOUSE CENTRE - CARNOT, CAISSE DE CREDIT MUTUEL TOULOUSE ESQUIROL, CAISSE DE CREDIT MUTUEL TOULOUSE CAPITOLE, CAISSE DE CREDIT MUTUEL TOULOUSE COMPANS, CAISSE DE CREDIT MUTUEL TOULOUSE CENTRE - CARNOT - CARNOT\n"
     ]
    },
    {
     "name": "stderr",
     "output_type": "stream",
     "text": [
      "\n",
      "\u001b[A"
     ]
    },
    {
     "name": "stdout",
     "output_type": "stream",
     "text": [
      "✅ 1 agences sauvegardées : CAISSE DE CREDIT MUTUEL TOURNEFEUILLE\n"
     ]
    },
    {
     "name": "stderr",
     "output_type": "stream",
     "text": [
      "\n",
      "\u001b[A\n",
      "\u001b[A"
     ]
    },
    {
     "name": "stdout",
     "output_type": "stream",
     "text": [
      "✅ 1 agences sauvegardées : CAISSE DE CREDIT MUTUEL VILLEFRANCHE DE LAURAGAIS\n"
     ]
    },
    {
     "name": "stderr",
     "output_type": "stream",
     "text": [
      "\n",
      "\u001b[A\n",
      "\u001b[A"
     ]
    },
    {
     "name": "stdout",
     "output_type": "stream",
     "text": [
      "✅ 1 agences sauvegardées : CAISSE DE CREDIT MUTUEL AUCH\n"
     ]
    },
    {
     "name": "stderr",
     "output_type": "stream",
     "text": [
      "\n",
      "\u001b[A\n",
      "\u001b[A"
     ]
    },
    {
     "name": "stdout",
     "output_type": "stream",
     "text": [
      "✅ 1 agences sauvegardées : CAISSE DE CREDIT MUTUEL CONDOM\n"
     ]
    },
    {
     "name": "stderr",
     "output_type": "stream",
     "text": [
      "\n",
      "\u001b[A\n",
      "\u001b[A"
     ]
    },
    {
     "name": "stdout",
     "output_type": "stream",
     "text": [
      "✅ 1 agences sauvegardées : CAISSE DE CREDIT MUTUEL AGDE\n"
     ]
    },
    {
     "name": "stderr",
     "output_type": "stream",
     "text": [
      "\n",
      "\u001b[A"
     ]
    },
    {
     "name": "stdout",
     "output_type": "stream",
     "text": [
      "✅ 2 agences sauvegardées : CAISSE DE CREDIT MUTUEL BEZIERS CENTRE, CAISSE DE CREDIT MUTUEL BEZIERS DOMITIENNE\n"
     ]
    },
    {
     "name": "stderr",
     "output_type": "stream",
     "text": [
      "\n",
      "\u001b[A"
     ]
    },
    {
     "name": "stdout",
     "output_type": "stream",
     "text": [
      "✅ 2 agences sauvegardées : CREDIT MUTUEL PROFESSIONS DE SANTE LANGUEDOC ROUSSILLON - CMPS LANGUEDOC ROUSSILLON, CAISSE DE CREDIT MUTUEL CASTELNAU LE LEZ\n"
     ]
    },
    {
     "name": "stderr",
     "output_type": "stream",
     "text": [
      "\n",
      "\u001b[A"
     ]
    },
    {
     "name": "stdout",
     "output_type": "stream",
     "text": [
      "✅ 1 agences sauvegardées : CAISSE DE CREDIT MUTUEL BASSIN DE THAU\n"
     ]
    },
    {
     "name": "stderr",
     "output_type": "stream",
     "text": [
      "\n",
      "\u001b[A"
     ]
    },
    {
     "name": "stdout",
     "output_type": "stream",
     "text": [
      "✅ 1 agences sauvegardées : CAISSE DE CREDIT MUTUEL MONTPELLIER ANTIGONE - CREDIT MUTUEL LATTES\n"
     ]
    },
    {
     "name": "stderr",
     "output_type": "stream",
     "text": [
      "\n",
      "\u001b[A"
     ]
    },
    {
     "name": "stdout",
     "output_type": "stream",
     "text": [
      "✅ 1 agences sauvegardées : CAISSE DE CREDIT MUTUEL PORTES DE CAMARGUE\n"
     ]
    },
    {
     "name": "stderr",
     "output_type": "stream",
     "text": [
      "\n",
      "\u001b[A"
     ]
    },
    {
     "name": "stdout",
     "output_type": "stream",
     "text": [
      "✅ 1 agences sauvegardées : CAISSE DE CREDIT MUTUEL PORTES DE CAMARGUE - MAUGUIO\n"
     ]
    },
    {
     "name": "stderr",
     "output_type": "stream",
     "text": [
      "\n",
      "\u001b[A"
     ]
    },
    {
     "name": "stdout",
     "output_type": "stream",
     "text": [
      "✅ 4 agences sauvegardées : BANQUE EUROPEENNE DU CREDIT MUTUEL MONTPELLIER IMMOBILIER - BECM, CRCMM MONTPELLIER ENTREPRISES, CAISSE DE CREDIT MUTUEL MONTPELLIER OPERA, CAISSE DE CREDIT MUTUEL MONTPELLIER ETOILE\n"
     ]
    },
    {
     "name": "stderr",
     "output_type": "stream",
     "text": [
      "\n",
      "\u001b[A"
     ]
    },
    {
     "name": "stdout",
     "output_type": "stream",
     "text": [
      "✅ 1 agences sauvegardées : CAISSE DE CREDIT MUTUEL PEZENAS\n"
     ]
    },
    {
     "name": "stderr",
     "output_type": "stream",
     "text": [
      "\n",
      "\u001b[A\n",
      "\u001b[A"
     ]
    },
    {
     "name": "stdout",
     "output_type": "stream",
     "text": [
      "✅ 1 agences sauvegardées : CAISSE DE CREDIT MUTUEL BASSIN DE THAU - SETE\n"
     ]
    },
    {
     "name": "stderr",
     "output_type": "stream",
     "text": [
      "\n",
      "\u001b[A\n",
      "\u001b[A"
     ]
    },
    {
     "name": "stdout",
     "output_type": "stream",
     "text": [
      "✅ 1 agences sauvegardées : CAISSE DE CREDIT MUTUEL CAHORS\n"
     ]
    },
    {
     "name": "stderr",
     "output_type": "stream",
     "text": [
      "\n",
      "\u001b[A\n",
      "\u001b[A"
     ]
    },
    {
     "name": "stdout",
     "output_type": "stream",
     "text": [
      "✅ 1 agences sauvegardées : CAISSE DE CREDIT MUTUEL FIGEAC\n"
     ]
    },
    {
     "name": "stderr",
     "output_type": "stream",
     "text": [
      "\n",
      "\u001b[A\n",
      "\u001b[A\n",
      "\u001b[A"
     ]
    },
    {
     "name": "stdout",
     "output_type": "stream",
     "text": [
      "✅ 1 agences sauvegardées : CAISSE DE CREDIT MUTUEL DE LOZERE\n"
     ]
    },
    {
     "name": "stderr",
     "output_type": "stream",
     "text": [
      "\n",
      "\u001b[A\n",
      "\u001b[A"
     ]
    },
    {
     "name": "stdout",
     "output_type": "stream",
     "text": [
      "✅ 1 agences sauvegardées : CAISSE DE CREDIT MUTUEL BAGNERES DE BIGORRE\n"
     ]
    },
    {
     "name": "stderr",
     "output_type": "stream",
     "text": [
      "\n",
      "\u001b[A"
     ]
    },
    {
     "name": "stdout",
     "output_type": "stream",
     "text": [
      "✅ 1 agences sauvegardées : CAISSE DE CREDIT MUTUEL LANNEMEZAN\n"
     ]
    },
    {
     "name": "stderr",
     "output_type": "stream",
     "text": [
      "\n",
      "\u001b[A"
     ]
    },
    {
     "name": "stdout",
     "output_type": "stream",
     "text": [
      "✅ 1 agences sauvegardées : CAISSE DE CREDIT MUTUEL LOURDES\n"
     ]
    },
    {
     "name": "stderr",
     "output_type": "stream",
     "text": [
      "\n",
      "\u001b[A\n",
      "\u001b[A"
     ]
    },
    {
     "name": "stdout",
     "output_type": "stream",
     "text": [
      "✅ 3 agences sauvegardées : CAISSE DE CREDIT MUTUEL TARBES, CAISSE DE CREDIT MUTUEL TARBES ARSENAL, CAISSE DE CREDIT MUTUEL TARBES - BIGORRE\n"
     ]
    },
    {
     "name": "stderr",
     "output_type": "stream",
     "text": [
      "\n",
      "\u001b[A\n",
      "\u001b[A"
     ]
    },
    {
     "name": "stdout",
     "output_type": "stream",
     "text": [
      "✅ 1 agences sauvegardées : CAISSE DE CREDIT MUTUEL DE CABESTANY\n"
     ]
    },
    {
     "name": "stderr",
     "output_type": "stream",
     "text": [
      "\n",
      "\u001b[A\n",
      "\u001b[A"
     ]
    },
    {
     "name": "stdout",
     "output_type": "stream",
     "text": [
      "✅ 2 agences sauvegardées : CAISSE DE CREDIT MUTUEL PERPIGNAN SUD, CAISSE DE CREDIT MUTUEL PERPIGNAN CATALOGNE\n"
     ]
    },
    {
     "name": "stderr",
     "output_type": "stream",
     "text": [
      "\n",
      "\u001b[A\n",
      "\u001b[A"
     ]
    },
    {
     "name": "stdout",
     "output_type": "stream",
     "text": [
      "✅ 3 agences sauvegardées : CAISSE DE CREDIT MUTUEL ALBI LAPEROUSE, CAISSE DE CREDIT MUTUEL ALBI MADELEINE, CAISSE DE CREDIT MUTUEL ALBI VERDIER\n"
     ]
    },
    {
     "name": "stderr",
     "output_type": "stream",
     "text": [
      "\n",
      "\u001b[A"
     ]
    },
    {
     "name": "stdout",
     "output_type": "stream",
     "text": [
      "✅ 2 agences sauvegardées : CAISSE DE CREDIT MUTUEL CASTRES, CAISSE DE CREDIT MUTUEL CASTRES - L'ALBINQUE\n"
     ]
    },
    {
     "name": "stderr",
     "output_type": "stream",
     "text": [
      "\n",
      "\u001b[A"
     ]
    },
    {
     "name": "stdout",
     "output_type": "stream",
     "text": [
      "✅ 1 agences sauvegardées : CAISSE DE CREDIT MUTUEL GAILLAC\n"
     ]
    },
    {
     "name": "stderr",
     "output_type": "stream",
     "text": [
      "\n",
      "\u001b[A"
     ]
    },
    {
     "name": "stdout",
     "output_type": "stream",
     "text": [
      "✅ 1 agences sauvegardées : CAISSE DE CREDIT MUTUEL GRAULHET\n"
     ]
    },
    {
     "name": "stderr",
     "output_type": "stream",
     "text": [
      "\n",
      "\u001b[A"
     ]
    },
    {
     "name": "stdout",
     "output_type": "stream",
     "text": [
      "✅ 1 agences sauvegardées : CAISSE DE CREDIT MUTUEL LAVAUR\n"
     ]
    },
    {
     "name": "stderr",
     "output_type": "stream",
     "text": [
      "\n",
      "\u001b[A\n",
      "\u001b[A"
     ]
    },
    {
     "name": "stdout",
     "output_type": "stream",
     "text": [
      "✅ 1 agences sauvegardées : CAISSE DE CREDIT MUTUEL MAZAMET\n"
     ]
    },
    {
     "name": "stderr",
     "output_type": "stream",
     "text": [
      "\n",
      "\u001b[A\n",
      "\u001b[A"
     ]
    },
    {
     "name": "stdout",
     "output_type": "stream",
     "text": [
      "✅ 1 agences sauvegardées : CAISSE DE CREDIT MUTUEL CASTEL - MOISSAC - CASTELSARRASIN\n"
     ]
    },
    {
     "name": "stderr",
     "output_type": "stream",
     "text": [
      "\n",
      "\u001b[A"
     ]
    },
    {
     "name": "stdout",
     "output_type": "stream",
     "text": [
      "✅ 1 agences sauvegardées : CAISSE DE CREDIT MUTUEL CAUSSADE\n"
     ]
    },
    {
     "name": "stderr",
     "output_type": "stream",
     "text": [
      "\n",
      "\u001b[A"
     ]
    },
    {
     "name": "stdout",
     "output_type": "stream",
     "text": [
      "✅ 1 agences sauvegardées : CAISSE DE CREDIT MUTUEL CASTEL - MOISSAC\n"
     ]
    },
    {
     "name": "stderr",
     "output_type": "stream",
     "text": [
      "\n",
      "\u001b[A"
     ]
    },
    {
     "name": "stdout",
     "output_type": "stream",
     "text": [
      "✅ 4 agences sauvegardées : CAISSE DE CREDIT MUTUEL MONTAUBAN - MONTECH, CAISSE DE CREDIT MUTUEL MONTAUBAN RIVE DROITE, CAISSE DE CREDIT MUTUEL MONTAUBAN - MONTECH - VILLENOUVELLE, CAISSE DE CREDIT MUTUEL MONTAUBAN RIVE DROITE - PONT DE CHAUM\n"
     ]
    },
    {
     "name": "stderr",
     "output_type": "stream",
     "text": [
      "\n",
      "\u001b[A\n",
      "Régions:  83%|████████▎ | 10/12 [2:11:15<23:36, 708.39s/it]"
     ]
    },
    {
     "name": "stdout",
     "output_type": "stream",
     "text": [
      "✅ 1 agences sauvegardées : CAISSE DE CREDIT MUTUEL MONTAUBAN - MONTECH\n"
     ]
    },
    {
     "name": "stderr",
     "output_type": "stream",
     "text": [
      "\n",
      "\u001b[A\n",
      "\u001b[A"
     ]
    },
    {
     "name": "stdout",
     "output_type": "stream",
     "text": [
      "✅ 1 agences sauvegardées : CAISSE DE CREDIT MUTUEL AIGREFEUILLE SUR MAINE\n"
     ]
    },
    {
     "name": "stderr",
     "output_type": "stream",
     "text": [
      "\n",
      "\u001b[A"
     ]
    },
    {
     "name": "stdout",
     "output_type": "stream",
     "text": [
      "✅ 1 agences sauvegardées : CAISSE DE CREDIT MUTUEL BASSE ET HAUTE GOULAINE\n"
     ]
    },
    {
     "name": "stderr",
     "output_type": "stream",
     "text": [
      "\n",
      "\u001b[A"
     ]
    },
    {
     "name": "stdout",
     "output_type": "stream",
     "text": [
      "✅ 1 agences sauvegardées : CAISSE DE CREDIT MUTUEL BLAIN\n"
     ]
    },
    {
     "name": "stderr",
     "output_type": "stream",
     "text": [
      "\n",
      "\u001b[A"
     ]
    },
    {
     "name": "stdout",
     "output_type": "stream",
     "text": [
      "✅ 1 agences sauvegardées : CAISSE DE CREDIT MUTUEL ACHENEAU\n"
     ]
    },
    {
     "name": "stderr",
     "output_type": "stream",
     "text": [
      "\n",
      "\u001b[A"
     ]
    },
    {
     "name": "stdout",
     "output_type": "stream",
     "text": [
      "✅ 2 agences sauvegardées : CAISSE DE CREDIT MUTUEL BOUGUENAIS, CAISSE DE CREDIT MUTUEL LES COUETS\n"
     ]
    },
    {
     "name": "stderr",
     "output_type": "stream",
     "text": [
      "\n",
      "\u001b[A"
     ]
    },
    {
     "name": "stdout",
     "output_type": "stream",
     "text": [
      "✅ 1 agences sauvegardées : CAISSE DE CREDIT MUTUEL DE SAVENAY ET SILLONS - CAMPBON\n"
     ]
    },
    {
     "name": "stderr",
     "output_type": "stream",
     "text": [
      "\n",
      "\u001b[A"
     ]
    },
    {
     "name": "stdout",
     "output_type": "stream",
     "text": [
      "✅ 1 agences sauvegardées : CAISSE DE CREDIT MUTUEL CARQUEFOU\n"
     ]
    },
    {
     "name": "stderr",
     "output_type": "stream",
     "text": [
      "\n",
      "\u001b[A"
     ]
    },
    {
     "name": "stdout",
     "output_type": "stream",
     "text": [
      "✅ 2 agences sauvegardées : CAISSE DE CREDIT MUTUEL DU CASTELBRIANTAIS, CAISSE DE CREDIT MUTUEL DU CASTELBRIANTAIS - CHATEAUBRIANT REPUBLIQU\n"
     ]
    },
    {
     "name": "stderr",
     "output_type": "stream",
     "text": [
      "\n",
      "\u001b[A"
     ]
    },
    {
     "name": "stdout",
     "output_type": "stream",
     "text": [
      "✅ 1 agences sauvegardées : CAISSE DE CREDIT MUTUEL ARTHON CHAUVE CHEMERE\n"
     ]
    },
    {
     "name": "stderr",
     "output_type": "stream",
     "text": [
      "\n",
      "\u001b[A"
     ]
    },
    {
     "name": "stdout",
     "output_type": "stream",
     "text": [
      "✅ 1 agences sauvegardées : CAISSE DE CREDIT MUTUEL CLISSON VAL DE SEVRE\n"
     ]
    },
    {
     "name": "stderr",
     "output_type": "stream",
     "text": [
      "\n",
      "\u001b[A"
     ]
    },
    {
     "name": "stdout",
     "output_type": "stream",
     "text": [
      "✅ 2 agences sauvegardées : CAISSE DE CREDIT MUTUEL COUERON LA CHABOSSIERE, CAISSE DE CREDIT MUTUEL COUERON LA CHABOSSIERE\n"
     ]
    },
    {
     "name": "stderr",
     "output_type": "stream",
     "text": [
      "\n",
      "\u001b[A"
     ]
    },
    {
     "name": "stdout",
     "output_type": "stream",
     "text": [
      "✅ 1 agences sauvegardées : CAISSE DE CREDIT MUTUEL DONGES\n"
     ]
    },
    {
     "name": "stderr",
     "output_type": "stream",
     "text": [
      "\n",
      "\u001b[A"
     ]
    },
    {
     "name": "stdout",
     "output_type": "stream",
     "text": [
      "✅ 1 agences sauvegardées : CAISSE DE CREDIT MUTUEL DES SORINIERES AULNAIES - GENESTON\n"
     ]
    },
    {
     "name": "stderr",
     "output_type": "stream",
     "text": [
      "\n",
      "\u001b[A"
     ]
    },
    {
     "name": "stdout",
     "output_type": "stream",
     "text": [
      "✅ 1 agences sauvegardées : CAISSE DE CREDIT MUTUEL DE GUEMENE PENFAO\n"
     ]
    },
    {
     "name": "stderr",
     "output_type": "stream",
     "text": [
      "\n",
      "\u001b[A"
     ]
    },
    {
     "name": "stdout",
     "output_type": "stream",
     "text": [
      "✅ 1 agences sauvegardées : CAISSE DE CREDIT MUTUEL DE GUERANDE\n"
     ]
    },
    {
     "name": "stderr",
     "output_type": "stream",
     "text": [
      "\n",
      "\u001b[A"
     ]
    },
    {
     "name": "stdout",
     "output_type": "stream",
     "text": [
      "✅ 1 agences sauvegardées : CAISSE DE CREDIT MUTUEL BASSE ET HAUTE GOULAINE\n"
     ]
    },
    {
     "name": "stderr",
     "output_type": "stream",
     "text": [
      "\n",
      "\u001b[A"
     ]
    },
    {
     "name": "stdout",
     "output_type": "stream",
     "text": [
      "✅ 1 agences sauvegardées : CAISSE DE CREDIT MUTUEL DES TERRES DE BRIERE\n"
     ]
    },
    {
     "name": "stderr",
     "output_type": "stream",
     "text": [
      "\n",
      "\u001b[A"
     ]
    },
    {
     "name": "stdout",
     "output_type": "stream",
     "text": [
      "✅ 1 agences sauvegardées : CAISSE DE CREDIT MUTUEL HERIC\n"
     ]
    },
    {
     "name": "stderr",
     "output_type": "stream",
     "text": [
      "\n",
      "\u001b[A"
     ]
    },
    {
     "name": "stdout",
     "output_type": "stream",
     "text": [
      "✅ 1 agences sauvegardées : CAISSE DE CREDIT MUTUEL LA MONTAGNE ST JEAN DE BOISEAU\n"
     ]
    },
    {
     "name": "stderr",
     "output_type": "stream",
     "text": [
      "\n",
      "\u001b[A"
     ]
    },
    {
     "name": "stdout",
     "output_type": "stream",
     "text": [
      "✅ 1 agences sauvegardées : CAISSE DE CREDIT MUTUEL DE GUERANDE - LA TURBALLE\n"
     ]
    },
    {
     "name": "stderr",
     "output_type": "stream",
     "text": [
      "\n",
      "\u001b[A"
     ]
    },
    {
     "name": "stdout",
     "output_type": "stream",
     "text": [
      "✅ 1 agences sauvegardées : CAISSE DE CREDIT MUTUEL DE GUERANDE - LE CROISIC\n"
     ]
    },
    {
     "name": "stderr",
     "output_type": "stream",
     "text": [
      "\n",
      "\u001b[A"
     ]
    },
    {
     "name": "stdout",
     "output_type": "stream",
     "text": [
      "✅ 1 agences sauvegardées : CAISSE DE CREDIT MUTUEL LE PELLERIN\n"
     ]
    },
    {
     "name": "stderr",
     "output_type": "stream",
     "text": [
      "\n",
      "\u001b[A"
     ]
    },
    {
     "name": "stdout",
     "output_type": "stream",
     "text": [
      "✅ 1 agences sauvegardées : CAISSE DE CREDIT MUTUEL DE COTE D'AMOUR - LE POULIGUEN\n"
     ]
    },
    {
     "name": "stderr",
     "output_type": "stream",
     "text": [
      "\n",
      "\u001b[A"
     ]
    },
    {
     "name": "stdout",
     "output_type": "stream",
     "text": [
      "✅ 1 agences sauvegardées : CAISSE DE CREDIT MUTUEL DE GRAND LIEU ET LOGNE - LEGE\n"
     ]
    },
    {
     "name": "stderr",
     "output_type": "stream",
     "text": [
      "\n",
      "\u001b[A"
     ]
    },
    {
     "name": "stdout",
     "output_type": "stream",
     "text": [
      "✅ 1 agences sauvegardées : CAISSE DE CREDIT MUTUEL LIGNE\n"
     ]
    },
    {
     "name": "stderr",
     "output_type": "stream",
     "text": [
      "\n",
      "\u001b[A"
     ]
    },
    {
     "name": "stdout",
     "output_type": "stream",
     "text": [
      "✅ 1 agences sauvegardées : CAISSE DE CREDIT MUTUEL VARADES\n"
     ]
    },
    {
     "name": "stderr",
     "output_type": "stream",
     "text": [
      "\n",
      "\u001b[A"
     ]
    },
    {
     "name": "stdout",
     "output_type": "stream",
     "text": [
      "✅ 1 agences sauvegardées : CAISSE DE CREDIT MUTUEL PONT-CHÂTEAU MISSILLAC\n"
     ]
    },
    {
     "name": "stderr",
     "output_type": "stream",
     "text": [
      "\n",
      "\u001b[A"
     ]
    },
    {
     "name": "stdout",
     "output_type": "stream",
     "text": [
      "✅ 1 agences sauvegardées : CAISSE DE CREDIT MUTUEL MONTOIR SAINT MALO\n"
     ]
    },
    {
     "name": "stderr",
     "output_type": "stream",
     "text": [
      "\n",
      "\u001b[A"
     ]
    },
    {
     "name": "stdout",
     "output_type": "stream",
     "text": [
      "✅ 6 agences sauvegardées : CAISSE DE CREDIT MUTUEL DOULON, CAISSE DE CREDIT MUTUEL NANTES CATHEDRALE, CAISSE DE CREDIT MUTUEL SAINT FELIX, CAISSE DE CREDIT MUTUEL DE NANTES DOBREE ROYALE, CAISSE DE CREDIT MUTUEL DE NANTES TALENSAC, CAISSE DE CREDIT MUTUEL DE NANTES DOBREE ROYALE - -DOBREE\n"
     ]
    },
    {
     "name": "stderr",
     "output_type": "stream",
     "text": [
      "\n",
      "\u001b[A"
     ]
    },
    {
     "name": "stdout",
     "output_type": "stream",
     "text": [
      "✅ 1 agences sauvegardées : CAISSE DE CREDIT MUTUEL NORT-SAFFRE-JOUE\n"
     ]
    },
    {
     "name": "stderr",
     "output_type": "stream",
     "text": [
      "\n",
      "\u001b[A"
     ]
    },
    {
     "name": "stdout",
     "output_type": "stream",
     "text": [
      "✅ 1 agences sauvegardées : CAISSE DE CREDIT MUTUEL NOZAY - DERVAL\n"
     ]
    },
    {
     "name": "stderr",
     "output_type": "stream",
     "text": [
      "\n",
      "\u001b[A"
     ]
    },
    {
     "name": "stdout",
     "output_type": "stream",
     "text": [
      "✅ 3 agences sauvegardées : CAISSE DE CREDIT MUTUEL VAL DU CENS, CAISSE DE CREDIT MUTUEL VAL DU CENS - PETIT CHANTILLY, CAISSE DE CREDIT MUTUEL VAL DU CENS - ORVAULT BOURG\n"
     ]
    },
    {
     "name": "stderr",
     "output_type": "stream",
     "text": [
      "\n",
      "\u001b[A"
     ]
    },
    {
     "name": "stdout",
     "output_type": "stream",
     "text": [
      "✅ 1 agences sauvegardées : CAISSE DE CREDIT MUTUEL PONT-CHÂTEAU MISSILLAC\n"
     ]
    },
    {
     "name": "stderr",
     "output_type": "stream",
     "text": [
      "\n",
      "\u001b[A"
     ]
    },
    {
     "name": "stdout",
     "output_type": "stream",
     "text": [
      "✅ 1 agences sauvegardées : CAISSE DE CREDIT MUTUEL COTE DE JADE - PORNIC\n"
     ]
    },
    {
     "name": "stderr",
     "output_type": "stream",
     "text": [
      "\n",
      "\u001b[A"
     ]
    },
    {
     "name": "stdout",
     "output_type": "stream",
     "text": [
      "✅ 1 agences sauvegardées : CAISSE DE CREDIT MUTUEL DE COTE D'AMOUR - PORNICHET\n"
     ]
    },
    {
     "name": "stderr",
     "output_type": "stream",
     "text": [
      "\n",
      "\u001b[A"
     ]
    },
    {
     "name": "stdout",
     "output_type": "stream",
     "text": [
      "✅ 2 agences sauvegardées : CAISSE DE CREDIT MUTUEL SAINT PAUL DE REZE, CAISSE DE CREDIT MUTUEL REZE SAINT PIERRE\n"
     ]
    },
    {
     "name": "stderr",
     "output_type": "stream",
     "text": [
      "\n",
      "\u001b[A"
     ]
    },
    {
     "name": "stdout",
     "output_type": "stream",
     "text": [
      "✅ 1 agences sauvegardées : CAISSE DE CREDIT MUTUEL SAUTRON\n"
     ]
    },
    {
     "name": "stderr",
     "output_type": "stream",
     "text": [
      "\n",
      "\u001b[A"
     ]
    },
    {
     "name": "stdout",
     "output_type": "stream",
     "text": [
      "✅ 1 agences sauvegardées : CAISSE DE CREDIT MUTUEL DE SAVENAY ET SILLONS\n"
     ]
    },
    {
     "name": "stderr",
     "output_type": "stream",
     "text": [
      "\n",
      "\u001b[A"
     ]
    },
    {
     "name": "stdout",
     "output_type": "stream",
     "text": [
      "✅ 1 agences sauvegardées : CAISSE DE CREDIT MUTUEL SUCE SUR ERDRE\n"
     ]
    },
    {
     "name": "stderr",
     "output_type": "stream",
     "text": [
      "\n",
      "\u001b[A"
     ]
    },
    {
     "name": "stdout",
     "output_type": "stream",
     "text": [
      "✅ 1 agences sauvegardées : CAISSE DE CREDIT MUTUEL THOUARE-MAUVES LE CELLIER - THOUARE SUR LOIRE\n"
     ]
    },
    {
     "name": "stderr",
     "output_type": "stream",
     "text": [
      "\n",
      "\u001b[A"
     ]
    },
    {
     "name": "stdout",
     "output_type": "stream",
     "text": [
      "✅ 1 agences sauvegardées : CAISSE DE CREDIT MUTUEL GRANDCHAMP ET TREILLIERES\n"
     ]
    },
    {
     "name": "stderr",
     "output_type": "stream",
     "text": [
      "\n",
      "\u001b[A"
     ]
    },
    {
     "name": "stdout",
     "output_type": "stream",
     "text": [
      "✅ 2 agences sauvegardées : CAISSE DE CREDIT MUTUEL SAINT-NAZAIRE TRIGNAC, CRCM LACO ST NAZAIRE ENTREPRISES - AGENCE ST NAZAIRE ENTREPRI\n"
     ]
    },
    {
     "name": "stderr",
     "output_type": "stream",
     "text": [
      "\n",
      "\u001b[A"
     ]
    },
    {
     "name": "stdout",
     "output_type": "stream",
     "text": [
      "✅ 1 agences sauvegardées : CAISSE DE CREDIT MUTUEL VALLET\n"
     ]
    },
    {
     "name": "stderr",
     "output_type": "stream",
     "text": [
      "\n",
      "\u001b[A"
     ]
    },
    {
     "name": "stdout",
     "output_type": "stream",
     "text": [
      "✅ 1 agences sauvegardées : CAISSE DE CREDIT MUTUEL SAINT MARS LA JAILLE\n"
     ]
    },
    {
     "name": "stderr",
     "output_type": "stream",
     "text": [
      "\n",
      "\u001b[A"
     ]
    },
    {
     "name": "stdout",
     "output_type": "stream",
     "text": [
      "✅ 2 agences sauvegardées : CAISSE DE CREDIT MUTUEL BEAUTOUR, CAISSE DE CREDIT MUTUEL VERTOU HAYE-FOUASSIERE\n"
     ]
    },
    {
     "name": "stderr",
     "output_type": "stream",
     "text": [
      "\n",
      "\u001b[A\n",
      "\u001b[A"
     ]
    },
    {
     "name": "stdout",
     "output_type": "stream",
     "text": [
      "✅ 1 agences sauvegardées : CAISSE DE CREDIT MUTUEL VIEILLEVIGNE-LA PLANCHE\n"
     ]
    },
    {
     "name": "stderr",
     "output_type": "stream",
     "text": [
      "\n",
      "\u001b[A\n",
      "\u001b[A"
     ]
    },
    {
     "name": "stdout",
     "output_type": "stream",
     "text": [
      "✅ 3 agences sauvegardées : CAISSE DE CREDIT MUTUEL D'ANGERS OUEST, CAISSE DE CREDIT MUTUEL ANGERS SAUMUROISE, CAISSE DE CREDIT MUTUEL ANGERS SUD\n"
     ]
    },
    {
     "name": "stderr",
     "output_type": "stream",
     "text": [
      "\n",
      "\u001b[A"
     ]
    },
    {
     "name": "stdout",
     "output_type": "stream",
     "text": [
      "✅ 1 agences sauvegardées : CAISSE DE CREDIT MUTUEL DE MONTREUIL - AVRILLE\n"
     ]
    },
    {
     "name": "stderr",
     "output_type": "stream",
     "text": [
      "\n",
      "\u001b[A"
     ]
    },
    {
     "name": "stdout",
     "output_type": "stream",
     "text": [
      "✅ 1 agences sauvegardées : CAISSE DE CREDIT MUTUEL DE BAUGE - NOYANT\n"
     ]
    },
    {
     "name": "stderr",
     "output_type": "stream",
     "text": [
      "\n",
      "\u001b[A"
     ]
    },
    {
     "name": "stdout",
     "output_type": "stream",
     "text": [
      "✅ 1 agences sauvegardées : CAISSE DE CREDIT MUTUEL D'ANGERS OUEST - BEAUCOUZE\n"
     ]
    },
    {
     "name": "stderr",
     "output_type": "stream",
     "text": [
      "\n",
      "\u001b[A"
     ]
    },
    {
     "name": "stdout",
     "output_type": "stream",
     "text": [
      "✅ 1 agences sauvegardées : CAISSE DE CREDIT MUTUEL DE BEAUFORT EN VALLEE\n"
     ]
    },
    {
     "name": "stderr",
     "output_type": "stream",
     "text": [
      "\n",
      "\u001b[A"
     ]
    },
    {
     "name": "stdout",
     "output_type": "stream",
     "text": [
      "✅ 1 agences sauvegardées : CAISSE DE CREDIT MUTUEL DE BEAUPREAU\n"
     ]
    },
    {
     "name": "stderr",
     "output_type": "stream",
     "text": [
      "\n",
      "\u001b[A"
     ]
    },
    {
     "name": "stdout",
     "output_type": "stream",
     "text": [
      "✅ 1 agences sauvegardées : CAISSE DE CREDIT MUTUEL DE BECON LES GRANITS\n"
     ]
    },
    {
     "name": "stderr",
     "output_type": "stream",
     "text": [
      "\n",
      "\u001b[A"
     ]
    },
    {
     "name": "stdout",
     "output_type": "stream",
     "text": [
      "✅ 1 agences sauvegardées : CAISSE DE CREDIT MUTUEL DE THOUARCE\n"
     ]
    },
    {
     "name": "stderr",
     "output_type": "stream",
     "text": [
      "\n",
      "\u001b[A"
     ]
    },
    {
     "name": "stdout",
     "output_type": "stream",
     "text": [
      "✅ 1 agences sauvegardées : CAISSE DE CREDIT MUTUEL DE LOIRE AUBANCE - BRISSAC QUINCE\n"
     ]
    },
    {
     "name": "stderr",
     "output_type": "stream",
     "text": [
      "\n",
      "\u001b[A"
     ]
    },
    {
     "name": "stdout",
     "output_type": "stream",
     "text": [
      "✅ 1 agences sauvegardées : CAISSE DE CREDIT MUTUEL DE CANDE\n"
     ]
    },
    {
     "name": "stderr",
     "output_type": "stream",
     "text": [
      "\n",
      "\u001b[A"
     ]
    },
    {
     "name": "stdout",
     "output_type": "stream",
     "text": [
      "✅ 1 agences sauvegardées : CAISSE DE CREDIT MUTUEL DE CHALONNES - ST GEORGES SUR LOIRE\n"
     ]
    },
    {
     "name": "stderr",
     "output_type": "stream",
     "text": [
      "\n",
      "\u001b[A"
     ]
    },
    {
     "name": "stdout",
     "output_type": "stream",
     "text": [
      "✅ 1 agences sauvegardées : CAISSE DE CREDIT MUTUEL DE CHEMILLE\n"
     ]
    },
    {
     "name": "stderr",
     "output_type": "stream",
     "text": [
      "\n",
      "\u001b[A"
     ]
    },
    {
     "name": "stdout",
     "output_type": "stream",
     "text": [
      "✅ 2 agences sauvegardées : CAISSE DE CREDIT MUTUEL DE CHOLET - VICTOIRE, CAISSE DE CREDIT MUTUEL DE CHOLET - SACRE-COEUR\n"
     ]
    },
    {
     "name": "stderr",
     "output_type": "stream",
     "text": [
      "\n",
      "\u001b[A"
     ]
    },
    {
     "name": "stdout",
     "output_type": "stream",
     "text": [
      "✅ 1 agences sauvegardées : CAISSE DE CREDIT MUTUEL DE DOUE LA FONTAINE\n"
     ]
    },
    {
     "name": "stderr",
     "output_type": "stream",
     "text": [
      "\n",
      "\u001b[A"
     ]
    },
    {
     "name": "stdout",
     "output_type": "stream",
     "text": [
      "✅ 1 agences sauvegardées : CAISSE DE CREDIT MUTUEL DE DURTAL - SEICHES\n"
     ]
    },
    {
     "name": "stderr",
     "output_type": "stream",
     "text": [
      "\n",
      "\u001b[A"
     ]
    },
    {
     "name": "stdout",
     "output_type": "stream",
     "text": [
      "✅ 1 agences sauvegardées : CAISSE DE CREDIT MUTUEL DE BEAUFORT EN VALLEE - GENNES\n"
     ]
    },
    {
     "name": "stderr",
     "output_type": "stream",
     "text": [
      "\n",
      "\u001b[A"
     ]
    },
    {
     "name": "stdout",
     "output_type": "stream",
     "text": [
      "ℹ️ Pas de nouvelles agences (ou déjà existantes).\n"
     ]
    },
    {
     "name": "stderr",
     "output_type": "stream",
     "text": [
      "\n",
      "\u001b[A"
     ]
    },
    {
     "name": "stdout",
     "output_type": "stream",
     "text": [
      "ℹ️ Pas de nouvelles agences (ou déjà existantes).\n"
     ]
    },
    {
     "name": "stderr",
     "output_type": "stream",
     "text": [
      "\n",
      "\u001b[A"
     ]
    },
    {
     "name": "stdout",
     "output_type": "stream",
     "text": [
      "✅ 1 agences sauvegardées : CAISSE DE CREDIT MUTUEL DE LONGUE\n"
     ]
    },
    {
     "name": "stderr",
     "output_type": "stream",
     "text": [
      "\n",
      "\u001b[A"
     ]
    },
    {
     "name": "stdout",
     "output_type": "stream",
     "text": [
      "✅ 1 agences sauvegardées : CAISSE DE CREDIT MUTUEL DE VIHIERS\n"
     ]
    },
    {
     "name": "stderr",
     "output_type": "stream",
     "text": [
      "\n",
      "\u001b[A"
     ]
    },
    {
     "name": "stdout",
     "output_type": "stream",
     "text": [
      "✅ 1 agences sauvegardées : CAISSE DE CREDIT MUTUEL DE LA POMMERAYE\n"
     ]
    },
    {
     "name": "stderr",
     "output_type": "stream",
     "text": [
      "\n",
      "\u001b[A"
     ]
    },
    {
     "name": "stdout",
     "output_type": "stream",
     "text": [
      "✅ 1 agences sauvegardées : CAISSE DE CREDIT MUTUEL DE MAULEVRIER\n"
     ]
    },
    {
     "name": "stderr",
     "output_type": "stream",
     "text": [
      "\n",
      "\u001b[A"
     ]
    },
    {
     "name": "stdout",
     "output_type": "stream",
     "text": [
      "✅ 1 agences sauvegardées : CAISSE DE CREDIT MUTUEL DE BEAUFORT EN VALLEE - MAZE\n"
     ]
    },
    {
     "name": "stderr",
     "output_type": "stream",
     "text": [
      "\n",
      "\u001b[A"
     ]
    },
    {
     "name": "stdout",
     "output_type": "stream",
     "text": [
      "✅ 1 agences sauvegardées : CAISSE DE CREDIT MUTUEL DE MONTREUIL - AVRILLE - MONTREUIL JUIGNE\n"
     ]
    },
    {
     "name": "stderr",
     "output_type": "stream",
     "text": [
      "\n",
      "\u001b[A"
     ]
    },
    {
     "name": "stdout",
     "output_type": "stream",
     "text": [
      "✅ 1 agences sauvegardées : CAISSE DE CREDIT MUTUEL DE ST PIERRE MONTLIMART\n"
     ]
    },
    {
     "name": "stderr",
     "output_type": "stream",
     "text": [
      "\n",
      "\u001b[A"
     ]
    },
    {
     "name": "stdout",
     "output_type": "stream",
     "text": [
      "✅ 1 agences sauvegardées : CAISSE DE CREDIT MUTUEL DE LOIRE AUBANCE\n"
     ]
    },
    {
     "name": "stderr",
     "output_type": "stream",
     "text": [
      "\n",
      "\u001b[A"
     ]
    },
    {
     "name": "stdout",
     "output_type": "stream",
     "text": [
      "✅ 1 agences sauvegardées : CAISSE DE CREDIT MUTUEL DE BAUGE - NOYANT\n"
     ]
    },
    {
     "name": "stderr",
     "output_type": "stream",
     "text": [
      "\n",
      "\u001b[A"
     ]
    },
    {
     "name": "stdout",
     "output_type": "stream",
     "text": [
      "✅ 1 agences sauvegardées : CAISSE DE CREDIT MUTUEL DE POUANCE\n"
     ]
    },
    {
     "name": "stderr",
     "output_type": "stream",
     "text": [
      "\n",
      "\u001b[A"
     ]
    },
    {
     "name": "stdout",
     "output_type": "stream",
     "text": [
      "✅ 1 agences sauvegardées : CAISSE DE CREDIT MUTUEL OREE D'ANJOU\n"
     ]
    },
    {
     "name": "stderr",
     "output_type": "stream",
     "text": [
      "\n",
      "\u001b[A"
     ]
    },
    {
     "name": "stdout",
     "output_type": "stream",
     "text": [
      "✅ 2 agences sauvegardées : CAISSE DE CREDIT MUTUEL DE SAUMUR, CAISSE DE CREDIT MUTUEL DE SAUMUR - BAGNEUX\n"
     ]
    },
    {
     "name": "stderr",
     "output_type": "stream",
     "text": [
      "\n",
      "\u001b[A"
     ]
    },
    {
     "name": "stdout",
     "output_type": "stream",
     "text": [
      "✅ 2 agences sauvegardées : CAISSE DE CREDIT MUTUEL DE SEGRE HAUT ANJOU, CAISSE DE CREDIT MUTUEL DU SEGREEN\n"
     ]
    },
    {
     "name": "stderr",
     "output_type": "stream",
     "text": [
      "\n",
      "\u001b[A"
     ]
    },
    {
     "name": "stdout",
     "output_type": "stream",
     "text": [
      "✅ 1 agences sauvegardées : CAISSE DE CREDIT MUTUEL DE DURTAL - SEICHES - SEICHES SUR LE LOIR\n"
     ]
    },
    {
     "name": "stderr",
     "output_type": "stream",
     "text": [
      "\n",
      "\u001b[A"
     ]
    },
    {
     "name": "stdout",
     "output_type": "stream",
     "text": [
      "✅ 1 agences sauvegardées : CAISSE DE CREDIT MUTUEL DE ST MACAIRE EN MAUGES\n"
     ]
    },
    {
     "name": "stderr",
     "output_type": "stream",
     "text": [
      "\n",
      "\u001b[A"
     ]
    },
    {
     "name": "stdout",
     "output_type": "stream",
     "text": [
      "✅ 1 agences sauvegardées : CAISSE DE CREDIT MUTUEL TIERCE - CHATEAUNEUF\n"
     ]
    },
    {
     "name": "stderr",
     "output_type": "stream",
     "text": [
      "\n",
      "\u001b[A"
     ]
    },
    {
     "name": "stdout",
     "output_type": "stream",
     "text": [
      "✅ 1 agences sauvegardées : CAISSE DE CREDIT MUTUEL DE ST BARTHELEMY D'ANJOU - TRELAZE\n"
     ]
    },
    {
     "name": "stderr",
     "output_type": "stream",
     "text": [
      "\n",
      "\u001b[A"
     ]
    },
    {
     "name": "stdout",
     "output_type": "stream",
     "text": [
      "✅ 1 agences sauvegardées : CAISSE DE CREDIT MUTUEL DE TREMENTINES\n"
     ]
    },
    {
     "name": "stderr",
     "output_type": "stream",
     "text": [
      "\n",
      "\u001b[A\n",
      "\u001b[A"
     ]
    },
    {
     "name": "stdout",
     "output_type": "stream",
     "text": [
      "✅ 1 agences sauvegardées : CAISSE DE CREDIT MUTUEL DE ST SYLVAIN D'ANJOU\n"
     ]
    },
    {
     "name": "stderr",
     "output_type": "stream",
     "text": [
      "\n",
      "\u001b[A\n",
      "\u001b[A"
     ]
    },
    {
     "name": "stdout",
     "output_type": "stream",
     "text": [
      "✅ 1 agences sauvegardées : CAISSE DE CREDIT MUTUEL D'AMBRIERES LES VALLEES\n"
     ]
    },
    {
     "name": "stderr",
     "output_type": "stream",
     "text": [
      "\n",
      "\u001b[A"
     ]
    },
    {
     "name": "stdout",
     "output_type": "stream",
     "text": [
      "✅ 1 agences sauvegardées : CAISSE DE CREDIT MUTUEL D'ANDOUILLE\n"
     ]
    },
    {
     "name": "stderr",
     "output_type": "stream",
     "text": [
      "\n",
      "\u001b[A"
     ]
    },
    {
     "name": "stdout",
     "output_type": "stream",
     "text": [
      "✅ 1 agences sauvegardées : CAISSE DE CREDIT MUTUEL DE BONCHAMP LES LAVAL - ARGENTRE\n"
     ]
    },
    {
     "name": "stderr",
     "output_type": "stream",
     "text": [
      "\n",
      "\u001b[A"
     ]
    },
    {
     "name": "stdout",
     "output_type": "stream",
     "text": [
      "✅ 1 agences sauvegardées : CAISSE DE CREDIT MUTUEL DE MAYENNE ST MARTIN - ARON JUBLAINS GRAZAY\n"
     ]
    },
    {
     "name": "stderr",
     "output_type": "stream",
     "text": [
      "\n",
      "\u001b[A"
     ]
    },
    {
     "name": "stdout",
     "output_type": "stream",
     "text": [
      "✅ 1 agences sauvegardées : CAISSE DE CREDIT MUTUEL DE BAIS\n"
     ]
    },
    {
     "name": "stderr",
     "output_type": "stream",
     "text": [
      "\n",
      "\u001b[A"
     ]
    },
    {
     "name": "stdout",
     "output_type": "stream",
     "text": [
      "✅ 1 agences sauvegardées : CAISSE DE CREDIT MUTUEL DE BONCHAMP LES LAVAL\n"
     ]
    },
    {
     "name": "stderr",
     "output_type": "stream",
     "text": [
      "\n",
      "\u001b[A"
     ]
    },
    {
     "name": "stdout",
     "output_type": "stream",
     "text": [
      "✅ 1 agences sauvegardées : CAISSE DE CREDIT MUTUEL DE CHANGE\n"
     ]
    },
    {
     "name": "stderr",
     "output_type": "stream",
     "text": [
      "\n",
      "\u001b[A"
     ]
    },
    {
     "name": "stdout",
     "output_type": "stream",
     "text": [
      "✅ 1 agences sauvegardées : CAISSE DE CREDIT MUTUEL DE COSSE LE VIVIEN\n"
     ]
    },
    {
     "name": "stderr",
     "output_type": "stream",
     "text": [
      "\n",
      "\u001b[A"
     ]
    },
    {
     "name": "stdout",
     "output_type": "stream",
     "text": [
      "✅ 1 agences sauvegardées : CAISSE DE CREDIT MUTUEL DE CRAON ET DU CRAONNAIS\n"
     ]
    },
    {
     "name": "stderr",
     "output_type": "stream",
     "text": [
      "\n",
      "\u001b[A"
     ]
    },
    {
     "name": "stdout",
     "output_type": "stream",
     "text": [
      "✅ 1 agences sauvegardées : CAISSE DE CREDIT MUTUEL DE LAVAL AVESNIERES - ENTRAMMES\n"
     ]
    },
    {
     "name": "stderr",
     "output_type": "stream",
     "text": [
      "\n",
      "\u001b[A"
     ]
    },
    {
     "name": "stdout",
     "output_type": "stream",
     "text": [
      "✅ 1 agences sauvegardées : CAISSE DE CREDIT MUTUEL D'ERNEE BOCAGE\n"
     ]
    },
    {
     "name": "stderr",
     "output_type": "stream",
     "text": [
      "\n",
      "\u001b[A"
     ]
    },
    {
     "name": "stdout",
     "output_type": "stream",
     "text": [
      "✅ 1 agences sauvegardées : CAISSE DE CREDIT MUTUEL D'EVRON\n"
     ]
    },
    {
     "name": "stderr",
     "output_type": "stream",
     "text": [
      "\n",
      "\u001b[A"
     ]
    },
    {
     "name": "stdout",
     "output_type": "stream",
     "text": [
      "✅ 1 agences sauvegardées : CAISSE DE CREDIT MUTUEL DE GORRON - FOUGEROLLES DU PLESSIS\n"
     ]
    },
    {
     "name": "stderr",
     "output_type": "stream",
     "text": [
      "\n",
      "\u001b[A"
     ]
    },
    {
     "name": "stdout",
     "output_type": "stream",
     "text": [
      "✅ 1 agences sauvegardées : CAISSE DE CREDIT MUTUEL DE GORRON\n"
     ]
    },
    {
     "name": "stderr",
     "output_type": "stream",
     "text": [
      "\n",
      "\u001b[A"
     ]
    },
    {
     "name": "stdout",
     "output_type": "stream",
     "text": [
      "✅ 1 agences sauvegardées : CAISSE DE CREDIT MUTUEL DE PRE EN PAIL ET DES AVALOIRS - JAVRON\n"
     ]
    },
    {
     "name": "stderr",
     "output_type": "stream",
     "text": [
      "\n",
      "\u001b[A"
     ]
    },
    {
     "name": "stdout",
     "output_type": "stream",
     "text": [
      "✅ 1 agences sauvegardées : CAISSE DE CREDIT MUTUEL DE GORRON - LANDIVY ST MARS\n"
     ]
    },
    {
     "name": "stderr",
     "output_type": "stream",
     "text": [
      "\n",
      "\u001b[A"
     ]
    },
    {
     "name": "stdout",
     "output_type": "stream",
     "text": [
      "✅ 1 agences sauvegardées : CAISSE DE CREDIT MUTUEL DE LASSAY LES CHATEAUX\n"
     ]
    },
    {
     "name": "stderr",
     "output_type": "stream",
     "text": [
      "\n",
      "\u001b[A"
     ]
    },
    {
     "name": "stdout",
     "output_type": "stream",
     "text": [
      "✅ 6 agences sauvegardées : CAISSE DE CREDIT MUTUEL DE LAVAL AVESNIERES, CAISSE DE CREDIT MUTUEL DE LAVAL BRETAGNE, CAISSE DE CREDIT MUTUEL DE LAVAL MURAT, CAISSE DE CREDIT MUTUEL DE LAVAL ST TUGAL, CAISSE DE CREDIT MUTUEL DE LAVAL TROIS CROIX, CAISSE DE CREDIT MUTUEL DE LAVAL BRETAGNE - BOURNY\n"
     ]
    },
    {
     "name": "stderr",
     "output_type": "stream",
     "text": [
      "\n",
      "\u001b[A"
     ]
    },
    {
     "name": "stdout",
     "output_type": "stream",
     "text": [
      "✅ 1 agences sauvegardées : CAISSE DE CREDIT MUTUEL DE ST BERTHEVIN LES LAVAL - LOIRON ST CYR\n"
     ]
    },
    {
     "name": "stderr",
     "output_type": "stream",
     "text": [
      "\n",
      "\u001b[A"
     ]
    },
    {
     "name": "stdout",
     "output_type": "stream",
     "text": [
      "✅ 1 agences sauvegardées : CAISSE DE CREDIT MUTUEL DE BONCHAMP LES LAVAL - LOUVERNE\n"
     ]
    },
    {
     "name": "stderr",
     "output_type": "stream",
     "text": [
      "\n",
      "\u001b[A"
     ]
    },
    {
     "name": "stdout",
     "output_type": "stream",
     "text": [
      "✅ 1 agences sauvegardées : CAISSE DE CREDIT MUTUEL DE MAYENNE ST MARTIN - MARTIGNE COMMER\n"
     ]
    },
    {
     "name": "stderr",
     "output_type": "stream",
     "text": [
      "\n",
      "\u001b[A"
     ]
    },
    {
     "name": "stdout",
     "output_type": "stream",
     "text": [
      "✅ 2 agences sauvegardées : CAISSE DE CREDIT MUTUEL DE MAYENNE, CAISSE DE CREDIT MUTUEL DE MAYENNE ST MARTIN\n"
     ]
    },
    {
     "name": "stderr",
     "output_type": "stream",
     "text": [
      "\n",
      "\u001b[A"
     ]
    },
    {
     "name": "stdout",
     "output_type": "stream",
     "text": [
      "✅ 1 agences sauvegardées : CAISSE DE CREDIT MUTUEL DE MESLAY L OCEANE\n"
     ]
    },
    {
     "name": "stderr",
     "output_type": "stream",
     "text": [
      "\n",
      "\u001b[A"
     ]
    },
    {
     "name": "stdout",
     "output_type": "stream",
     "text": [
      "✅ 1 agences sauvegardées : CAISSE DE CREDIT MUTUEL D'EVRON - MONTSURS\n"
     ]
    },
    {
     "name": "stderr",
     "output_type": "stream",
     "text": [
      "\n",
      "\u001b[A"
     ]
    },
    {
     "name": "stdout",
     "output_type": "stream",
     "text": [
      "✅ 1 agences sauvegardées : CAISSE DE CREDIT MUTUEL DE ST BERTHEVIN LES LAVAL - PORT BRILLET\n"
     ]
    },
    {
     "name": "stderr",
     "output_type": "stream",
     "text": [
      "\n",
      "\u001b[A"
     ]
    },
    {
     "name": "stdout",
     "output_type": "stream",
     "text": [
      "✅ 1 agences sauvegardées : CAISSE DE CREDIT MUTUEL DE RENAZE MAINE ANJOU\n"
     ]
    },
    {
     "name": "stderr",
     "output_type": "stream",
     "text": [
      "\n",
      "\u001b[A"
     ]
    },
    {
     "name": "stdout",
     "output_type": "stream",
     "text": [
      "✅ 1 agences sauvegardées : CAISSE DE CREDIT MUTUEL DE MESLAY L OCEANE - VAIGES\n"
     ]
    },
    {
     "name": "stderr",
     "output_type": "stream",
     "text": [
      "\n",
      "\u001b[A\n",
      "\u001b[A"
     ]
    },
    {
     "name": "stdout",
     "output_type": "stream",
     "text": [
      "✅ 1 agences sauvegardées : CAISSE DE CREDIT MUTUEL DE VILLAINES LA JUHEL\n"
     ]
    },
    {
     "name": "stderr",
     "output_type": "stream",
     "text": [
      "\n",
      "\u001b[A\n",
      "\u001b[A"
     ]
    },
    {
     "name": "stdout",
     "output_type": "stream",
     "text": [
      "✅ 1 agences sauvegardées : CAISSE DE CREDIT MUTUEL D'ALLONNES\n"
     ]
    },
    {
     "name": "stderr",
     "output_type": "stream",
     "text": [
      "\n",
      "\u001b[A"
     ]
    },
    {
     "name": "stdout",
     "output_type": "stream",
     "text": [
      "✅ 1 agences sauvegardées : CAISSE DE CREDIT MUTUEL D'ARNAGE\n"
     ]
    },
    {
     "name": "stderr",
     "output_type": "stream",
     "text": [
      "\n",
      "\u001b[A"
     ]
    },
    {
     "name": "stdout",
     "output_type": "stream",
     "text": [
      "✅ 1 agences sauvegardées : CAISSE DE CREDIT MUTUEL DE BEAUMONT NORD SARTHE\n"
     ]
    },
    {
     "name": "stderr",
     "output_type": "stream",
     "text": [
      "\n",
      "\u001b[A"
     ]
    },
    {
     "name": "stdout",
     "output_type": "stream",
     "text": [
      "✅ 1 agences sauvegardées : CAISSE DE CREDIT MUTUEL DE ST CALAIS BESSE SUR BRAYE\n"
     ]
    },
    {
     "name": "stderr",
     "output_type": "stream",
     "text": [
      "\n",
      "\u001b[A"
     ]
    },
    {
     "name": "stdout",
     "output_type": "stream",
     "text": [
      "✅ 1 agences sauvegardées : CAISSE DE CREDIT MUTUEL DE BONNETABLE\n"
     ]
    },
    {
     "name": "stderr",
     "output_type": "stream",
     "text": [
      "\n",
      "\u001b[A"
     ]
    },
    {
     "name": "stdout",
     "output_type": "stream",
     "text": [
      "✅ 1 agences sauvegardées : CAISSE DE CREDIT MUTUEL DE CONNERRE - BOULOIRE\n"
     ]
    },
    {
     "name": "stderr",
     "output_type": "stream",
     "text": [
      "\n",
      "\u001b[A"
     ]
    },
    {
     "name": "stdout",
     "output_type": "stream",
     "text": [
      "✅ 1 agences sauvegardées : CAISSE DE CREDIT MUTUEL DE LOUE - BRULON\n"
     ]
    },
    {
     "name": "stderr",
     "output_type": "stream",
     "text": [
      "\n",
      "\u001b[A"
     ]
    },
    {
     "name": "stdout",
     "output_type": "stream",
     "text": [
      "✅ 1 agences sauvegardées : CAISSE DE CREDIT MUTUEL DE LA SUZE - CERANS FOULLETOURTE\n"
     ]
    },
    {
     "name": "stderr",
     "output_type": "stream",
     "text": [
      "\n",
      "\u001b[A"
     ]
    },
    {
     "name": "stdout",
     "output_type": "stream",
     "text": [
      "✅ 1 agences sauvegardées : CAISSE DE CREDIT MUTUEL DU VAL D HUISNE\n"
     ]
    },
    {
     "name": "stderr",
     "output_type": "stream",
     "text": [
      "\n",
      "\u001b[A"
     ]
    },
    {
     "name": "stdout",
     "output_type": "stream",
     "text": [
      "✅ 1 agences sauvegardées : CAISSE DE CREDIT MUTUEL DU VAL D HUISNE - CHANGE SUR SARTHE\n"
     ]
    },
    {
     "name": "stderr",
     "output_type": "stream",
     "text": [
      "\n",
      "\u001b[A"
     ]
    },
    {
     "name": "stdout",
     "output_type": "stream",
     "text": [
      "✅ 1 agences sauvegardées : CAISSE DE CREDIT MUTUEL DE SILLE LE GUILLAUME - CONLIE\n"
     ]
    },
    {
     "name": "stderr",
     "output_type": "stream",
     "text": [
      "\n",
      "\u001b[A"
     ]
    },
    {
     "name": "stdout",
     "output_type": "stream",
     "text": [
      "✅ 1 agences sauvegardées : CAISSE DE CREDIT MUTUEL DE CONNERRE\n"
     ]
    },
    {
     "name": "stderr",
     "output_type": "stream",
     "text": [
      "\n",
      "\u001b[A"
     ]
    },
    {
     "name": "stdout",
     "output_type": "stream",
     "text": [
      "✅ 1 agences sauvegardées : CAISSE DE CREDIT MUTUEL DE COULAINES\n"
     ]
    },
    {
     "name": "stderr",
     "output_type": "stream",
     "text": [
      "\n",
      "\u001b[A"
     ]
    },
    {
     "name": "stdout",
     "output_type": "stream",
     "text": [
      "✅ 1 agences sauvegardées : CAISSE DE CREDIT MUTUEL DE NORD BERCE BELINOIS\n"
     ]
    },
    {
     "name": "stderr",
     "output_type": "stream",
     "text": [
      "\n",
      "\u001b[A"
     ]
    },
    {
     "name": "stdout",
     "output_type": "stream",
     "text": [
      "✅ 1 agences sauvegardées : CAISSE DE CREDIT MUTUEL DE SILLE LE GUILLAUME - FRESNAY SUR SARTHE\n"
     ]
    },
    {
     "name": "stderr",
     "output_type": "stream",
     "text": [
      "\n",
      "\u001b[A"
     ]
    },
    {
     "name": "stdout",
     "output_type": "stream",
     "text": [
      "✅ 1 agences sauvegardées : CAISSE DE CREDIT MUTUEL DE LE LUDE\n"
     ]
    },
    {
     "name": "stderr",
     "output_type": "stream",
     "text": [
      "\n",
      "\u001b[A"
     ]
    },
    {
     "name": "stdout",
     "output_type": "stream",
     "text": [
      "✅ 8 agences sauvegardées : CFCMMABN LAVAL CTR AFFAIRES 72 - CFCMMABN LAVAL C.AFF.72, CAISSE DE CREDIT MUTUEL DE LE MANS CENTRE, CAISSE DE CREDIT MUTUEL DE LE MANS CHASSE ROYALE, CAISSE DE CREDIT MUTUEL DE LE MANS LES MAILLETS, CAISSE DE CREDIT MUTUEL DE LE MANS PATIS ST LAZARE, CAISSE DE CREDIT MUTUEL DE LE MANS BARTHOLDI, CAISSE DE CREDIT MUTUEL DE LE MANS CENTRE - BOLLEE, CAISSE DE CREDIT MUTUEL DE LE MANS CENTRE - GARE\n"
     ]
    },
    {
     "name": "stderr",
     "output_type": "stream",
     "text": [
      "\n",
      "\u001b[A"
     ]
    },
    {
     "name": "stdout",
     "output_type": "stream",
     "text": [
      "✅ 1 agences sauvegardées : CAISSE DE CREDIT MUTUEL DE LOUE\n"
     ]
    },
    {
     "name": "stderr",
     "output_type": "stream",
     "text": [
      "\n",
      "\u001b[A"
     ]
    },
    {
     "name": "stdout",
     "output_type": "stream",
     "text": [
      "✅ 1 agences sauvegardées : CAISSE DE CREDIT MUTUEL DE LA SUZE - MALICORNE\n"
     ]
    },
    {
     "name": "stderr",
     "output_type": "stream",
     "text": [
      "\n",
      "\u001b[A"
     ]
    },
    {
     "name": "stdout",
     "output_type": "stream",
     "text": [
      "✅ 1 agences sauvegardées : CAISSE DE CREDIT MUTUEL DE MAMERS\n"
     ]
    },
    {
     "name": "stderr",
     "output_type": "stream",
     "text": [
      "\n",
      "\u001b[A"
     ]
    },
    {
     "name": "stdout",
     "output_type": "stream",
     "text": [
      "✅ 1 agences sauvegardées : CAISSE DE CREDIT MUTUEL DE BEAUMONT NORD SARTHE - MAROLLES LES BRAULTS\n"
     ]
    },
    {
     "name": "stderr",
     "output_type": "stream",
     "text": [
      "\n",
      "\u001b[A"
     ]
    },
    {
     "name": "stdout",
     "output_type": "stream",
     "text": [
      "✅ 1 agences sauvegardées : CAISSE DE CREDIT MUTUEL DE CHATEAU DU LOIR - MAYET PONTVALLAIN\n"
     ]
    },
    {
     "name": "stderr",
     "output_type": "stream",
     "text": [
      "\n",
      "\u001b[A"
     ]
    },
    {
     "name": "stdout",
     "output_type": "stream",
     "text": [
      "✅ 1 agences sauvegardées : CAISSE DE CREDIT MUTUEL DU VAL D HUISNE - MONTFORT LE GESNOIS\n"
     ]
    },
    {
     "name": "stderr",
     "output_type": "stream",
     "text": [
      "\n",
      "\u001b[A"
     ]
    },
    {
     "name": "stdout",
     "output_type": "stream",
     "text": [
      "✅ 1 agences sauvegardées : CAISSE DE CREDIT MUTUEL DE CHATEAU DU LOIR\n"
     ]
    },
    {
     "name": "stderr",
     "output_type": "stream",
     "text": [
      "\n",
      "\u001b[A"
     ]
    },
    {
     "name": "stdout",
     "output_type": "stream",
     "text": [
      "✅ 1 agences sauvegardées : CAISSE DE CREDIT MUTUEL DE NORD BERCE BELINOIS - MULSANNE\n"
     ]
    },
    {
     "name": "stderr",
     "output_type": "stream",
     "text": [
      "\n",
      "\u001b[A"
     ]
    },
    {
     "name": "stdout",
     "output_type": "stream",
     "text": [
      "✅ 1 agences sauvegardées : CAISSE DE CREDIT MUTUEL DE NORD BERCE BELINOIS - PARIGNE L EVEQUE\n"
     ]
    },
    {
     "name": "stderr",
     "output_type": "stream",
     "text": [
      "\n",
      "\u001b[A"
     ]
    },
    {
     "name": "stdout",
     "output_type": "stream",
     "text": [
      "✅ 1 agences sauvegardées : CAISSE DE CREDIT MUTUEL DU PAYS SABOLIEN - PRECIGNE\n"
     ]
    },
    {
     "name": "stderr",
     "output_type": "stream",
     "text": [
      "\n",
      "\u001b[A"
     ]
    },
    {
     "name": "stdout",
     "output_type": "stream",
     "text": [
      "✅ 1 agences sauvegardées : CAISSE DE CREDIT MUTUEL DU VAL D HUISNE - RUAUDIN\n"
     ]
    },
    {
     "name": "stderr",
     "output_type": "stream",
     "text": [
      "\n",
      "\u001b[A"
     ]
    },
    {
     "name": "stdout",
     "output_type": "stream",
     "text": [
      "✅ 1 agences sauvegardées : CAISSE DE CREDIT MUTUEL DU PAYS SABOLIEN\n"
     ]
    },
    {
     "name": "stderr",
     "output_type": "stream",
     "text": [
      "\n",
      "\u001b[A"
     ]
    },
    {
     "name": "stdout",
     "output_type": "stream",
     "text": [
      "✅ 1 agences sauvegardées : CAISSE DE CREDIT MUTUEL DU VAL D HUISNE - SAVIGNE L EVEQUE\n"
     ]
    },
    {
     "name": "stderr",
     "output_type": "stream",
     "text": [
      "\n",
      "\u001b[A"
     ]
    },
    {
     "name": "stdout",
     "output_type": "stream",
     "text": [
      "✅ 1 agences sauvegardées : CAISSE DE CREDIT MUTUEL DE SILLE LE GUILLAUME\n"
     ]
    },
    {
     "name": "stderr",
     "output_type": "stream",
     "text": [
      "\n",
      "\u001b[A"
     ]
    },
    {
     "name": "stdout",
     "output_type": "stream",
     "text": [
      "✅ 1 agences sauvegardées : CAISSE DE CREDIT MUTUEL DE LA FERTE BERNARD - VIBRAYE\n"
     ]
    },
    {
     "name": "stderr",
     "output_type": "stream",
     "text": [
      "\n",
      "\u001b[A\n",
      "\u001b[A"
     ]
    },
    {
     "name": "stdout",
     "output_type": "stream",
     "text": [
      "✅ 1 agences sauvegardées : CAISSE DE CREDIT MUTUEL DU VAL D HUISNE - YVRE L EVEQUE\n"
     ]
    },
    {
     "name": "stderr",
     "output_type": "stream",
     "text": [
      "\n",
      "\u001b[A\n",
      "\u001b[A"
     ]
    },
    {
     "name": "stdout",
     "output_type": "stream",
     "text": [
      "✅ 1 agences sauvegardées : CAISSE DE CREDIT MUTUEL AIZENAY\n"
     ]
    },
    {
     "name": "stderr",
     "output_type": "stream",
     "text": [
      "\n",
      "\u001b[A"
     ]
    },
    {
     "name": "stdout",
     "output_type": "stream",
     "text": [
      "✅ 1 agences sauvegardées : CAISSE DE CREDIT MUTUEL MOUTIERS LES MAUXFAITS - ANGLES\n"
     ]
    },
    {
     "name": "stderr",
     "output_type": "stream",
     "text": [
      "\n",
      "\u001b[A"
     ]
    },
    {
     "name": "stdout",
     "output_type": "stream",
     "text": [
      "✅ 1 agences sauvegardées : CAISSE DE CREDIT MUTUEL AVRILLE\n"
     ]
    },
    {
     "name": "stderr",
     "output_type": "stream",
     "text": [
      "\n",
      "\u001b[A"
     ]
    },
    {
     "name": "stdout",
     "output_type": "stream",
     "text": [
      "✅ 1 agences sauvegardées : CAISSE DE CREDIT MUTUEL BEAULIEU SOUS LA ROCHE\n"
     ]
    },
    {
     "name": "stderr",
     "output_type": "stream",
     "text": [
      "\n",
      "\u001b[A"
     ]
    },
    {
     "name": "stdout",
     "output_type": "stream",
     "text": [
      "✅ 1 agences sauvegardées : CAISSE DE CREDIT MUTUEL BEAUVOIR SUR MER\n"
     ]
    },
    {
     "name": "stderr",
     "output_type": "stream",
     "text": [
      "\n",
      "\u001b[A"
     ]
    },
    {
     "name": "stdout",
     "output_type": "stream",
     "text": [
      "✅ 1 agences sauvegardées : CAISSE DE CREDIT MUTUEL BELLEVILLE SUR VIE\n"
     ]
    },
    {
     "name": "stderr",
     "output_type": "stream",
     "text": [
      "\n",
      "\u001b[A"
     ]
    },
    {
     "name": "stdout",
     "output_type": "stream",
     "text": [
      "✅ 1 agences sauvegardées : CAISSE DE CREDIT MUTUEL LA VENISE VERTE - BENET\n"
     ]
    },
    {
     "name": "stderr",
     "output_type": "stream",
     "text": [
      "\n",
      "\u001b[A"
     ]
    },
    {
     "name": "stdout",
     "output_type": "stream",
     "text": [
      "✅ 1 agences sauvegardées : CAISSE DE CREDIT MUTUEL CHALLANS - BOIS DE CENE\n"
     ]
    },
    {
     "name": "stderr",
     "output_type": "stream",
     "text": [
      "\n",
      "\u001b[A"
     ]
    },
    {
     "name": "stdout",
     "output_type": "stream",
     "text": [
      "✅ 1 agences sauvegardées : CAISSE DE CREDIT MUTUEL BOUIN\n"
     ]
    },
    {
     "name": "stderr",
     "output_type": "stream",
     "text": [
      "\n",
      "\u001b[A"
     ]
    },
    {
     "name": "stdout",
     "output_type": "stream",
     "text": [
      "✅ 1 agences sauvegardées : CAISSE DE CREDIT MUTUEL CHANTONNAY - BOURNEZEAU\n"
     ]
    },
    {
     "name": "stderr",
     "output_type": "stream",
     "text": [
      "\n",
      "\u001b[A"
     ]
    },
    {
     "name": "stdout",
     "output_type": "stream",
     "text": [
      "✅ 1 agences sauvegardées : CAISSE DE CREDIT MUTUEL BRETIGNOLLES SUR MER\n"
     ]
    },
    {
     "name": "stderr",
     "output_type": "stream",
     "text": [
      "\n",
      "\u001b[A"
     ]
    },
    {
     "name": "stdout",
     "output_type": "stream",
     "text": [
      "✅ 1 agences sauvegardées : CAISSE DE CREDIT MUTUEL CHAILLE LES MARAIS\n"
     ]
    },
    {
     "name": "stderr",
     "output_type": "stream",
     "text": [
      "\n",
      "\u001b[A"
     ]
    },
    {
     "name": "stdout",
     "output_type": "stream",
     "text": [
      "✅ 1 agences sauvegardées : CAISSE DE CREDIT MUTUEL CHALLANS - CARNOT\n"
     ]
    },
    {
     "name": "stderr",
     "output_type": "stream",
     "text": [
      "\n",
      "\u001b[A"
     ]
    },
    {
     "name": "stdout",
     "output_type": "stream",
     "text": [
      "✅ 1 agences sauvegardées : CAISSE DE CREDIT MUTUEL CHANTONNAY\n"
     ]
    },
    {
     "name": "stderr",
     "output_type": "stream",
     "text": [
      "\n",
      "\u001b[A"
     ]
    },
    {
     "name": "stdout",
     "output_type": "stream",
     "text": [
      "✅ 1 agences sauvegardées : CAISSE DE CREDIT MUTUEL LA VERRIE\n"
     ]
    },
    {
     "name": "stderr",
     "output_type": "stream",
     "text": [
      "\n",
      "\u001b[A"
     ]
    },
    {
     "name": "stdout",
     "output_type": "stream",
     "text": [
      "✅ 1 agences sauvegardées : CAISSE DE CREDIT MUTUEL CHAUCHE\n"
     ]
    },
    {
     "name": "stderr",
     "output_type": "stream",
     "text": [
      "\n",
      "\u001b[A"
     ]
    },
    {
     "name": "stdout",
     "output_type": "stream",
     "text": [
      "✅ 1 agences sauvegardées : CAISSE DE CREDIT MUTUEL CHAVAGNES EN PAILLERS\n"
     ]
    },
    {
     "name": "stderr",
     "output_type": "stream",
     "text": [
      "\n",
      "\u001b[A"
     ]
    },
    {
     "name": "stdout",
     "output_type": "stream",
     "text": [
      "✅ 1 agences sauvegardées : CAISSE DE CREDIT MUTUEL COEX\n"
     ]
    },
    {
     "name": "stderr",
     "output_type": "stream",
     "text": [
      "\n",
      "\u001b[A"
     ]
    },
    {
     "name": "stdout",
     "output_type": "stream",
     "text": [
      "✅ 1 agences sauvegardées : CAISSE DE CREDIT MUTUEL SOULLANS - COMMEQUIERS\n"
     ]
    },
    {
     "name": "stderr",
     "output_type": "stream",
     "text": [
      "\n",
      "\u001b[A"
     ]
    },
    {
     "name": "stdout",
     "output_type": "stream",
     "text": [
      "✅ 1 agences sauvegardées : CAISSE DE CREDIT MUTUEL MOUILLERON LE CAPTIF - DOMPIERRE SUR YON\n"
     ]
    },
    {
     "name": "stderr",
     "output_type": "stream",
     "text": [
      "\n",
      "\u001b[A"
     ]
    },
    {
     "name": "stdout",
     "output_type": "stream",
     "text": [
      "✅ 1 agences sauvegardées : CAISSE DE CREDIT MUTUEL LES ESSARTS\n"
     ]
    },
    {
     "name": "stderr",
     "output_type": "stream",
     "text": [
      "\n",
      "\u001b[A"
     ]
    },
    {
     "name": "stdout",
     "output_type": "stream",
     "text": [
      "✅ 2 agences sauvegardées : CAISSE DE CREDIT MUTUEL FONTENAY LE COMTE, CAISSE DE CREDIT MUTUEL FONTENAY LE COMTE - FONTENAY SAINT MEDARD\n"
     ]
    },
    {
     "name": "stderr",
     "output_type": "stream",
     "text": [
      "\n",
      "\u001b[A"
     ]
    },
    {
     "name": "stdout",
     "output_type": "stream",
     "text": [
      "✅ 1 agences sauvegardées : CAISSE DE CREDIT MUTUEL JARD SUR MER\n"
     ]
    },
    {
     "name": "stderr",
     "output_type": "stream",
     "text": [
      "\n",
      "\u001b[A"
     ]
    },
    {
     "name": "stdout",
     "output_type": "stream",
     "text": [
      "✅ 1 agences sauvegardées : CAISSE DE CREDIT MUTUEL CHALLANS - LA GARNACHE\n"
     ]
    },
    {
     "name": "stderr",
     "output_type": "stream",
     "text": [
      "\n",
      "\u001b[A"
     ]
    },
    {
     "name": "stdout",
     "output_type": "stream",
     "text": [
      "✅ 1 agences sauvegardées : CAISSE DE CREDIT MUTUEL LE PERRIER\n"
     ]
    },
    {
     "name": "stderr",
     "output_type": "stream",
     "text": [
      "\n",
      "\u001b[A"
     ]
    },
    {
     "name": "stdout",
     "output_type": "stream",
     "text": [
      "✅ 1 agences sauvegardées : CAISSE DE CREDIT MUTUEL LA MOTHE ACHARD\n"
     ]
    },
    {
     "name": "stderr",
     "output_type": "stream",
     "text": [
      "\n",
      "\u001b[A"
     ]
    },
    {
     "name": "stdout",
     "output_type": "stream",
     "text": [
      "✅ 1 agences sauvegardées : CAISSE DE CREDIT MUTUEL CHAVAGNES EN PAILLERS - LES BROUZILS\n"
     ]
    },
    {
     "name": "stderr",
     "output_type": "stream",
     "text": [
      "\n",
      "\u001b[A"
     ]
    },
    {
     "name": "stdout",
     "output_type": "stream",
     "text": [
      "✅ 1 agences sauvegardées : CAISSE DE CREDIT MUTUEL LES EPESSES\n"
     ]
    },
    {
     "name": "stderr",
     "output_type": "stream",
     "text": [
      "\n",
      "\u001b[A"
     ]
    },
    {
     "name": "stdout",
     "output_type": "stream",
     "text": [
      "✅ 2 agences sauvegardées : CAISSE DE CREDIT MUTUEL LES HERBIERS, CAISSE DE CREDIT MUTUEL LES HERBIERS - SUD\n"
     ]
    },
    {
     "name": "stderr",
     "output_type": "stream",
     "text": [
      "\n",
      "\u001b[A"
     ]
    },
    {
     "name": "stdout",
     "output_type": "stream",
     "text": [
      "✅ 1 agences sauvegardées : CAISSE DE CREDIT MUTUEL LONGEVILLE SUR MER\n"
     ]
    },
    {
     "name": "stderr",
     "output_type": "stream",
     "text": [
      "\n",
      "\u001b[A"
     ]
    },
    {
     "name": "stdout",
     "output_type": "stream",
     "text": [
      "✅ 1 agences sauvegardées : CAISSE DE CREDIT MUTUEL LA VENISE VERTE\n"
     ]
    },
    {
     "name": "stderr",
     "output_type": "stream",
     "text": [
      "\n",
      "\u001b[A"
     ]
    },
    {
     "name": "stdout",
     "output_type": "stream",
     "text": [
      "✅ 1 agences sauvegardées : CAISSE DE CREDIT MUTUEL MAREUIL SUR LAY\n"
     ]
    },
    {
     "name": "stderr",
     "output_type": "stream",
     "text": [
      "\n",
      "\u001b[A"
     ]
    },
    {
     "name": "stdout",
     "output_type": "stream",
     "text": [
      "✅ 3 agences sauvegardées : CAISSE DE CREDIT MUTUEL MONTAIGU, CAISSE DE CREDIT MUTUEL MONTAIGU - ST GEORGES DE MONTAIGU, CAISSE DE CREDIT MUTUEL MONTAIGU - ST HILAIRE DE LOULAY\n"
     ]
    },
    {
     "name": "stderr",
     "output_type": "stream",
     "text": [
      "\n",
      "\u001b[A"
     ]
    },
    {
     "name": "stdout",
     "output_type": "stream",
     "text": [
      "✅ 1 agences sauvegardées : CAISSE DE CREDIT MUTUEL MONTOURNAIS\n"
     ]
    },
    {
     "name": "stderr",
     "output_type": "stream",
     "text": [
      "\n",
      "\u001b[A"
     ]
    },
    {
     "name": "stdout",
     "output_type": "stream",
     "text": [
      "✅ 1 agences sauvegardées : CAISSE DE CREDIT MUTUEL MORTAGNE SUR SEVRE\n"
     ]
    },
    {
     "name": "stderr",
     "output_type": "stream",
     "text": [
      "\n",
      "\u001b[A"
     ]
    },
    {
     "name": "stdout",
     "output_type": "stream",
     "text": [
      "✅ 1 agences sauvegardées : CAISSE DE CREDIT MUTUEL MOUCHAMPS\n"
     ]
    },
    {
     "name": "stderr",
     "output_type": "stream",
     "text": [
      "\n",
      "\u001b[A"
     ]
    },
    {
     "name": "stdout",
     "output_type": "stream",
     "text": [
      "✅ 1 agences sauvegardées : CAISSE DE CREDIT MUTUEL MOUILLERON LE CAPTIF\n"
     ]
    },
    {
     "name": "stderr",
     "output_type": "stream",
     "text": [
      "\n",
      "\u001b[A"
     ]
    },
    {
     "name": "stdout",
     "output_type": "stream",
     "text": [
      "✅ 1 agences sauvegardées : CAISSE DE CREDIT MUTUEL MOUTIERS LES MAUXFAITS\n"
     ]
    },
    {
     "name": "stderr",
     "output_type": "stream",
     "text": [
      "\n",
      "\u001b[A"
     ]
    },
    {
     "name": "stdout",
     "output_type": "stream",
     "text": [
      "✅ 1 agences sauvegardées : CAISSE DE CREDIT MUTUEL LUCON SUD VENDEE - NALLIERS\n"
     ]
    },
    {
     "name": "stderr",
     "output_type": "stream",
     "text": [
      "\n",
      "\u001b[A"
     ]
    },
    {
     "name": "stdout",
     "output_type": "stream",
     "text": [
      "✅ 1 agences sauvegardées : CAISSE DE CREDIT MUTUEL NIEUL LE DOLENT\n"
     ]
    },
    {
     "name": "stderr",
     "output_type": "stream",
     "text": [
      "\n",
      "\u001b[A"
     ]
    },
    {
     "name": "stdout",
     "output_type": "stream",
     "text": [
      "✅ 1 agences sauvegardées : CAISSE DE CREDIT MUTUEL NOIRMOUTIER\n"
     ]
    },
    {
     "name": "stderr",
     "output_type": "stream",
     "text": [
      "\n",
      "\u001b[A"
     ]
    },
    {
     "name": "stdout",
     "output_type": "stream",
     "text": [
      "✅ 1 agences sauvegardées : CAISSE DE CREDIT MUTUEL NOTRE DAME DE MONTS\n"
     ]
    },
    {
     "name": "stderr",
     "output_type": "stream",
     "text": [
      "\n",
      "\u001b[A"
     ]
    },
    {
     "name": "stdout",
     "output_type": "stream",
     "text": [
      "✅ 1 agences sauvegardées : CAISSE DE CREDIT MUTUEL PALLUAU\n"
     ]
    },
    {
     "name": "stderr",
     "output_type": "stream",
     "text": [
      "\n",
      "\u001b[A"
     ]
    },
    {
     "name": "stdout",
     "output_type": "stream",
     "text": [
      "✅ 1 agences sauvegardées : CAISSE DE CREDIT MUTUEL POUZAUGES\n"
     ]
    },
    {
     "name": "stderr",
     "output_type": "stream",
     "text": [
      "\n",
      "\u001b[A"
     ]
    },
    {
     "name": "stdout",
     "output_type": "stream",
     "text": [
      "✅ 1 agences sauvegardées : CAISSE DE CREDIT MUTUEL ST FLORENT DES BOIS\n"
     ]
    },
    {
     "name": "stderr",
     "output_type": "stream",
     "text": [
      "\n",
      "\u001b[A"
     ]
    },
    {
     "name": "stdout",
     "output_type": "stream",
     "text": [
      "✅ 1 agences sauvegardées : CAISSE DE CREDIT MUTUEL ROCHESERVIERE\n"
     ]
    },
    {
     "name": "stderr",
     "output_type": "stream",
     "text": [
      "\n",
      "\u001b[A"
     ]
    },
    {
     "name": "stdout",
     "output_type": "stream",
     "text": [
      "✅ 1 agences sauvegardées : CAISSE DE CREDIT MUTUEL POUZAUGES - LA FLOCELLIERE\n"
     ]
    },
    {
     "name": "stderr",
     "output_type": "stream",
     "text": [
      "\n",
      "\u001b[A"
     ]
    },
    {
     "name": "stdout",
     "output_type": "stream",
     "text": [
      "✅ 1 agences sauvegardées : CAISSE DE CREDIT MUTUEL SOULLANS\n"
     ]
    },
    {
     "name": "stderr",
     "output_type": "stream",
     "text": [
      "\n",
      "\u001b[A"
     ]
    },
    {
     "name": "stdout",
     "output_type": "stream",
     "text": [
      "✅ 1 agences sauvegardées : CAISSE DE CREDIT MUTUEL LA BRUFFIERE - TREIZE SEPTIERS\n"
     ]
    },
    {
     "name": "stderr",
     "output_type": "stream",
     "text": [
      "\n",
      "\u001b[A\n",
      "Régions:  92%|█████████▏| 11/12 [2:30:42<14:08, 848.94s/it]"
     ]
    },
    {
     "name": "stdout",
     "output_type": "stream",
     "text": [
      "✅ 1 agences sauvegardées : CAISSE DE CREDIT MUTUEL LA ROCHE ST ANDRE - VENANSAULT\n"
     ]
    },
    {
     "name": "stderr",
     "output_type": "stream",
     "text": [
      "\n",
      "\u001b[A\n",
      "\u001b[A"
     ]
    },
    {
     "name": "stdout",
     "output_type": "stream",
     "text": [
      "✅ 1 agences sauvegardées : CAISSE DE CREDIT MUTUEL HAUTE PROVENCE - DIGNE\n"
     ]
    },
    {
     "name": "stderr",
     "output_type": "stream",
     "text": [
      "\n",
      "\u001b[A\n",
      "\u001b[A"
     ]
    },
    {
     "name": "stdout",
     "output_type": "stream",
     "text": [
      "✅ 1 agences sauvegardées : CAISSE DE CREDIT MUTUEL HAUTE PROVENCE\n"
     ]
    },
    {
     "name": "stderr",
     "output_type": "stream",
     "text": [
      "\n",
      "\u001b[A\n",
      "\u001b[A"
     ]
    },
    {
     "name": "stdout",
     "output_type": "stream",
     "text": [
      "✅ 1 agences sauvegardées : CAISSE DE CREDIT MUTUEL BRIANCON\n"
     ]
    },
    {
     "name": "stderr",
     "output_type": "stream",
     "text": [
      "\n",
      "\u001b[A\n",
      "\u001b[A"
     ]
    },
    {
     "name": "stdout",
     "output_type": "stream",
     "text": [
      "✅ 1 agences sauvegardées : CAISSE DE CREDIT MUTUEL GAP\n"
     ]
    },
    {
     "name": "stderr",
     "output_type": "stream",
     "text": [
      "\n",
      "\u001b[A\n",
      "\u001b[A"
     ]
    },
    {
     "name": "stdout",
     "output_type": "stream",
     "text": [
      "✅ 1 agences sauvegardées : CAISSE DE CREDIT MUTUEL ANTIBES ETOILE - JUAN LES PINS\n"
     ]
    },
    {
     "name": "stderr",
     "output_type": "stream",
     "text": [
      "\n",
      "\u001b[A"
     ]
    },
    {
     "name": "stdout",
     "output_type": "stream",
     "text": [
      "✅ 1 agences sauvegardées : CAISSE DE CREDIT MUTUEL CAGNES-ST LAURENT\n"
     ]
    },
    {
     "name": "stderr",
     "output_type": "stream",
     "text": [
      "\n",
      "\u001b[A"
     ]
    },
    {
     "name": "stdout",
     "output_type": "stream",
     "text": [
      "✅ 1 agences sauvegardées : CAISSE DE CREDIT MUTUEL CANNES LA BOCCA\n"
     ]
    },
    {
     "name": "stderr",
     "output_type": "stream",
     "text": [
      "\n",
      "\u001b[A"
     ]
    },
    {
     "name": "stdout",
     "output_type": "stream",
     "text": [
      "✅ 1 agences sauvegardées : CAISSE DE CREDIT MUTUEL PARFUM D AZUR\n"
     ]
    },
    {
     "name": "stderr",
     "output_type": "stream",
     "text": [
      "\n",
      "\u001b[A"
     ]
    },
    {
     "name": "stdout",
     "output_type": "stream",
     "text": [
      "✅ 1 agences sauvegardées : CAISSE DE CREDIT MUTUEL LES HAUTS DE CANNES - LES HAUTS DE CARNOT\n"
     ]
    },
    {
     "name": "stderr",
     "output_type": "stream",
     "text": [
      "\n",
      "\u001b[A"
     ]
    },
    {
     "name": "stdout",
     "output_type": "stream",
     "text": [
      "✅ 1 agences sauvegardées : CAISSE DE CREDIT MUTUEL MANDELIEU\n"
     ]
    },
    {
     "name": "stderr",
     "output_type": "stream",
     "text": [
      "\n",
      "\u001b[A"
     ]
    },
    {
     "name": "stdout",
     "output_type": "stream",
     "text": [
      "✅ 1 agences sauvegardées : CAISSE DE CREDIT MUTUEL MENTON\n"
     ]
    },
    {
     "name": "stderr",
     "output_type": "stream",
     "text": [
      "\n",
      "\u001b[A"
     ]
    },
    {
     "name": "stdout",
     "output_type": "stream",
     "text": [
      "✅ 1 agences sauvegardées : CAISSE DE CREDIT MUTUEL PARFUM D AZUR - MOUANS-SARTOUX\n"
     ]
    },
    {
     "name": "stderr",
     "output_type": "stream",
     "text": [
      "\n",
      "\u001b[A"
     ]
    },
    {
     "name": "stdout",
     "output_type": "stream",
     "text": [
      "✅ 4 agences sauvegardées : CAISSE DE CREDIT MUTUEL NICE GARNIER, CAISSE DE CREDIT MUTUEL NICE VILLE, CREDIT MUTUEL PROFESSIONS DE SANTE ALPES COTE D AZUR - CMPS ALPES COTE D AZUR, CAISSE DE CREDIT MUTUEL ENSEIGNANT NICE - CME\n"
     ]
    },
    {
     "name": "stderr",
     "output_type": "stream",
     "text": [
      "\n",
      "\u001b[A"
     ]
    },
    {
     "name": "stdout",
     "output_type": "stream",
     "text": [
      "✅ 1 agences sauvegardées : CAISSE DE CREDIT MUTUEL VALLAURIS\n"
     ]
    },
    {
     "name": "stderr",
     "output_type": "stream",
     "text": [
      "\n",
      "\u001b[A"
     ]
    },
    {
     "name": "stdout",
     "output_type": "stream",
     "text": [
      "✅ 1 agences sauvegardées : CAISSE DE CREDIT MUTUEL VENCE\n"
     ]
    },
    {
     "name": "stderr",
     "output_type": "stream",
     "text": [
      "\n",
      "\u001b[A\n",
      "\u001b[A"
     ]
    },
    {
     "name": "stdout",
     "output_type": "stream",
     "text": [
      "✅ 1 agences sauvegardées : CAISSE DE CREDIT MUTUEL VILLENEUVE LOUBET\n"
     ]
    },
    {
     "name": "stderr",
     "output_type": "stream",
     "text": [
      "\n",
      "\u001b[A\n",
      "\u001b[A"
     ]
    },
    {
     "name": "stdout",
     "output_type": "stream",
     "text": [
      "ℹ️ Pas de nouvelles agences (ou déjà existantes).\n"
     ]
    },
    {
     "name": "stderr",
     "output_type": "stream",
     "text": [
      "\n",
      "\u001b[A"
     ]
    },
    {
     "name": "stdout",
     "output_type": "stream",
     "text": [
      "✅ 1 agences sauvegardées : CAISSE DE CREDIT MUTUEL ALLAUCH PLAN DE CUQUES\n"
     ]
    },
    {
     "name": "stderr",
     "output_type": "stream",
     "text": [
      "\n",
      "\u001b[A"
     ]
    },
    {
     "name": "stdout",
     "output_type": "stream",
     "text": [
      "✅ 1 agences sauvegardées : CAISSE DE CREDIT MUTUEL ARLES\n"
     ]
    },
    {
     "name": "stderr",
     "output_type": "stream",
     "text": [
      "\n",
      "\u001b[A"
     ]
    },
    {
     "name": "stdout",
     "output_type": "stream",
     "text": [
      "✅ 1 agences sauvegardées : CAISSE DE CREDIT MUTUEL AUBAGNE\n"
     ]
    },
    {
     "name": "stderr",
     "output_type": "stream",
     "text": [
      "\n",
      "\u001b[A"
     ]
    },
    {
     "name": "stdout",
     "output_type": "stream",
     "text": [
      "✅ 1 agences sauvegardées : CAISSE DE CREDIT MUTUEL LES RIVES DE L ETANG - BERRE L ETANG\n"
     ]
    },
    {
     "name": "stderr",
     "output_type": "stream",
     "text": [
      "\n",
      "\u001b[A"
     ]
    },
    {
     "name": "stdout",
     "output_type": "stream",
     "text": [
      "✅ 1 agences sauvegardées : CAISSE DE CREDIT MUTUEL CASSIS CARNOUX\n"
     ]
    },
    {
     "name": "stderr",
     "output_type": "stream",
     "text": [
      "\n",
      "\u001b[A"
     ]
    },
    {
     "name": "stdout",
     "output_type": "stream",
     "text": [
      "✅ 1 agences sauvegardées : CAISSE DE CREDIT MUTUEL CASSIS CARNOUX\n"
     ]
    },
    {
     "name": "stderr",
     "output_type": "stream",
     "text": [
      "\n",
      "\u001b[A"
     ]
    },
    {
     "name": "stdout",
     "output_type": "stream",
     "text": [
      "✅ 1 agences sauvegardées : CAISSE DE CREDIT MUTUEL CHATEAUNEUF LES MARTIGUES\n"
     ]
    },
    {
     "name": "stderr",
     "output_type": "stream",
     "text": [
      "\n",
      "\u001b[A"
     ]
    },
    {
     "name": "stdout",
     "output_type": "stream",
     "text": [
      "✅ 1 agences sauvegardées : CAISSE DE CREDIT MUTUEL AGRICULTURE DE CHATEAURENARD\n"
     ]
    },
    {
     "name": "stderr",
     "output_type": "stream",
     "text": [
      "\n",
      "\u001b[A"
     ]
    },
    {
     "name": "stdout",
     "output_type": "stream",
     "text": [
      "✅ 1 agences sauvegardées : CAISSE DE CREDIT MUTUEL FOS SUR MER\n"
     ]
    },
    {
     "name": "stderr",
     "output_type": "stream",
     "text": [
      "\n",
      "\u001b[A"
     ]
    },
    {
     "name": "stdout",
     "output_type": "stream",
     "text": [
      "✅ 1 agences sauvegardées : CAISSE DE CREDIT MUTUEL GARDANNE\n"
     ]
    },
    {
     "name": "stderr",
     "output_type": "stream",
     "text": [
      "\n",
      "\u001b[A"
     ]
    },
    {
     "name": "stdout",
     "output_type": "stream",
     "text": [
      "✅ 1 agences sauvegardées : CAISSE DE CREDIT MUTUEL ISTRES\n"
     ]
    },
    {
     "name": "stderr",
     "output_type": "stream",
     "text": [
      "\n",
      "\u001b[A"
     ]
    },
    {
     "name": "stdout",
     "output_type": "stream",
     "text": [
      "✅ 1 agences sauvegardées : CAISSE DE CREDIT MUTUEL LITTORAL PROVENCE\n"
     ]
    },
    {
     "name": "stderr",
     "output_type": "stream",
     "text": [
      "\n",
      "\u001b[A"
     ]
    },
    {
     "name": "stdout",
     "output_type": "stream",
     "text": [
      "✅ 1 agences sauvegardées : CAISSE DE CREDIT MUTUEL LA DESTROUSSE\n"
     ]
    },
    {
     "name": "stderr",
     "output_type": "stream",
     "text": [
      "\n",
      "\u001b[A"
     ]
    },
    {
     "name": "stdout",
     "output_type": "stream",
     "text": [
      "✅ 1 agences sauvegardées : CAISSE DE CREDIT MUTUEL LE THOLONET PALETTE\n"
     ]
    },
    {
     "name": "stderr",
     "output_type": "stream",
     "text": [
      "\n",
      "\u001b[A"
     ]
    },
    {
     "name": "stdout",
     "output_type": "stream",
     "text": [
      "✅ 2 agences sauvegardées : CAISSE DE CREDIT MUTUEL LES RIVES DE L ETANG, CAISSE DE CREDIT MUTUEL LES RIVES DE L ETANG - MARIGNANE VILLE\n"
     ]
    },
    {
     "name": "stderr",
     "output_type": "stream",
     "text": [
      "\n",
      "\u001b[A"
     ]
    },
    {
     "name": "stdout",
     "output_type": "stream",
     "text": [
      "✅ 1 agences sauvegardées : CAISSE DE CREDIT MUTUEL MARSEILLE SAINT LOUP\n"
     ]
    },
    {
     "name": "stderr",
     "output_type": "stream",
     "text": [
      "\n",
      "\u001b[A"
     ]
    },
    {
     "name": "stdout",
     "output_type": "stream",
     "text": [
      "✅ 2 agences sauvegardées : CAISSE DE CREDIT MUTUEL MARSEILLE LA VALENTINE, CAISSE DE CREDIT MUTUEL MARSEILLE LES CAMOINS\n"
     ]
    },
    {
     "name": "stderr",
     "output_type": "stream",
     "text": [
      "\n",
      "\u001b[A"
     ]
    },
    {
     "name": "stdout",
     "output_type": "stream",
     "text": [
      "✅ 2 agences sauvegardées : CAISSE DE CREDIT MUTUEL MARSEILLE CAILLOLS, CAISSE DE CREDIT MUTUEL MARSEILLE LA PHOCEENNE - ST BARNABE\n"
     ]
    },
    {
     "name": "stderr",
     "output_type": "stream",
     "text": [
      "\n",
      "\u001b[A"
     ]
    },
    {
     "name": "stdout",
     "output_type": "stream",
     "text": [
      "✅ 1 agences sauvegardées : CAISSE DE CREDIT MUTUEL MARSEILLE CHATEAU-GOMBERT\n"
     ]
    },
    {
     "name": "stderr",
     "output_type": "stream",
     "text": [
      "\n",
      "\u001b[A"
     ]
    },
    {
     "name": "stdout",
     "output_type": "stream",
     "text": [
      "✅ 1 agences sauvegardées : CAISSE DE CREDIT MUTUEL L ETOILE MEDITERRANEE\n"
     ]
    },
    {
     "name": "stderr",
     "output_type": "stream",
     "text": [
      "\n",
      "\u001b[A"
     ]
    },
    {
     "name": "stdout",
     "output_type": "stream",
     "text": [
      "✅ 2 agences sauvegardées : CAISSE DE CREDIT MUTUEL MARSEILLE LA CANEBIERE, CAISSE DE CREDIT MUTUEL MARSEILLE LA CANEBIERE - BUREAU  CANEBIERE\n"
     ]
    },
    {
     "name": "stderr",
     "output_type": "stream",
     "text": [
      "\n",
      "\u001b[A"
     ]
    },
    {
     "name": "stdout",
     "output_type": "stream",
     "text": [
      "✅ 2 agences sauvegardées : CAISSE DE CREDIT MUTUEL MARSEILLE REPUBLIQUE, CAISSE DE CREDIT MUTUEL MARSEILLE REPUBLIQUE - EUROMEDITERRANEE\n"
     ]
    },
    {
     "name": "stderr",
     "output_type": "stream",
     "text": [
      "\n",
      "\u001b[A"
     ]
    },
    {
     "name": "stdout",
     "output_type": "stream",
     "text": [
      "✅ 1 agences sauvegardées : CAISSE DE CREDIT MUTUEL MARSEILLE PELLETAN\n"
     ]
    },
    {
     "name": "stderr",
     "output_type": "stream",
     "text": [
      "\n",
      "\u001b[A"
     ]
    },
    {
     "name": "stdout",
     "output_type": "stream",
     "text": [
      "✅ 3 agences sauvegardées : CAISSE DE CREDIT MUTUEL ENSEIGNANT AIX MARSEILLE - CME, CAISSE DE CREDIT MUTUEL MARSEILLE CHARTREUX, CAISSE DE CREDIT MUTUEL MARSEILLE SAKAKINI\n"
     ]
    },
    {
     "name": "stderr",
     "output_type": "stream",
     "text": [
      "\n",
      "\u001b[A"
     ]
    },
    {
     "name": "stdout",
     "output_type": "stream",
     "text": [
      "✅ 1 agences sauvegardées : CAISSE DE CREDIT MUTUEL MARSEILLE CASTELLANE\n"
     ]
    },
    {
     "name": "stderr",
     "output_type": "stream",
     "text": [
      "\n",
      "\u001b[A"
     ]
    },
    {
     "name": "stdout",
     "output_type": "stream",
     "text": [
      "✅ 2 agences sauvegardées : CAISSE DE CREDIT MUTUEL MARSEILLE LA PHOCEENNE, CAISSE DE CREDIT MUTUEL MARSEILLE LA PHOCEENNE - SAINT VICTOR\n"
     ]
    },
    {
     "name": "stderr",
     "output_type": "stream",
     "text": [
      "\n",
      "\u001b[A"
     ]
    },
    {
     "name": "stdout",
     "output_type": "stream",
     "text": [
      "✅ 10 agences sauvegardées : BANQUE EUROPEENNE DU CREDIT MUTUEL MARSEILLE ENT. - BECM, BANQUE EUROPEENNE DU CREDIT MUTUEL MARSEILLE IMMOBILIER - BECM, CAISSE REGIONALE DU CREDIT MUTUEL MEDITERRANEEN - CR CMM, CRCMM AGENCE SIEGE, CRCMM MARSEILLE ENTREPRISES, FEDERATION CREDIT MUTUEL MEDITERRANEEN - FED   MEDITERRANEEN, CREDIT MUTUEL PROFESSIONS DE SANTE PROVENCE - CMPS PROVENCE, CAISSE DE CREDIT MUTUEL MARSEILLE BORELY, CAISSE MEDITERRANEENNE DE FINANCEMENT - CAMEFI, CAUTIONNEMENT MUTUEL DE L HABITAT - CMH MARSEILLE\n"
     ]
    },
    {
     "name": "stderr",
     "output_type": "stream",
     "text": [
      "\n",
      "\u001b[A"
     ]
    },
    {
     "name": "stdout",
     "output_type": "stream",
     "text": [
      "✅ 2 agences sauvegardées : CAISSE DE CREDIT MUTUEL MARSEILLE STE MARGUERITE, CAISSE DE CREDIT MUTUEL MARSEILLE LE CABOT\n"
     ]
    },
    {
     "name": "stderr",
     "output_type": "stream",
     "text": [
      "\n",
      "\u001b[A"
     ]
    },
    {
     "name": "stdout",
     "output_type": "stream",
     "text": [
      "✅ 1 agences sauvegardées : CAISSE DE CREDIT MUTUEL MARTIGUES\n"
     ]
    },
    {
     "name": "stderr",
     "output_type": "stream",
     "text": [
      "\n",
      "\u001b[A"
     ]
    },
    {
     "name": "stdout",
     "output_type": "stream",
     "text": [
      "✅ 1 agences sauvegardées : CAISSE DE CREDIT MUTUEL MIRAMAS\n"
     ]
    },
    {
     "name": "stderr",
     "output_type": "stream",
     "text": [
      "\n",
      "\u001b[A"
     ]
    },
    {
     "name": "stdout",
     "output_type": "stream",
     "text": [
      "✅ 1 agences sauvegardées : CAISSE DE CREDIT MUTUEL PORT DE BOUC\n"
     ]
    },
    {
     "name": "stderr",
     "output_type": "stream",
     "text": [
      "\n",
      "\u001b[A"
     ]
    },
    {
     "name": "stdout",
     "output_type": "stream",
     "text": [
      "✅ 1 agences sauvegardées : CAISSE DE CREDIT MUTUEL SALON DE PROVENCE\n"
     ]
    },
    {
     "name": "stderr",
     "output_type": "stream",
     "text": [
      "\n",
      "\u001b[A"
     ]
    },
    {
     "name": "stdout",
     "output_type": "stream",
     "text": [
      "✅ 1 agences sauvegardées : CAISSE DE CREDIT MUTUEL L ETOILE MEDITERRANEE - SEPTEMES LES VALLONS\n"
     ]
    },
    {
     "name": "stderr",
     "output_type": "stream",
     "text": [
      "\n",
      "\u001b[A"
     ]
    },
    {
     "name": "stdout",
     "output_type": "stream",
     "text": [
      "✅ 1 agences sauvegardées : CCM TARASCON\n"
     ]
    },
    {
     "name": "stderr",
     "output_type": "stream",
     "text": [
      "\n",
      "\u001b[A"
     ]
    },
    {
     "name": "stdout",
     "output_type": "stream",
     "text": [
      "✅ 1 agences sauvegardées : CAISSE DE CREDIT MUTUEL VAL DURANCE - VENELLES\n"
     ]
    },
    {
     "name": "stderr",
     "output_type": "stream",
     "text": [
      "\n",
      "\u001b[A\n",
      "\u001b[A"
     ]
    },
    {
     "name": "stdout",
     "output_type": "stream",
     "text": [
      "✅ 1 agences sauvegardées : CAISSE DE CREDIT MUTUEL LES RIVES DE L ETANG - VITROLLES\n"
     ]
    },
    {
     "name": "stderr",
     "output_type": "stream",
     "text": [
      "\n",
      "\u001b[A\n",
      "\u001b[A"
     ]
    },
    {
     "name": "stdout",
     "output_type": "stream",
     "text": [
      "✅ 1 agences sauvegardées : CAISSE DE CREDIT MUTUEL CENTRE VAR\n"
     ]
    },
    {
     "name": "stderr",
     "output_type": "stream",
     "text": [
      "\n",
      "\u001b[A"
     ]
    },
    {
     "name": "stdout",
     "output_type": "stream",
     "text": [
      "✅ 1 agences sauvegardées : CAISSE DE CREDIT MUTUEL SAINTE MAXIME - COGOLIN\n"
     ]
    },
    {
     "name": "stderr",
     "output_type": "stream",
     "text": [
      "\n",
      "\u001b[A"
     ]
    },
    {
     "name": "stdout",
     "output_type": "stream",
     "text": [
      "✅ 1 agences sauvegardées : CAISSE DE CREDIT MUTUEL DRAGUIGNAN\n"
     ]
    },
    {
     "name": "stderr",
     "output_type": "stream",
     "text": [
      "\n",
      "\u001b[A"
     ]
    },
    {
     "name": "stdout",
     "output_type": "stream",
     "text": [
      "ℹ️ Pas de nouvelles agences (ou déjà existantes).\n"
     ]
    },
    {
     "name": "stderr",
     "output_type": "stream",
     "text": [
      "\n",
      "\u001b[A"
     ]
    },
    {
     "name": "stdout",
     "output_type": "stream",
     "text": [
      "✅ 1 agences sauvegardées : CAISSE DE CREDIT MUTUEL HYERES\n"
     ]
    },
    {
     "name": "stderr",
     "output_type": "stream",
     "text": [
      "\n",
      "\u001b[A"
     ]
    },
    {
     "name": "stdout",
     "output_type": "stream",
     "text": [
      "✅ 2 agences sauvegardées : CAISSE DE CREDIT MUTUEL ENSEIGNANT NICE - CME LA GARDE, CAISSE DE CREDIT MUTUEL ALLIANCE DU COUDON - LA GARDE\n"
     ]
    },
    {
     "name": "stderr",
     "output_type": "stream",
     "text": [
      "\n",
      "\u001b[A"
     ]
    },
    {
     "name": "stdout",
     "output_type": "stream",
     "text": [
      "✅ 2 agences sauvegardées : CRCMM OLLIOULES ENTREPRISES, CAISSE DE CREDIT MUTUEL OLLIOULES\n"
     ]
    },
    {
     "name": "stderr",
     "output_type": "stream",
     "text": [
      "\n",
      "\u001b[A"
     ]
    },
    {
     "name": "stdout",
     "output_type": "stream",
     "text": [
      "✅ 1 agences sauvegardées : CAISSE DE CREDIT MUTUEL SANARY\n"
     ]
    },
    {
     "name": "stderr",
     "output_type": "stream",
     "text": [
      "\n",
      "\u001b[A"
     ]
    },
    {
     "name": "stdout",
     "output_type": "stream",
     "text": [
      "✅ 1 agences sauvegardées : CAISSE DE CREDIT MUTUEL SIX FOURS\n"
     ]
    },
    {
     "name": "stderr",
     "output_type": "stream",
     "text": [
      "\n",
      "\u001b[A"
     ]
    },
    {
     "name": "stdout",
     "output_type": "stream",
     "text": [
      "✅ 1 agences sauvegardées : CAISSE DE CREDIT MUTUEL SOLLIES PONT\n"
     ]
    },
    {
     "name": "stderr",
     "output_type": "stream",
     "text": [
      "\n",
      "\u001b[A\n",
      "\u001b[A"
     ]
    },
    {
     "name": "stdout",
     "output_type": "stream",
     "text": [
      "✅ 3 agences sauvegardées : CAISSE DE CREDIT MUTUEL PROFESSIONS DE SANTE DU VAR - CMPS DU VAR, CAISSE DE CREDIT MUTUEL TOULON, CAISSE DE CREDIT MUTUEL TOULON - LE MOURILLON\n"
     ]
    },
    {
     "name": "stderr",
     "output_type": "stream",
     "text": [
      "\n",
      "\u001b[A\n",
      "\u001b[A"
     ]
    },
    {
     "name": "stdout",
     "output_type": "stream",
     "text": [
      "✅ 3 agences sauvegardées : CRCMM AVIGNON ENTREPRISES, CAISSE DE CREDIT  MUTUEL  AVIGNON SAINT ROCH, CAISSE DE CREDIT MUTUEL AVIGNON CARNOT\n"
     ]
    },
    {
     "name": "stderr",
     "output_type": "stream",
     "text": [
      "\n",
      "\u001b[A"
     ]
    },
    {
     "name": "stdout",
     "output_type": "stream",
     "text": [
      "✅ 1 agences sauvegardées : CAISSE DE CREDIT MUTUEL BOLLENE\n"
     ]
    },
    {
     "name": "stderr",
     "output_type": "stream",
     "text": [
      "\n",
      "\u001b[A"
     ]
    },
    {
     "name": "stdout",
     "output_type": "stream",
     "text": [
      "✅ 1 agences sauvegardées : CAISSE DE CREDIT MUTUEL LE PONTET\n"
     ]
    },
    {
     "name": "stderr",
     "output_type": "stream",
     "text": [
      "\n",
      "\u001b[A"
     ]
    },
    {
     "name": "stdout",
     "output_type": "stream",
     "text": [
      "✅ 1 agences sauvegardées : CAISSE DE CREDIT MUTUEL AGRICULTURE DE ORANGE\n"
     ]
    },
    {
     "name": "stderr",
     "output_type": "stream",
     "text": [
      "\n",
      "\u001b[A"
     ]
    },
    {
     "name": "stdout",
     "output_type": "stream",
     "text": [
      "✅ 1 agences sauvegardées : CAISSE DE CREDIT MUTUEL VAL DURANCE\n"
     ]
    },
    {
     "name": "stderr",
     "output_type": "stream",
     "text": [
      "\n",
      "\u001b[A\n",
      "Régions: 100%|██████████| 12/12 [2:38:11<00:00, 790.93s/it]"
     ]
    },
    {
     "name": "stdout",
     "output_type": "stream",
     "text": [
      "✅ 1 agences sauvegardées : CAISSE DE CREDIT MUTUEL AGRICULTURE DE VALREAS\n"
     ]
    },
    {
     "name": "stderr",
     "output_type": "stream",
     "text": [
      "\n"
     ]
    },
    {
     "name": "stdout",
     "output_type": "stream",
     "text": [
      "\n",
      "✅ Scraping terminé.\n"
     ]
    }
   ],
   "source": [
    "import os\n",
    "import time\n",
    "import re\n",
    "import json\n",
    "import pandas as pd\n",
    "from selenium import webdriver\n",
    "from selenium.common.exceptions import TimeoutException\n",
    "from selenium.webdriver.common.by import By\n",
    "from selenium.webdriver.support.ui import WebDriverWait\n",
    "from selenium.webdriver.support import expected_conditions as EC\n",
    "from bs4 import BeautifulSoup\n",
    "from tqdm import tqdm\n",
    "\n",
    "CHECKPOINT_FILE = \"output/checkpoint.json\"\n",
    "OUTPUT_FILE = \"output/credit_mutuel_agences_full_progress.csv\"\n",
    "\n",
    "def setup_driver():\n",
    "    options = webdriver.ChromeOptions()\n",
    "    options.add_argument(\"--disable-gpu\")\n",
    "    # options.add_argument(\"--headless\")  # décommenter pour exécuter en mode sans tête\n",
    "    driver = webdriver.Chrome(options=options)\n",
    "    driver.set_window_size(1400, 1000)\n",
    "    driver.set_page_load_timeout(60)\n",
    "    return driver\n",
    "\n",
    "def click_if_present(driver, by, selector, timeout=3):\n",
    "    \"\"\"Clique sur un élément s’il est présent et cliquable\"\"\"\n",
    "    try:\n",
    "        elm = WebDriverWait(driver, timeout).until(\n",
    "            EC.element_to_be_clickable((by, selector))\n",
    "        )\n",
    "        elm.click()\n",
    "        return True\n",
    "    except Exception:\n",
    "        return False\n",
    "\n",
    "def click_button_by_partial_text(driver, tag, partial_text, timeout=3):\n",
    "    \"\"\"Clique sur le premier bouton contenant partiellement un texte donné\"\"\"\n",
    "    try:\n",
    "        elems = WebDriverWait(driver, timeout).until(\n",
    "            EC.presence_of_all_elements_located((By.TAG_NAME, tag))\n",
    "        )\n",
    "        for e in elems:\n",
    "            try:\n",
    "                if partial_text.lower() in e.text.lower():\n",
    "                    e.click()\n",
    "                    return True\n",
    "            except Exception:\n",
    "                continue\n",
    "    except Exception:\n",
    "        pass\n",
    "    return False\n",
    "\n",
    "def accept_cookies(driver):\n",
    "    \"\"\"Ferme le bandeau de cookies si présent\"\"\"\n",
    "    if click_if_present(driver, By.CSS_SELECTOR, \"#cookieLBmainbuttons .ei_mainbuttons .ei_btn_label\", timeout=2):\n",
    "        time.sleep(0.5)\n",
    "        return\n",
    "    if click_if_present(driver, By.CSS_SELECTOR, \"button[data-accept]\", timeout=1):\n",
    "        time.sleep(0.5)\n",
    "        return\n",
    "    for txt in [\"Tout accepter\", \"Accepter\", \"J’accepte\", \"OK\", \"Valider\"]:\n",
    "        if click_button_by_partial_text(driver, \"button\", txt, timeout=1):\n",
    "            time.sleep(0.5)\n",
    "            return\n",
    "    # aucune pop‑up détectée\n",
    "\n",
    "def extract_full_agence(html, source_url, region_href, dept_href, loc_href):\n",
    "    \"\"\"Extrait toutes les agences depuis une page de localité\"\"\"\n",
    "    soup = BeautifulSoup(html, \"html.parser\")\n",
    "    results = []\n",
    "\n",
    "    # 1. Nouveau format : cartes (li.item) avec titre et corps\n",
    "    cards = soup.select(\"li.item\")\n",
    "    for card in cards:\n",
    "        title_elem = card.select_one(\".ei_card_title\")\n",
    "        nom = title_elem.get_text(strip=True) if title_elem else \"\"\n",
    "        adresse_text = \"\"\n",
    "        telephone = \"\"\n",
    "        statut = \"\"\n",
    "        body = card.select_one(\".ei_card_body\")\n",
    "        if body:\n",
    "            p_tags = body.find_all(\"p\")\n",
    "            if p_tags:\n",
    "                # adresse : 1er paragraphe\n",
    "                adresse_text = p_tags[0].get_text(\" \", strip=True)\n",
    "                # recherche du téléphone et du statut dans les paragraphes suivants\n",
    "                for p in p_tags[1:]:\n",
    "                    tel_anchor = p.find(\"a\", href=re.compile(r\"^tel:\"))\n",
    "                    if tel_anchor and not telephone:\n",
    "                        telephone = tel_anchor.get_text(strip=True)\n",
    "                    stat_span = p.find(\"span\", class_=re.compile(r\"cot[0-9]*\"))\n",
    "                    if stat_span and not statut:\n",
    "                        statut = stat_span.get_text(strip=True)\n",
    "        code_postal = \"\"\n",
    "        if adresse_text:\n",
    "            cp_match = re.search(r\"\\b(\\d{5})\\b\", adresse_text)\n",
    "            code_postal = cp_match.group(1) if cp_match else \"\"\n",
    "        if nom:\n",
    "            results.append({\n",
    "                \"nom\": nom,\n",
    "                \"adresse\": adresse_text,\n",
    "                \"code_postal\": code_postal,\n",
    "                \"telephone\": telephone,\n",
    "                \"statut\": statut,\n",
    "                \"region_url\": region_href,\n",
    "                \"department_url\": dept_href,\n",
    "                \"locality_url\": loc_href,\n",
    "                \"source_url\": source_url\n",
    "            })\n",
    "\n",
    "    # 2. Ancien format (pour compatibilité)\n",
    "    if not results:\n",
    "        possible = soup.find(\n",
    "            lambda tag: tag.name in {\"a\", \"h2\", \"div\"}\n",
    "            and \"CAISSE\" in tag.get_text(strip=True).upper()\n",
    "        )\n",
    "        if possible:\n",
    "            nom = possible.get_text(strip=True)\n",
    "            adresse_parts = []\n",
    "            for sib in possible.find_next_siblings():\n",
    "                text = sib.get_text(\" \", strip=True)\n",
    "                if not text:\n",
    "                    continue\n",
    "                if \"Toutes les localités\" in text or \"Retour haut de page\" in text:\n",
    "                    break\n",
    "                adresse_parts.append(text)\n",
    "                if re.search(r\"\\b\\d{5}\\b\", text) and len(adresse_parts) >= 1:\n",
    "                    continue\n",
    "            adresse_text = \", \".join(adresse_parts)\n",
    "            cp_match = re.search(r\"\\b(\\d{5})\\b\", adresse_text)\n",
    "            code_postal = cp_match.group(1) if cp_match else \"\"\n",
    "            tel_elem = soup.find(\"a\", href=re.compile(r\"^tel:\"))\n",
    "            telephone = tel_elem.get_text(strip=True) if tel_elem else \"\"\n",
    "            statut = \"\"\n",
    "            for keyword in [\"Ouvert\", \"Fermé\", \"Fermée\"]:\n",
    "                if soup.find(string=re.compile(keyword, re.IGNORECASE)):\n",
    "                    statut = keyword\n",
    "                    break\n",
    "            results.append({\n",
    "                \"nom\": nom,\n",
    "                \"adresse\": adresse_text,\n",
    "                \"code_postal\": code_postal,\n",
    "                \"telephone\": telephone,\n",
    "                \"statut\": statut,\n",
    "                \"region_url\": region_href,\n",
    "                \"department_url\": dept_href,\n",
    "                \"locality_url\": loc_href,\n",
    "                \"source_url\": source_url\n",
    "            })\n",
    "    return results\n",
    "\n",
    "def load_checkpoint():\n",
    "    if os.path.exists(CHECKPOINT_FILE):\n",
    "        with open(CHECKPOINT_FILE, \"r\", encoding=\"utf-8\") as f:\n",
    "            return json.load(f)\n",
    "    return {\"done_localites\": []}\n",
    "\n",
    "def save_checkpoint(cp):\n",
    "    os.makedirs(os.path.dirname(CHECKPOINT_FILE), exist_ok=True)\n",
    "    with open(CHECKPOINT_FILE, \"w\", encoding=\"utf-8\") as f:\n",
    "        json.dump(cp, f, ensure_ascii=False, indent=2)\n",
    "\n",
    "def append_to_csv(df):\n",
    "    os.makedirs(os.path.dirname(OUTPUT_FILE), exist_ok=True)\n",
    "    if not os.path.exists(OUTPUT_FILE):\n",
    "        df.to_csv(OUTPUT_FILE, index=False, encoding=\"utf-8-sig\")\n",
    "    else:\n",
    "        df.to_csv(OUTPUT_FILE, mode=\"a\", header=False, index=False, encoding=\"utf-8-sig\")\n",
    "\n",
    "def scrape_credit_mutuel_full():\n",
    "    driver = setup_driver()\n",
    "    base_url = \"https://www.creditmutuel.fr/fr/caisses-et-distributeurs/Regions.aspx\"\n",
    "    driver.get(base_url)\n",
    "    time.sleep(1)\n",
    "    accept_cookies(driver)\n",
    "\n",
    "    checkpoint = load_checkpoint()\n",
    "    done_localites = set(checkpoint.get(\"done_localites\", []))\n",
    "    seen = set()\n",
    "\n",
    "    # Charger les agences déjà récupérées pour éviter les doublons\n",
    "    if os.path.exists(OUTPUT_FILE):\n",
    "        existing = pd.read_csv(OUTPUT_FILE, dtype=str)\n",
    "        for _, row in existing.iterrows():\n",
    "            key = (row.get(\"nom\", \"\"), row.get(\"adresse\", \"\"), row.get(\"telephone\", \"\"))\n",
    "            seen.add(key)\n",
    "\n",
    "    # Récupérer les liens vers les régions\n",
    "    region_links = WebDriverWait(driver, 10).until(\n",
    "        EC.presence_of_all_elements_located((By.CSS_SELECTOR, \"a[href*='regionId']\"))\n",
    "    )\n",
    "    region_hrefs = [a.get_attribute(\"href\") for a in region_links if a.get_attribute(\"href\")]\n",
    "\n",
    "    for region_href in tqdm(region_hrefs, desc=\"Régions\"):\n",
    "        try:\n",
    "            driver.get(region_href)\n",
    "            time.sleep(1)\n",
    "            accept_cookies(driver)\n",
    "        except Exception:\n",
    "            continue\n",
    "        # Départements\n",
    "        dept_links = driver.find_elements(By.CSS_SELECTOR, \"a[href*='departmentId']\")\n",
    "        dept_hrefs = [a.get_attribute(\"href\") for a in dept_links if a.get_attribute(\"href\")]\n",
    "        for dept_href in tqdm(dept_hrefs, desc=\"  Départements\", leave=False):\n",
    "            try:\n",
    "                driver.get(dept_href)\n",
    "                time.sleep(1)\n",
    "                accept_cookies(driver)\n",
    "            except Exception:\n",
    "                continue\n",
    "            # Localités : liens contenant le paramètre inseeCode\n",
    "            loc_links = driver.find_elements(By.CSS_SELECTOR, \"a[href*='inseeCode']\")\n",
    "            loc_hrefs = [a.get_attribute(\"href\") for a in loc_links if a.get_attribute(\"href\")]\n",
    "            for loc_href in tqdm(loc_hrefs, desc=\"    Localités\", leave=False):\n",
    "                if loc_href in done_localites:\n",
    "                    continue\n",
    "                try:\n",
    "                    driver.get(loc_href)\n",
    "                    time.sleep(1)\n",
    "                    accept_cookies(driver)\n",
    "                except Exception as e:\n",
    "                    print(f\"⚠️ Échec chargement {loc_href}: {e}\")\n",
    "                    continue\n",
    "                html = driver.page_source\n",
    "                agences = extract_full_agence(html, loc_href, region_href, dept_href, loc_href)\n",
    "                new_agences = []\n",
    "                noms = []\n",
    "                for a in agences:\n",
    "                    key = (a[\"nom\"], a[\"adresse\"], a[\"telephone\"])\n",
    "                    if key in seen or not a[\"nom\"]:\n",
    "                        continue\n",
    "                    seen.add(key)\n",
    "                    new_agences.append(a)\n",
    "                    noms.append(a[\"nom\"])\n",
    "                if new_agences:\n",
    "                    df_new = pd.DataFrame(new_agences)\n",
    "                    append_to_csv(df_new)\n",
    "                    print(f\"✅ {len(new_agences)} agences sauvegardées : {', '.join(noms)}\")\n",
    "                else:\n",
    "                    print(\"ℹ️ Pas de nouvelles agences (ou déjà existantes).\")\n",
    "                done_localites.add(loc_href)\n",
    "                checkpoint[\"done_localites\"] = list(done_localites)\n",
    "                save_checkpoint(checkpoint)\n",
    "\n",
    "    driver.quit()\n",
    "    print(\"\\n✅ Scraping terminé.\")\n",
    "\n",
    "if __name__ == \"__main__\":\n",
    "    scrape_credit_mutuel_full()\n"
   ]
  }
 ],
 "metadata": {
  "kernelspec": {
   "display_name": "Python 3",
   "language": "python",
   "name": "python3"
  },
  "language_info": {
   "codemirror_mode": {
    "name": "ipython",
    "version": 3
   },
   "file_extension": ".py",
   "mimetype": "text/x-python",
   "name": "python",
   "nbconvert_exporter": "python",
   "pygments_lexer": "ipython3",
   "version": "3.13.2"
  }
 },
 "nbformat": 4,
 "nbformat_minor": 5
}
