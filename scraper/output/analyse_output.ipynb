{
 "cells": [
  {
   "cell_type": "code",
   "execution_count": null,
   "id": "2ea0d572",
   "metadata": {},
   "outputs": [],
   "source": [
    "import pandas as pd\n",
    "\n",
    "df = pd.read_csv(\"agences_bnp_merged.csv\")\n",
    "\n",
    "# Conversion lat/long en format FR (virgule décimale)\n",
    "df[\"latitude\"] = df[\"latitude\"].astype(str).str.replace(\".\", \",\")\n",
    "df[\"longitude\"] = df[\"longitude\"].astype(str).str.replace(\".\", \",\")\n",
    "\n",
    "df.to_csv(\"agences_bnp_merged_pb.csv\", index=False, sep=\";\")\n",
    "\n"
   ]
  },
  {
   "cell_type": "code",
   "execution_count": 3,
   "id": "3f4a2605",
   "metadata": {},
   "outputs": [],
   "source": [
    "df[\"region_source\"] = \"Société Générale\"\n",
    "df.to_csv(\"agences_sg_merged_pb.csv\", index=False, sep=\";\")"
   ]
  },
  {
   "cell_type": "code",
   "execution_count": null,
   "id": "30528f61",
   "metadata": {},
   "outputs": [],
   "source": [
    "#ajouter une colone count_agence  et mettre 1 pour chaque lignes\n",
    "df[\"count_agence\"] = 1\n",
    "#sauvegarder le dataframe dans un fichier CSV\n",
    "df.to_csv(\"agences_sg_merged_pb.csv\", index=False, sep=\";\")"
   ]
  },
  {
   "cell_type": "code",
   "execution_count": null,
   "id": "e3be1e54",
   "metadata": {},
   "outputs": [],
   "source": [
    "#agences_bnp_merged_pb.csv remplacer region_source les données par BNP paribas\n"
   ]
  }
 ],
 "metadata": {
  "kernelspec": {
   "display_name": "Python 3",
   "language": "python",
   "name": "python3"
  },
  "language_info": {
   "codemirror_mode": {
    "name": "ipython",
    "version": 3
   },
   "file_extension": ".py",
   "mimetype": "text/x-python",
   "name": "python",
   "nbconvert_exporter": "python",
   "pygments_lexer": "ipython3",
   "version": "3.13.7"
  }
 },
 "nbformat": 4,
 "nbformat_minor": 5
}
