{
 "cells": [
  {
   "cell_type": "code",
   "execution_count": null,
   "id": "2ea0d572",
   "metadata": {},
   "outputs": [],
   "source": [
    "import pandas as pd\n",
    "\n",
    "df = pd.read_csv(\"agences_sg_merged.csv.csv\")\n",
    "\n",
    "# Conversion lat/long en format FR (virgule décimale)\n",
    "df[\"latitude\"] = df[\"latitude\"].astype(str).str.replace(\".\", \",\")\n",
    "df[\"longitude\"] = df[\"longitude\"].astype(str).str.replace(\".\", \",\")\n",
    "\n",
    "df.to_csv(\"agences_sg_merged_pb.csv\", index=False, sep=\";\")\n"
   ]
  },
  {
   "cell_type": "code",
   "execution_count": null,
   "id": "e3be1e54",
   "metadata": {},
   "outputs": [],
   "source": [
    "#lokk at C:\\Users\\iroum\\Documents\\GitHub\\banques-france-poc\\scraper\\output\\agences_combined_lokker_ready.csv and categorize "
   ]
  }
 ],
 "metadata": {
  "language_info": {
   "name": "python"
  }
 },
 "nbformat": 4,
 "nbformat_minor": 5
}
