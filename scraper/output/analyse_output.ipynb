{
 "cells": [
  {
   "cell_type": "code",
   "execution_count": 14,
   "id": "2ea0d572",
   "metadata": {},
   "outputs": [],
   "source": [
    "import pandas as pd\n",
    "\n",
    "df = pd.read_csv(\"agences_bnp_merged.csv\")\n",
    "\n",
    "# Conversion lat/long en format FR (virgule décimale)\n",
    "df[\"latitude\"] = df[\"latitude\"].astype(str).str.replace(\".\", \",\")\n",
    "df[\"longitude\"] = df[\"longitude\"].astype(str).str.replace(\".\", \",\")\n",
    "\n",
    "df.to_csv(\"agences_bnp_merged_pb.csv\", index=False, sep=\";\")\n",
    "\n"
   ]
  },
  {
   "cell_type": "code",
   "execution_count": 15,
   "id": "3f4a2605",
   "metadata": {},
   "outputs": [],
   "source": [
    "df[\"region_source\"] = \"BNP Paribas\"\n",
    "df.to_csv(\"agences_bnp_merged_pb.csv\", index=False, sep=\";\")"
   ]
  },
  {
   "cell_type": "code",
   "execution_count": 16,
   "id": "30528f61",
   "metadata": {},
   "outputs": [],
   "source": [
    "#ajouter une colone count_agence  et mettre 1 pour chaque lignes\n",
    "df[\"count_agence\"] = 1\n",
    "#sauvegarder le dataframe dans un fichier CSV\n",
    "df.to_csv(\"agences_bnp_merged_pb.csv\", index=False, sep=\";\")"
   ]
  },
  {
   "cell_type": "code",
   "execution_count": 10,
   "id": "e3be1e54",
   "metadata": {},
   "outputs": [],
   "source": [
    "#combines agences_sg_merged_pb.csv et agences_bnp_merged_pb.csv\n",
    "df_sg = pd.read_csv(\"agences_sg_merged_pb.csv\", sep=\";\")\n",
    "df_bnp = pd.read_csv(\"agences_bnp_merged_pb.csv\", sep=\";\")\n",
    "\n",
    "df_combined = pd.concat([df_sg, df_bnp], ignore_index=True)\n",
    "\n",
    "# Save the combined DataFrame to a new CSV file\n",
    "df_combined.to_csv(\"agences_combined_pb.csv\", index=False, sep=\";\")"
   ]
  },
  {
   "cell_type": "code",
   "execution_count": 10,
   "id": "c6b06fe2",
   "metadata": {},
   "outputs": [
    {
     "name": "stdout",
     "output_type": "stream",
     "text": [
      "                                                 nom  \\\n",
      "0                         AGENCE MIONS - BNP PARIBAS   \n",
      "1  Cash Services - Heyrieux 40 AVENUE DU GENERAL ...   \n",
      "2                  AGENCE SAINT PRIEST - BNP PARIBAS   \n",
      "3       AGENCE SAINT SYMPHORIEN D'OZON - BNP PARIBAS   \n",
      "4                         AGENCE GENAS - BNP PARIBAS   \n",
      "5        Cash Services - Venissieux 12 RUE PAUL BERT   \n",
      "6                    AGENCE VENISSIEUX - BNP PARIBAS   \n",
      "7         Cash Services - Feyzin PLACE CLAUDIUS BERY   \n",
      "8            Cash Services - Solaize 18 RUE DU RHONE   \n",
      "9                          AGENCE BRON - BNP PARIBAS   \n",
      "\n",
      "                                             adresse  code_postal  \\\n",
      "0                    rue Du 8 Mai 1945, 69780  Mions        69780   \n",
      "1      40 AVENUE DU GENERAL LECLERC, 38540  Heyrieux        38540   \n",
      "2     16 place De L Hotel De Ville, 69800  St Priest        69800   \n",
      "3  11 quai Hector Berlioz, 69360  St Symphorien D...        69360   \n",
      "4             8 place De La Republique, 69740  Genas        69740   \n",
      "5                12 RUE PAUL BERT, 69200  Venissieux        69200   \n",
      "6           47 avenue Jean Jaures, 69200  Venissieux        69200   \n",
      "7                 PLACE CLAUDIUS BERY, 69320  Feyzin        69320   \n",
      "8                    18 RUE DU RHONE, 69360  Solaize        69360   \n",
      "9         154 avenue Franklin Roosevelt, 69500  Bron        69500   \n",
      "\n",
      "          latitude        longitude region_source  count_agence  \n",
      "0  45,663159214838  4,9570490735352   BNP Paribas             1  \n",
      "1        45,629981         5,064401   BNP Paribas             1  \n",
      "2  45,694322666194  4,9351826363085   BNP Paribas             1  \n",
      "3  45,632301207173  4,8563129705697   BNP Paribas             1  \n",
      "4  45,732633087507  4,9978947395766   BNP Paribas             1  \n",
      "5        45,700267         4,885064   BNP Paribas             1  \n",
      "6   45,70061016797  4,8823694728421   BNP Paribas             1  \n",
      "7        45,665948         4,849793   BNP Paribas             1  \n",
      "8        45,640405         4,840492   BNP Paribas             1  \n",
      "9  45,733085341473  4,9095332751235   BNP Paribas             1  \n"
     ]
    }
   ],
   "source": [
    "#lire agences_sg merge et supr la ligne count_agence\n",
    "import pandas as pd\n",
    "\n",
    "df = pd.read_csv(\"agences_bnp_merged_pb.csv\", sep=\";\", on_bad_lines='skip')\n",
    "\n",
    "print(df.head(10))\n",
    "#delete count_agence\n",
    "df = df.drop(columns=['count_agence'], errors='ignore')\n",
    "#save\n",
    "df.to_csv(\"agences_bnp_merged_pb.csv\", sep=\";\", index=False)"
   ]
  }
 ],
 "metadata": {
  "kernelspec": {
   "display_name": "Python 3",
   "language": "python",
   "name": "python3"
  },
  "language_info": {
   "codemirror_mode": {
    "name": "ipython",
    "version": 3
   },
   "file_extension": ".py",
   "mimetype": "text/x-python",
   "name": "python",
   "nbconvert_exporter": "python",
   "pygments_lexer": "ipython3",
   "version": "3.13.7"
  }
 },
 "nbformat": 4,
 "nbformat_minor": 5
}
