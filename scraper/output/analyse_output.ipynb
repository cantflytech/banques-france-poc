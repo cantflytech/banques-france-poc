{
 "cells": [
  {
   "cell_type": "code",
   "execution_count": 14,
   "id": "2ea0d572",
   "metadata": {},
   "outputs": [],
   "source": [
    "import pandas as pd\n",
    "\n",
    "df = pd.read_csv(\"agences_bnp_merged.csv\")\n",
    "\n",
    "# Conversion lat/long en format FR (virgule décimale)\n",
    "df[\"latitude\"] = df[\"latitude\"].astype(str).str.replace(\".\", \",\")\n",
    "df[\"longitude\"] = df[\"longitude\"].astype(str).str.replace(\".\", \",\")\n",
    "\n",
    "df.to_csv(\"agences_bnp_merged_pb.csv\", index=False, sep=\";\")\n",
    "\n"
   ]
  },
  {
   "cell_type": "code",
   "execution_count": 15,
   "id": "3f4a2605",
   "metadata": {},
   "outputs": [],
   "source": [
    "df[\"region_source\"] = \"BNP Paribas\"\n",
    "df.to_csv(\"agences_bnp_merged_pb.csv\", index=False, sep=\";\")"
   ]
  },
  {
   "cell_type": "code",
   "execution_count": 16,
   "id": "30528f61",
   "metadata": {},
   "outputs": [],
   "source": [
    "#ajouter une colone count_agence  et mettre 1 pour chaque lignes\n",
    "df[\"count_agence\"] = 1\n",
    "#sauvegarder le dataframe dans un fichier CSV\n",
    "df.to_csv(\"agences_bnp_merged_pb.csv\", index=False, sep=\";\")"
   ]
  },
  {
   "cell_type": "code",
   "execution_count": 10,
   "id": "e3be1e54",
   "metadata": {},
   "outputs": [],
   "source": [
    "#combines agences_sg_merged_pb.csv et agences_bnp_merged_pb.csv\n",
    "df_sg = pd.read_csv(\"agences_sg_merged_pb.csv\", sep=\";\")\n",
    "df_bnp = pd.read_csv(\"agences_bnp_merged_pb.csv\", sep=\";\")\n",
    "\n",
    "df_combined = pd.concat([df_sg, df_bnp], ignore_index=True)\n",
    "\n",
    "# Save the combined DataFrame to a new CSV file\n",
    "df_combined.to_csv(\"agences_combined_pb.csv\", index=False, sep=\";\")"
   ]
  },
  {
   "cell_type": "code",
   "execution_count": null,
   "id": "c6b06fe2",
   "metadata": {},
   "outputs": [
    {
     "name": "stdout",
     "output_type": "stream",
     "text": [
      "                       nom                                      adresse  \\\n",
      "0  SG AUVERGNE RHÔNE ALPES  1 AVENUE DE VERDUN, 01500 AMBERIEU EN BUGEY   \n",
      "1            SG LAYDERNIER                  30 BD DU MAIL, 01300 BELLEY   \n",
      "2  SG AUVERGNE RHÔNE ALPES         15 PL BERNARD, 01000 BOURG EN BRESSE   \n",
      "3            SG LAYDERNIER    252 AV DE GENEVE, 01220 DIVONNE LES BAINS   \n",
      "4            SG LAYDERNIER         4 AV VOLTAIRE, 01210 FERNEY VOLTAIRE   \n",
      "5            SG LAYDERNIER                  39 PLACE DU JURA, 01170 GEX   \n",
      "6  SG AUVERGNE RHÔNE ALPES  84 R LEON M FOURNET, 01480 JASSANS RIOTTIER   \n",
      "7  SG AUVERGNE RHÔNE ALPES                53 RUE PASTEUR, 01150 LAGNIEU   \n",
      "8  SG AUVERGNE RHÔNE ALPES               5 RUE DE LYON, 01800 MEXIMIEUX   \n",
      "9  SG AUVERGNE RHÔNE ALPES      161 RUE GENERAL DEGOUTTE, 01700 MIRIBEL   \n",
      "\n",
      "   code_postal    latitude  longitude     region_source  count_agence  \n",
      "0         1500  45,9597597  5,3487316  Société Générale             1  \n",
      "1         1300  45,7598101  5,6897906  Société Générale             1  \n",
      "2         1000  46,2069326  5,2280554  Société Générale             1  \n",
      "3         1220  46,3488477  6,1466573  Société Générale             1  \n",
      "4         1210  46,2560516  6,1088325  Société Générale             1  \n",
      "5         1170  46,3323982  6,0589668  Société Générale             1  \n",
      "6         1480  45,9852574  4,7567329  Société Générale             1  \n",
      "7         1150    45,90306  5,3487092  Société Générale             1  \n",
      "8         1800  45,9028746  5,1915899  Société Générale             1  \n",
      "9         1700  45,8246847   4,949698  Société Générale             1  \n"
     ]
    }
   ],
   "source": [
    "#lire agences_sg merge et supr la ligne count_agence\n",
    "import pandas as pd\n",
    "\n",
    "df = pd.read_csv(\"agences_sg_merged_pb.csv\", sep=\";\", on_bad_lines='skip')\n",
    "\n",
    "print(df.head(10))\n",
    "#delete count_agence\n",
    "df = df.drop(columns=['count_agence'], errors='ignore')\n",
    "#save\n",
    "df.to_csv(\"agences_sg_merged_pb.csv\", sep=\";\", index=False)"
   ]
  }
 ],
 "metadata": {
  "kernelspec": {
   "display_name": "Python 3",
   "language": "python",
   "name": "python3"
  },
  "language_info": {
   "codemirror_mode": {
    "name": "ipython",
    "version": 3
   },
   "file_extension": ".py",
   "mimetype": "text/x-python",
   "name": "python",
   "nbconvert_exporter": "python",
   "pygments_lexer": "ipython3",
   "version": "3.13.7"
  }
 },
 "nbformat": 4,
 "nbformat_minor": 5
}
